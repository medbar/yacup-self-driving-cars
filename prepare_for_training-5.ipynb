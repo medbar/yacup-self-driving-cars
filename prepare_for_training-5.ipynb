{
 "cells": [
  {
   "cell_type": "code",
   "execution_count": 1,
   "id": "91989828-dfe0-467e-b5cd-cbb31d6c8011",
   "metadata": {},
   "outputs": [],
   "source": [
    "import os\n",
    "import webdataset as wds\n",
    "import logging\n",
    "import numpy\n",
    "import json\n",
    "import torch\n",
    "import numpy as np\n",
    "import pandas as pd\n",
    "import random\n",
    "from tqdm import tqdm\n",
    "from pathlib import Path\n",
    "from typing import Optional\n",
    "from itertools import islice\n",
    "\n",
    "from torch.utils.data import DataLoader, IterableDataset\n",
    "from webdataset.filters import pipelinefilter\n",
    "from webdataset.utils import pytorch_worker_info\n"
   ]
  },
  {
   "cell_type": "code",
   "execution_count": 2,
   "id": "8cc113e7-73ee-4614-8963-71eeec27d6ac",
   "metadata": {},
   "outputs": [
    {
     "name": "stdout",
     "output_type": "stream",
     "text": [
      "control.csv\t\t\t  localization-quant20mc_v3.csv\n",
      "control_norm_v1.csv\t\t  localization-quant40mc_v4.csv\n",
      "control_norm_v1-quant20mc.csv\t  localization-quant80mc_v5.csv\n",
      "control_norm_v1-quant20mc_v2.csv  metadata.json\n",
      "control_norm_v1-quant20mc_v3.csv  quant20mc\n",
      "control_norm_v1-quant40mc_v4.csv  quant20mc_v3\n",
      "control_norm_v1-quant80mc_v5.csv  quant40mc_v4\n",
      "localization.csv\t\t  quant80mc_v5\n",
      "localization-quant20mc.csv\t  speed-norm-quant20mc_v2.csv\n",
      "localization-quant20mc_v2.csv\t  speed-quant20mc_v2.csv\n",
      "control.csv\t\t\t  metadata.json\n",
      "control_norm_v1.csv\t\t  quant20mc\n",
      "control_norm_v1-quant20mc.csv\t  quant20mc_v3\n",
      "control_norm_v1-quant20mc_v2.csv  quant40mc_v4\n",
      "control_norm_v1-quant20mc_v3.csv  quant80mc_v5\n",
      "control_norm_v1-quant40mc_v4.csv  requested_stamps.csv\n",
      "control_norm_v1-quant80mc_v5.csv  requested_stamps-quant20mc.csv\n",
      "localization.csv\t\t  requested_stamps-quant20mc_v2.csv\n",
      "localization-quant20mc.csv\t  requested_stamps-quant20mc_v3.csv\n",
      "localization-quant20mc_v2.csv\t  requested_stamps-quant20mc_v4.csv\n",
      "localization-quant20mc_v3.csv\t  requested_stamps-quant20mc_v5.csv\n",
      "localization-quant40mc_v4.csv\t  speed-norm-quant20mc_v2.csv\n",
      "localization-quant80mc_v5.csv\t  speed-quant20mc_v2.csv\n"
     ]
    }
   ],
   "source": [
    "!ls YandexCup2024v2/YaCupTrain/0/\n",
    "!ls YandexCup2024v2/YaCupTest/0/\n"
   ]
  },
  {
   "cell_type": "code",
   "execution_count": 3,
   "id": "9c46b14a-0761-4880-a9d9-26fc5a2b1bcb",
   "metadata": {},
   "outputs": [
    {
     "name": "stdout",
     "output_type": "stream",
     "text": [
      "stamp_ns,acceleration_level,steering,norm_acceleration_level,norm_steering\n",
      "0.0,-114.0,-2.655139533023165,-0.4514997100029219,-0.0615109367890647\n",
      "1.0,-118.51124043222295,-2.6265831542518203,-0.4812146939425406,-0.06101266412300235\n",
      "2.0,-123.02273633437042,-2.5980333021733926,-0.5109313606310214,-0.060514505339470656\n",
      "3.0,-127.58524197730276,-2.57078663642703,-0.5409840221863152,-0.06003908550800475\n",
      "4.0,-132.14585451381703,-2.5444222994575325,-0.5710242140832847,-0.0595790611969412\n",
      "5.0,-136.64990027292015,-2.5444222994575325,-0.6006918075990458,-0.0595790611969412\n",
      "6.0,-141.10246811465205,-2.5434682242216784,-0.6300203224266029,-0.05956241379163819\n",
      "7.0,-144.10040882917525,-2.5155545556234253,-0.6497673879005857,-0.05907535560462499\n",
      "8.0,-147.08219304041114,-2.487715056006009,-0.6694080324814873,-0.05858959157245253\n"
     ]
    }
   ],
   "source": [
    "!head YandexCup2024v2/YaCupTrain/0/control_norm_v1-quant20mc_v3.csv"
   ]
  },
  {
   "cell_type": "code",
   "execution_count": 4,
   "id": "5c24cbbe-6619-4e16-ba16-ecd32527c877",
   "metadata": {},
   "outputs": [
    {
     "name": "stdout",
     "output_type": "stream",
     "text": [
      "stamp_ns,x,y,z,roll,pitch,yaw\n",
      "-149.0,-4292.346493792404,-14527.351865581526,66.04828378656846,0.0038841648135669667,-0.054192977118628395,-1.9368185091788004\n",
      "-148.0,-4292.434627804271,-14527.581805518565,66.06164121751011,0.0037722121488635474,-0.0541798604632994,-1.9368425656572617\n",
      "-147.0,-4292.522253342697,-14527.81156859566,66.07382280575607,0.0034592108718404678,-0.05425698778655318,-1.9368518636282488\n",
      "-146.0,-4292.609022484208,-14528.041033796213,66.08402397974696,0.0028075932652278372,-0.054486108622434,-1.9368363045680264\n",
      "-145.0,-4292.696232114875,-14528.270457198889,66.09546114109773,0.002455461353684493,-0.05461626036609381,-1.9368380534109395\n",
      "-144.0,-4292.7841572669495,-14528.499812705968,66.1089060145706,0.0025898077670152724,-0.054585648777846066,-1.9368679168511878\n",
      "-143.0,-4292.871967887383,-14528.729133961555,66.12196841585748,0.0027456198291566087,-0.05449949224467743,-1.9368931484338072\n",
      "-142.0,-4292.958891041339,-14528.958189814079,66.13206717112308,0.0030677618546905185,-0.0539829369503593,-1.9368824893374805\n",
      "-141.0,-4293.046154516147,-14529.187207748853,66.14337616363976,0.0033650880734834264,-0.053630564377100884,-1.9368950158254956\n"
     ]
    }
   ],
   "source": [
    "!head YandexCup2024v2/YaCupTrain/0/localization-quant20mc_v3.csv"
   ]
  },
  {
   "cell_type": "code",
   "execution_count": 5,
   "id": "d08d155f-33e7-45b7-a6f0-00d9cb716449",
   "metadata": {},
   "outputs": [
    {
     "name": "stdout",
     "output_type": "stream",
     "text": [
      "{\"ride_date\": \"2022-03-14\", \"tires\": {\"front\": 0, \"rear\": 0}, \"vehicle_id\": 0, \"vehicle_model\": 0, \"vehicle_model_modification\": 0, \"location_reference_point_id\": 0}"
     ]
    }
   ],
   "source": [
    "!head YandexCup2024v2/YaCupTrain/0/metadata.json"
   ]
  },
  {
   "cell_type": "code",
   "execution_count": null,
   "id": "34b38d2c-9692-4533-bcb4-2425ff2f5613",
   "metadata": {},
   "outputs": [],
   "source": []
  },
  {
   "cell_type": "code",
   "execution_count": 16,
   "id": "21760a53-e53d-4afb-b401-e050ac98c4a5",
   "metadata": {},
   "outputs": [
    {
     "data": {
      "text/plain": [
       "['metadata.json',\n",
       " 'control.csv',\n",
       " 'localization.csv',\n",
       " 'requested_stamps.csv',\n",
       " 'control_norm_v1.csv',\n",
       " 'control_norm_v1-quant20mc.csv',\n",
       " 'localization-quant20mc.csv',\n",
       " 'requested_stamps-quant20mc.csv',\n",
       " 'quant20mc',\n",
       " 'control_norm_v1-quant20mc_v2.csv',\n",
       " 'localization-quant20mc_v2.csv',\n",
       " 'requested_stamps-quant20mc_v2.csv',\n",
       " 'speed-quant20mc_v2.csv',\n",
       " 'speed-norm-quant20mc_v2.csv',\n",
       " 'control_norm_v1-quant20mc_v3.csv',\n",
       " 'localization-quant20mc_v3.csv',\n",
       " 'requested_stamps-quant20mc_v3.csv',\n",
       " 'quant20mc_v3',\n",
       " 'control_norm_v1-quant40mc_v4.csv',\n",
       " 'localization-quant40mc_v4.csv',\n",
       " 'requested_stamps-quant20mc_v4.csv',\n",
       " 'quant40mc_v4',\n",
       " 'control_norm_v1-quant80mc_v5.csv',\n",
       " 'localization-quant80mc_v5.csv',\n",
       " 'requested_stamps-quant20mc_v5.csv',\n",
       " 'quant80mc_v5']"
      ]
     },
     "execution_count": 16,
     "metadata": {},
     "output_type": "execute_result"
    }
   ],
   "source": [
    "os.listdir('YandexCup2024v2/YaCupTest/0')"
   ]
  },
  {
   "cell_type": "code",
   "execution_count": 6,
   "id": "e5c35969-0f3b-403a-a23a-a69cdc5c7637",
   "metadata": {},
   "outputs": [],
   "source": [
    "def configure_logging(log_level='INFO'):\n",
    "    handlers =  {\n",
    "            \"base_out\": {\n",
    "                \"class\": \"logging.StreamHandler\",\n",
    "                \"formatter\": \"basic\",\n",
    "                \"stream\": \"ext://sys.stderr\",\n",
    "            }\n",
    "    }\n",
    "    CONFIG = {\n",
    "        \"version\": 1,\n",
    "        \"disable_existing_loggers\": False,\n",
    "        \"formatters\": {\"basic\": {\"format\": '%(asctime)s %(name)s %(pathname)s:%(lineno)d - %(levelname)s - %(message)s'}},\n",
    "        \"handlers\": handlers,\n",
    "        \"loggers\": {\"base\": {\"handlers\": handlers.keys(), \"level\": log_level}},\n",
    "        \"root\": {\"handlers\": handlers.keys(), \"level\": log_level}\n",
    "    }\n",
    "    logging.config.dictConfig(CONFIG)\n",
    "configure_logging()\n"
   ]
  },
  {
   "cell_type": "code",
   "execution_count": 7,
   "id": "e823fed1-a187-4305-ab50-f7996b45b712",
   "metadata": {},
   "outputs": [],
   "source": [
    "class DirLoader(IterableDataset):\n",
    "    def __init__(self, root_dir, \n",
    "                 control_bname,\n",
    "                loc_bname,\n",
    "                 start_bname,\n",
    "                req_bname=None,\n",
    "                meta_bname='metadata.json',\n",
    "                seed=None,\n",
    "                pad_value= -1000000):\n",
    "        super().__init__()\n",
    "        self.root_dir = root_dir\n",
    "        self.control_bname = control_bname\n",
    "        self.loc_bname = loc_bname\n",
    "        self.req_bname = req_bname\n",
    "        self.meta_bname = meta_bname\n",
    "        self.start_bname = start_bname\n",
    "        self.seed = seed\n",
    "        self.pad_value = pad_value\n",
    "        self.dirlist = [*os.listdir(root_dir)]\n",
    "\n",
    "    def __len__(self):\n",
    "        return len(self.dirlist)\n",
    "\n",
    "    def __iter__(self):\n",
    "        dirlist = self.dirlist\n",
    "        rank, world_size, worker, num_workers = pytorch_worker_info()\n",
    "        assert world_size == 1, \"Do not use this class for DDP\"\n",
    "        if num_workers > 1:\n",
    "            full_len = len(dirlist)\n",
    "            dirlist = list(islice(dirlist, worker, None, num_workers))\n",
    "            logging.info(\n",
    "                f\"Subset for {worker} worker contains {len(dirlist)}/{full_len} annotations\"\n",
    "            )\n",
    "            logging.debug(f\"First dir is {dirlist[0]}\")\n",
    "        if len(dirlist) == 0:\n",
    "            logging.warning(\n",
    "                f\"Zero len dirs list! {worker=}, {num_workers=}, {len(dirlist)=}, {len(self.dirlist)}\"\n",
    "            )\n",
    "            return\n",
    "\n",
    "        if self.seed is not None:\n",
    "            random.Random(self.seed).shuffle(dirlist)\n",
    "        for dbname in dirlist:\n",
    "            d = f'{self.root_dir}/{dbname}'\n",
    "            control_df = pd.read_csv(f\"{d}/{self.control_bname}\")\n",
    "            loc_df = pd.read_csv(f\"{d}/{self.loc_bname}\")\n",
    "            df = control_df.set_index('stamp_ns').join(loc_df.set_index('stamp_ns'))\n",
    "            df = df.fillna(self.pad_value)\n",
    "            with open(f\"{d}/{self.meta_bname}\") as f:\n",
    "                meta = json.load(f)\n",
    "            assert np.allclose(df.index, np.arange(len(df))), f\"{len(df)=}, \\n{df.stamp_ns=}\"\n",
    "            out = {\n",
    "                '__key__': f\"{Path(self.root_dir).stem}__{Path(d).stem}\",\n",
    "                'frame_id.pth': torch.from_numpy(df.index.values),\n",
    "                'c_stamps.pth': torch.from_numpy(control_df.stamp_ns.values),\n",
    "                'acceleration_level.pth': torch.from_numpy(df.norm_acceleration_level.values),\n",
    "                'steering.pth' : torch.from_numpy(df.norm_steering.values),\n",
    "                'l_stamps.pth': torch.from_numpy(loc_df.stamp_ns.values),\n",
    "                'x.pth': torch.from_numpy(df.x.values),\n",
    "                'y.pth': torch.from_numpy(df.y.values),\n",
    "                'z.pth': torch.from_numpy(df.z.values),\n",
    "                'roll.pth': torch.from_numpy(df.roll.values),\n",
    "                'pitch.pth': torch.from_numpy(df.pitch.values),\n",
    "                'yaw.pth': torch.from_numpy(df.yaw.values),\n",
    "                'ride_date.txt': meta['ride_date'],\n",
    "                \"tires.pickle\": meta['tires'],\n",
    "                \"vehicle_id.id\": meta['vehicle_id'], \n",
    "                \"vehicle_model.id\": meta['vehicle_model'], \n",
    "                \"vehicle_model_modification.id\": meta['vehicle_model_modification'], \n",
    "                \"location_reference_point_id.id\": meta['location_reference_point_id']\n",
    "            }\n",
    "            if self.req_bname is not None:\n",
    "                req_df = pd.read_csv(f\"{d}/{self.req_bname}\")\n",
    "                out['req_stamps.pth'] = torch.from_numpy(req_df.stamp_ns.values)\n",
    "            if self.start_bname is not None:\n",
    "                with open(f\"{d}/{self.start_bname}\") as f:\n",
    "                    start_ns = int(float(f.read()))\n",
    "                out['start_ns.id'] = start_ns\n",
    "            yield out"
   ]
  },
  {
   "cell_type": "code",
   "execution_count": 8,
   "id": "8e83c9e6-d263-4c5d-a4d7-e63a36805ded",
   "metadata": {},
   "outputs": [],
   "source": [
    "def _prepare_input_feats_v1(data):\n",
    "    for e in data:\n",
    "        T = e['frame_id.pth'].shape[0]\n",
    "        al = e.pop('acceleration_level.pth')\n",
    "        s = e.pop('steering.pth')\n",
    "        # 4 X T\n",
    "        e['control_feats.pth'] = torch.stack([al, \n",
    "                                    s, \n",
    "                                    torch.full((T,), e['vehicle_model.id']),\n",
    "                                    torch.full((T,), e['vehicle_model_modification.id'])\n",
    "                                    ])\n",
    "        x = e.pop('x.pth')\n",
    "        y = e.pop('y.pth')\n",
    "        z = e.pop('z.pth')\n",
    "        roll = e.pop('roll.pth')\n",
    "        pitch = e.pop('pitch.pth')\n",
    "        yaw = e.pop('yaw.pth')\n",
    "        e['loc.pth'] =  torch.stack([x, \n",
    "                               y,\n",
    "                               z,\n",
    "                               roll,\n",
    "                               pitch,\n",
    "                               yaw])\n",
    "        yield e\n",
    "        \n",
    "prepare_input_feats_v1  = pipelinefilter(_prepare_input_feats_v1)"
   ]
  },
  {
   "cell_type": "code",
   "execution_count": 20,
   "id": "f88e23a8-c027-4e67-bc43-eac61a9e4cf7",
   "metadata": {},
   "outputs": [],
   "source": [
    "#!rm -rf exp_v1"
   ]
  },
  {
   "cell_type": "code",
   "execution_count": 9,
   "id": "b26c72f1-efee-4e07-88d6-1a1512941a06",
   "metadata": {
    "scrolled": true
   },
   "outputs": [
    {
     "name": "stdout",
     "output_type": "stream",
     "text": [
      "# writing exp_v5/YandexCup2024v2/YaCupTrain//dump-000000.tar 0 0.0 GB 0\n"
     ]
    },
    {
     "name": "stderr",
     "output_type": "stream",
     "text": [
      "  0%|                                                                                                                                                                                                                                                   | 0/42000 [00:00<?, ?it/s]2024-11-03 00:03:41,465 root /tmp/ipykernel_3803739/965619569.py:31 - INFO - Subset for 0 worker contains 7000/42000 annotations\n",
      "2024-11-03 00:03:41,495 root /tmp/ipykernel_3803739/965619569.py:31 - INFO - Subset for 2 worker contains 7000/42000 annotations\n",
      "2024-11-03 00:03:41,495 root /tmp/ipykernel_3803739/965619569.py:31 - INFO - Subset for 1 worker contains 7000/42000 annotations\n",
      "2024-11-03 00:03:41,524 root /tmp/ipykernel_3803739/965619569.py:31 - INFO - Subset for 3 worker contains 7000/42000 annotations\n",
      "2024-11-03 00:03:41,528 root /tmp/ipykernel_3803739/965619569.py:31 - INFO - Subset for 4 worker contains 7000/42000 annotations\n",
      "2024-11-03 00:03:41,555 root /tmp/ipykernel_3803739/965619569.py:31 - INFO - Subset for 5 worker contains 7000/42000 annotations\n",
      "  1%|██▎                                                                                                                                                                                                                                      | 410/42000 [00:05<09:23, 73.75it/s]"
     ]
    },
    {
     "name": "stdout",
     "output_type": "stream",
     "text": [
      "# writing exp_v5/YandexCup2024v2/YaCupTrain//dump-000001.tar 400 0.0 GB 400\n"
     ]
    },
    {
     "name": "stderr",
     "output_type": "stream",
     "text": [
      "  2%|████▍                                                                                                                                                                                                                                    | 809/42000 [00:10<08:20, 82.29it/s]"
     ]
    },
    {
     "name": "stdout",
     "output_type": "stream",
     "text": [
      "# writing exp_v5/YandexCup2024v2/YaCupTrain//dump-000002.tar 400 0.0 GB 800\n"
     ]
    },
    {
     "name": "stderr",
     "output_type": "stream",
     "text": [
      "  3%|██████▋                                                                                                                                                                                                                                | 1223/42000 [00:13<05:16, 128.66it/s]"
     ]
    },
    {
     "name": "stdout",
     "output_type": "stream",
     "text": [
      "# writing exp_v5/YandexCup2024v2/YaCupTrain//dump-000003.tar 400 0.0 GB 1200\n"
     ]
    },
    {
     "name": "stderr",
     "output_type": "stream",
     "text": [
      "  4%|████████▉                                                                                                                                                                                                                              | 1615/42000 [00:16<05:30, 122.07it/s]"
     ]
    },
    {
     "name": "stdout",
     "output_type": "stream",
     "text": [
      "# writing exp_v5/YandexCup2024v2/YaCupTrain//dump-000004.tar 400 0.0 GB 1600\n"
     ]
    },
    {
     "name": "stderr",
     "output_type": "stream",
     "text": [
      "  5%|███████████                                                                                                                                                                                                                            | 2015/42000 [00:21<05:32, 120.25it/s]"
     ]
    },
    {
     "name": "stdout",
     "output_type": "stream",
     "text": [
      "# writing exp_v5/YandexCup2024v2/YaCupTrain//dump-000005.tar 400 0.0 GB 2000\n"
     ]
    },
    {
     "name": "stderr",
     "output_type": "stream",
     "text": [
      "  6%|█████████████▎                                                                                                                                                                                                                         | 2427/42000 [00:24<05:09, 128.04it/s]"
     ]
    },
    {
     "name": "stdout",
     "output_type": "stream",
     "text": [
      "# writing exp_v5/YandexCup2024v2/YaCupTrain//dump-000006.tar 400 0.0 GB 2400\n"
     ]
    },
    {
     "name": "stderr",
     "output_type": "stream",
     "text": [
      "  7%|███████████████▌                                                                                                                                                                                                                       | 2826/42000 [00:27<05:00, 130.54it/s]"
     ]
    },
    {
     "name": "stdout",
     "output_type": "stream",
     "text": [
      "# writing exp_v5/YandexCup2024v2/YaCupTrain//dump-000007.tar 400 0.0 GB 2800\n"
     ]
    },
    {
     "name": "stderr",
     "output_type": "stream",
     "text": [
      "  8%|█████████████████▋                                                                                                                                                                                                                     | 3218/42000 [00:30<05:08, 125.73it/s]"
     ]
    },
    {
     "name": "stdout",
     "output_type": "stream",
     "text": [
      "# writing exp_v5/YandexCup2024v2/YaCupTrain//dump-000008.tar 400 0.0 GB 3200\n"
     ]
    },
    {
     "name": "stderr",
     "output_type": "stream",
     "text": [
      "  9%|███████████████████▉                                                                                                                                                                                                                   | 3625/42000 [00:34<05:19, 120.15it/s]"
     ]
    },
    {
     "name": "stdout",
     "output_type": "stream",
     "text": [
      "# writing exp_v5/YandexCup2024v2/YaCupTrain//dump-000009.tar 400 0.0 GB 3600\n"
     ]
    },
    {
     "name": "stderr",
     "output_type": "stream",
     "text": [
      " 10%|██████████████████████                                                                                                                                                                                                                  | 4002/42000 [00:38<07:13, 87.57it/s]"
     ]
    },
    {
     "name": "stdout",
     "output_type": "stream",
     "text": [
      "# writing exp_v5/YandexCup2024v2/YaCupTrain//dump-000010.tar 400 0.0 GB 4000\n"
     ]
    },
    {
     "name": "stderr",
     "output_type": "stream",
     "text": [
      " 11%|████████████████████████▍                                                                                                                                                                                                               | 4414/42000 [00:43<08:22, 74.75it/s]"
     ]
    },
    {
     "name": "stdout",
     "output_type": "stream",
     "text": [
      "# writing exp_v5/YandexCup2024v2/YaCupTrain//dump-000011.tar 400 0.0 GB 4400\n"
     ]
    },
    {
     "name": "stderr",
     "output_type": "stream",
     "text": [
      " 11%|██████████████████████████▍                                                                                                                                                                                                            | 4818/42000 [00:47<04:46, 129.67it/s]"
     ]
    },
    {
     "name": "stdout",
     "output_type": "stream",
     "text": [
      "# writing exp_v5/YandexCup2024v2/YaCupTrain//dump-000012.tar 400 0.0 GB 4800\n"
     ]
    },
    {
     "name": "stderr",
     "output_type": "stream",
     "text": [
      " 12%|████████████████████████████▊                                                                                                                                                                                                           | 5210/42000 [00:51<07:26, 82.45it/s]"
     ]
    },
    {
     "name": "stdout",
     "output_type": "stream",
     "text": [
      "# writing exp_v5/YandexCup2024v2/YaCupTrain//dump-000013.tar 400 0.0 GB 5200\n"
     ]
    },
    {
     "name": "stderr",
     "output_type": "stream",
     "text": [
      " 13%|██████████████████████████████▉                                                                                                                                                                                                        | 5615/42000 [00:54<04:17, 141.32it/s]"
     ]
    },
    {
     "name": "stdout",
     "output_type": "stream",
     "text": [
      "# writing exp_v5/YandexCup2024v2/YaCupTrain//dump-000014.tar 400 0.0 GB 5600\n"
     ]
    },
    {
     "name": "stderr",
     "output_type": "stream",
     "text": [
      " 14%|█████████████████████████████████▏                                                                                                                                                                                                      | 6013/42000 [00:58<07:06, 84.40it/s]"
     ]
    },
    {
     "name": "stdout",
     "output_type": "stream",
     "text": [
      "# writing exp_v5/YandexCup2024v2/YaCupTrain//dump-000015.tar 400 0.0 GB 6000\n"
     ]
    },
    {
     "name": "stderr",
     "output_type": "stream",
     "text": [
      " 15%|███████████████████████████████████▍                                                                                                                                                                                                    | 6411/42000 [01:03<07:59, 74.21it/s]"
     ]
    },
    {
     "name": "stdout",
     "output_type": "stream",
     "text": [
      "# writing exp_v5/YandexCup2024v2/YaCupTrain//dump-000016.tar 400 0.0 GB 6400\n"
     ]
    },
    {
     "name": "stderr",
     "output_type": "stream",
     "text": [
      " 16%|█████████████████████████████████████▌                                                                                                                                                                                                  | 6811/42000 [01:07<06:52, 85.32it/s]"
     ]
    },
    {
     "name": "stdout",
     "output_type": "stream",
     "text": [
      "# writing exp_v5/YandexCup2024v2/YaCupTrain//dump-000017.tar 400 0.0 GB 6800\n"
     ]
    },
    {
     "name": "stderr",
     "output_type": "stream",
     "text": [
      " 17%|███████████████████████████████████████▋                                                                                                                                                                                               | 7222/42000 [01:12<05:21, 108.34it/s]"
     ]
    },
    {
     "name": "stdout",
     "output_type": "stream",
     "text": [
      "# writing exp_v5/YandexCup2024v2/YaCupTrain//dump-000018.tar 400 0.0 GB 7200\n"
     ]
    },
    {
     "name": "stderr",
     "output_type": "stream",
     "text": [
      " 18%|█████████████████████████████████████████▊                                                                                                                                                                                             | 7613/42000 [01:15<04:23, 130.56it/s]"
     ]
    },
    {
     "name": "stdout",
     "output_type": "stream",
     "text": [
      "# writing exp_v5/YandexCup2024v2/YaCupTrain//dump-000019.tar 400 0.0 GB 7600\n"
     ]
    },
    {
     "name": "stderr",
     "output_type": "stream",
     "text": [
      " 19%|████████████████████████████████████████████                                                                                                                                                                                           | 8019/42000 [01:18<04:23, 128.94it/s]"
     ]
    },
    {
     "name": "stdout",
     "output_type": "stream",
     "text": [
      "# writing exp_v5/YandexCup2024v2/YaCupTrain//dump-000020.tar 400 0.0 GB 8000\n"
     ]
    },
    {
     "name": "stderr",
     "output_type": "stream",
     "text": [
      " 20%|██████████████████████████████████████████████▍                                                                                                                                                                                         | 8410/42000 [01:22<07:07, 78.58it/s]"
     ]
    },
    {
     "name": "stdout",
     "output_type": "stream",
     "text": [
      "# writing exp_v5/YandexCup2024v2/YaCupTrain//dump-000021.tar 400 0.0 GB 8400\n"
     ]
    },
    {
     "name": "stderr",
     "output_type": "stream",
     "text": [
      " 21%|████████████████████████████████████████████████▍                                                                                                                                                                                      | 8818/42000 [01:26<04:43, 117.22it/s]"
     ]
    },
    {
     "name": "stdout",
     "output_type": "stream",
     "text": [
      "# writing exp_v5/YandexCup2024v2/YaCupTrain//dump-000022.tar 400 0.0 GB 8800\n"
     ]
    },
    {
     "name": "stderr",
     "output_type": "stream",
     "text": [
      " 22%|██████████████████████████████████████████████████▉                                                                                                                                                                                     | 9214/42000 [01:29<06:16, 87.20it/s]"
     ]
    },
    {
     "name": "stdout",
     "output_type": "stream",
     "text": [
      "# writing exp_v5/YandexCup2024v2/YaCupTrain//dump-000023.tar 400 0.0 GB 9200\n"
     ]
    },
    {
     "name": "stderr",
     "output_type": "stream",
     "text": [
      " 23%|█████████████████████████████████████████████████████                                                                                                                                                                                   | 9610/42000 [01:34<06:52, 78.52it/s]"
     ]
    },
    {
     "name": "stdout",
     "output_type": "stream",
     "text": [
      "# writing exp_v5/YandexCup2024v2/YaCupTrain//dump-000024.tar 400 0.0 GB 9600\n"
     ]
    },
    {
     "name": "stderr",
     "output_type": "stream",
     "text": [
      " 24%|██████████████████████████████████████████████████████▊                                                                                                                                                                               | 10013/42000 [01:39<04:48, 110.93it/s]"
     ]
    },
    {
     "name": "stdout",
     "output_type": "stream",
     "text": [
      "# writing exp_v5/YandexCup2024v2/YaCupTrain//dump-000025.tar 400 0.0 GB 10000\n"
     ]
    },
    {
     "name": "stderr",
     "output_type": "stream",
     "text": [
      " 25%|█████████████████████████████████████████████████████████▏                                                                                                                                                                             | 10409/42000 [01:43<06:10, 85.33it/s]"
     ]
    },
    {
     "name": "stdout",
     "output_type": "stream",
     "text": [
      "# writing exp_v5/YandexCup2024v2/YaCupTrain//dump-000026.tar 400 0.0 GB 10400\n"
     ]
    },
    {
     "name": "stderr",
     "output_type": "stream",
     "text": [
      " 26%|███████████████████████████████████████████████████████████▍                                                                                                                                                                           | 10807/42000 [01:47<06:30, 79.88it/s]"
     ]
    },
    {
     "name": "stdout",
     "output_type": "stream",
     "text": [
      "# writing exp_v5/YandexCup2024v2/YaCupTrain//dump-000027.tar 400 0.0 GB 10800\n"
     ]
    },
    {
     "name": "stderr",
     "output_type": "stream",
     "text": [
      " 27%|█████████████████████████████████████████████████████████████▋                                                                                                                                                                         | 11211/42000 [01:51<06:19, 81.12it/s]"
     ]
    },
    {
     "name": "stdout",
     "output_type": "stream",
     "text": [
      "# writing exp_v5/YandexCup2024v2/YaCupTrain//dump-000028.tar 400 0.0 GB 11200\n"
     ]
    },
    {
     "name": "stderr",
     "output_type": "stream",
     "text": [
      " 28%|███████████████████████████████████████████████████████████████▉                                                                                                                                                                       | 11614/42000 [01:55<06:30, 77.85it/s]"
     ]
    },
    {
     "name": "stdout",
     "output_type": "stream",
     "text": [
      "# writing exp_v5/YandexCup2024v2/YaCupTrain//dump-000029.tar 400 0.0 GB 11600\n"
     ]
    },
    {
     "name": "stderr",
     "output_type": "stream",
     "text": [
      " 29%|██████████████████████████████████████████████████████████████████                                                                                                                                                                     | 12010/42000 [02:00<06:09, 81.21it/s]"
     ]
    },
    {
     "name": "stdout",
     "output_type": "stream",
     "text": [
      "# writing exp_v5/YandexCup2024v2/YaCupTrain//dump-000030.tar 400 0.0 GB 12000\n"
     ]
    },
    {
     "name": "stderr",
     "output_type": "stream",
     "text": [
      " 30%|███████████████████████████████████████████████████████████████████▉                                                                                                                                                                  | 12417/42000 [02:05<04:16, 115.33it/s]"
     ]
    },
    {
     "name": "stdout",
     "output_type": "stream",
     "text": [
      "# writing exp_v5/YandexCup2024v2/YaCupTrain//dump-000031.tar 400 0.0 GB 12400\n"
     ]
    },
    {
     "name": "stderr",
     "output_type": "stream",
     "text": [
      " 31%|██████████████████████████████████████████████████████████████████████▏                                                                                                                                                               | 12813/42000 [02:08<04:17, 113.37it/s]"
     ]
    },
    {
     "name": "stdout",
     "output_type": "stream",
     "text": [
      "# writing exp_v5/YandexCup2024v2/YaCupTrain//dump-000032.tar 400 0.0 GB 12800\n"
     ]
    },
    {
     "name": "stderr",
     "output_type": "stream",
     "text": [
      " 31%|████████████████████████████████████████████████████████████████████████▍                                                                                                                                                             | 13227/42000 [02:12<03:48, 126.12it/s]"
     ]
    },
    {
     "name": "stdout",
     "output_type": "stream",
     "text": [
      "# writing exp_v5/YandexCup2024v2/YaCupTrain//dump-000033.tar 400 0.0 GB 13200\n"
     ]
    },
    {
     "name": "stderr",
     "output_type": "stream",
     "text": [
      " 32%|██████████████████████████████████████████████████████████████████████████▉                                                                                                                                                            | 13617/42000 [02:16<05:26, 86.90it/s]"
     ]
    },
    {
     "name": "stdout",
     "output_type": "stream",
     "text": [
      "# writing exp_v5/YandexCup2024v2/YaCupTrain//dump-000034.tar 400 0.0 GB 13600\n"
     ]
    },
    {
     "name": "stderr",
     "output_type": "stream",
     "text": [
      " 33%|████████████████████████████████████████████████████████████████████████████▊                                                                                                                                                         | 14020/42000 [02:21<03:35, 129.67it/s]"
     ]
    },
    {
     "name": "stdout",
     "output_type": "stream",
     "text": [
      "# writing exp_v5/YandexCup2024v2/YaCupTrain//dump-000035.tar 400 0.0 GB 14000\n"
     ]
    },
    {
     "name": "stderr",
     "output_type": "stream",
     "text": [
      " 34%|██████████████████████████████████████████████████████████████████████████████▉                                                                                                                                                       | 14415/42000 [02:23<03:16, 140.19it/s]"
     ]
    },
    {
     "name": "stdout",
     "output_type": "stream",
     "text": [
      "# writing exp_v5/YandexCup2024v2/YaCupTrain//dump-000036.tar 400 0.0 GB 14400\n"
     ]
    },
    {
     "name": "stderr",
     "output_type": "stream",
     "text": [
      " 35%|█████████████████████████████████████████████████████████████████████████████████▏                                                                                                                                                    | 14817/42000 [02:26<03:18, 137.14it/s]"
     ]
    },
    {
     "name": "stdout",
     "output_type": "stream",
     "text": [
      "# writing exp_v5/YandexCup2024v2/YaCupTrain//dump-000037.tar 400 0.0 GB 14800\n"
     ]
    },
    {
     "name": "stderr",
     "output_type": "stream",
     "text": [
      " 36%|███████████████████████████████████████████████████████████████████████████████████▎                                                                                                                                                  | 15223/42000 [02:30<04:13, 105.78it/s]"
     ]
    },
    {
     "name": "stdout",
     "output_type": "stream",
     "text": [
      "# writing exp_v5/YandexCup2024v2/YaCupTrain//dump-000038.tar 400 0.0 GB 15200\n"
     ]
    },
    {
     "name": "stderr",
     "output_type": "stream",
     "text": [
      " 37%|█████████████████████████████████████████████████████████████████████████████████████▌                                                                                                                                                | 15622/42000 [02:34<04:19, 101.53it/s]"
     ]
    },
    {
     "name": "stdout",
     "output_type": "stream",
     "text": [
      "# writing exp_v5/YandexCup2024v2/YaCupTrain//dump-000039.tar 400 0.0 GB 15600\n"
     ]
    },
    {
     "name": "stderr",
     "output_type": "stream",
     "text": [
      " 38%|███████████████████████████████████████████████████████████████████████████████████████▋                                                                                                                                              | 16016/42000 [02:37<03:09, 137.47it/s]"
     ]
    },
    {
     "name": "stdout",
     "output_type": "stream",
     "text": [
      "# writing exp_v5/YandexCup2024v2/YaCupTrain//dump-000040.tar 400 0.0 GB 16000\n"
     ]
    },
    {
     "name": "stderr",
     "output_type": "stream",
     "text": [
      " 39%|██████████████████████████████████████████████████████████████████████████████████████████▎                                                                                                                                            | 16415/42000 [02:41<05:10, 82.48it/s]"
     ]
    },
    {
     "name": "stdout",
     "output_type": "stream",
     "text": [
      "# writing exp_v5/YandexCup2024v2/YaCupTrain//dump-000041.tar 400 0.0 GB 16400\n"
     ]
    },
    {
     "name": "stderr",
     "output_type": "stream",
     "text": [
      " 40%|████████████████████████████████████████████████████████████████████████████████████████████▍                                                                                                                                          | 16812/42000 [02:46<04:50, 86.57it/s]"
     ]
    },
    {
     "name": "stdout",
     "output_type": "stream",
     "text": [
      "# writing exp_v5/YandexCup2024v2/YaCupTrain//dump-000042.tar 400 0.0 GB 16800\n"
     ]
    },
    {
     "name": "stderr",
     "output_type": "stream",
     "text": [
      " 41%|██████████████████████████████████████████████████████████████████████████████████████████████▎                                                                                                                                       | 17220/42000 [02:50<04:01, 102.63it/s]"
     ]
    },
    {
     "name": "stdout",
     "output_type": "stream",
     "text": [
      "# writing exp_v5/YandexCup2024v2/YaCupTrain//dump-000043.tar 400 0.0 GB 17200\n"
     ]
    },
    {
     "name": "stderr",
     "output_type": "stream",
     "text": [
      " 42%|████████████████████████████████████████████████████████████████████████████████████████████████▍                                                                                                                                     | 17619/42000 [02:54<03:08, 129.05it/s]"
     ]
    },
    {
     "name": "stdout",
     "output_type": "stream",
     "text": [
      "# writing exp_v5/YandexCup2024v2/YaCupTrain//dump-000044.tar 400 0.0 GB 17600\n"
     ]
    },
    {
     "name": "stderr",
     "output_type": "stream",
     "text": [
      " 43%|██████████████████████████████████████████████████████████████████████████████████████████████████▋                                                                                                                                   | 18023/42000 [02:57<03:03, 130.46it/s]"
     ]
    },
    {
     "name": "stdout",
     "output_type": "stream",
     "text": [
      "# writing exp_v5/YandexCup2024v2/YaCupTrain//dump-000045.tar 400 0.0 GB 18000\n"
     ]
    },
    {
     "name": "stderr",
     "output_type": "stream",
     "text": [
      " 44%|████████████████████████████████████████████████████████████████████████████████████████████████████▉                                                                                                                                 | 18421/42000 [03:00<03:04, 128.09it/s]"
     ]
    },
    {
     "name": "stdout",
     "output_type": "stream",
     "text": [
      "# writing exp_v5/YandexCup2024v2/YaCupTrain//dump-000046.tar 400 0.0 GB 18400\n"
     ]
    },
    {
     "name": "stderr",
     "output_type": "stream",
     "text": [
      " 45%|███████████████████████████████████████████████████████████████████████████████████████████████████████                                                                                                                               | 18822/42000 [03:04<03:09, 121.99it/s]"
     ]
    },
    {
     "name": "stdout",
     "output_type": "stream",
     "text": [
      "# writing exp_v5/YandexCup2024v2/YaCupTrain//dump-000047.tar 400 0.0 GB 18800\n"
     ]
    },
    {
     "name": "stderr",
     "output_type": "stream",
     "text": [
      " 46%|█████████████████████████████████████████████████████████████████████████████████████████████████████████▋                                                                                                                             | 19213/42000 [03:08<04:18, 88.01it/s]"
     ]
    },
    {
     "name": "stdout",
     "output_type": "stream",
     "text": [
      "# writing exp_v5/YandexCup2024v2/YaCupTrain//dump-000048.tar 400 0.0 GB 19200\n"
     ]
    },
    {
     "name": "stderr",
     "output_type": "stream",
     "text": [
      " 47%|███████████████████████████████████████████████████████████████████████████████████████████████████████████▍                                                                                                                          | 19614/42000 [03:13<02:53, 128.88it/s]"
     ]
    },
    {
     "name": "stdout",
     "output_type": "stream",
     "text": [
      "# writing exp_v5/YandexCup2024v2/YaCupTrain//dump-000049.tar 400 0.0 GB 19600\n"
     ]
    },
    {
     "name": "stderr",
     "output_type": "stream",
     "text": [
      " 48%|█████████████████████████████████████████████████████████████████████████████████████████████████████████████▋                                                                                                                        | 20020/42000 [03:16<02:45, 132.92it/s]"
     ]
    },
    {
     "name": "stdout",
     "output_type": "stream",
     "text": [
      "# writing exp_v5/YandexCup2024v2/YaCupTrain//dump-000050.tar 400 0.0 GB 20000\n"
     ]
    },
    {
     "name": "stderr",
     "output_type": "stream",
     "text": [
      " 49%|███████████████████████████████████████████████████████████████████████████████████████████████████████████████▊                                                                                                                      | 20412/42000 [03:19<03:06, 115.97it/s]"
     ]
    },
    {
     "name": "stdout",
     "output_type": "stream",
     "text": [
      "# writing exp_v5/YandexCup2024v2/YaCupTrain//dump-000051.tar 400 0.0 GB 20400\n"
     ]
    },
    {
     "name": "stderr",
     "output_type": "stream",
     "text": [
      " 50%|█████████████████████████████████████████████████████████████████████████████████████████████████████████████████▉                                                                                                                    | 20814/42000 [03:22<02:41, 131.01it/s]"
     ]
    },
    {
     "name": "stdout",
     "output_type": "stream",
     "text": [
      "# writing exp_v5/YandexCup2024v2/YaCupTrain//dump-000052.tar 400 0.0 GB 20800\n"
     ]
    },
    {
     "name": "stderr",
     "output_type": "stream",
     "text": [
      " 51%|████████████████████████████████████████████████████████████████████████████████████████████████████████████████████▏                                                                                                                 | 21220/42000 [03:25<02:39, 130.41it/s]"
     ]
    },
    {
     "name": "stdout",
     "output_type": "stream",
     "text": [
      "# writing exp_v5/YandexCup2024v2/YaCupTrain//dump-000053.tar 400 0.0 GB 21200\n"
     ]
    },
    {
     "name": "stderr",
     "output_type": "stream",
     "text": [
      " 51%|██████████████████████████████████████████████████████████████████████████████████████████████████████████████████████▉                                                                                                                | 21615/42000 [03:29<03:28, 97.92it/s]"
     ]
    },
    {
     "name": "stdout",
     "output_type": "stream",
     "text": [
      "# writing exp_v5/YandexCup2024v2/YaCupTrain//dump-000054.tar 400 0.0 GB 21600\n"
     ]
    },
    {
     "name": "stderr",
     "output_type": "stream",
     "text": [
      " 52%|█████████████████████████████████████████████████████████████████████████████████████████████████████████████████████████                                                                                                              | 22010/42000 [03:32<04:25, 75.43it/s]"
     ]
    },
    {
     "name": "stdout",
     "output_type": "stream",
     "text": [
      "# writing exp_v5/YandexCup2024v2/YaCupTrain//dump-000055.tar 400 0.0 GB 22000\n"
     ]
    },
    {
     "name": "stderr",
     "output_type": "stream",
     "text": [
      " 53%|██████████████████████████████████████████████████████████████████████████████████████████████████████████████████████████▊                                                                                                           | 22419/42000 [03:35<02:28, 132.15it/s]"
     ]
    },
    {
     "name": "stdout",
     "output_type": "stream",
     "text": [
      "# writing exp_v5/YandexCup2024v2/YaCupTrain//dump-000056.tar 400 0.0 GB 22400\n"
     ]
    },
    {
     "name": "stderr",
     "output_type": "stream",
     "text": [
      " 54%|████████████████████████████████████████████████████████████████████████████████████████████████████████████████████████████▉                                                                                                         | 22820/42000 [03:40<02:34, 123.75it/s]"
     ]
    },
    {
     "name": "stdout",
     "output_type": "stream",
     "text": [
      "# writing exp_v5/YandexCup2024v2/YaCupTrain//dump-000057.tar 400 0.0 GB 22800\n"
     ]
    },
    {
     "name": "stderr",
     "output_type": "stream",
     "text": [
      " 55%|███████████████████████████████████████████████████████████████████████████████████████████████████████████████████████████████▏                                                                                                      | 23226/42000 [03:43<02:22, 131.63it/s]"
     ]
    },
    {
     "name": "stdout",
     "output_type": "stream",
     "text": [
      "# writing exp_v5/YandexCup2024v2/YaCupTrain//dump-000058.tar 400 0.0 GB 23200\n"
     ]
    },
    {
     "name": "stderr",
     "output_type": "stream",
     "text": [
      " 56%|█████████████████████████████████████████████████████████████████████████████████████████████████████████████████████████████████▎                                                                                                    | 23621/42000 [03:45<02:12, 138.81it/s]"
     ]
    },
    {
     "name": "stdout",
     "output_type": "stream",
     "text": [
      "# writing exp_v5/YandexCup2024v2/YaCupTrain//dump-000059.tar 400 0.0 GB 23600\n"
     ]
    },
    {
     "name": "stderr",
     "output_type": "stream",
     "text": [
      " 57%|███████████████████████████████████████████████████████████████████████████████████████████████████████████████████████████████████▌                                                                                                  | 24024/42000 [03:49<02:29, 120.40it/s]"
     ]
    },
    {
     "name": "stdout",
     "output_type": "stream",
     "text": [
      "# writing exp_v5/YandexCup2024v2/YaCupTrain//dump-000060.tar 400 0.0 GB 24000\n"
     ]
    },
    {
     "name": "stderr",
     "output_type": "stream",
     "text": [
      " 58%|█████████████████████████████████████████████████████████████████████████████████████████████████████████████████████████████████████▋                                                                                                | 24422/42000 [03:52<02:09, 135.99it/s]"
     ]
    },
    {
     "name": "stdout",
     "output_type": "stream",
     "text": [
      "# writing exp_v5/YandexCup2024v2/YaCupTrain//dump-000061.tar 400 0.0 GB 24400\n"
     ]
    },
    {
     "name": "stderr",
     "output_type": "stream",
     "text": [
      " 59%|████████████████████████████████████████████████████████████████████████████████████████████████████████████████████████████████████████▍                                                                                              | 24812/42000 [03:56<03:15, 87.80it/s]"
     ]
    },
    {
     "name": "stdout",
     "output_type": "stream",
     "text": [
      "# writing exp_v5/YandexCup2024v2/YaCupTrain//dump-000062.tar 400 0.0 GB 24800\n"
     ]
    },
    {
     "name": "stderr",
     "output_type": "stream",
     "text": [
      " 60%|██████████████████████████████████████████████████████████████████████████████████████████████████████████████████████████████████████████                                                                                            | 25215/42000 [04:00<02:09, 129.60it/s]"
     ]
    },
    {
     "name": "stdout",
     "output_type": "stream",
     "text": [
      "# writing exp_v5/YandexCup2024v2/YaCupTrain//dump-000063.tar 400 0.0 GB 25200\n"
     ]
    },
    {
     "name": "stderr",
     "output_type": "stream",
     "text": [
      " 61%|████████████████████████████████████████████████████████████████████████████████████████████████████████████████████████████████████████████▏                                                                                         | 25609/42000 [04:03<02:35, 105.26it/s]"
     ]
    },
    {
     "name": "stdout",
     "output_type": "stream",
     "text": [
      "# writing exp_v5/YandexCup2024v2/YaCupTrain//dump-000064.tar 400 0.0 GB 25600\n"
     ]
    },
    {
     "name": "stderr",
     "output_type": "stream",
     "text": [
      " 62%|███████████████████████████████████████████████████████████████████████████████████████████████████████████████████████████████████████████████                                                                                        | 26014/42000 [04:08<03:08, 84.87it/s]"
     ]
    },
    {
     "name": "stdout",
     "output_type": "stream",
     "text": [
      "# writing exp_v5/YandexCup2024v2/YaCupTrain//dump-000065.tar 400 0.0 GB 26000\n"
     ]
    },
    {
     "name": "stderr",
     "output_type": "stream",
     "text": [
      " 63%|████████████████████████████████████████████████████████████████████████████████████████████████████████████████████████████████████████████████▋                                                                                     | 26427/42000 [04:12<01:58, 131.50it/s]"
     ]
    },
    {
     "name": "stdout",
     "output_type": "stream",
     "text": [
      "# writing exp_v5/YandexCup2024v2/YaCupTrain//dump-000066.tar 400 0.0 GB 26400\n"
     ]
    },
    {
     "name": "stderr",
     "output_type": "stream",
     "text": [
      " 64%|███████████████████████████████████████████████████████████████████████████████████████████████████████████████████████████████████████████████████▍                                                                                   | 26812/42000 [04:16<02:55, 86.42it/s]"
     ]
    },
    {
     "name": "stdout",
     "output_type": "stream",
     "text": [
      "# writing exp_v5/YandexCup2024v2/YaCupTrain//dump-000067.tar 400 0.0 GB 26800\n"
     ]
    },
    {
     "name": "stderr",
     "output_type": "stream",
     "text": [
      " 65%|█████████████████████████████████████████████████████████████████████████████████████████████████████████████████████████████████████████████████████▋                                                                                 | 27217/42000 [04:21<02:59, 82.51it/s]"
     ]
    },
    {
     "name": "stdout",
     "output_type": "stream",
     "text": [
      "# writing exp_v5/YandexCup2024v2/YaCupTrain//dump-000068.tar 400 0.0 GB 27200\n"
     ]
    },
    {
     "name": "stderr",
     "output_type": "stream",
     "text": [
      " 66%|███████████████████████████████████████████████████████████████████████████████████████████████████████████████████████████████████████████████████████▏                                                                              | 27616/42000 [04:26<02:06, 113.61it/s]"
     ]
    },
    {
     "name": "stdout",
     "output_type": "stream",
     "text": [
      "# writing exp_v5/YandexCup2024v2/YaCupTrain//dump-000069.tar 400 0.0 GB 27600\n"
     ]
    },
    {
     "name": "stderr",
     "output_type": "stream",
     "text": [
      " 67%|██████████████████████████████████████████████████████████████████████████████████████████████████████████████████████████████████████████████████████████                                                                             | 28010/42000 [04:30<02:51, 81.39it/s]"
     ]
    },
    {
     "name": "stdout",
     "output_type": "stream",
     "text": [
      "# writing exp_v5/YandexCup2024v2/YaCupTrain//dump-000070.tar 400 0.0 GB 28000\n"
     ]
    },
    {
     "name": "stderr",
     "output_type": "stream",
     "text": [
      " 68%|███████████████████████████████████████████████████████████████████████████████████████████████████████████████████████████████████████████████████████████▋                                                                          | 28419/42000 [04:33<01:47, 126.72it/s]"
     ]
    },
    {
     "name": "stdout",
     "output_type": "stream",
     "text": [
      "# writing exp_v5/YandexCup2024v2/YaCupTrain//dump-000071.tar 400 0.0 GB 28400\n"
     ]
    },
    {
     "name": "stderr",
     "output_type": "stream",
     "text": [
      " 69%|██████████████████████████████████████████████████████████████████████████████████████████████████████████████████████████████████████████████████████████████▍                                                                        | 28813/42000 [04:37<02:28, 88.55it/s]"
     ]
    },
    {
     "name": "stdout",
     "output_type": "stream",
     "text": [
      "# writing exp_v5/YandexCup2024v2/YaCupTrain//dump-000072.tar 400 0.0 GB 28800\n"
     ]
    },
    {
     "name": "stderr",
     "output_type": "stream",
     "text": [
      " 70%|████████████████████████████████████████████████████████████████████████████████████████████████████████████████████████████████████████████████████████████████                                                                      | 29224/42000 [04:40<01:35, 133.26it/s]"
     ]
    },
    {
     "name": "stdout",
     "output_type": "stream",
     "text": [
      "# writing exp_v5/YandexCup2024v2/YaCupTrain//dump-000073.tar 400 0.0 GB 29200\n"
     ]
    },
    {
     "name": "stderr",
     "output_type": "stream",
     "text": [
      " 71%|██████████████████████████████████████████████████████████████████████████████████████████████████████████████████████████████████████████████████████████████████▊                                                                    | 29611/42000 [04:44<02:21, 87.68it/s]"
     ]
    },
    {
     "name": "stdout",
     "output_type": "stream",
     "text": [
      "# writing exp_v5/YandexCup2024v2/YaCupTrain//dump-000074.tar 400 0.0 GB 29600\n"
     ]
    },
    {
     "name": "stderr",
     "output_type": "stream",
     "text": [
      " 71%|█████████████████████████████████████████████████████████████████████████████████████████████████████████████████████████████████████████████████████████████████████                                                                  | 30016/42000 [04:48<02:23, 83.60it/s]"
     ]
    },
    {
     "name": "stdout",
     "output_type": "stream",
     "text": [
      "# writing exp_v5/YandexCup2024v2/YaCupTrain//dump-000075.tar 400 0.0 GB 30000\n"
     ]
    },
    {
     "name": "stderr",
     "output_type": "stream",
     "text": [
      " 72%|██████████████████████████████████████████████████████████████████████████████████████████████████████████████████████████████████████████████████████████████████████▌                                                               | 30417/42000 [04:52<01:22, 140.14it/s]"
     ]
    },
    {
     "name": "stdout",
     "output_type": "stream",
     "text": [
      "# writing exp_v5/YandexCup2024v2/YaCupTrain//dump-000076.tar 400 0.0 GB 30400\n"
     ]
    },
    {
     "name": "stderr",
     "output_type": "stream",
     "text": [
      " 73%|█████████████████████████████████████████████████████████████████████████████████████████████████████████████████████████████████████████████████████████████████████████▍                                                             | 30807/42000 [04:55<02:02, 91.30it/s]"
     ]
    },
    {
     "name": "stdout",
     "output_type": "stream",
     "text": [
      "# writing exp_v5/YandexCup2024v2/YaCupTrain//dump-000077.tar 400 0.0 GB 30800\n"
     ]
    },
    {
     "name": "stderr",
     "output_type": "stream",
     "text": [
      " 74%|██████████████████████████████████████████████████████████████████████████████████████████████████████████████████████████████████████████████████████████████████████████▉                                                           | 31223/42000 [04:59<01:25, 125.52it/s]"
     ]
    },
    {
     "name": "stdout",
     "output_type": "stream",
     "text": [
      "# writing exp_v5/YandexCup2024v2/YaCupTrain//dump-000078.tar 400 0.0 GB 31200\n"
     ]
    },
    {
     "name": "stderr",
     "output_type": "stream",
     "text": [
      " 75%|█████████████████████████████████████████████████████████████████████████████████████████████████████████████████████████████████████████████████████████████████████████████▉                                                         | 31617/42000 [05:03<02:01, 85.25it/s]"
     ]
    },
    {
     "name": "stdout",
     "output_type": "stream",
     "text": [
      "# writing exp_v5/YandexCup2024v2/YaCupTrain//dump-000079.tar 400 0.0 GB 31600\n"
     ]
    },
    {
     "name": "stderr",
     "output_type": "stream",
     "text": [
      " 76%|███████████████████████████████████████████████████████████████████████████████████████████████████████████████████████████████████████████████████████████████████████████████▎                                                      | 32009/42000 [05:06<01:22, 120.57it/s]"
     ]
    },
    {
     "name": "stdout",
     "output_type": "stream",
     "text": [
      "# writing exp_v5/YandexCup2024v2/YaCupTrain//dump-000080.tar 400 0.0 GB 32000\n"
     ]
    },
    {
     "name": "stderr",
     "output_type": "stream",
     "text": [
      " 77%|█████████████████████████████████████████████████████████████████████████████████████████████████████████████████████████████████████████████████████████████████████████████████▌                                                    | 32422/42000 [05:10<01:07, 142.10it/s]"
     ]
    },
    {
     "name": "stdout",
     "output_type": "stream",
     "text": [
      "# writing exp_v5/YandexCup2024v2/YaCupTrain//dump-000081.tar 400 0.0 GB 32400\n"
     ]
    },
    {
     "name": "stderr",
     "output_type": "stream",
     "text": [
      " 78%|████████████████████████████████████████████████████████████████████████████████████████████████████████████████████████████████████████████████████████████████████████████████████▍                                                  | 32810/42000 [05:14<01:46, 86.08it/s]"
     ]
    },
    {
     "name": "stdout",
     "output_type": "stream",
     "text": [
      "# writing exp_v5/YandexCup2024v2/YaCupTrain//dump-000082.tar 400 0.0 GB 32800\n"
     ]
    },
    {
     "name": "stderr",
     "output_type": "stream",
     "text": [
      " 79%|██████████████████████████████████████████████████████████████████████████████████████████████████████████████████████████████████████████████████████████████████████████████████████▋                                                | 33216/42000 [05:19<01:49, 80.25it/s]"
     ]
    },
    {
     "name": "stdout",
     "output_type": "stream",
     "text": [
      "# writing exp_v5/YandexCup2024v2/YaCupTrain//dump-000083.tar 400 0.0 GB 33200\n"
     ]
    },
    {
     "name": "stderr",
     "output_type": "stream",
     "text": [
      " 80%|████████████████████████████████████████████████████████████████████████████████████████████████████████████████████████████████████████████████████████████████████████████████████████▉                                              | 33614/42000 [05:23<01:36, 87.24it/s]"
     ]
    },
    {
     "name": "stdout",
     "output_type": "stream",
     "text": [
      "# writing exp_v5/YandexCup2024v2/YaCupTrain//dump-000084.tar 400 0.0 GB 33600\n"
     ]
    },
    {
     "name": "stderr",
     "output_type": "stream",
     "text": [
      " 81%|██████████████████████████████████████████████████████████████████████████████████████████████████████████████████████████████████████████████████████████████████████████████████████████▎                                           | 34018/42000 [05:26<01:02, 126.80it/s]"
     ]
    },
    {
     "name": "stdout",
     "output_type": "stream",
     "text": [
      "# writing exp_v5/YandexCup2024v2/YaCupTrain//dump-000085.tar 400 0.0 GB 34000\n"
     ]
    },
    {
     "name": "stderr",
     "output_type": "stream",
     "text": [
      " 82%|████████████████████████████████████████████████████████████████████████████████████████████████████████████████████████████████████████████████████████████████████████████████████████████▍                                         | 34421/42000 [05:29<00:53, 141.52it/s]"
     ]
    },
    {
     "name": "stdout",
     "output_type": "stream",
     "text": [
      "# writing exp_v5/YandexCup2024v2/YaCupTrain//dump-000086.tar 400 0.0 GB 34400\n"
     ]
    },
    {
     "name": "stderr",
     "output_type": "stream",
     "text": [
      " 83%|██████████████████████████████████████████████████████████████████████████████████████████████████████████████████████████████████████████████████████████████████████████████████████████████▋                                       | 34819/42000 [05:32<00:49, 145.76it/s]"
     ]
    },
    {
     "name": "stdout",
     "output_type": "stream",
     "text": [
      "# writing exp_v5/YandexCup2024v2/YaCupTrain//dump-000087.tar 400 0.0 GB 34800\n"
     ]
    },
    {
     "name": "stderr",
     "output_type": "stream",
     "text": [
      " 84%|████████████████████████████████████████████████████████████████████████████████████████████████████████████████████████████████████████████████████████████████████████████████████████████████▉                                     | 35222/42000 [05:35<00:52, 129.79it/s]"
     ]
    },
    {
     "name": "stdout",
     "output_type": "stream",
     "text": [
      "# writing exp_v5/YandexCup2024v2/YaCupTrain//dump-000088.tar 400 0.0 GB 35200\n"
     ]
    },
    {
     "name": "stderr",
     "output_type": "stream",
     "text": [
      " 85%|███████████████████████████████████████████████████████████████████████████████████████████████████████████████████████████████████████████████████████████████████████████████████████████████████▊                                   | 35607/42000 [05:38<01:04, 99.86it/s]"
     ]
    },
    {
     "name": "stdout",
     "output_type": "stream",
     "text": [
      "# writing exp_v5/YandexCup2024v2/YaCupTrain//dump-000089.tar 400 0.0 GB 35600\n"
     ]
    },
    {
     "name": "stderr",
     "output_type": "stream",
     "text": [
      " 86%|█████████████████████████████████████████████████████████████████████████████████████████████████████████████████████████████████████████████████████████████████████████████████████████████████████▎                                | 36023/42000 [05:42<00:41, 142.54it/s]"
     ]
    },
    {
     "name": "stdout",
     "output_type": "stream",
     "text": [
      "# writing exp_v5/YandexCup2024v2/YaCupTrain//dump-000090.tar 400 0.0 GB 36000\n"
     ]
    },
    {
     "name": "stderr",
     "output_type": "stream",
     "text": [
      " 87%|████████████████████████████████████████████████████████████████████████████████████████████████████████████████████████████████████████████████████████████████████████████████████████████████████████▎                              | 36410/42000 [05:46<01:07, 82.97it/s]"
     ]
    },
    {
     "name": "stdout",
     "output_type": "stream",
     "text": [
      "# writing exp_v5/YandexCup2024v2/YaCupTrain//dump-000091.tar 400 0.0 GB 36400\n"
     ]
    },
    {
     "name": "stderr",
     "output_type": "stream",
     "text": [
      " 88%|██████████████████████████████████████████████████████████████████████████████████████████████████████████████████████████████████████████████████████████████████████████████████████████████████████████▌                            | 36819/42000 [05:50<00:52, 98.62it/s]"
     ]
    },
    {
     "name": "stdout",
     "output_type": "stream",
     "text": [
      "# writing exp_v5/YandexCup2024v2/YaCupTrain//dump-000092.tar 400 0.0 GB 36800\n"
     ]
    },
    {
     "name": "stderr",
     "output_type": "stream",
     "text": [
      " 89%|███████████████████████████████████████████████████████████████████████████████████████████████████████████████████████████████████████████████████████████████████████████████████████████████████████████▊                          | 37220/42000 [05:53<00:39, 121.35it/s]"
     ]
    },
    {
     "name": "stdout",
     "output_type": "stream",
     "text": [
      "# writing exp_v5/YandexCup2024v2/YaCupTrain//dump-000093.tar 400 0.0 GB 37200\n"
     ]
    },
    {
     "name": "stderr",
     "output_type": "stream",
     "text": [
      " 90%|██████████████████████████████████████████████████████████████████████████████████████████████████████████████████████████████████████████████████████████████████████████████████████████████████████████████                        | 37625/42000 [05:57<00:31, 138.07it/s]"
     ]
    },
    {
     "name": "stdout",
     "output_type": "stream",
     "text": [
      "# writing exp_v5/YandexCup2024v2/YaCupTrain//dump-000094.tar 400 0.0 GB 37600\n"
     ]
    },
    {
     "name": "stderr",
     "output_type": "stream",
     "text": [
      " 91%|████████████████████████████████████████████████████████████████████████████████████████████████████████████████████████████████████████████████████████████████████████████████████████████████████████████████▏                     | 38021/42000 [06:00<00:32, 122.52it/s]"
     ]
    },
    {
     "name": "stdout",
     "output_type": "stream",
     "text": [
      "# writing exp_v5/YandexCup2024v2/YaCupTrain//dump-000095.tar 400 0.0 GB 38000\n"
     ]
    },
    {
     "name": "stderr",
     "output_type": "stream",
     "text": [
      " 91%|██████████████████████████████████████████████████████████████████████████████████████████████████████████████████████████████████████████████████████████████████████████████████████████████████████████████████▎                   | 38414/42000 [06:03<00:26, 134.58it/s]"
     ]
    },
    {
     "name": "stdout",
     "output_type": "stream",
     "text": [
      "# writing exp_v5/YandexCup2024v2/YaCupTrain//dump-000096.tar 400 0.0 GB 38400\n"
     ]
    },
    {
     "name": "stderr",
     "output_type": "stream",
     "text": [
      " 92%|████████████████████████████████████████████████████████████████████████████████████████████████████████████████████████████████████████████████████████████████████████████████████████████████████████████████████▌                 | 38819/42000 [06:06<00:22, 143.15it/s]"
     ]
    },
    {
     "name": "stdout",
     "output_type": "stream",
     "text": [
      "# writing exp_v5/YandexCup2024v2/YaCupTrain//dump-000097.tar 400 0.0 GB 38800\n"
     ]
    },
    {
     "name": "stderr",
     "output_type": "stream",
     "text": [
      " 93%|██████████████████████████████████████████████████████████████████████████████████████████████████████████████████████████████████████████████████████████████████████████████████████████████████████████████████████▋               | 39215/42000 [06:09<00:20, 138.23it/s]"
     ]
    },
    {
     "name": "stdout",
     "output_type": "stream",
     "text": [
      "# writing exp_v5/YandexCup2024v2/YaCupTrain//dump-000098.tar 400 0.0 GB 39200\n"
     ]
    },
    {
     "name": "stderr",
     "output_type": "stream",
     "text": [
      " 94%|████████████████████████████████████████████████████████████████████████████████████████████████████████████████████████████████████████████████████████████████████████████████████████████████████████████████████████▉             | 39620/42000 [06:12<00:17, 135.77it/s]"
     ]
    },
    {
     "name": "stdout",
     "output_type": "stream",
     "text": [
      "# writing exp_v5/YandexCup2024v2/YaCupTrain//dump-000099.tar 400 0.0 GB 39600\n"
     ]
    },
    {
     "name": "stderr",
     "output_type": "stream",
     "text": [
      " 95%|███████████████████████████████████████████████████████████████████████████████████████████████████████████████████████████████████████████████████████████████████████████████████████████████████████████████████████████▏          | 40025/42000 [06:15<00:15, 130.04it/s]"
     ]
    },
    {
     "name": "stdout",
     "output_type": "stream",
     "text": [
      "# writing exp_v5/YandexCup2024v2/YaCupTrain//dump-000100.tar 400 0.0 GB 40000\n"
     ]
    },
    {
     "name": "stderr",
     "output_type": "stream",
     "text": [
      " 96%|█████████████████████████████████████████████████████████████████████████████████████████████████████████████████████████████████████████████████████████████████████████████████████████████████████████████████████████████▎        | 40414/42000 [06:18<00:11, 133.05it/s]"
     ]
    },
    {
     "name": "stdout",
     "output_type": "stream",
     "text": [
      "# writing exp_v5/YandexCup2024v2/YaCupTrain//dump-000101.tar 400 0.0 GB 40400\n"
     ]
    },
    {
     "name": "stderr",
     "output_type": "stream",
     "text": [
      " 97%|███████████████████████████████████████████████████████████████████████████████████████████████████████████████████████████████████████████████████████████████████████████████████████████████████████████████████████████████▍      | 40812/42000 [06:21<00:08, 140.89it/s]"
     ]
    },
    {
     "name": "stdout",
     "output_type": "stream",
     "text": [
      "# writing exp_v5/YandexCup2024v2/YaCupTrain//dump-000102.tar 400 0.0 GB 40800\n"
     ]
    },
    {
     "name": "stderr",
     "output_type": "stream",
     "text": [
      " 98%|██████████████████████████████████████████████████████████████████████████████████████████████████████████████████████████████████████████████████████████████████████████████████████████████████████████████████████████████████▋    | 41209/42000 [06:26<00:10, 74.60it/s]"
     ]
    },
    {
     "name": "stdout",
     "output_type": "stream",
     "text": [
      "# writing exp_v5/YandexCup2024v2/YaCupTrain//dump-000103.tar 400 0.0 GB 41200\n"
     ]
    },
    {
     "name": "stderr",
     "output_type": "stream",
     "text": [
      " 99%|███████████████████████████████████████████████████████████████████████████████████████████████████████████████████████████████████████████████████████████████████████████████████████████████████████████████████████████████████▉  | 41621/42000 [06:30<00:02, 128.29it/s]"
     ]
    },
    {
     "name": "stdout",
     "output_type": "stream",
     "text": [
      "# writing exp_v5/YandexCup2024v2/YaCupTrain//dump-000104.tar 400 0.0 GB 41600\n"
     ]
    },
    {
     "name": "stderr",
     "output_type": "stream",
     "text": [
      "100%|██████████████████████████████████████████████████████████████████████████████████████████████████████████████████████████████████████████████████████████████████████████████████████████████████████████████████████████████████████| 42000/42000 [06:33<00:00, 106.74it/s]"
     ]
    },
    {
     "name": "stdout",
     "output_type": "stream",
     "text": [
      "Done exp_v5/YandexCup2024v2/YaCupTrain/\n"
     ]
    },
    {
     "name": "stderr",
     "output_type": "stream",
     "text": [
      "\n"
     ]
    }
   ],
   "source": [
    "for d in ['YandexCup2024v2/YaCupTrain/']:\n",
    "    out_d = f'exp_v5/{d}'\n",
    "    os.makedirs(out_d, exist_ok=False)\n",
    "    max_elements_per_shard=50\n",
    "    num_e = len(os.listdir(d))\n",
    "    with wds.ShardWriter(f'{out_d}/dump-%06d.tar', maxcount=400) as sink:\n",
    "        for e in tqdm(\n",
    "            _prepare_input_feats_v1(\n",
    "                DataLoader(\n",
    "                    DirLoader(d, \n",
    "                              control_bname='control_norm_v1-quant80mc_v5.csv',\n",
    "                              loc_bname='localization-quant80mc_v5.csv',\n",
    "                              req_bname=None,\n",
    "                              meta_bname='metadata.json',\n",
    "                              start_bname='quant80mc_v5',\n",
    "                              seed=42), \n",
    "                    batch_size=None, \n",
    "                    num_workers=6,\n",
    "                    sampler=None\n",
    "                )\n",
    "            ), \n",
    "            total=num_e\n",
    "        ):\n",
    "            sink.write(e)\n",
    "    print(f'Done {out_d}')"
   ]
  },
  {
   "cell_type": "code",
   "execution_count": 10,
   "id": "7fd4784b-380b-45cd-b44a-3e947a650680",
   "metadata": {},
   "outputs": [
    {
     "name": "stdout",
     "output_type": "stream",
     "text": [
      "# writing exp_v5/YandexCup2024v2/YaCupTest//dump-000000.tar 0 0.0 GB 0\n"
     ]
    },
    {
     "name": "stderr",
     "output_type": "stream",
     "text": [
      "  0%|                                                                                                                                                                                                                                                    | 0/8000 [00:00<?, ?it/s]2024-11-03 00:10:15,007 root /tmp/ipykernel_3803739/965619569.py:31 - INFO - Subset for 0 worker contains 1334/8000 annotations\n",
      "2024-11-03 00:10:15,011 root /tmp/ipykernel_3803739/965619569.py:31 - INFO - Subset for 2 worker contains 1333/8000 annotations\n",
      "2024-11-03 00:10:15,011 root /tmp/ipykernel_3803739/965619569.py:31 - INFO - Subset for 1 worker contains 1334/8000 annotations\n",
      "2024-11-03 00:10:15,038 root /tmp/ipykernel_3803739/965619569.py:31 - INFO - Subset for 4 worker contains 1333/8000 annotations\n",
      "2024-11-03 00:10:15,038 root /tmp/ipykernel_3803739/965619569.py:31 - INFO - Subset for 3 worker contains 1333/8000 annotations\n",
      "2024-11-03 00:10:15,042 root /tmp/ipykernel_3803739/965619569.py:31 - INFO - Subset for 5 worker contains 1333/8000 annotations\n",
      "  0%|                                                                                                                                                                                                                                                    | 0/8000 [00:00<?, ?it/s]\n"
     ]
    },
    {
     "ename": "FileNotFoundError",
     "evalue": "Caught FileNotFoundError in DataLoader worker process 0.\nOriginal Traceback (most recent call last):\n  File \"/mnt/asr_hot/mitrofanov-aa/projects/audiollm/audiollm_stc_recipe/anaconda/envs/pl/lib/python3.9/site-packages/torch/utils/data/_utils/worker.py\", line 309, in _worker_loop\n    data = fetcher.fetch(index)  # type: ignore[possibly-undefined]\n  File \"/mnt/asr_hot/mitrofanov-aa/projects/audiollm/audiollm_stc_recipe/anaconda/envs/pl/lib/python3.9/site-packages/torch/utils/data/_utils/fetch.py\", line 42, in fetch\n    data = next(self.dataset_iter)\n  File \"/tmp/ipykernel_3803739/965619569.py\", line 73, in __iter__\n    req_df = pd.read_csv(f\"{d}/{self.req_bname}\")\n  File \"/mnt/asr_hot/mitrofanov-aa/projects/audiollm/audiollm_stc_recipe/anaconda/envs/pl/lib/python3.9/site-packages/pandas/io/parsers/readers.py\", line 1026, in read_csv\n    return _read(filepath_or_buffer, kwds)\n  File \"/mnt/asr_hot/mitrofanov-aa/projects/audiollm/audiollm_stc_recipe/anaconda/envs/pl/lib/python3.9/site-packages/pandas/io/parsers/readers.py\", line 620, in _read\n    parser = TextFileReader(filepath_or_buffer, **kwds)\n  File \"/mnt/asr_hot/mitrofanov-aa/projects/audiollm/audiollm_stc_recipe/anaconda/envs/pl/lib/python3.9/site-packages/pandas/io/parsers/readers.py\", line 1620, in __init__\n    self._engine = self._make_engine(f, self.engine)\n  File \"/mnt/asr_hot/mitrofanov-aa/projects/audiollm/audiollm_stc_recipe/anaconda/envs/pl/lib/python3.9/site-packages/pandas/io/parsers/readers.py\", line 1880, in _make_engine\n    self.handles = get_handle(\n  File \"/mnt/asr_hot/mitrofanov-aa/projects/audiollm/audiollm_stc_recipe/anaconda/envs/pl/lib/python3.9/site-packages/pandas/io/common.py\", line 873, in get_handle\n    handle = open(\nFileNotFoundError: [Errno 2] No such file or directory: 'YandexCup2024v2/YaCupTest//0/requested_stamps-quant80mc_v5.csv'\n",
     "output_type": "error",
     "traceback": [
      "\u001b[0;31m---------------------------------------------------------------------------\u001b[0m",
      "\u001b[0;31mFileNotFoundError\u001b[0m                         Traceback (most recent call last)",
      "Cell \u001b[0;32mIn[10], line 7\u001b[0m\n\u001b[1;32m      5\u001b[0m num_e \u001b[38;5;241m=\u001b[39m \u001b[38;5;28mlen\u001b[39m(os\u001b[38;5;241m.\u001b[39mlistdir(d))\n\u001b[1;32m      6\u001b[0m \u001b[38;5;28;01mwith\u001b[39;00m wds\u001b[38;5;241m.\u001b[39mShardWriter(\u001b[38;5;124mf\u001b[39m\u001b[38;5;124m'\u001b[39m\u001b[38;5;132;01m{\u001b[39;00mout_d\u001b[38;5;132;01m}\u001b[39;00m\u001b[38;5;124m/dump-%06d.tar\u001b[39m\u001b[38;5;124m'\u001b[39m, maxcount\u001b[38;5;241m=\u001b[39m\u001b[38;5;241m400\u001b[39m) \u001b[38;5;28;01mas\u001b[39;00m sink:\n\u001b[0;32m----> 7\u001b[0m     \u001b[38;5;28;01mfor\u001b[39;00m e \u001b[38;5;129;01min\u001b[39;00m tqdm(\n\u001b[1;32m      8\u001b[0m         _prepare_input_feats_v1(\n\u001b[1;32m      9\u001b[0m             DataLoader(\n\u001b[1;32m     10\u001b[0m                 DirLoader(d, \n\u001b[1;32m     11\u001b[0m                           control_bname\u001b[38;5;241m=\u001b[39m\u001b[38;5;124m'\u001b[39m\u001b[38;5;124mcontrol_norm_v1-quant80mc_v5.csv\u001b[39m\u001b[38;5;124m'\u001b[39m,\n\u001b[1;32m     12\u001b[0m                           loc_bname\u001b[38;5;241m=\u001b[39m\u001b[38;5;124m'\u001b[39m\u001b[38;5;124mlocalization-quant80mc_v5.csv\u001b[39m\u001b[38;5;124m'\u001b[39m,\n\u001b[1;32m     13\u001b[0m                           meta_bname\u001b[38;5;241m=\u001b[39m\u001b[38;5;124m'\u001b[39m\u001b[38;5;124mmetadata.json\u001b[39m\u001b[38;5;124m'\u001b[39m,\n\u001b[1;32m     14\u001b[0m                           start_bname\u001b[38;5;241m=\u001b[39m\u001b[38;5;124m'\u001b[39m\u001b[38;5;124mquant80mc_v5\u001b[39m\u001b[38;5;124m'\u001b[39m,\n\u001b[1;32m     15\u001b[0m                           req_bname\u001b[38;5;241m=\u001b[39m\u001b[38;5;124m'\u001b[39m\u001b[38;5;124mrequested_stamps-quant80mc_v5.csv\u001b[39m\u001b[38;5;124m'\u001b[39m, seed\u001b[38;5;241m=\u001b[39m\u001b[38;5;28;01mNone\u001b[39;00m), \n\u001b[1;32m     16\u001b[0m                 batch_size\u001b[38;5;241m=\u001b[39m\u001b[38;5;28;01mNone\u001b[39;00m, \n\u001b[1;32m     17\u001b[0m                 num_workers\u001b[38;5;241m=\u001b[39m\u001b[38;5;241m6\u001b[39m,\n\u001b[1;32m     18\u001b[0m                 sampler\u001b[38;5;241m=\u001b[39m\u001b[38;5;28;01mNone\u001b[39;00m\n\u001b[1;32m     19\u001b[0m             )\n\u001b[1;32m     20\u001b[0m         ), \n\u001b[1;32m     21\u001b[0m         total\u001b[38;5;241m=\u001b[39mnum_e\n\u001b[1;32m     22\u001b[0m     ):\n\u001b[1;32m     23\u001b[0m         sink\u001b[38;5;241m.\u001b[39mwrite(e)\n\u001b[1;32m     24\u001b[0m \u001b[38;5;28mprint\u001b[39m(\u001b[38;5;124mf\u001b[39m\u001b[38;5;124m'\u001b[39m\u001b[38;5;124mDone \u001b[39m\u001b[38;5;132;01m{\u001b[39;00mout_d\u001b[38;5;132;01m}\u001b[39;00m\u001b[38;5;124m'\u001b[39m)\n",
      "File \u001b[0;32m/mnt/asr_hot/mitrofanov-aa/projects/audiollm/audiollm_stc_recipe/anaconda/envs/pl/lib/python3.9/site-packages/tqdm/std.py:1181\u001b[0m, in \u001b[0;36mtqdm.__iter__\u001b[0;34m(self)\u001b[0m\n\u001b[1;32m   1178\u001b[0m time \u001b[38;5;241m=\u001b[39m \u001b[38;5;28mself\u001b[39m\u001b[38;5;241m.\u001b[39m_time\n\u001b[1;32m   1180\u001b[0m \u001b[38;5;28;01mtry\u001b[39;00m:\n\u001b[0;32m-> 1181\u001b[0m     \u001b[38;5;28;01mfor\u001b[39;00m obj \u001b[38;5;129;01min\u001b[39;00m iterable:\n\u001b[1;32m   1182\u001b[0m         \u001b[38;5;28;01myield\u001b[39;00m obj\n\u001b[1;32m   1183\u001b[0m         \u001b[38;5;66;03m# Update and possibly print the progressbar.\u001b[39;00m\n\u001b[1;32m   1184\u001b[0m         \u001b[38;5;66;03m# Note: does not call self.update(1) for speed optimisation.\u001b[39;00m\n",
      "Cell \u001b[0;32mIn[8], line 2\u001b[0m, in \u001b[0;36m_prepare_input_feats_v1\u001b[0;34m(data)\u001b[0m\n\u001b[1;32m      1\u001b[0m \u001b[38;5;28;01mdef\u001b[39;00m \u001b[38;5;21m_prepare_input_feats_v1\u001b[39m(data):\n\u001b[0;32m----> 2\u001b[0m     \u001b[38;5;28;01mfor\u001b[39;00m e \u001b[38;5;129;01min\u001b[39;00m data:\n\u001b[1;32m      3\u001b[0m         T \u001b[38;5;241m=\u001b[39m e[\u001b[38;5;124m'\u001b[39m\u001b[38;5;124mframe_id.pth\u001b[39m\u001b[38;5;124m'\u001b[39m]\u001b[38;5;241m.\u001b[39mshape[\u001b[38;5;241m0\u001b[39m]\n\u001b[1;32m      4\u001b[0m         al \u001b[38;5;241m=\u001b[39m e\u001b[38;5;241m.\u001b[39mpop(\u001b[38;5;124m'\u001b[39m\u001b[38;5;124macceleration_level.pth\u001b[39m\u001b[38;5;124m'\u001b[39m)\n",
      "File \u001b[0;32m/mnt/asr_hot/mitrofanov-aa/projects/audiollm/audiollm_stc_recipe/anaconda/envs/pl/lib/python3.9/site-packages/torch/utils/data/dataloader.py:630\u001b[0m, in \u001b[0;36m_BaseDataLoaderIter.__next__\u001b[0;34m(self)\u001b[0m\n\u001b[1;32m    627\u001b[0m \u001b[38;5;28;01mif\u001b[39;00m \u001b[38;5;28mself\u001b[39m\u001b[38;5;241m.\u001b[39m_sampler_iter \u001b[38;5;129;01mis\u001b[39;00m \u001b[38;5;28;01mNone\u001b[39;00m:\n\u001b[1;32m    628\u001b[0m     \u001b[38;5;66;03m# TODO(https://github.com/pytorch/pytorch/issues/76750)\u001b[39;00m\n\u001b[1;32m    629\u001b[0m     \u001b[38;5;28mself\u001b[39m\u001b[38;5;241m.\u001b[39m_reset()  \u001b[38;5;66;03m# type: ignore[call-arg]\u001b[39;00m\n\u001b[0;32m--> 630\u001b[0m data \u001b[38;5;241m=\u001b[39m \u001b[38;5;28;43mself\u001b[39;49m\u001b[38;5;241;43m.\u001b[39;49m\u001b[43m_next_data\u001b[49m\u001b[43m(\u001b[49m\u001b[43m)\u001b[49m\n\u001b[1;32m    631\u001b[0m \u001b[38;5;28mself\u001b[39m\u001b[38;5;241m.\u001b[39m_num_yielded \u001b[38;5;241m+\u001b[39m\u001b[38;5;241m=\u001b[39m \u001b[38;5;241m1\u001b[39m\n\u001b[1;32m    632\u001b[0m \u001b[38;5;28;01mif\u001b[39;00m \u001b[38;5;28mself\u001b[39m\u001b[38;5;241m.\u001b[39m_dataset_kind \u001b[38;5;241m==\u001b[39m _DatasetKind\u001b[38;5;241m.\u001b[39mIterable \u001b[38;5;129;01mand\u001b[39;00m \\\n\u001b[1;32m    633\u001b[0m         \u001b[38;5;28mself\u001b[39m\u001b[38;5;241m.\u001b[39m_IterableDataset_len_called \u001b[38;5;129;01mis\u001b[39;00m \u001b[38;5;129;01mnot\u001b[39;00m \u001b[38;5;28;01mNone\u001b[39;00m \u001b[38;5;129;01mand\u001b[39;00m \\\n\u001b[1;32m    634\u001b[0m         \u001b[38;5;28mself\u001b[39m\u001b[38;5;241m.\u001b[39m_num_yielded \u001b[38;5;241m>\u001b[39m \u001b[38;5;28mself\u001b[39m\u001b[38;5;241m.\u001b[39m_IterableDataset_len_called:\n",
      "File \u001b[0;32m/mnt/asr_hot/mitrofanov-aa/projects/audiollm/audiollm_stc_recipe/anaconda/envs/pl/lib/python3.9/site-packages/torch/utils/data/dataloader.py:1344\u001b[0m, in \u001b[0;36m_MultiProcessingDataLoaderIter._next_data\u001b[0;34m(self)\u001b[0m\n\u001b[1;32m   1342\u001b[0m \u001b[38;5;28;01melse\u001b[39;00m:\n\u001b[1;32m   1343\u001b[0m     \u001b[38;5;28;01mdel\u001b[39;00m \u001b[38;5;28mself\u001b[39m\u001b[38;5;241m.\u001b[39m_task_info[idx]\n\u001b[0;32m-> 1344\u001b[0m     \u001b[38;5;28;01mreturn\u001b[39;00m \u001b[38;5;28;43mself\u001b[39;49m\u001b[38;5;241;43m.\u001b[39;49m\u001b[43m_process_data\u001b[49m\u001b[43m(\u001b[49m\u001b[43mdata\u001b[49m\u001b[43m)\u001b[49m\n",
      "File \u001b[0;32m/mnt/asr_hot/mitrofanov-aa/projects/audiollm/audiollm_stc_recipe/anaconda/envs/pl/lib/python3.9/site-packages/torch/utils/data/dataloader.py:1370\u001b[0m, in \u001b[0;36m_MultiProcessingDataLoaderIter._process_data\u001b[0;34m(self, data)\u001b[0m\n\u001b[1;32m   1368\u001b[0m \u001b[38;5;28mself\u001b[39m\u001b[38;5;241m.\u001b[39m_try_put_index()\n\u001b[1;32m   1369\u001b[0m \u001b[38;5;28;01mif\u001b[39;00m \u001b[38;5;28misinstance\u001b[39m(data, ExceptionWrapper):\n\u001b[0;32m-> 1370\u001b[0m     \u001b[43mdata\u001b[49m\u001b[38;5;241;43m.\u001b[39;49m\u001b[43mreraise\u001b[49m\u001b[43m(\u001b[49m\u001b[43m)\u001b[49m\n\u001b[1;32m   1371\u001b[0m \u001b[38;5;28;01mreturn\u001b[39;00m data\n",
      "File \u001b[0;32m/mnt/asr_hot/mitrofanov-aa/projects/audiollm/audiollm_stc_recipe/anaconda/envs/pl/lib/python3.9/site-packages/torch/_utils.py:706\u001b[0m, in \u001b[0;36mExceptionWrapper.reraise\u001b[0;34m(self)\u001b[0m\n\u001b[1;32m    702\u001b[0m \u001b[38;5;28;01mexcept\u001b[39;00m \u001b[38;5;167;01mTypeError\u001b[39;00m:\n\u001b[1;32m    703\u001b[0m     \u001b[38;5;66;03m# If the exception takes multiple arguments, don't try to\u001b[39;00m\n\u001b[1;32m    704\u001b[0m     \u001b[38;5;66;03m# instantiate since we don't know how to\u001b[39;00m\n\u001b[1;32m    705\u001b[0m     \u001b[38;5;28;01mraise\u001b[39;00m \u001b[38;5;167;01mRuntimeError\u001b[39;00m(msg) \u001b[38;5;28;01mfrom\u001b[39;00m \u001b[38;5;28;01mNone\u001b[39;00m\n\u001b[0;32m--> 706\u001b[0m \u001b[38;5;28;01mraise\u001b[39;00m exception\n",
      "\u001b[0;31mFileNotFoundError\u001b[0m: Caught FileNotFoundError in DataLoader worker process 0.\nOriginal Traceback (most recent call last):\n  File \"/mnt/asr_hot/mitrofanov-aa/projects/audiollm/audiollm_stc_recipe/anaconda/envs/pl/lib/python3.9/site-packages/torch/utils/data/_utils/worker.py\", line 309, in _worker_loop\n    data = fetcher.fetch(index)  # type: ignore[possibly-undefined]\n  File \"/mnt/asr_hot/mitrofanov-aa/projects/audiollm/audiollm_stc_recipe/anaconda/envs/pl/lib/python3.9/site-packages/torch/utils/data/_utils/fetch.py\", line 42, in fetch\n    data = next(self.dataset_iter)\n  File \"/tmp/ipykernel_3803739/965619569.py\", line 73, in __iter__\n    req_df = pd.read_csv(f\"{d}/{self.req_bname}\")\n  File \"/mnt/asr_hot/mitrofanov-aa/projects/audiollm/audiollm_stc_recipe/anaconda/envs/pl/lib/python3.9/site-packages/pandas/io/parsers/readers.py\", line 1026, in read_csv\n    return _read(filepath_or_buffer, kwds)\n  File \"/mnt/asr_hot/mitrofanov-aa/projects/audiollm/audiollm_stc_recipe/anaconda/envs/pl/lib/python3.9/site-packages/pandas/io/parsers/readers.py\", line 620, in _read\n    parser = TextFileReader(filepath_or_buffer, **kwds)\n  File \"/mnt/asr_hot/mitrofanov-aa/projects/audiollm/audiollm_stc_recipe/anaconda/envs/pl/lib/python3.9/site-packages/pandas/io/parsers/readers.py\", line 1620, in __init__\n    self._engine = self._make_engine(f, self.engine)\n  File \"/mnt/asr_hot/mitrofanov-aa/projects/audiollm/audiollm_stc_recipe/anaconda/envs/pl/lib/python3.9/site-packages/pandas/io/parsers/readers.py\", line 1880, in _make_engine\n    self.handles = get_handle(\n  File \"/mnt/asr_hot/mitrofanov-aa/projects/audiollm/audiollm_stc_recipe/anaconda/envs/pl/lib/python3.9/site-packages/pandas/io/common.py\", line 873, in get_handle\n    handle = open(\nFileNotFoundError: [Errno 2] No such file or directory: 'YandexCup2024v2/YaCupTest//0/requested_stamps-quant80mc_v5.csv'\n"
     ]
    }
   ],
   "source": [
    "for d in ['YandexCup2024v2/YaCupTest/']:\n",
    "    out_d = f'exp_v5/{d}'\n",
    "    os.makedirs(out_d, exist_ok=False)\n",
    "    max_elements_per_shard=50\n",
    "    num_e = len(os.listdir(d))\n",
    "    with wds.ShardWriter(f'{out_d}/dump-%06d.tar', maxcount=400) as sink:\n",
    "        for e in tqdm(\n",
    "            _prepare_input_feats_v1(\n",
    "                DataLoader(\n",
    "                    DirLoader(d, \n",
    "                              control_bname='control_norm_v1-quant80mc_v5.csv',\n",
    "                              loc_bname='localization-quant80mc_v5.csv',\n",
    "                              meta_bname='metadata.json',\n",
    "                              start_bname='quant80mc_v5',\n",
    "                              req_bname='requested_stamps-quant80mc_v5.csv', seed=None), \n",
    "                    batch_size=None, \n",
    "                    num_workers=6,\n",
    "                    sampler=None\n",
    "                )\n",
    "            ), \n",
    "            total=num_e\n",
    "        ):\n",
    "            sink.write(e)\n",
    "    print(f'Done {out_d}')"
   ]
  },
  {
   "cell_type": "code",
   "execution_count": 20,
   "id": "0972fbc4-e199-4fff-9527-14f035bfec15",
   "metadata": {},
   "outputs": [
    {
     "ename": "KeyError",
     "evalue": "\"['frame_id'] not in index\"",
     "output_type": "error",
     "traceback": [
      "\u001b[0;31m---------------------------------------------------------------------------\u001b[0m",
      "\u001b[0;31mKeyError\u001b[0m                                  Traceback (most recent call last)",
      "Cell \u001b[0;32mIn[20], line 45\u001b[0m\n\u001b[1;32m     42\u001b[0m     df_pred \u001b[38;5;241m=\u001b[39m make_prediction(pred, loc_df\u001b[38;5;241m.\u001b[39mstamp_ns)\n\u001b[1;32m     43\u001b[0m     \u001b[38;5;28;01mreturn\u001b[39;00m measure_score(df_pred, loc_df)\n\u001b[0;32m---> 45\u001b[0m score, df \u001b[38;5;241m=\u001b[39m \u001b[43mcalculate_ideal_score_quant\u001b[49m\u001b[43m(\u001b[49m\u001b[38;5;124;43m'\u001b[39;49m\u001b[38;5;124;43mYandexCup2024v2/YaCupTest/0\u001b[39;49m\u001b[38;5;124;43m'\u001b[39;49m\u001b[43m)\u001b[49m\n\u001b[1;32m     46\u001b[0m \u001b[38;5;28mprint\u001b[39m(score)\n\u001b[1;32m     47\u001b[0m \u001b[38;5;28;01mdef\u001b[39;00m \u001b[38;5;21mcalculate_zero_score\u001b[39m(d):\n\u001b[1;32m     48\u001b[0m     \u001b[38;5;66;03m#pred = get_pred_from_score(d)\u001b[39;00m\n",
      "Cell \u001b[0;32mIn[20], line 37\u001b[0m, in \u001b[0;36mcalculate_ideal_score_quant\u001b[0;34m(d)\u001b[0m\n\u001b[1;32m     35\u001b[0m \u001b[38;5;28;01mdef\u001b[39;00m \u001b[38;5;21mcalculate_ideal_score_quant\u001b[39m(d):\n\u001b[1;32m     36\u001b[0m     \u001b[38;5;66;03m#pred = get_pred_from_score(d)\u001b[39;00m\n\u001b[0;32m---> 37\u001b[0m     pred \u001b[38;5;241m=\u001b[39m \u001b[43mpd\u001b[49m\u001b[38;5;241;43m.\u001b[39;49m\u001b[43mread_csv\u001b[49m\u001b[43m(\u001b[49m\u001b[38;5;124;43mf\u001b[39;49m\u001b[38;5;124;43m'\u001b[39;49m\u001b[38;5;132;43;01m{\u001b[39;49;00m\u001b[43md\u001b[49m\u001b[38;5;132;43;01m}\u001b[39;49;00m\u001b[38;5;124;43m/localization-quant20mc_v3.csv\u001b[39;49m\u001b[38;5;124;43m'\u001b[39;49m\u001b[43m)\u001b[49m\u001b[43m[\u001b[49m\u001b[43m[\u001b[49m\u001b[38;5;124;43m'\u001b[39;49m\u001b[38;5;124;43mframe_id\u001b[39;49m\u001b[38;5;124;43m'\u001b[39;49m\u001b[43m,\u001b[49m\u001b[43m \u001b[49m\u001b[38;5;124;43m'\u001b[39;49m\u001b[38;5;124;43mx\u001b[39;49m\u001b[38;5;124;43m'\u001b[39;49m\u001b[43m,\u001b[49m\u001b[43m \u001b[49m\u001b[38;5;124;43m'\u001b[39;49m\u001b[38;5;124;43my\u001b[39;49m\u001b[38;5;124;43m'\u001b[39;49m\u001b[43m,\u001b[49m\u001b[43m \u001b[49m\u001b[38;5;124;43m'\u001b[39;49m\u001b[38;5;124;43myaw\u001b[39;49m\u001b[38;5;124;43m'\u001b[39;49m\u001b[43m]\u001b[49m\u001b[43m]\u001b[49m\u001b[38;5;241m.\u001b[39mvalues\n\u001b[1;32m     38\u001b[0m     \u001b[38;5;28;01mwith\u001b[39;00m \u001b[38;5;28mopen\u001b[39m(\u001b[38;5;124mf\u001b[39m\u001b[38;5;124m'\u001b[39m\u001b[38;5;132;01m{\u001b[39;00md\u001b[38;5;132;01m}\u001b[39;00m\u001b[38;5;124m/quant20mc_v3\u001b[39m\u001b[38;5;124m'\u001b[39m) \u001b[38;5;28;01mas\u001b[39;00m f:\n\u001b[1;32m     39\u001b[0m         start_ns\u001b[38;5;241m=\u001b[39m\u001b[38;5;28mfloat\u001b[39m(f\u001b[38;5;241m.\u001b[39mread())\n",
      "File \u001b[0;32m/mnt/asr_hot/mitrofanov-aa/projects/audiollm/audiollm_stc_recipe/anaconda/envs/pl/lib/python3.9/site-packages/pandas/core/frame.py:4108\u001b[0m, in \u001b[0;36mDataFrame.__getitem__\u001b[0;34m(self, key)\u001b[0m\n\u001b[1;32m   4106\u001b[0m     \u001b[38;5;28;01mif\u001b[39;00m is_iterator(key):\n\u001b[1;32m   4107\u001b[0m         key \u001b[38;5;241m=\u001b[39m \u001b[38;5;28mlist\u001b[39m(key)\n\u001b[0;32m-> 4108\u001b[0m     indexer \u001b[38;5;241m=\u001b[39m \u001b[38;5;28;43mself\u001b[39;49m\u001b[38;5;241;43m.\u001b[39;49m\u001b[43mcolumns\u001b[49m\u001b[38;5;241;43m.\u001b[39;49m\u001b[43m_get_indexer_strict\u001b[49m\u001b[43m(\u001b[49m\u001b[43mkey\u001b[49m\u001b[43m,\u001b[49m\u001b[43m \u001b[49m\u001b[38;5;124;43m\"\u001b[39;49m\u001b[38;5;124;43mcolumns\u001b[39;49m\u001b[38;5;124;43m\"\u001b[39;49m\u001b[43m)\u001b[49m[\u001b[38;5;241m1\u001b[39m]\n\u001b[1;32m   4110\u001b[0m \u001b[38;5;66;03m# take() does not accept boolean indexers\u001b[39;00m\n\u001b[1;32m   4111\u001b[0m \u001b[38;5;28;01mif\u001b[39;00m \u001b[38;5;28mgetattr\u001b[39m(indexer, \u001b[38;5;124m\"\u001b[39m\u001b[38;5;124mdtype\u001b[39m\u001b[38;5;124m\"\u001b[39m, \u001b[38;5;28;01mNone\u001b[39;00m) \u001b[38;5;241m==\u001b[39m \u001b[38;5;28mbool\u001b[39m:\n",
      "File \u001b[0;32m/mnt/asr_hot/mitrofanov-aa/projects/audiollm/audiollm_stc_recipe/anaconda/envs/pl/lib/python3.9/site-packages/pandas/core/indexes/base.py:6200\u001b[0m, in \u001b[0;36mIndex._get_indexer_strict\u001b[0;34m(self, key, axis_name)\u001b[0m\n\u001b[1;32m   6197\u001b[0m \u001b[38;5;28;01melse\u001b[39;00m:\n\u001b[1;32m   6198\u001b[0m     keyarr, indexer, new_indexer \u001b[38;5;241m=\u001b[39m \u001b[38;5;28mself\u001b[39m\u001b[38;5;241m.\u001b[39m_reindex_non_unique(keyarr)\n\u001b[0;32m-> 6200\u001b[0m \u001b[38;5;28;43mself\u001b[39;49m\u001b[38;5;241;43m.\u001b[39;49m\u001b[43m_raise_if_missing\u001b[49m\u001b[43m(\u001b[49m\u001b[43mkeyarr\u001b[49m\u001b[43m,\u001b[49m\u001b[43m \u001b[49m\u001b[43mindexer\u001b[49m\u001b[43m,\u001b[49m\u001b[43m \u001b[49m\u001b[43maxis_name\u001b[49m\u001b[43m)\u001b[49m\n\u001b[1;32m   6202\u001b[0m keyarr \u001b[38;5;241m=\u001b[39m \u001b[38;5;28mself\u001b[39m\u001b[38;5;241m.\u001b[39mtake(indexer)\n\u001b[1;32m   6203\u001b[0m \u001b[38;5;28;01mif\u001b[39;00m \u001b[38;5;28misinstance\u001b[39m(key, Index):\n\u001b[1;32m   6204\u001b[0m     \u001b[38;5;66;03m# GH 42790 - Preserve name from an Index\u001b[39;00m\n",
      "File \u001b[0;32m/mnt/asr_hot/mitrofanov-aa/projects/audiollm/audiollm_stc_recipe/anaconda/envs/pl/lib/python3.9/site-packages/pandas/core/indexes/base.py:6252\u001b[0m, in \u001b[0;36mIndex._raise_if_missing\u001b[0;34m(self, key, indexer, axis_name)\u001b[0m\n\u001b[1;32m   6249\u001b[0m     \u001b[38;5;28;01mraise\u001b[39;00m \u001b[38;5;167;01mKeyError\u001b[39;00m(\u001b[38;5;124mf\u001b[39m\u001b[38;5;124m\"\u001b[39m\u001b[38;5;124mNone of [\u001b[39m\u001b[38;5;132;01m{\u001b[39;00mkey\u001b[38;5;132;01m}\u001b[39;00m\u001b[38;5;124m] are in the [\u001b[39m\u001b[38;5;132;01m{\u001b[39;00maxis_name\u001b[38;5;132;01m}\u001b[39;00m\u001b[38;5;124m]\u001b[39m\u001b[38;5;124m\"\u001b[39m)\n\u001b[1;32m   6251\u001b[0m not_found \u001b[38;5;241m=\u001b[39m \u001b[38;5;28mlist\u001b[39m(ensure_index(key)[missing_mask\u001b[38;5;241m.\u001b[39mnonzero()[\u001b[38;5;241m0\u001b[39m]]\u001b[38;5;241m.\u001b[39munique())\n\u001b[0;32m-> 6252\u001b[0m \u001b[38;5;28;01mraise\u001b[39;00m \u001b[38;5;167;01mKeyError\u001b[39;00m(\u001b[38;5;124mf\u001b[39m\u001b[38;5;124m\"\u001b[39m\u001b[38;5;132;01m{\u001b[39;00mnot_found\u001b[38;5;132;01m}\u001b[39;00m\u001b[38;5;124m not in index\u001b[39m\u001b[38;5;124m\"\u001b[39m)\n",
      "\u001b[0;31mKeyError\u001b[0m: \"['frame_id'] not in index\""
     ]
    }
   ],
   "source": [
    "FRAME_STEP = 20000000\n",
    "\n",
    "def measure_score(df_pred, loc_df):\n",
    "    df_join = df_pred.set_index('stamp_ns').join(loc_df[['stamp_ns', 'x', 'y', 'yaw']].set_index('stamp_ns'))\n",
    "    df_join['mseX'] = ((df_join['pred_x'] - df_join.x)**2 + (df_join['pred_y'] - df_join.y)**2)**(1/2)\n",
    "    df_join['mse_yaw'] = ((np.cos(df_join.pred_yaw) - np.cos(df_join.yaw))**2 + (np.sin(df_join.pred_yaw) - np.sin(df_join.yaw))**2)**(1/2)\n",
    "    df_join['score'] = df_join.mseX+df_join.mse_yaw\n",
    "    return df_join['score'].mean(), df_join\n",
    "\n",
    "\n",
    "def make_prediction(pred, stamp_ns):                \n",
    "    pred_loc = []\n",
    "    frame_id2predid = {int(row[0]): i for i, row in enumerate(pred)}\n",
    "    #print(frame_id2predid)\n",
    "    for t in stamp_ns:                                          \n",
    "        t = int(t)                                  \n",
    "        left_pred_id = frame_id2predid[t // FRAME_STEP]\n",
    "        right_pred_id = left_pred_id + 1\n",
    "        delta = t % FRAME_STEP\n",
    "        if right_pred_id >= pred.shape[0]:\n",
    "            #print(f\"Warning {right_pred_id=}, {pred.shape=}\")\n",
    "            bounds = np.concatenate([pred[-2:-1], pred[-1:]], axis=0)\n",
    "        else:\n",
    "            bounds = pred[left_pred_id:right_pred_id+1]  \n",
    "        if len(bounds) != 2:\n",
    "            raise RuntimeError(f\"{bounds}, {t}, {left_pred_id}, {right_pred_id}, {pred.shape}\")\n",
    "        db = bounds[1] - bounds[0]                        \n",
    "        ddot = db * delta / FRAME_STEP                     \n",
    "        dot = bounds[0] + ddot                             \n",
    "        pred_loc.append((t, dot[1], dot[2], dot[3]))\n",
    "    df_pred = pd.DataFrame(pred_loc, columns=['stamp_ns', 'pred_x', 'pred_y', 'pred_yaw'])\n",
    "    return df_pred\n",
    "    \n",
    "\n",
    "def calculate_ideal_score_quant(d):\n",
    "    #pred = get_pred_from_score(d)\n",
    "    pred = pd.read_csv(f'{d}/localization-quant20mc_v3.csv')[['frame_id', 'x', 'y', 'yaw']].values\n",
    "    with open(f'{d}/quant20mc_v3') as f:\n",
    "        start_ns=float(f.read())\n",
    "    loc_df = pd.read_csv(f'{d}/localization.csv') \n",
    "    loc_df['stamp_ns'] = loc_df.stamp_ns - start_ns\n",
    "    df_pred = make_prediction(pred, loc_df.stamp_ns)\n",
    "    return measure_score(df_pred, loc_df)\n",
    "    \n",
    "score, df = calculate_ideal_score_quant('YandexCup2024v2/YaCupTest/0')\n",
    "print(score)\n",
    "def calculate_zero_score(d):\n",
    "    #pred = get_pred_from_score(d)\n",
    "    loc_df = pd.read_csv(f'{d}/localization.csv') \n",
    "    with open(f'{d}/quant20mc_v3') as f:\n",
    "        start_ns=float(f.read())\n",
    "    loc_df['stamp_ns'] = loc_df.stamp_ns - start_ns\n",
    "    df_pred = pd.DataFrame(loc_df[['stamp_ns', 'x', 'y', 'yaw']].values, columns=['stamp_ns', 'pred_x', 'pred_y', 'pred_yaw'])\n",
    "    return measure_score(df_pred, loc_df)\n",
    "score, df = calculate_zero_score('YandexCup2024v2/YaCupTest/0')\n",
    "print(score)"
   ]
  },
  {
   "cell_type": "code",
   "execution_count": null,
   "id": "a6335d0e-2b80-4211-8f8d-51875249a0ff",
   "metadata": {},
   "outputs": [],
   "source": [
    "results = []\n",
    "for d in tqdm([*[*glob('YandexCup2024v2/YaCupTest/*')][::5], *[*glob('YandexCup2024v2/YaCupTrain/10*')][::5]]):\n",
    "    zero_score, _ = calculate_zero_score(d)\n",
    "    quant_score, _ = calculate_ideal_score_quant(d)\n",
    "    full_score, df = calculate_ideal_score(d)\n",
    "    #print(quant_score)\n",
    "    results.append((d, zero_score, quant_score, full_score))\n",
    "    #print(results[-1])"
   ]
  },
  {
   "cell_type": "code",
   "execution_count": null,
   "id": "a2c5a950-e866-4667-9d7e-aad78f1de6a9",
   "metadata": {},
   "outputs": [],
   "source": [
    "results_np = np.asarray([list(map(float, t)) for _, *t in results])\n",
    "results_np.mean(axis=0)"
   ]
  },
  {
   "cell_type": "code",
   "execution_count": null,
   "id": "692d1f23-95da-4ff1-9500-a49eef0dd76b",
   "metadata": {},
   "outputs": [],
   "source": [
    "results_np.argmax(axis=0)"
   ]
  },
  {
   "cell_type": "code",
   "execution_count": 65,
   "id": "5ca07657-893d-44c4-8346-a76c0da22ae4",
   "metadata": {},
   "outputs": [
    {
     "data": {
      "text/html": [
       "<div>\n",
       "<style scoped>\n",
       "    .dataframe tbody tr th:only-of-type {\n",
       "        vertical-align: middle;\n",
       "    }\n",
       "\n",
       "    .dataframe tbody tr th {\n",
       "        vertical-align: top;\n",
       "    }\n",
       "\n",
       "    .dataframe thead th {\n",
       "        text-align: right;\n",
       "    }\n",
       "</style>\n",
       "<table border=\"1\" class=\"dataframe\">\n",
       "  <thead>\n",
       "    <tr style=\"text-align: right;\">\n",
       "      <th></th>\n",
       "      <th>A</th>\n",
       "      <th>B</th>\n",
       "    </tr>\n",
       "    <tr>\n",
       "      <th>key</th>\n",
       "      <th></th>\n",
       "      <th></th>\n",
       "    </tr>\n",
       "  </thead>\n",
       "  <tbody>\n",
       "    <tr>\n",
       "      <th>K0</th>\n",
       "      <td>A0</td>\n",
       "      <td>B0</td>\n",
       "    </tr>\n",
       "    <tr>\n",
       "      <th>K1</th>\n",
       "      <td>A1</td>\n",
       "      <td>B1</td>\n",
       "    </tr>\n",
       "    <tr>\n",
       "      <th>K2</th>\n",
       "      <td>A2</td>\n",
       "      <td>B2</td>\n",
       "    </tr>\n",
       "    <tr>\n",
       "      <th>K3</th>\n",
       "      <td>A3</td>\n",
       "      <td>NaN</td>\n",
       "    </tr>\n",
       "    <tr>\n",
       "      <th>K4</th>\n",
       "      <td>A4</td>\n",
       "      <td>NaN</td>\n",
       "    </tr>\n",
       "    <tr>\n",
       "      <th>K5</th>\n",
       "      <td>A5</td>\n",
       "      <td>NaN</td>\n",
       "    </tr>\n",
       "  </tbody>\n",
       "</table>\n",
       "</div>"
      ],
      "text/plain": [
       "      A    B\n",
       "key         \n",
       "K0   A0   B0\n",
       "K1   A1   B1\n",
       "K2   A2   B2\n",
       "K3   A3  NaN\n",
       "K4   A4  NaN\n",
       "K5   A5  NaN"
      ]
     },
     "execution_count": 65,
     "metadata": {},
     "output_type": "execute_result"
    }
   ],
   "source": [
    "df = pd.DataFrame({'key': ['K0', 'K1', 'K2', 'K3', 'K4', 'K5'],\n",
    "                   'A': ['A0', 'A1', 'A2', 'A3', 'A4', 'A5']})\n",
    "other = pd.DataFrame({'key': ['K0', 'K1', 'K2'],\n",
    "                      'B': ['B0', 'B1', 'B2']})\n",
    "df.set_index('key').join(other.set_index('key'))"
   ]
  },
  {
   "cell_type": "code",
   "execution_count": 66,
   "id": "b7ddca63-c992-4d08-8f2e-a5c209f93215",
   "metadata": {},
   "outputs": [
    {
     "data": {
      "text/html": [
       "<div>\n",
       "<style scoped>\n",
       "    .dataframe tbody tr th:only-of-type {\n",
       "        vertical-align: middle;\n",
       "    }\n",
       "\n",
       "    .dataframe tbody tr th {\n",
       "        vertical-align: top;\n",
       "    }\n",
       "\n",
       "    .dataframe thead th {\n",
       "        text-align: right;\n",
       "    }\n",
       "</style>\n",
       "<table border=\"1\" class=\"dataframe\">\n",
       "  <thead>\n",
       "    <tr style=\"text-align: right;\">\n",
       "      <th></th>\n",
       "      <th>B</th>\n",
       "      <th>A</th>\n",
       "    </tr>\n",
       "    <tr>\n",
       "      <th>key</th>\n",
       "      <th></th>\n",
       "      <th></th>\n",
       "    </tr>\n",
       "  </thead>\n",
       "  <tbody>\n",
       "    <tr>\n",
       "      <th>K0</th>\n",
       "      <td>B0</td>\n",
       "      <td>A0</td>\n",
       "    </tr>\n",
       "    <tr>\n",
       "      <th>K1</th>\n",
       "      <td>B1</td>\n",
       "      <td>A1</td>\n",
       "    </tr>\n",
       "    <tr>\n",
       "      <th>K2</th>\n",
       "      <td>B2</td>\n",
       "      <td>A2</td>\n",
       "    </tr>\n",
       "  </tbody>\n",
       "</table>\n",
       "</div>"
      ],
      "text/plain": [
       "      B   A\n",
       "key        \n",
       "K0   B0  A0\n",
       "K1   B1  A1\n",
       "K2   B2  A2"
      ]
     },
     "execution_count": 66,
     "metadata": {},
     "output_type": "execute_result"
    }
   ],
   "source": [
    "other.set_index('key').join(df.set_index('key'))"
   ]
  },
  {
   "cell_type": "code",
   "execution_count": 77,
   "id": "f7821ec0-06e3-4792-8cae-c8e18c260f31",
   "metadata": {},
   "outputs": [
    {
     "name": "stdout",
     "output_type": "stream",
     "text": [
      "torch.Size([2, 4, 5])\n"
     ]
    },
    {
     "data": {
      "text/plain": [
       "tensor([[[-1000, -1000, -1000, -1000, -1000],\n",
       "         [    0,     1,     2,     3,     4],\n",
       "         [    5,     6,     7,     8,     9],\n",
       "         [   10,    11,    12,    13,    14]],\n",
       "\n",
       "        [[-1000, -1000, -1000, -1000, -1000],\n",
       "         [   15,    16,    17,    18,    19],\n",
       "         [   20,    21,    22,    23,    24],\n",
       "         [   25,    26,    27,    28,    29]]])"
      ]
     },
     "execution_count": 77,
     "metadata": {},
     "output_type": "execute_result"
    }
   ],
   "source": [
    "a = torch.nn.functional.pad(torch.arange(30).view(2,3,5), (0,0, 1, 0), value=-1000)\n",
    "print(a.shape)\n",
    "a"
   ]
  },
  {
   "cell_type": "code",
   "execution_count": null,
   "id": "d013aac9-53ce-420a-aceb-5ed652675e9c",
   "metadata": {},
   "outputs": [],
   "source": []
  },
  {
   "cell_type": "code",
   "execution_count": null,
   "id": "8dc7070b-d83c-41cb-b5ba-ad1d60dadef7",
   "metadata": {},
   "outputs": [],
   "source": []
  },
  {
   "cell_type": "code",
   "execution_count": 122,
   "id": "0b509548-5b25-4940-835c-bbd386817b75",
   "metadata": {
    "scrolled": true
   },
   "outputs": [
    {
     "name": "stderr",
     "output_type": "stream",
     "text": [
      "/tmp/ipykernel_353021/121842413.py:1: FutureWarning: You are using `torch.load` with `weights_only=False` (the current default value), which uses the default pickle module implicitly. It is possible to construct malicious pickle data which will execute arbitrary code during unpickling (See https://github.com/pytorch/pytorch/blob/main/SECURITY.md#untrusted-models for more details). In a future release, the default value for `weights_only` will be flipped to `True`. This limits the functions that could be executed during unpickling. Arbitrary objects will no longer be allowed to be loaded via this mode unless they are explicitly allowlisted by the user via `torch.serialization.add_safe_globals`. We recommend you start setting `weights_only=True` for any use case where you don't have full control of the loaded file. Please open an issue on GitHub for any issues related to this experimental feature.\n",
      "  data = torch.load('tmp/YaCupTrain__11687.pth')\n"
     ]
    }
   ],
   "source": [
    "data = torch.load('tmp/YaCupTrain__11687.pth')"
   ]
  },
  {
   "cell_type": "code",
   "execution_count": 123,
   "id": "e54e4e56-eb4a-4a9e-a945-ac7277cf941f",
   "metadata": {},
   "outputs": [
    {
     "data": {
      "text/plain": [
       "dict_keys(['batch', 'attention_mask', 'mask', 'inputs_embeds', 'labels_w_mask', 'outputs', 'logits_w_mask', 'loss'])"
      ]
     },
     "execution_count": 123,
     "metadata": {},
     "output_type": "execute_result"
    }
   ],
   "source": [
    "data.keys()"
   ]
  },
  {
   "cell_type": "code",
   "execution_count": 124,
   "id": "1e807b06-6dda-45a5-b647-8bb7185a7421",
   "metadata": {},
   "outputs": [
    {
     "data": {
      "text/plain": [
       "tensor([[ 2.2097e+04, -6.5113e+04,  3.4293e+01,  1.0708e-01, -1.7448e-01,\n",
       "         -2.8186e+00],\n",
       "        [ 2.2097e+04, -6.5113e+04,  3.4290e+01, -2.9861e-02,  4.5324e-02,\n",
       "         -2.7439e+00],\n",
       "        [ 2.2096e+04, -6.5111e+04,  3.4629e+01,  8.5670e-02, -2.4974e-02,\n",
       "         -2.5952e+00],\n",
       "        ...,\n",
       "        [ 2.2154e+04, -6.5281e+04,  3.1793e+01, -1.6713e+00,  2.4100e+00,\n",
       "         -4.7205e+00],\n",
       "        [ 2.2163e+04, -6.5283e+04,  3.6307e+01, -2.5581e+00, -1.8996e+00,\n",
       "         -4.8193e+00],\n",
       "        [ 2.2160e+04, -6.5283e+04,  3.5243e+01, -4.0093e+00, -2.4420e-01,\n",
       "         -1.3853e+00]], device='cuda:0', grad_fn=<SelectBackward0>)"
      ]
     },
     "execution_count": 124,
     "metadata": {},
     "output_type": "execute_result"
    }
   ],
   "source": [
    "data['outputs']['loc.pth'][0]"
   ]
  },
  {
   "cell_type": "code",
   "execution_count": 125,
   "id": "9545ed5d-fe71-47c0-92ce-9aa368343e2e",
   "metadata": {},
   "outputs": [
    {
     "data": {
      "text/plain": [
       "tensor([[-7.4201e-01, -2.1288e-01,  2.4525e-01,  9.6820e-02, -1.6709e-01,\n",
       "          4.4357e-02],\n",
       "        [-1.0309e+00, -1.6344e-02,  2.4240e-01, -4.0124e-02,  5.2717e-02,\n",
       "          1.1906e-01],\n",
       "        [-1.5823e+00,  1.2993e+00,  5.8091e-01,  7.5407e-02, -1.7581e-02,\n",
       "          2.6778e-01],\n",
       "        ...,\n",
       "        [ 5.5628e+01, -1.6816e+02, -2.2544e+00, -1.6816e+00,  2.4174e+00,\n",
       "         -1.8575e+00],\n",
       "        [ 6.5307e+01, -1.7079e+02,  2.2589e+00, -2.5684e+00, -1.8922e+00,\n",
       "         -1.9563e+00],\n",
       "        [ 6.2129e+01, -1.7051e+02,  1.1957e+00, -4.0196e+00, -2.3681e-01,\n",
       "          1.4776e+00]], device='cuda:0', grad_fn=<SelectBackward0>)"
      ]
     },
     "execution_count": 125,
     "metadata": {},
     "output_type": "execute_result"
    }
   ],
   "source": [
    "data['outputs']['logits.pth'][0]"
   ]
  },
  {
   "cell_type": "code",
   "execution_count": 126,
   "id": "91e7cafe-e1c5-4b36-af44-b94549df489d",
   "metadata": {},
   "outputs": [
    {
     "data": {
      "text/plain": [
       "dict_keys(['__key__', 'loc.pth', 'control_feats.pth'])"
      ]
     },
     "execution_count": 126,
     "metadata": {},
     "output_type": "execute_result"
    }
   ],
   "source": [
    "data['batch'].keys()"
   ]
  },
  {
   "cell_type": "code",
   "execution_count": 127,
   "id": "34e6c457-925c-4db3-8842-6d1ea9c04836",
   "metadata": {},
   "outputs": [
    {
     "data": {
      "text/plain": [
       "tensor([-0.1309, -0.0352,  0.0010,  0.0003, -0.0003,  0.0027], device='cuda:0')"
      ]
     },
     "execution_count": 127,
     "metadata": {},
     "output_type": "execute_result"
    }
   ],
   "source": [
    "data['labels_w_mask'][0]"
   ]
  },
  {
   "cell_type": "code",
   "execution_count": 128,
   "id": "4187174e-4bb0-43c5-be5c-fb977b3da7a2",
   "metadata": {},
   "outputs": [
    {
     "data": {
      "text/plain": [
       "tensor([-0.7420, -0.2129,  0.2453,  0.0968, -0.1671,  0.0444], device='cuda:0',\n",
       "       grad_fn=<SelectBackward0>)"
      ]
     },
     "execution_count": 128,
     "metadata": {},
     "output_type": "execute_result"
    }
   ],
   "source": [
    "data['logits_w_mask'][0]"
   ]
  },
  {
   "cell_type": "code",
   "execution_count": 129,
   "id": "8f88ede9-5e0e-409b-b921-d1038a322326",
   "metadata": {},
   "outputs": [
    {
     "data": {
      "text/plain": [
       "tensor([[ 2.2098e+04, -6.5113e+04,  3.4048e+01,  1.0263e-02, -7.3928e-03,\n",
       "         -2.8629e+00],\n",
       "        [ 2.2098e+04, -6.5113e+04,  3.4049e+01,  1.0582e-02, -7.7387e-03,\n",
       "         -2.8603e+00],\n",
       "        [ 2.2098e+04, -6.5113e+04,  3.4051e+01,  1.0162e-02, -7.9580e-03,\n",
       "         -2.8575e+00],\n",
       "        ...,\n",
       "        [ 2.2183e+04, -6.5354e+04,  3.5068e+01,  1.4019e-02,  2.0624e-03,\n",
       "         -7.9009e-01],\n",
       "        [ 2.2183e+04, -6.5354e+04,  3.5063e+01,  1.6044e-02,  1.6661e-03,\n",
       "         -7.8786e-01],\n",
       "        [-1.0000e+06, -1.0000e+06, -1.0000e+06, -1.0000e+06, -1.0000e+06,\n",
       "         -1.0000e+06]], device='cuda:0')"
      ]
     },
     "execution_count": 129,
     "metadata": {},
     "output_type": "execute_result"
    }
   ],
   "source": [
    "data['batch']['loc.pth'][0]"
   ]
  },
  {
   "cell_type": "code",
   "execution_count": 113,
   "id": "daf068d5-d551-4fc3-8ce1-2b78ed5d3158",
   "metadata": {},
   "outputs": [
    {
     "data": {
      "text/plain": [
       "tensor([[ 0.0000e+00,  0.0000e+00,  0.0000e+00,  ..., -8.1063e-02,\n",
       "          1.0000e+00,  2.0000e+00],\n",
       "        [-1.5625e-01, -4.8340e-02,  4.4851e-03,  ..., -8.2834e-02,\n",
       "          1.0000e+00,  2.0000e+00],\n",
       "        [-3.1152e-01, -9.6191e-02,  8.5697e-03,  ..., -8.4605e-02,\n",
       "          1.0000e+00,  2.0000e+00],\n",
       "        ...,\n",
       "        [ 2.3125e+02, -7.4085e+02,  1.0253e+01,  ..., -1.7573e-02,\n",
       "          1.0000e+00,  2.0000e+00],\n",
       "        [ 2.3135e+02, -7.4114e+02,  1.0262e+01,  ..., -1.7573e-02,\n",
       "          1.0000e+00,  2.0000e+00],\n",
       "        [ 2.3144e+02, -7.4142e+02,  1.0270e+01,  ..., -1.7573e-02,\n",
       "          1.0000e+00,  2.0000e+00]], device='cuda:0')"
      ]
     },
     "execution_count": 113,
     "metadata": {},
     "output_type": "execute_result"
    }
   ],
   "source": [
    "data['inputs_embeds'][0]"
   ]
  },
  {
   "cell_type": "code",
   "execution_count": null,
   "id": "1a225a1c-8249-4eff-bd9c-7e201301eba8",
   "metadata": {},
   "outputs": [],
   "source": []
  }
 ],
 "metadata": {
  "kernelspec": {
   "display_name": "Python 3 (ipykernel)",
   "language": "python",
   "name": "python3"
  },
  "language_info": {
   "codemirror_mode": {
    "name": "ipython",
    "version": 3
   },
   "file_extension": ".py",
   "mimetype": "text/x-python",
   "name": "python",
   "nbconvert_exporter": "python",
   "pygments_lexer": "ipython3",
   "version": "3.9.20"
  }
 },
 "nbformat": 4,
 "nbformat_minor": 5
}

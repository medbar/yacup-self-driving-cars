{
 "cells": [
  {
   "cell_type": "code",
   "execution_count": 9,
   "id": "91989828-dfe0-467e-b5cd-cbb31d6c8011",
   "metadata": {},
   "outputs": [],
   "source": [
    "import os\n",
    "import webdataset as wds\n",
    "import logging\n",
    "import numpy\n",
    "import json\n",
    "import torch\n",
    "import numpy as np\n",
    "import pandas as pd\n",
    "import random\n",
    "from tqdm import tqdm\n",
    "from pathlib import Path\n",
    "from typing import Optional\n",
    "from itertools import islice\n",
    "from glob import glob\n",
    "from torch.utils.data import DataLoader, IterableDataset\n",
    "from webdataset.filters import pipelinefilter\n",
    "from webdataset.utils import pytorch_worker_info\n",
    "\n",
    "import pickle\n",
    "from traceback_with_variables import activate_in_ipython_by_import\n",
    "from sklearn.preprocessing import StandardScaler"
   ]
  },
  {
   "cell_type": "code",
   "execution_count": 2,
   "id": "ba38de43-0d6e-46a2-88f0-4b34211e5ddc",
   "metadata": {},
   "outputs": [],
   "source": [
    "NSECS_IN_SEC = 1000000000\n"
   ]
  },
  {
   "cell_type": "code",
   "execution_count": 3,
   "id": "8cc113e7-73ee-4614-8963-71eeec27d6ac",
   "metadata": {},
   "outputs": [
    {
     "name": "stdout",
     "output_type": "stream",
     "text": [
      "control.csv\t\t\t  localization-quant20mc.csv\n",
      "control_norm_v1.csv\t\t  localization-quant20mc_v2.csv\n",
      "control_norm_v1-quant20mc.csv\t  metadata.json\n",
      "control_norm_v1-quant20mc_v2.csv  quant20mc\n",
      "localization.csv\t\t  speed-quant20mc_v2.csv\n",
      "control.csv\t\t\t  metadata.json\n",
      "control_norm_v1.csv\t\t  quant20mc\n",
      "control_norm_v1-quant20mc.csv\t  requested_stamps.csv\n",
      "control_norm_v1-quant20mc_v2.csv  requested_stamps-quant20mc.csv\n",
      "localization.csv\t\t  requested_stamps-quant20mc_v2.csv\n",
      "localization-quant20mc.csv\t  speed-quant20mc_v2.csv\n",
      "localization-quant20mc_v2.csv\n"
     ]
    }
   ],
   "source": [
    "!ls YandexCup2024v2/YaCupTrain/0/\n",
    "!ls YandexCup2024v2/YaCupTest/0/"
   ]
  },
  {
   "cell_type": "code",
   "execution_count": 4,
   "id": "92b75fa5-5b37-4c05-8137-30b74bf1817f",
   "metadata": {},
   "outputs": [
    {
     "name": "stdout",
     "output_type": "stream",
     "text": [
      "stamp_ns,x,y,z,roll,pitch,yaw\n",
      "-1.0,-1482.5964825428584,-1321.9558961291534,-16.018466158558372,0.02882125843497826,-0.002113178076574012,2.2399228709997785\n",
      "0.0,-1482.6526825596848,-1321.8833767041253,-16.014847819020254,0.02750229563586146,-0.0019653949516745296,2.2403362296228497\n",
      "1.0,-1482.7093438252623,-1321.8115620279045,-16.01401760380355,0.02716286517762281,-0.0017751331689762919,2.2407700297655886\n",
      "2.0,-1482.7661157231817,-1321.7399163884795,-16.013856131260358,0.027058379435229263,-0.0015746827117754207,2.241208732887871\n",
      "3.0,-1482.8220401857484,-1321.6695184390016,-16.01243100813739,0.027364666933622554,-0.0014992336510339253,2.241686976786969\n",
      "4.0,-1482.8777210708006,-1321.5994791118244,-16.010642675164604,0.027789022582724573,-0.0014597136193783956,2.2421765858528615\n",
      "5.0,-1482.9334373320291,-1321.5294253602938,-16.010197848543484,0.02775735207475388,-0.0014166340809576583,2.2426516496027378\n",
      "6.0,-1482.9891618164627,-1321.4593682558168,-16.010065320469447,0.027619678118336502,-0.001372727133876191,2.2431233322885404\n",
      "7.0,-1483.0445686448213,-1321.3898162905045,-16.009935863786886,0.027832403593810107,-0.0014333493098175043,2.2435632156611747\n"
     ]
    }
   ],
   "source": [
    "!head YandexCup2024v2/YaCupTest/0/localization-quant20mc.csv"
   ]
  },
  {
   "cell_type": "code",
   "execution_count": 85,
   "id": "6b0e5f7f-441f-4352-bfee-54d0c9dd94e3",
   "metadata": {},
   "outputs": [],
   "source": []
  },
  {
   "cell_type": "code",
   "execution_count": 5,
   "id": "d2c2dac4-ab9d-4be5-8841-76d41d783924",
   "metadata": {},
   "outputs": [
    {
     "name": "stdout",
     "output_type": "stream",
     "text": [
      "frame_id,stamp_ns,x,y,z,roll,pitch,yaw,stamp_ms,v_x,v_y,mod_v,v_yaw,v_direct\n",
      "0.0,0.0,-4292.313704696657,-14527.266319463157,66.0433143307047,0.0039258153246947,-0.0541978569971037,-1.9368095592835344,0.0,-0.08813401186853298,-0.22993993703857996,0.2462518602840369,0.0,-1.9368163247695047\n"
     ]
    }
   ],
   "source": [
    "!head -2 YandexCup2024v2/YaCupTrain/0/speed-quant20mc_v2.csv"
   ]
  },
  {
   "cell_type": "code",
   "execution_count": 7,
   "id": "f08ed890-f59e-489d-ae31-756f789a9cf0",
   "metadata": {},
   "outputs": [
    {
     "name": "stderr",
     "output_type": "stream",
     "text": [
      "100%|███████████████████████████████████████████████████████████████████████████████████████████████████████████████████████████████████████████████████████████████████████████████████████████████████████████████████████████████████████| 50000/50000 [12:21<00:00, 67.44it/s]\n"
     ]
    }
   ],
   "source": [
    "dataset_info = []\n",
    "key2feats = {'v_x': [], 'v_y': [], 'mod_v': [], 'v_yaw': []} #, 'v_direct': []}\n",
    "for d in tqdm([*glob('YandexCup2024v2/YaCupTrain/*'), *glob('YandexCup2024v2/YaCupTest/*')]):\n",
    "    speed_df = pd.read_csv(f'{d}/speed-quant20mc_v2.csv')\n",
    "    for k in ['v_x', 'v_y', 'mod_v', 'v_yaw']:\n",
    "        key2feats[k].append(speed_df[k].values)\n",
    "key2feats = {k: np.concatenate(v) for k,v in key2feats.items()}"
   ]
  },
  {
   "cell_type": "code",
   "execution_count": 11,
   "id": "385ec4c2-8c8b-4355-80a2-264191f66c5e",
   "metadata": {},
   "outputs": [
    {
     "data": {
      "text/plain": [
       "(134818939,)"
      ]
     },
     "execution_count": 11,
     "metadata": {},
     "output_type": "execute_result"
    }
   ],
   "source": [
    "key2feats['v_x'].shape"
   ]
  },
  {
   "cell_type": "code",
   "execution_count": 12,
   "id": "b6a42158-3ebc-4c37-80c2-89f32f9cfae0",
   "metadata": {},
   "outputs": [],
   "source": [
    "key2scaler = {}\n",
    "for k,v in key2feats.items():\n",
    "    scaler = StandardScaler()\n",
    "    scaler.fit(v.reshape(-1, 1))\n",
    "    key2scaler[k] = scaler"
   ]
  },
  {
   "cell_type": "code",
   "execution_count": 13,
   "id": "4c648be5-645a-4b2d-9718-b27e214eceaa",
   "metadata": {},
   "outputs": [],
   "source": [
    "with open('YandexCup2024v2/v_scaler.pkl', 'wb') as f:\n",
    "    pickle.dump(key2scaler, f)\n",
    "    "
   ]
  },
  {
   "cell_type": "code",
   "execution_count": 15,
   "id": "dd2a25e4-3d02-42ac-8611-cbcac98b020e",
   "metadata": {},
   "outputs": [
    {
     "name": "stdout",
     "output_type": "stream",
     "text": [
      "v_x [-0.00556363] [0.01267788]\n",
      "v_y [-0.00024126] [0.0129934]\n",
      "mod_v [0.12581441] [0.00987303]\n",
      "v_yaw [2.46346956e-06] [0.00144251]\n"
     ]
    }
   ],
   "source": [
    "for k,scaler in key2scaler.items():\n",
    "    print(k, scaler.mean_, scaler.var_)"
   ]
  },
  {
   "cell_type": "code",
   "execution_count": 17,
   "id": "c2c5356d-447a-4c2f-a65d-8dc982fa713c",
   "metadata": {},
   "outputs": [
    {
     "name": "stderr",
     "output_type": "stream",
     "text": [
      "100%|██████████████████████████████████████████████████████████████████████████████████████████| 50000/50000 [1:06:15<00:00, 12.58it/s]\n"
     ]
    }
   ],
   "source": [
    "dataset_info = []\n",
    "for d in tqdm([*glob('YandexCup2024v2/YaCupTrain/*'), *glob('YandexCup2024v2/YaCupTest/*')]):\n",
    "    speed_df = pd.read_csv(f'{d}/speed-quant20mc_v2.csv')\n",
    "    for k,scaler in key2scaler.items():\n",
    "        v = speed_df[k].values\n",
    "        speed_df[k] = scaler.transform(v.reshape(-1, 1)).reshape(-1)\n",
    "        iv = scaler.inverse_transform(speed_df[k].values.reshape(-1, 1)).reshape(-1)\n",
    "        assert np.allclose(v, iv), f\"{d=}, {k=}, {v=}, {iv=}\"\n",
    "    speed_df.to_csv(f'{d}/speed-norm-quant20mc_v2.csv', index=False)"
   ]
  },
  {
   "cell_type": "code",
   "execution_count": 20,
   "id": "e950ad19-3d64-4a86-a836-70c720aaacdc",
   "metadata": {},
   "outputs": [
    {
     "name": "stdout",
     "output_type": "stream",
     "text": [
      "tensor([[[0., 1.],\n",
      "         [0., 1.]]]) torch.Size([1, 2, 2])\n"
     ]
    }
   ],
   "source": [
    "a = torch.stack([torch.zeros(1,2), torch.ones(1,2)], axis=-1)\n",
    "print(a, a.shape)\n"
   ]
  },
  {
   "cell_type": "code",
   "execution_count": 68,
   "id": "a9697c90-dd8b-4b36-8aa0-e6ec3f21942e",
   "metadata": {},
   "outputs": [
    {
     "data": {
      "text/plain": [
       "np.float64(0.0004005369813479011)"
      ]
     },
     "execution_count": 68,
     "metadata": {},
     "output_type": "execute_result"
    }
   ],
   "source": [
    "FRAME_STEP = 20000000\n",
    "def get_pred_from_score(d):\n",
    "    seed_df = pd.read_csv(f'{d}/speed-quant20mc_v2.csv')\n",
    "    #with open(f'{d}/quant20mc') as f:\n",
    "    #    start_ns=float(f.read())\n",
    "    \n",
    "    start = seed_df.iloc[0]\n",
    "    #stamp_ns=start.frame_id * FRAME_STEP + start_ns\n",
    "    x=start.x\n",
    "    y=start.y\n",
    "    yaw=start.yaw\n",
    "    pred = [(start.frame_id, x, y, yaw)]\n",
    "    for i, row in seed_df.iloc[1:].iterrows():\n",
    "        #v = row.v_proj_yaw\n",
    "        #stamp_ns = row.frame_id * FRAME_STEP + start_ns\n",
    "        v = row.mod_v\n",
    "        v_yaw = row.v_yaw\n",
    "        _, x, y, yaw = pred[-1]\n",
    "        new_yaw = yaw + v_yaw\n",
    "        new_x = x + v * np.cos(row.v_direct)\n",
    "        new_y = y + v * np.sin(row.v_direct)\n",
    "        pred.append((row.frame_id, new_x, new_y, new_yaw))\n",
    "    pred = np.asarray(pred, dtype=float)\n",
    "    return pred\n",
    "\n",
    "\n",
    "def measure_score(df_pred, loc_df):\n",
    "    df_join = df_pred.set_index('stamp_ns').join(loc_df[['stamp_ns', 'x', 'y', 'yaw']].set_index('stamp_ns'))\n",
    "    df_join['mseX'] = ((df_join['pred_x'] - df_join.x)**2 + (df_join['pred_y'] - df_join.y)**2)**(1/2)\n",
    "    df_join['mse_yaw'] = ((np.cos(df_join.pred_yaw) - np.cos(df_join.yaw))**2 + (np.sin(df_join.pred_yaw) - np.sin(df_join.yaw))**2)**(1/2)\n",
    "    df_join['score'] = df_join.mseX+df_join.mse_yaw\n",
    "    return df_join['score'].mean(), df_join\n",
    "\n",
    "\n",
    "def make_prediction(pred, stamp_ns):                \n",
    "    pred_loc = []\n",
    "    frame_id2predid = {int(row[0]): i for i, row in enumerate(pred)}\n",
    "    #print(frame_id2predid)\n",
    "    for t in stamp_ns:                                          \n",
    "        t = int(t)                                  \n",
    "        left_pred_id = frame_id2predid[t // FRAME_STEP]\n",
    "        right_pred_id = left_pred_id + 1\n",
    "        delta = t % FRAME_STEP\n",
    "        if right_pred_id >= pred.shape[0]:\n",
    "            #print(f\"Warning {right_pred_id=}, {pred.shape=}\")\n",
    "            bounds = np.concatenate([pred[-2:-1], pred[-1:]], axis=0)\n",
    "        else:\n",
    "            bounds = pred[left_pred_id:right_pred_id+1]  \n",
    "        if len(bounds) != 2:\n",
    "            raise RuntimeError(f\"{bounds}, {t}, {left_pred_id}, {right_pred_id}, {pred.shape}\")\n",
    "        db = bounds[1] - bounds[0]                        \n",
    "        ddot = db * delta / FRAME_STEP                     \n",
    "        dot = bounds[0] + ddot                             \n",
    "        pred_loc.append((t, dot[1], dot[2], dot[3]))\n",
    "    df_pred = pd.DataFrame(pred_loc, columns=['stamp_ns', 'pred_x', 'pred_y', 'pred_yaw'])\n",
    "    return df_pred\n",
    "    \n",
    "\n",
    "def calculate_ideal_score(d):\n",
    "    pred = get_pred_from_score(d)\n",
    "    loc_df = pd.read_csv(f'{d}/localization.csv') \n",
    "    with open(f'{d}/quant20mc') as f:\n",
    "        start_ns=float(f.read())\n",
    "    loc_df['stamp_ns'] = loc_df.stamp_ns - start_ns\n",
    "    #print(start_ns)\n",
    "    df_pred = make_prediction(pred, loc_df.stamp_ns)\n",
    "    return measure_score(df_pred, loc_df)\n",
    "score, df = calculate_ideal_score('YandexCup2024v2/YaCupTest/0')\n",
    "score"
   ]
  },
  {
   "cell_type": "code",
   "execution_count": 69,
   "id": "bc98e54b-052c-4fe7-aaf1-ec885d0c49f5",
   "metadata": {},
   "outputs": [
    {
     "data": {
      "text/plain": [
       "np.float64(0.0004005369813479011)"
      ]
     },
     "execution_count": 69,
     "metadata": {},
     "output_type": "execute_result"
    }
   ],
   "source": [
    "def calculate_ideal_score_quant(d):\n",
    "    #pred = get_pred_from_score(d)\n",
    "    pred = pd.read_csv(f'{d}/localization-quant20mc_v2.csv')[['frame_id', 'x', 'y', 'yaw']].values\n",
    "    with open(f'{d}/quant20mc') as f:\n",
    "        start_ns=float(f.read())\n",
    "    loc_df = pd.read_csv(f'{d}/localization.csv') \n",
    "    loc_df['stamp_ns'] = loc_df.stamp_ns - start_ns\n",
    "    df_pred = make_prediction(pred, loc_df.stamp_ns)\n",
    "    return measure_score(df_pred, loc_df)\n",
    "score, df = calculate_ideal_score_quant('YandexCup2024v2/YaCupTest/0')\n",
    "score"
   ]
  },
  {
   "cell_type": "code",
   "execution_count": 70,
   "id": "b779ad49-2cff-4a5e-bd62-8fcdb253b6bd",
   "metadata": {},
   "outputs": [
    {
     "data": {
      "text/plain": [
       "np.float64(0.0)"
      ]
     },
     "execution_count": 70,
     "metadata": {},
     "output_type": "execute_result"
    }
   ],
   "source": [
    "def calculate_zero_score(d):\n",
    "    #pred = get_pred_from_score(d)\n",
    "    loc_df = pd.read_csv(f'{d}/localization.csv') \n",
    "    with open(f'{d}/quant20mc') as f:\n",
    "        start_ns=float(f.read())\n",
    "    loc_df['stamp_ns'] = loc_df.stamp_ns - start_ns\n",
    "    df_pred = pd.DataFrame(loc_df[['stamp_ns', 'x', 'y', 'yaw']].values, columns=['stamp_ns', 'pred_x', 'pred_y', 'pred_yaw'])\n",
    "    return measure_score(df_pred, loc_df)\n",
    "score, df = calculate_zero_score('YandexCup2024v2/YaCupTest/0')\n",
    "score"
   ]
  },
  {
   "cell_type": "code",
   "execution_count": 73,
   "id": "0f24c60d-ca5c-41f2-a197-741df056217c",
   "metadata": {},
   "outputs": [
    {
     "name": "stderr",
     "output_type": "stream",
     "text": [
      "100%|███████████████████████████████████████████████████████████████████████████████████████████████| 1823/1823 [03:10<00:00,  9.59it/s]\n"
     ]
    }
   ],
   "source": [
    "results = []\n",
    "for d in tqdm([*[*glob('YandexCup2024v2/YaCupTest/*')][::5], *[*glob('YandexCup2024v2/YaCupTrain/10*')][::5]]):\n",
    "    zero_score, _ = calculate_zero_score(d)\n",
    "    quant_score, _ = calculate_ideal_score_quant(d)\n",
    "    full_score, df = calculate_ideal_score(d)\n",
    "    #print(quant_score)\n",
    "    results.append((d, zero_score, quant_score, full_score))\n",
    "    #print(results[-1])\n"
   ]
  },
  {
   "cell_type": "code",
   "execution_count": 74,
   "id": "8b150020-e340-42e7-86f0-0433521c2a59",
   "metadata": {},
   "outputs": [
    {
     "data": {
      "text/plain": [
       "array([0.        , 0.00112619, 0.00112619])"
      ]
     },
     "execution_count": 74,
     "metadata": {},
     "output_type": "execute_result"
    }
   ],
   "source": [
    "results_np = np.asarray([list(map(float, t)) for _, *t in results])\n",
    "results_np.mean(axis=0)"
   ]
  },
  {
   "cell_type": "code",
   "execution_count": 78,
   "id": "c54728dc-cae8-4713-9489-e85a214ce31e",
   "metadata": {},
   "outputs": [
    {
     "data": {
      "text/plain": [
       "array([   0, 1222, 1222])"
      ]
     },
     "execution_count": 78,
     "metadata": {},
     "output_type": "execute_result"
    }
   ],
   "source": [
    "results_np.argmax(axis=0)"
   ]
  },
  {
   "cell_type": "code",
   "execution_count": 79,
   "id": "19cc6c5f-67f1-47d1-b691-3e684051aded",
   "metadata": {},
   "outputs": [
    {
     "data": {
      "text/plain": [
       "('YandexCup2024v2/YaCupTest/6110',\n",
       " np.float64(0.0),\n",
       " np.float64(0.012944903705919275),\n",
       " np.float64(0.012944903705919145))"
      ]
     },
     "execution_count": 79,
     "metadata": {},
     "output_type": "execute_result"
    }
   ],
   "source": [
    "results[1222]"
   ]
  },
  {
   "cell_type": "code",
   "execution_count": 35,
   "id": "f22e7eb3-8e04-4a7e-be51-6a55a456fc18",
   "metadata": {
    "scrolled": true
   },
   "outputs": [
    {
     "data": {
      "text/plain": [
       "[[np.float64(0.0),\n",
       "  np.float64(0.00016788747205601665),\n",
       "  np.float64(0.00016788747205601665)],\n",
       " [np.float64(0.0),\n",
       "  np.float64(0.00015092273623239412),\n",
       "  np.float64(0.00015092273623239601)],\n",
       " [np.float64(0.0),\n",
       "  np.float64(3.06858980594585e-05),\n",
       "  np.float64(3.068589805861405e-05)],\n",
       " [np.float64(0.0),\n",
       "  np.float64(2.53257656473556e-05),\n",
       "  np.float64(2.5325765647477143e-05)],\n",
       " [np.float64(0.0),\n",
       "  np.float64(1.3856499826860494e-05),\n",
       "  np.float64(1.3856499826860494e-05)],\n",
       " [np.float64(0.0),\n",
       "  np.float64(1.707229259087967e-05),\n",
       "  np.float64(1.7072292590973448e-05)],\n",
       " [np.float64(0.0),\n",
       "  np.float64(2.6221288186197513e-05),\n",
       "  np.float64(2.6221288185875515e-05)],\n",
       " [np.float64(0.0),\n",
       "  np.float64(0.00012575538555093535),\n",
       "  np.float64(0.00012575538555107356)],\n",
       " [np.float64(0.0),\n",
       "  np.float64(0.00011067045785737214),\n",
       "  np.float64(0.00011067045785737214)],\n",
       " [np.float64(0.0),\n",
       "  np.float64(0.0010413503179069596),\n",
       "  np.float64(0.0010413503179069596)],\n",
       " [np.float64(0.0),\n",
       "  np.float64(2.6699683249332267e-05),\n",
       "  np.float64(2.6699683249997717e-05)],\n",
       " [np.float64(0.0),\n",
       "  np.float64(4.683735018538524e-05),\n",
       "  np.float64(4.683735018465366e-05)],\n",
       " [np.float64(0.0),\n",
       "  np.float64(0.0005339347162707441),\n",
       "  np.float64(0.0005339347162707441)],\n",
       " [np.float64(0.0),\n",
       "  np.float64(3.492793805384011e-06),\n",
       "  np.float64(3.492793805384011e-06)],\n",
       " [np.float64(0.0),\n",
       "  np.float64(0.0001702593538447599),\n",
       "  np.float64(0.00017025935384468294)],\n",
       " [np.float64(0.0),\n",
       "  np.float64(2.4677464512937533e-06),\n",
       "  np.float64(2.4677464512937533e-06)],\n",
       " [np.float64(0.0),\n",
       "  np.float64(3.588300093377396e-05),\n",
       "  np.float64(3.588300093418847e-05)],\n",
       " [np.float64(0.0),\n",
       "  np.float64(4.4398916417291123e-05),\n",
       "  np.float64(4.4398916417291123e-05)],\n",
       " [np.float64(0.0),\n",
       "  np.float64(0.000620188353657076),\n",
       "  np.float64(0.0006201883536575885)],\n",
       " [np.float64(0.0),\n",
       "  np.float64(0.000206373504468848),\n",
       "  np.float64(0.000206373504468848)],\n",
       " [np.float64(0.0),\n",
       "  np.float64(3.3260821066093096e-05),\n",
       "  np.float64(3.326082106580833e-05)],\n",
       " [np.float64(0.0),\n",
       "  np.float64(0.00010698062168839664),\n",
       "  np.float64(0.00010698062168839664)],\n",
       " [np.float64(0.0),\n",
       "  np.float64(0.00014901261423433108),\n",
       "  np.float64(0.00014901261423441316)],\n",
       " [np.float64(0.0),\n",
       "  np.float64(0.00025151800138502144),\n",
       "  np.float64(0.00025151800138509375)],\n",
       " [np.float64(0.0),\n",
       "  np.float64(1.6388706371058467e-05),\n",
       "  np.float64(1.6388706370773674e-05)],\n",
       " [np.float64(0.0),\n",
       "  np.float64(0.0005526405111917684),\n",
       "  np.float64(0.0005526405111917684)],\n",
       " [np.float64(0.0),\n",
       "  np.float64(0.0002824691872908617),\n",
       "  np.float64(0.0002824691872910016)],\n",
       " [np.float64(0.0),\n",
       "  np.float64(4.728145918237633e-05),\n",
       "  np.float64(4.728145918244985e-05)],\n",
       " [np.float64(0.0),\n",
       "  np.float64(9.72663872485647e-05),\n",
       "  np.float64(9.726638724886823e-05)],\n",
       " [np.float64(0.0),\n",
       "  np.float64(0.0003310036083493443),\n",
       "  np.float64(0.00033100360834939713)],\n",
       " [np.float64(0.0),\n",
       "  np.float64(6.714519623838267e-06),\n",
       "  np.float64(6.714519622977889e-06)],\n",
       " [np.float64(0.0),\n",
       "  np.float64(2.4136848650085614e-05),\n",
       "  np.float64(2.4136848650085614e-05)],\n",
       " [np.float64(0.0),\n",
       "  np.float64(0.00024160725956637417),\n",
       "  np.float64(0.00024160725956683758)],\n",
       " [np.float64(0.0),\n",
       "  np.float64(0.0002756845601826367),\n",
       "  np.float64(0.00027568456018266246)],\n",
       " [np.float64(0.0),\n",
       "  np.float64(3.604334613319965e-05),\n",
       "  np.float64(3.604334613319965e-05)],\n",
       " [np.float64(0.0),\n",
       "  np.float64(3.5121178160671735e-07),\n",
       "  np.float64(3.5121178160671735e-07)],\n",
       " [np.float64(0.0),\n",
       "  np.float64(2.1879812956120365e-05),\n",
       "  np.float64(2.1879812956120365e-05)],\n",
       " [np.float64(0.0),\n",
       "  np.float64(2.8608592085638027e-05),\n",
       "  np.float64(2.860859208549071e-05)],\n",
       " [np.float64(0.0),\n",
       "  np.float64(0.0001762308844534602),\n",
       "  np.float64(0.0001762308844534602)],\n",
       " [np.float64(0.0),\n",
       "  np.float64(3.932164533655056e-05),\n",
       "  np.float64(3.9321645336644574e-05)],\n",
       " [np.float64(0.0),\n",
       "  np.float64(0.00020608223822837115),\n",
       "  np.float64(0.00020608223822874214)],\n",
       " [np.float64(0.0),\n",
       "  np.float64(1.0230072780345285e-05),\n",
       "  np.float64(1.0230072780345285e-05)],\n",
       " [np.float64(0.0),\n",
       "  np.float64(4.214050198541818e-05),\n",
       "  np.float64(4.214050198541818e-05)],\n",
       " [np.float64(0.0),\n",
       "  np.float64(1.7237223255342583e-05),\n",
       "  np.float64(1.7237223255342583e-05)],\n",
       " [np.float64(0.0),\n",
       "  np.float64(1.2477309558424007e-05),\n",
       "  np.float64(1.2477309558756252e-05)],\n",
       " [np.float64(0.0),\n",
       "  np.float64(0.00022209777137659732),\n",
       "  np.float64(0.00022209777137659732)],\n",
       " [np.float64(0.0),\n",
       "  np.float64(0.00014920139408447126),\n",
       "  np.float64(0.00014920139408447126)],\n",
       " [np.float64(0.0),\n",
       "  np.float64(0.00039408520238029467),\n",
       "  np.float64(0.0003940852023785)],\n",
       " [np.float64(0.0),\n",
       "  np.float64(3.028934127851155e-05),\n",
       "  np.float64(3.0289341278670326e-05)],\n",
       " [np.float64(0.0),\n",
       "  np.float64(6.529227552544122e-05),\n",
       "  np.float64(6.52922755252988e-05)],\n",
       " [np.float64(0.0),\n",
       "  np.float64(1.720543586037344e-05),\n",
       "  np.float64(1.720543586037344e-05)],\n",
       " [np.float64(0.0),\n",
       "  np.float64(4.31369826710955e-05),\n",
       "  np.float64(4.31369826710955e-05)],\n",
       " [np.float64(0.0),\n",
       "  np.float64(3.647399242057713e-05),\n",
       "  np.float64(3.647399242054808e-05)],\n",
       " [np.float64(0.0),\n",
       "  np.float64(4.671144014202085e-05),\n",
       "  np.float64(4.671144014007252e-05)],\n",
       " [np.float64(0.0),\n",
       "  np.float64(2.4670836238197197e-05),\n",
       "  np.float64(2.4670836238197197e-05)],\n",
       " [np.float64(0.0),\n",
       "  np.float64(1.3220352757073952e-05),\n",
       "  np.float64(1.3220352757073952e-05)],\n",
       " [np.float64(0.0),\n",
       "  np.float64(0.00035617233823469923),\n",
       "  np.float64(0.0003561723382348807)],\n",
       " [np.float64(0.0),\n",
       "  np.float64(7.944938734994714e-05),\n",
       "  np.float64(7.944938735052677e-05)],\n",
       " [np.float64(0.0),\n",
       "  np.float64(5.7468071915542693e-05),\n",
       "  np.float64(5.746807191563289e-05)],\n",
       " [np.float64(0.0),\n",
       "  np.float64(4.792309161708683e-05),\n",
       "  np.float64(4.7923091617187776e-05)],\n",
       " [np.float64(0.0),\n",
       "  np.float64(0.00017524800678348645),\n",
       "  np.float64(0.00017524800678389566)],\n",
       " [np.float64(0.0),\n",
       "  np.float64(0.0003426534830471336),\n",
       "  np.float64(0.0003426534830471336)],\n",
       " [np.float64(0.0),\n",
       "  np.float64(3.202829281559404e-05),\n",
       "  np.float64(3.202829281559404e-05)],\n",
       " [np.float64(0.0),\n",
       "  np.float64(6.8926614799237e-05),\n",
       "  np.float64(6.892661479923653e-05)],\n",
       " [np.float64(0.0),\n",
       "  np.float64(9.728542850092597e-05),\n",
       "  np.float64(9.728542850093867e-05)],\n",
       " [np.float64(0.0),\n",
       "  np.float64(3.462393122682123e-05),\n",
       "  np.float64(3.462393122682123e-05)],\n",
       " [np.float64(0.0),\n",
       "  np.float64(4.146401474917892e-05),\n",
       "  np.float64(4.146401474821323e-05)],\n",
       " [np.float64(0.0),\n",
       "  np.float64(0.00022822092125547556),\n",
       "  np.float64(0.0002282209212551289)],\n",
       " [np.float64(0.0),\n",
       "  np.float64(1.691143278767926e-05),\n",
       "  np.float64(1.691143278767926e-05)],\n",
       " [np.float64(0.0),\n",
       "  np.float64(0.00014287623970473065),\n",
       "  np.float64(0.00014287623970485265)],\n",
       " [np.float64(0.0),\n",
       "  np.float64(0.00013425428483953335),\n",
       "  np.float64(0.00013425428483953335)],\n",
       " [np.float64(0.0),\n",
       "  np.float64(0.00020462015988826425),\n",
       "  np.float64(0.00020462015988826425)],\n",
       " [np.float64(0.0),\n",
       "  np.float64(0.0001053561774480501),\n",
       "  np.float64(0.00010535617744897232)],\n",
       " [np.float64(0.0),\n",
       "  np.float64(0.00032405974801224624),\n",
       "  np.float64(0.00032405974801224624)],\n",
       " [np.float64(0.0),\n",
       "  np.float64(4.827675843545988e-05),\n",
       "  np.float64(4.827675843535207e-05)],\n",
       " [np.float64(0.0),\n",
       "  np.float64(0.0006693255589455393),\n",
       "  np.float64(0.0006693255589455503)],\n",
       " [np.float64(0.0),\n",
       "  np.float64(0.0002523258104910883),\n",
       "  np.float64(0.0002523258104911499)],\n",
       " [np.float64(0.0),\n",
       "  np.float64(0.00010436670951633473),\n",
       "  np.float64(0.00010436670951633473)],\n",
       " [np.float64(0.0),\n",
       "  np.float64(4.257545821414402e-05),\n",
       "  np.float64(4.257545821414402e-05)],\n",
       " [np.float64(0.0),\n",
       "  np.float64(6.422249853213272e-06),\n",
       "  np.float64(6.422249853231859e-06)],\n",
       " [np.float64(0.0),\n",
       "  np.float64(5.263255979604678e-06),\n",
       "  np.float64(5.263255979612327e-06)],\n",
       " [np.float64(0.0),\n",
       "  np.float64(3.861039050624452e-05),\n",
       "  np.float64(3.861039050624452e-05)],\n",
       " [np.float64(0.0),\n",
       "  np.float64(0.00012539899935371838),\n",
       "  np.float64(0.0001253989993541151)],\n",
       " [np.float64(0.0),\n",
       "  np.float64(1.576034505080219e-05),\n",
       "  np.float64(1.5760345050779044e-05)],\n",
       " [np.float64(0.0),\n",
       "  np.float64(0.00010538544205625771),\n",
       "  np.float64(0.00010538544205642876)],\n",
       " [np.float64(0.0),\n",
       "  np.float64(5.698150015877623e-05),\n",
       "  np.float64(5.6981500159293e-05)],\n",
       " [np.float64(0.0),\n",
       "  np.float64(0.00028100726684595744),\n",
       "  np.float64(0.00028100726684595744)],\n",
       " [np.float64(0.0),\n",
       "  np.float64(0.00025836746921475225),\n",
       "  np.float64(0.00025836746921564953)],\n",
       " [np.float64(0.0),\n",
       "  np.float64(0.0001325905802290982),\n",
       "  np.float64(0.00013259058022920835)],\n",
       " [np.float64(0.0),\n",
       "  np.float64(7.227686211791408e-05),\n",
       "  np.float64(7.227686211828472e-05)],\n",
       " [np.float64(0.0),\n",
       "  np.float64(1.7127275668260104e-05),\n",
       "  np.float64(1.7127275668260104e-05)],\n",
       " [np.float64(0.0),\n",
       "  np.float64(5.119065536675065e-06),\n",
       "  np.float64(5.119065536675065e-06)],\n",
       " [np.float64(0.0),\n",
       "  np.float64(1.4501516545228243e-05),\n",
       "  np.float64(1.4501516545228243e-05)],\n",
       " [np.float64(0.0),\n",
       "  np.float64(0.0003506420304168555),\n",
       "  np.float64(0.0003506420304177382)],\n",
       " [np.float64(0.0),\n",
       "  np.float64(7.819861169353122e-05),\n",
       "  np.float64(7.819861169368049e-05)],\n",
       " [np.float64(0.0),\n",
       "  np.float64(4.069667341794851e-05),\n",
       "  np.float64(4.069667341794851e-05)],\n",
       " [np.float64(0.0),\n",
       "  np.float64(0.0001133361485513051),\n",
       "  np.float64(0.00011333614855130304)],\n",
       " [np.float64(0.0),\n",
       "  np.float64(2.6637755642121015e-05),\n",
       "  np.float64(2.6637755642121015e-05)],\n",
       " [np.float64(0.0),\n",
       "  np.float64(5.166033876248311e-06),\n",
       "  np.float64(5.166033876248311e-06)],\n",
       " [np.float64(0.0),\n",
       "  np.float64(1.7900608498294336e-05),\n",
       "  np.float64(1.790060849864248e-05)],\n",
       " [np.float64(0.0),\n",
       "  np.float64(2.761738780250536e-05),\n",
       "  np.float64(2.7617387802575856e-05)],\n",
       " [np.float64(0.0),\n",
       "  np.float64(0.0001429524978933044),\n",
       "  np.float64(0.00014295249789362293)],\n",
       " [np.float64(0.0),\n",
       "  np.float64(3.78243658048477e-05),\n",
       "  np.float64(3.782436580542611e-05)],\n",
       " [np.float64(0.0),\n",
       "  np.float64(0.00021036309912367875),\n",
       "  np.float64(0.00021036309912367875)],\n",
       " [np.float64(0.0),\n",
       "  np.float64(0.0001270798775164069),\n",
       "  np.float64(0.0001270798775164686)],\n",
       " [np.float64(0.0),\n",
       "  np.float64(0.00019060678707610377),\n",
       "  np.float64(0.00019060678707610377)],\n",
       " [np.float64(0.0),\n",
       "  np.float64(2.3146315829137946e-05),\n",
       "  np.float64(2.314631582943223e-05)],\n",
       " [np.float64(0.0),\n",
       "  np.float64(3.405168537285096e-05),\n",
       "  np.float64(3.405168537285096e-05)],\n",
       " [np.float64(0.0),\n",
       "  np.float64(0.0001868247081520037),\n",
       "  np.float64(0.0001868247081520037)],\n",
       " [np.float64(0.0),\n",
       "  np.float64(6.154723182305682e-05),\n",
       "  np.float64(6.154723182327459e-05)],\n",
       " [np.float64(0.0),\n",
       "  np.float64(4.002839608614405e-05),\n",
       "  np.float64(4.002839608614405e-05)],\n",
       " [np.float64(0.0),\n",
       "  np.float64(2.89028969039053e-05),\n",
       "  np.float64(2.89028969039053e-05)],\n",
       " [np.float64(0.0),\n",
       "  np.float64(2.874185517116061e-05),\n",
       "  np.float64(2.8741855171211986e-05)],\n",
       " [np.float64(0.0),\n",
       "  np.float64(9.715700521179394e-06),\n",
       "  np.float64(9.715700521179394e-06)],\n",
       " [np.float64(0.0),\n",
       "  np.float64(0.00022409541300447207),\n",
       "  np.float64(0.00022409541300261478)],\n",
       " [np.float64(0.0),\n",
       "  np.float64(0.00018489291615850798),\n",
       "  np.float64(0.00018489291615884736)],\n",
       " [np.float64(0.0),\n",
       "  np.float64(1.291681988124134e-05),\n",
       "  np.float64(1.291681988134252e-05)],\n",
       " [np.float64(0.0),\n",
       "  np.float64(0.00011031353494233812),\n",
       "  np.float64(0.00011031353494230269)],\n",
       " [np.float64(0.0),\n",
       "  np.float64(1.3475133038478597e-05),\n",
       "  np.float64(1.3475133038478597e-05)],\n",
       " [np.float64(0.0),\n",
       "  np.float64(0.0001566186845202173),\n",
       "  np.float64(0.0001566186845202173)],\n",
       " [np.float64(0.0),\n",
       "  np.float64(4.0645041806708473e-05),\n",
       "  np.float64(4.064504180733764e-05)],\n",
       " [np.float64(0.0),\n",
       "  np.float64(9.761630656570836e-05),\n",
       "  np.float64(9.761630656570836e-05)],\n",
       " [np.float64(0.0),\n",
       "  np.float64(8.257411276300037e-05),\n",
       "  np.float64(8.257411276315618e-05)],\n",
       " [np.float64(0.0),\n",
       "  np.float64(0.00015566103799198174),\n",
       "  np.float64(0.00015566103799211035)],\n",
       " [np.float64(0.0),\n",
       "  np.float64(0.0002288745177774527),\n",
       "  np.float64(0.00022887451777763316)],\n",
       " [np.float64(0.0),\n",
       "  np.float64(0.0005360494211098143),\n",
       "  np.float64(0.0005360494211098067)],\n",
       " [np.float64(0.0),\n",
       "  np.float64(0.00010346326607445288),\n",
       "  np.float64(0.00010346326607447168)],\n",
       " [np.float64(0.0),\n",
       "  np.float64(7.365753767872274e-06),\n",
       "  np.float64(7.365753767872274e-06)],\n",
       " [np.float64(0.0),\n",
       "  np.float64(1.7962631309972853e-05),\n",
       "  np.float64(1.7962631309972853e-05)],\n",
       " [np.float64(0.0),\n",
       "  np.float64(2.4334822604951795e-05),\n",
       "  np.float64(2.4334822604951795e-05)],\n",
       " [np.float64(0.0),\n",
       "  np.float64(0.00017523189508723255),\n",
       "  np.float64(0.00017523189508723686)],\n",
       " [np.float64(0.0),\n",
       "  np.float64(4.42934775132478e-05),\n",
       "  np.float64(4.42934775132478e-05)],\n",
       " [np.float64(0.0),\n",
       "  np.float64(7.51596414060069e-05),\n",
       "  np.float64(7.515964140625212e-05)],\n",
       " [np.float64(0.0),\n",
       "  np.float64(2.1308161646428952e-05),\n",
       "  np.float64(2.130816164726886e-05)],\n",
       " [np.float64(0.0),\n",
       "  np.float64(1.0150136204406477e-05),\n",
       "  np.float64(1.0150136204551424e-05)],\n",
       " [np.float64(0.0),\n",
       "  np.float64(5.324119050509961e-06),\n",
       "  np.float64(5.324119050509961e-06)],\n",
       " [np.float64(0.0),\n",
       "  np.float64(0.00010074780606757334),\n",
       "  np.float64(0.00010074780606774977)],\n",
       " [np.float64(0.0),\n",
       "  np.float64(3.2465516205336903e-06),\n",
       "  np.float64(3.2465516205336903e-06)],\n",
       " [np.float64(0.0),\n",
       "  np.float64(0.0005654760841337769),\n",
       "  np.float64(0.0005654760841337785)],\n",
       " [np.float64(0.0),\n",
       "  np.float64(5.808929904400793e-05),\n",
       "  np.float64(5.808929904400793e-05)],\n",
       " [np.float64(0.0),\n",
       "  np.float64(4.026499279094732e-05),\n",
       "  np.float64(4.026499279094732e-05)],\n",
       " [np.float64(0.0),\n",
       "  np.float64(0.00012103569377266976),\n",
       "  np.float64(0.00012103569377272916)],\n",
       " [np.float64(0.0),\n",
       "  np.float64(0.00010495571856928238),\n",
       "  np.float64(0.00010495571856928783)],\n",
       " [np.float64(0.0),\n",
       "  np.float64(5.293988937275919e-05),\n",
       "  np.float64(5.29398893728629e-05)],\n",
       " [np.float64(0.0),\n",
       "  np.float64(0.00014453764186216225),\n",
       "  np.float64(0.00014453764186216225)],\n",
       " [np.float64(0.0),\n",
       "  np.float64(6.423506692243696e-05),\n",
       "  np.float64(6.423506692285086e-05)],\n",
       " [np.float64(0.0),\n",
       "  np.float64(0.0002415649429889985),\n",
       "  np.float64(0.00024156494298905107)],\n",
       " [np.float64(0.0),\n",
       "  np.float64(9.514095001859316e-05),\n",
       "  np.float64(9.514095001859316e-05)],\n",
       " [np.float64(0.0),\n",
       "  np.float64(9.524759612173848e-05),\n",
       "  np.float64(9.524759612173848e-05)],\n",
       " [np.float64(0.0),\n",
       "  np.float64(3.574261287595188e-06),\n",
       "  np.float64(3.574261287597226e-06)],\n",
       " [np.float64(0.0),\n",
       "  np.float64(2.9332429781620194e-05),\n",
       "  np.float64(2.9332429782511696e-05)],\n",
       " [np.float64(0.0),\n",
       "  np.float64(0.00017386357015637192),\n",
       "  np.float64(0.0001738635701570086)],\n",
       " [np.float64(0.0),\n",
       "  np.float64(0.00021093698761336376),\n",
       "  np.float64(0.00021093698761336376)],\n",
       " [np.float64(0.0),\n",
       "  np.float64(0.00015432015861681342),\n",
       "  np.float64(0.0001543201586176353)],\n",
       " [np.float64(0.0),\n",
       "  np.float64(0.00025661737503374223),\n",
       "  np.float64(0.0002566173750345831)],\n",
       " [np.float64(0.0),\n",
       "  np.float64(3.543850687677886e-05),\n",
       "  np.float64(3.543850687677886e-05)],\n",
       " [np.float64(0.0),\n",
       "  np.float64(2.456578056096694e-05),\n",
       "  np.float64(2.4565780560631e-05)],\n",
       " [np.float64(0.0),\n",
       "  np.float64(4.863712135504465e-05),\n",
       "  np.float64(4.86371213550428e-05)],\n",
       " [np.float64(0.0),\n",
       "  np.float64(0.00010625095008898986),\n",
       "  np.float64(0.00010625095008949314)],\n",
       " [np.float64(0.0),\n",
       "  np.float64(3.0438206704156252e-05),\n",
       "  np.float64(3.0438206703969403e-05)],\n",
       " [np.float64(0.0),\n",
       "  np.float64(2.109353377530806e-05),\n",
       "  np.float64(2.109353377530806e-05)],\n",
       " [np.float64(0.0),\n",
       "  np.float64(8.036434034643381e-05),\n",
       "  np.float64(8.036434034643381e-05)],\n",
       " [np.float64(0.0),\n",
       "  np.float64(9.129193632528114e-06),\n",
       "  np.float64(9.129193632768983e-06)],\n",
       " [np.float64(0.0),\n",
       "  np.float64(3.703241431057148e-05),\n",
       "  np.float64(3.703241431057148e-05)],\n",
       " [np.float64(0.0),\n",
       "  np.float64(0.0002728489645238229),\n",
       "  np.float64(0.0002728489645238229)],\n",
       " [np.float64(0.0),\n",
       "  np.float64(0.00015765401266018057),\n",
       "  np.float64(0.00015765401266018057)],\n",
       " [np.float64(0.0),\n",
       "  np.float64(2.8244061391890804e-05),\n",
       "  np.float64(2.8244061391943727e-05)],\n",
       " [np.float64(0.0),\n",
       "  np.float64(0.0005437775589580491),\n",
       "  np.float64(0.0005437775589583202)],\n",
       " [np.float64(0.0),\n",
       "  np.float64(4.743839954925411e-05),\n",
       "  np.float64(4.743839954908885e-05)],\n",
       " [np.float64(0.0),\n",
       "  np.float64(2.9985323458243414e-05),\n",
       "  np.float64(2.9985323458243414e-05)],\n",
       " [np.float64(0.0),\n",
       "  np.float64(0.0002535226323519376),\n",
       "  np.float64(0.0002535226323519376)],\n",
       " [np.float64(0.0),\n",
       "  np.float64(3.029068869616256e-05),\n",
       "  np.float64(3.029068869616256e-05)],\n",
       " [np.float64(0.0),\n",
       "  np.float64(0.00020627830635494682),\n",
       "  np.float64(0.00020627830635494682)],\n",
       " [np.float64(0.0),\n",
       "  np.float64(0.00022603549589509726),\n",
       "  np.float64(0.00022603549589509726)],\n",
       " [np.float64(0.0),\n",
       "  np.float64(4.687343853918157e-05),\n",
       "  np.float64(4.687343853867721e-05)],\n",
       " [np.float64(0.0),\n",
       "  np.float64(0.00010348303998678646),\n",
       "  np.float64(0.00010348303998678646)],\n",
       " [np.float64(0.0),\n",
       "  np.float64(3.2034489289524504e-05),\n",
       "  np.float64(3.20344892899645e-05)],\n",
       " [np.float64(0.0),\n",
       "  np.float64(0.00048140104572235543),\n",
       "  np.float64(0.0004814010457226379)],\n",
       " [np.float64(0.0),\n",
       "  np.float64(0.00022462309651629704),\n",
       "  np.float64(0.0002246230965164087)],\n",
       " [np.float64(0.0),\n",
       "  np.float64(2.6571882685880765e-05),\n",
       "  np.float64(2.657188268597593e-05)],\n",
       " [np.float64(0.0),\n",
       "  np.float64(0.00018690587948988675),\n",
       "  np.float64(0.00018690587949018902)],\n",
       " [np.float64(0.0),\n",
       "  np.float64(0.00010920289984064589),\n",
       "  np.float64(0.00010920289984089147)],\n",
       " [np.float64(0.0),\n",
       "  np.float64(0.00015165018475065897),\n",
       "  np.float64(0.0001516501847506676)],\n",
       " [np.float64(0.0),\n",
       "  np.float64(1.8237675458004465e-05),\n",
       "  np.float64(1.8237675458004465e-05)],\n",
       " [np.float64(0.0),\n",
       "  np.float64(0.0002596314096705581),\n",
       "  np.float64(0.0002596314096707611)],\n",
       " [np.float64(0.0),\n",
       "  np.float64(0.00019478948180313657),\n",
       "  np.float64(0.000194789481803283)],\n",
       " [np.float64(0.0),\n",
       "  np.float64(0.0001333276806477973),\n",
       "  np.float64(0.0001333276806477973)],\n",
       " [np.float64(0.0),\n",
       "  np.float64(2.290983595954507e-05),\n",
       "  np.float64(2.290983595954507e-05)],\n",
       " [np.float64(0.0),\n",
       "  np.float64(4.145863800772636e-05),\n",
       "  np.float64(4.145863800775973e-05)],\n",
       " [np.float64(0.0),\n",
       "  np.float64(0.00021109030740284516),\n",
       "  np.float64(0.0002110903074034031)],\n",
       " [np.float64(0.0),\n",
       "  np.float64(0.00019783035495064596),\n",
       "  np.float64(0.00019783035495064596)],\n",
       " [np.float64(0.0),\n",
       "  np.float64(0.0012502471650928902),\n",
       "  np.float64(0.0012502471650929134)],\n",
       " [np.float64(0.0),\n",
       "  np.float64(1.2744555487185257e-05),\n",
       "  np.float64(1.2744555487185257e-05)],\n",
       " [np.float64(0.0),\n",
       "  np.float64(1.6866518862393247e-05),\n",
       "  np.float64(1.6866518862393247e-05)],\n",
       " [np.float64(0.0),\n",
       "  np.float64(2.1729254430806493e-05),\n",
       "  np.float64(2.1729254431086735e-05)],\n",
       " [np.float64(0.0),\n",
       "  np.float64(2.418137962555783e-05),\n",
       "  np.float64(2.418137962555783e-05)],\n",
       " [np.float64(0.0),\n",
       "  np.float64(5.029732200633807e-05),\n",
       "  np.float64(5.029732200824395e-05)],\n",
       " [np.float64(0.0),\n",
       "  np.float64(0.00010883213124103662),\n",
       "  np.float64(0.00010883213124130071)],\n",
       " [np.float64(0.0),\n",
       "  np.float64(0.0001763771388131291),\n",
       "  np.float64(0.0001763771388135282)],\n",
       " [np.float64(0.0),\n",
       "  np.float64(0.00037928555235955207),\n",
       "  np.float64(0.00037928555235960444)],\n",
       " [np.float64(0.0),\n",
       "  np.float64(2.4261036226406562e-05),\n",
       "  np.float64(2.4261036226502707e-05)],\n",
       " [np.float64(0.0),\n",
       "  np.float64(4.6845631509818034e-05),\n",
       "  np.float64(4.684563151090188e-05)],\n",
       " [np.float64(0.0),\n",
       "  np.float64(0.00016987526042952562),\n",
       "  np.float64(0.00016987526042974932)],\n",
       " [np.float64(0.0),\n",
       "  np.float64(1.3244141464495436e-05),\n",
       "  np.float64(1.3244141464850682e-05)],\n",
       " [np.float64(0.0),\n",
       "  np.float64(7.824882054920752e-06),\n",
       "  np.float64(7.824882054920752e-06)],\n",
       " [np.float64(0.0),\n",
       "  np.float64(0.0002053578595170331),\n",
       "  np.float64(0.00020535785951703356)],\n",
       " [np.float64(0.0),\n",
       "  np.float64(0.0002882379301751629),\n",
       "  np.float64(0.0002882379301751629)],\n",
       " [np.float64(0.0),\n",
       "  np.float64(5.511528755913864e-05),\n",
       "  np.float64(5.511528755913864e-05)],\n",
       " [np.float64(0.0),\n",
       "  np.float64(5.87371518561542e-05),\n",
       "  np.float64(5.87371518561542e-05)],\n",
       " [np.float64(0.0),\n",
       "  np.float64(0.00011207247995106334),\n",
       "  np.float64(0.00011207247995125705)],\n",
       " [np.float64(0.0),\n",
       "  np.float64(0.00023642994078381597),\n",
       "  np.float64(0.0002364299407838216)],\n",
       " [np.float64(0.0),\n",
       "  np.float64(0.00010898425039198918),\n",
       "  np.float64(0.00010898425039261952)],\n",
       " [np.float64(0.0),\n",
       "  np.float64(2.5400413097618173e-05),\n",
       "  np.float64(2.5400413097618173e-05)],\n",
       " [np.float64(0.0),\n",
       "  np.float64(8.655542290468351e-05),\n",
       "  np.float64(8.655542290468351e-05)],\n",
       " [np.float64(0.0),\n",
       "  np.float64(0.00015456996249332792),\n",
       "  np.float64(0.00015456996249356913)],\n",
       " [np.float64(0.0),\n",
       "  np.float64(0.00020272167092970955),\n",
       "  np.float64(0.00020272167093004573)],\n",
       " [np.float64(0.0),\n",
       "  np.float64(0.0001754730185009104),\n",
       "  np.float64(0.0001754730185012061)],\n",
       " [np.float64(0.0),\n",
       "  np.float64(2.3328763767406326e-05),\n",
       "  np.float64(2.332876376749513e-05)],\n",
       " [np.float64(0.0),\n",
       "  np.float64(3.8460455652054954e-05),\n",
       "  np.float64(3.8460455652054954e-05)],\n",
       " [np.float64(0.0),\n",
       "  np.float64(0.000600320780154741),\n",
       "  np.float64(0.0006003207801546782)],\n",
       " [np.float64(0.0),\n",
       "  np.float64(0.0001599474737862815),\n",
       "  np.float64(0.0001599474737866411)],\n",
       " [np.float64(0.0),\n",
       "  np.float64(0.0003696803484530962),\n",
       "  np.float64(0.0003696803484534326)],\n",
       " [np.float64(0.0),\n",
       "  np.float64(9.169194375850845e-05),\n",
       "  np.float64(9.169194375898814e-05)],\n",
       " [np.float64(0.0),\n",
       "  np.float64(2.277492609763823e-05),\n",
       "  np.float64(2.2774926097833592e-05)],\n",
       " [np.float64(0.0),\n",
       "  np.float64(1.4574509325742265e-05),\n",
       "  np.float64(1.4574509325742265e-05)],\n",
       " [np.float64(0.0),\n",
       "  np.float64(2.0900418187018346e-05),\n",
       "  np.float64(2.0900418187018346e-05)],\n",
       " [np.float64(0.0),\n",
       "  np.float64(0.00010206983794022872),\n",
       "  np.float64(0.00010206983794026789)],\n",
       " [np.float64(0.0),\n",
       "  np.float64(0.0001127020644373733),\n",
       "  np.float64(0.00011270206443794045)],\n",
       " [np.float64(0.0),\n",
       "  np.float64(0.0002646608658967816),\n",
       "  np.float64(0.0002646608658967816)],\n",
       " [np.float64(0.0),\n",
       "  np.float64(2.8715532111264683e-05),\n",
       "  np.float64(2.8715532111264683e-05)],\n",
       " [np.float64(0.0),\n",
       "  np.float64(0.00018179771244167874),\n",
       "  np.float64(0.00018179771244167874)],\n",
       " [np.float64(0.0),\n",
       "  np.float64(0.00013845626627178502),\n",
       "  np.float64(0.00013845626627178502)],\n",
       " [np.float64(0.0),\n",
       "  np.float64(7.196253684309257e-06),\n",
       "  np.float64(7.196253684309257e-06)],\n",
       " [np.float64(0.0),\n",
       "  np.float64(8.910188919919157e-05),\n",
       "  np.float64(8.910188919919157e-05)],\n",
       " [np.float64(0.0),\n",
       "  np.float64(0.00017829226054813505),\n",
       "  np.float64(0.00017829226054813505)],\n",
       " [np.float64(0.0),\n",
       "  np.float64(3.778735556525661e-05),\n",
       "  np.float64(3.778735556525661e-05)],\n",
       " [np.float64(0.0),\n",
       "  np.float64(0.00021110506512865142),\n",
       "  np.float64(0.00021110506512876656)],\n",
       " [np.float64(0.0),\n",
       "  np.float64(5.9936582376652325e-05),\n",
       "  np.float64(5.9936582376652325e-05)],\n",
       " [np.float64(0.0),\n",
       "  np.float64(4.302069031740075e-05),\n",
       "  np.float64(4.302069031798846e-05)],\n",
       " [np.float64(0.0),\n",
       "  np.float64(0.00017862811495184333),\n",
       "  np.float64(0.00017862811495195373)],\n",
       " [np.float64(0.0),\n",
       "  np.float64(7.09262437683271e-05),\n",
       "  np.float64(7.09262437683278e-05)],\n",
       " [np.float64(0.0),\n",
       "  np.float64(7.354301428134997e-05),\n",
       "  np.float64(7.35430142813396e-05)],\n",
       " [np.float64(0.0),\n",
       "  np.float64(0.0003762873689693852),\n",
       "  np.float64(0.0003762873689693852)],\n",
       " [np.float64(0.0),\n",
       "  np.float64(0.00022944907411085851),\n",
       "  np.float64(0.00022944907411085851)],\n",
       " [np.float64(0.0),\n",
       "  np.float64(0.00014807516450338645),\n",
       "  np.float64(0.0001480751645035955)],\n",
       " [np.float64(0.0),\n",
       "  np.float64(0.00020424674707555717),\n",
       "  np.float64(0.0002042467470755706)],\n",
       " [np.float64(0.0),\n",
       "  np.float64(6.68054779522016e-05),\n",
       "  np.float64(6.68054779522016e-05)],\n",
       " [np.float64(0.0),\n",
       "  np.float64(0.00018617920416896135),\n",
       "  np.float64(0.00018617920416896135)],\n",
       " [np.float64(0.0),\n",
       "  np.float64(0.00013971700006730592),\n",
       "  np.float64(0.0001397170000677146)],\n",
       " [np.float64(0.0),\n",
       "  np.float64(0.00016886567919110205),\n",
       "  np.float64(0.00016886567919098758)],\n",
       " [np.float64(0.0),\n",
       "  np.float64(0.00019204053893283945),\n",
       "  np.float64(0.00019204053893283945)],\n",
       " [np.float64(0.0),\n",
       "  np.float64(2.792128724340929e-05),\n",
       "  np.float64(2.7921287244188517e-05)],\n",
       " [np.float64(0.0),\n",
       "  np.float64(3.509198915557169e-05),\n",
       "  np.float64(3.509198915565878e-05)],\n",
       " [np.float64(0.0),\n",
       "  np.float64(2.3579693209703946e-05),\n",
       "  np.float64(2.3579693209768036e-05)],\n",
       " [np.float64(0.0),\n",
       "  np.float64(2.3376480344858244e-05),\n",
       "  np.float64(2.3376480344858244e-05)],\n",
       " [np.float64(0.0),\n",
       "  np.float64(7.525766420752244e-05),\n",
       "  np.float64(7.525766420787025e-05)],\n",
       " [np.float64(0.0),\n",
       "  np.float64(2.716161334924039e-05),\n",
       "  np.float64(2.716161334924039e-05)],\n",
       " [np.float64(0.0),\n",
       "  np.float64(2.139592025183758e-05),\n",
       "  np.float64(2.1395920251885936e-05)],\n",
       " [np.float64(0.0),\n",
       "  np.float64(0.0001601142376790107),\n",
       "  np.float64(0.00016011423767906566)],\n",
       " [np.float64(0.0),\n",
       "  np.float64(0.00010399453351554416),\n",
       "  np.float64(0.00010399453351554416)],\n",
       " [np.float64(0.0),\n",
       "  np.float64(0.00010411036650379211),\n",
       "  np.float64(0.00010411036650285903)],\n",
       " [np.float64(0.0),\n",
       "  np.float64(4.381288882882034e-05),\n",
       "  np.float64(4.381288882882034e-05)],\n",
       " [np.float64(0.0),\n",
       "  np.float64(8.350047140742381e-05),\n",
       "  np.float64(8.350047140742381e-05)],\n",
       " [np.float64(0.0),\n",
       "  np.float64(0.00015509191527307944),\n",
       "  np.float64(0.00015509191527309876)],\n",
       " [np.float64(0.0),\n",
       "  np.float64(4.130756476140924e-05),\n",
       "  np.float64(4.130756476140924e-05)],\n",
       " [np.float64(0.0),\n",
       "  np.float64(1.8287452374856473e-05),\n",
       "  np.float64(1.8287452374856473e-05)],\n",
       " [np.float64(0.0),\n",
       "  np.float64(1.7635945405695932e-05),\n",
       "  np.float64(1.7635945405695932e-05)],\n",
       " [np.float64(0.0),\n",
       "  np.float64(1.1809546294426528e-05),\n",
       "  np.float64(1.1809546294426528e-05)],\n",
       " [np.float64(0.0),\n",
       "  np.float64(1.8453319768516995e-05),\n",
       "  np.float64(1.8453319768516995e-05)],\n",
       " [np.float64(0.0),\n",
       "  np.float64(0.0003581123535737942),\n",
       "  np.float64(0.000358112353573463)],\n",
       " [np.float64(0.0),\n",
       "  np.float64(1.3816761740587241e-05),\n",
       "  np.float64(1.3816761740564487e-05)],\n",
       " [np.float64(0.0),\n",
       "  np.float64(9.293701640792939e-05),\n",
       "  np.float64(9.293701640792939e-05)],\n",
       " [np.float64(0.0),\n",
       "  np.float64(1.901980763031495e-05),\n",
       "  np.float64(1.901980763031495e-05)],\n",
       " [np.float64(0.0),\n",
       "  np.float64(0.00011273391584645329),\n",
       "  np.float64(0.00011273391584667653)],\n",
       " [np.float64(0.0),\n",
       "  np.float64(5.362502779685803e-06),\n",
       "  np.float64(5.362502779685803e-06)],\n",
       " [np.float64(0.0),\n",
       "  np.float64(7.857629734843106e-05),\n",
       "  np.float64(7.857629734861607e-05)],\n",
       " [np.float64(0.0),\n",
       "  np.float64(9.100773119604892e-05),\n",
       "  np.float64(9.100773119615205e-05)],\n",
       " [np.float64(0.0),\n",
       "  np.float64(1.0498155265080717e-05),\n",
       "  np.float64(1.0498155265080717e-05)],\n",
       " [np.float64(0.0),\n",
       "  np.float64(0.000346925669333382),\n",
       "  np.float64(0.0003469256693333509)],\n",
       " [np.float64(0.0),\n",
       "  np.float64(7.284063410566563e-05),\n",
       "  np.float64(7.28406341059231e-05)],\n",
       " [np.float64(0.0),\n",
       "  np.float64(0.0008343530424690875),\n",
       "  np.float64(0.0008343530424690875)],\n",
       " [np.float64(0.0),\n",
       "  np.float64(2.4904934237924913e-05),\n",
       "  np.float64(2.4904934237924913e-05)],\n",
       " [np.float64(0.0),\n",
       "  np.float64(2.376885620212111e-05),\n",
       "  np.float64(2.3768856202469292e-05)],\n",
       " [np.float64(0.0),\n",
       "  np.float64(9.554153675725903e-06),\n",
       "  np.float64(9.554153675725903e-06)],\n",
       " [np.float64(0.0),\n",
       "  np.float64(9.473813465751574e-05),\n",
       "  np.float64(9.473813465751574e-05)],\n",
       " [np.float64(0.0),\n",
       "  np.float64(0.00020122770565009416),\n",
       "  np.float64(0.00020122770565009416)],\n",
       " [np.float64(0.0),\n",
       "  np.float64(5.843823879514861e-05),\n",
       "  np.float64(5.8438238795322144e-05)],\n",
       " [np.float64(0.0),\n",
       "  np.float64(0.00010825405282080464),\n",
       "  np.float64(0.00010825405282080464)],\n",
       " [np.float64(0.0),\n",
       "  np.float64(0.00016477826352753305),\n",
       "  np.float64(0.000164778263527587)],\n",
       " [np.float64(0.0),\n",
       "  np.float64(7.850657735499646e-05),\n",
       "  np.float64(7.850657735521494e-05)],\n",
       " [np.float64(0.0),\n",
       "  np.float64(4.6355870985718464e-05),\n",
       "  np.float64(4.6355870985718464e-05)],\n",
       " [np.float64(0.0),\n",
       "  np.float64(6.0511938412171406e-05),\n",
       "  np.float64(6.051193841237135e-05)],\n",
       " [np.float64(0.0),\n",
       "  np.float64(0.00023783242596126935),\n",
       "  np.float64(0.0002378324259617452)],\n",
       " [np.float64(0.0),\n",
       "  np.float64(9.683433838058123e-05),\n",
       "  np.float64(9.683433838056168e-05)],\n",
       " [np.float64(0.0),\n",
       "  np.float64(0.000320626826815516),\n",
       "  np.float64(0.0003206268268155259)],\n",
       " [np.float64(0.0),\n",
       "  np.float64(0.0004479644501354539),\n",
       "  np.float64(0.0004479644501354539)],\n",
       " [np.float64(0.0),\n",
       "  np.float64(4.0305709421867335e-05),\n",
       "  np.float64(4.030570942209891e-05)],\n",
       " [np.float64(0.0),\n",
       "  np.float64(0.00015553556478867519),\n",
       "  np.float64(0.00015553556478867519)],\n",
       " [np.float64(0.0),\n",
       "  np.float64(2.2719649689280676e-05),\n",
       "  np.float64(2.2719649689352962e-05)],\n",
       " [np.float64(0.0),\n",
       "  np.float64(7.824545020107776e-05),\n",
       "  np.float64(7.824545020082685e-05)],\n",
       " [np.float64(0.0),\n",
       "  np.float64(2.6028376079317314e-05),\n",
       "  np.float64(2.6028376079700414e-05)],\n",
       " [np.float64(0.0),\n",
       "  np.float64(2.3556444579054912e-05),\n",
       "  np.float64(2.3556444579054912e-05)],\n",
       " [np.float64(0.0),\n",
       "  np.float64(0.00024257107747019375),\n",
       "  np.float64(0.00024257107747019375)],\n",
       " [np.float64(0.0),\n",
       "  np.float64(2.3047278062778418e-05),\n",
       "  np.float64(2.3047278062928285e-05)],\n",
       " [np.float64(0.0),\n",
       "  np.float64(7.020699078544387e-05),\n",
       "  np.float64(7.020699078544387e-05)],\n",
       " [np.float64(0.0),\n",
       "  np.float64(0.00014572450748882602),\n",
       "  np.float64(0.00014572450748882602)],\n",
       " [np.float64(0.0),\n",
       "  np.float64(0.00017256835321146624),\n",
       "  np.float64(0.00017256835321146624)],\n",
       " [np.float64(0.0),\n",
       "  np.float64(0.00011222055737942501),\n",
       "  np.float64(0.00011222055737942501)],\n",
       " [np.float64(0.0),\n",
       "  np.float64(0.00017811899934812712),\n",
       "  np.float64(0.00017811899934812712)],\n",
       " [np.float64(0.0),\n",
       "  np.float64(3.103574611690406e-05),\n",
       "  np.float64(3.103574611675505e-05)],\n",
       " [np.float64(0.0),\n",
       "  np.float64(9.87842363486784e-05),\n",
       "  np.float64(9.878423634892467e-05)],\n",
       " [np.float64(0.0),\n",
       "  np.float64(0.00019539934562085628),\n",
       "  np.float64(0.00019539934562085628)],\n",
       " [np.float64(0.0),\n",
       "  np.float64(1.7385450757745783e-05),\n",
       "  np.float64(1.7385450757745783e-05)],\n",
       " [np.float64(0.0),\n",
       "  np.float64(2.3012447898299632e-05),\n",
       "  np.float64(2.3012447898299632e-05)],\n",
       " [np.float64(0.0),\n",
       "  np.float64(1.1487275662610333e-05),\n",
       "  np.float64(1.1487275662610333e-05)],\n",
       " [np.float64(0.0),\n",
       "  np.float64(0.0001903171343468303),\n",
       "  np.float64(0.0001903171343468303)],\n",
       " [np.float64(0.0),\n",
       "  np.float64(1.4170707725506151e-05),\n",
       "  np.float64(1.4170707725506151e-05)],\n",
       " [np.float64(0.0),\n",
       "  np.float64(4.773149753640056e-05),\n",
       "  np.float64(4.773149753640056e-05)],\n",
       " [np.float64(0.0),\n",
       "  np.float64(2.283359872074756e-05),\n",
       "  np.float64(2.283359872135285e-05)],\n",
       " [np.float64(0.0),\n",
       "  np.float64(8.302793116973025e-05),\n",
       "  np.float64(8.302793116974461e-05)],\n",
       " [np.float64(0.0),\n",
       "  np.float64(7.587799182704237e-07),\n",
       "  np.float64(7.587799182704237e-07)],\n",
       " [np.float64(0.0),\n",
       "  np.float64(8.331045850088383e-05),\n",
       "  np.float64(8.331045850089863e-05)],\n",
       " [np.float64(0.0),\n",
       "  np.float64(0.0002606168628265142),\n",
       "  np.float64(0.0002606168628265142)],\n",
       " [np.float64(0.0),\n",
       "  np.float64(9.334318369992869e-05),\n",
       "  np.float64(9.334318369992869e-05)],\n",
       " [np.float64(0.0),\n",
       "  np.float64(3.251532919717041e-05),\n",
       "  np.float64(3.251532919717041e-05)],\n",
       " [np.float64(0.0),\n",
       "  np.float64(3.9243631474476256e-05),\n",
       "  np.float64(3.924363147465752e-05)],\n",
       " [np.float64(0.0),\n",
       "  np.float64(0.00027038087816000307),\n",
       "  np.float64(0.00027038087816000307)],\n",
       " [np.float64(0.0),\n",
       "  np.float64(5.5397258282406874e-05),\n",
       "  np.float64(5.53972582824114e-05)],\n",
       " [np.float64(0.0),\n",
       "  np.float64(7.043367176246465e-06),\n",
       "  np.float64(7.043367176246465e-06)],\n",
       " [np.float64(0.0),\n",
       "  np.float64(0.00030378615242348595),\n",
       "  np.float64(0.00030378615242392435)],\n",
       " [np.float64(0.0),\n",
       "  np.float64(1.7974115423025356e-05),\n",
       "  np.float64(1.7974115423025356e-05)],\n",
       " [np.float64(0.0),\n",
       "  np.float64(2.801357393634367e-05),\n",
       "  np.float64(2.801357393634367e-05)],\n",
       " [np.float64(0.0),\n",
       "  np.float64(7.235343714807874e-05),\n",
       "  np.float64(7.235343714807874e-05)],\n",
       " [np.float64(0.0),\n",
       "  np.float64(5.88043451717915e-05),\n",
       "  np.float64(5.8804345171821784e-05)],\n",
       " [np.float64(0.0),\n",
       "  np.float64(8.469748990352395e-06),\n",
       "  np.float64(8.469748990362514e-06)],\n",
       " [np.float64(0.0),\n",
       "  np.float64(7.182958615705407e-05),\n",
       "  np.float64(7.182958615729629e-05)],\n",
       " [np.float64(0.0),\n",
       "  np.float64(0.00035036999950479946),\n",
       "  np.float64(0.00035036999950479946)],\n",
       " [np.float64(0.0),\n",
       "  np.float64(0.0007343438056215018),\n",
       "  np.float64(0.0007343438056218954)],\n",
       " [np.float64(0.0),\n",
       "  np.float64(2.1085080287066274e-05),\n",
       "  np.float64(2.1085080287182683e-05)],\n",
       " [np.float64(0.0),\n",
       "  np.float64(4.992537398081942e-05),\n",
       "  np.float64(4.992537398082314e-05)],\n",
       " [np.float64(0.0),\n",
       "  np.float64(0.00024174371491414166),\n",
       "  np.float64(0.00024174371491463175)],\n",
       " [np.float64(0.0),\n",
       "  np.float64(0.00012293735882463067),\n",
       "  np.float64(0.00012293735882489665)],\n",
       " [np.float64(0.0),\n",
       "  np.float64(0.0001659921932851596),\n",
       "  np.float64(0.0001659921932851616)],\n",
       " [np.float64(0.0),\n",
       "  np.float64(1.2265567963683812e-05),\n",
       "  np.float64(1.2265567963683812e-05)],\n",
       " [np.float64(0.0),\n",
       "  np.float64(1.7125760345408904e-05),\n",
       "  np.float64(1.7125760345408904e-05)],\n",
       " [np.float64(0.0),\n",
       "  np.float64(2.6593161611087168e-05),\n",
       "  np.float64(2.6593161611169032e-05)],\n",
       " [np.float64(0.0),\n",
       "  np.float64(4.90048156924461e-05),\n",
       "  np.float64(4.90048156924461e-05)],\n",
       " [np.float64(0.0),\n",
       "  np.float64(0.0013317408413275286),\n",
       "  np.float64(0.0013317408413275286)],\n",
       " [np.float64(0.0),\n",
       "  np.float64(1.5285228592328213e-05),\n",
       "  np.float64(1.5285228592514455e-05)],\n",
       " [np.float64(0.0),\n",
       "  np.float64(1.9731071562802245e-05),\n",
       "  np.float64(1.9731071562802245e-05)],\n",
       " [np.float64(0.0),\n",
       "  np.float64(6.258856919328952e-05),\n",
       "  np.float64(6.258856919358496e-05)],\n",
       " [np.float64(0.0),\n",
       "  np.float64(2.6084542695705713e-05),\n",
       "  np.float64(2.6084542695507944e-05)],\n",
       " [np.float64(0.0),\n",
       "  np.float64(4.942550435906616e-05),\n",
       "  np.float64(4.942550435944485e-05)],\n",
       " [np.float64(0.0),\n",
       "  np.float64(1.898557572688265e-05),\n",
       "  np.float64(1.898557572694585e-05)],\n",
       " [np.float64(0.0),\n",
       "  np.float64(3.1156278812143096e-05),\n",
       "  np.float64(3.1156278812143096e-05)],\n",
       " [np.float64(0.0),\n",
       "  np.float64(0.0003479440405067726),\n",
       "  np.float64(0.00034794404050675256)],\n",
       " [np.float64(0.0),\n",
       "  np.float64(1.8432541100897645e-05),\n",
       "  np.float64(1.843254110121463e-05)],\n",
       " [np.float64(0.0),\n",
       "  np.float64(6.0658967868908155e-05),\n",
       "  np.float64(6.065896786904999e-05)],\n",
       " [np.float64(0.0),\n",
       "  np.float64(0.00022456292981813214),\n",
       "  np.float64(0.00022456292981813892)],\n",
       " [np.float64(0.0),\n",
       "  np.float64(8.843056002940523e-05),\n",
       "  np.float64(8.843056002940523e-05)],\n",
       " [np.float64(0.0),\n",
       "  np.float64(0.00017255536684879108),\n",
       "  np.float64(0.00017255536684924588)],\n",
       " [np.float64(0.0),\n",
       "  np.float64(1.5062194589708153e-05),\n",
       "  np.float64(1.5062194589708153e-05)],\n",
       " [np.float64(0.0),\n",
       "  np.float64(0.00012725119028319124),\n",
       "  np.float64(0.00012725119028319124)],\n",
       " [np.float64(0.0),\n",
       "  np.float64(0.00010492705897770773),\n",
       "  np.float64(0.00010492705897770731)],\n",
       " [np.float64(0.0),\n",
       "  np.float64(3.006669056117646e-05),\n",
       "  np.float64(3.006669056196705e-05)],\n",
       " [np.float64(0.0),\n",
       "  np.float64(8.388907325367354e-06),\n",
       "  np.float64(8.388907325367354e-06)],\n",
       " [np.float64(0.0),\n",
       "  np.float64(8.137832896455122e-06),\n",
       "  np.float64(8.137832896455122e-06)],\n",
       " [np.float64(0.0),\n",
       "  np.float64(0.00011185782402789469),\n",
       "  np.float64(0.00011185782402825023)],\n",
       " [np.float64(0.0),\n",
       "  np.float64(0.00016292829685199785),\n",
       "  np.float64(0.00016292829685237632)],\n",
       " [np.float64(0.0),\n",
       "  np.float64(5.4014847106586674e-05),\n",
       "  np.float64(5.4014847106586674e-05)],\n",
       " [np.float64(0.0),\n",
       "  np.float64(1.6238607699814176e-05),\n",
       "  np.float64(1.6238607700180256e-05)],\n",
       " [np.float64(0.0),\n",
       "  np.float64(2.456083170601484e-05),\n",
       "  np.float64(2.4560831706892815e-05)],\n",
       " [np.float64(0.0),\n",
       "  np.float64(0.00013883918890772104),\n",
       "  np.float64(0.00013883918890765385)],\n",
       " [np.float64(0.0),\n",
       "  np.float64(0.00011878320275457366),\n",
       "  np.float64(0.00011878320275457366)],\n",
       " [np.float64(0.0),\n",
       "  np.float64(0.00012814436065004874),\n",
       "  np.float64(0.00012814436065042986)],\n",
       " [np.float64(0.0),\n",
       "  np.float64(0.00011633878336417676),\n",
       "  np.float64(0.00011633878336515105)],\n",
       " [np.float64(0.0),\n",
       "  np.float64(0.0001535412804603332),\n",
       "  np.float64(0.00015354128046072145)],\n",
       " [np.float64(0.0),\n",
       "  np.float64(2.7295858847441152e-05),\n",
       "  np.float64(2.7295858847441152e-05)],\n",
       " [np.float64(0.0),\n",
       "  np.float64(0.0001322413888314827),\n",
       "  np.float64(0.0001322413888314827)],\n",
       " [np.float64(0.0),\n",
       "  np.float64(0.00014445483991670923),\n",
       "  np.float64(0.00014445483991670923)],\n",
       " [np.float64(0.0),\n",
       "  np.float64(3.769015844257906e-05),\n",
       "  np.float64(3.7690158442671154e-05)],\n",
       " [np.float64(0.0),\n",
       "  np.float64(0.0004961615134808262),\n",
       "  np.float64(0.0004961615134811239)],\n",
       " [np.float64(0.0),\n",
       "  np.float64(0.00017855058886157002),\n",
       "  np.float64(0.00017855058886158878)],\n",
       " [np.float64(0.0),\n",
       "  np.float64(0.0001674002016745044),\n",
       "  np.float64(0.0001674002016745044)],\n",
       " [np.float64(0.0),\n",
       "  np.float64(5.017069997417192e-05),\n",
       "  np.float64(5.017069997333178e-05)],\n",
       " [np.float64(0.0),\n",
       "  np.float64(0.0002459599396588368),\n",
       "  np.float64(0.00024595993965892545)],\n",
       " [np.float64(0.0),\n",
       "  np.float64(0.00014233893667122834),\n",
       "  np.float64(0.00014233893667237342)],\n",
       " [np.float64(0.0),\n",
       "  np.float64(1.0273049670192247e-05),\n",
       "  np.float64(1.0273049670230033e-05)],\n",
       " [np.float64(0.0),\n",
       "  np.float64(7.284500247065683e-05),\n",
       "  np.float64(7.284500247164294e-05)],\n",
       " [np.float64(0.0),\n",
       "  np.float64(5.102737534196608e-05),\n",
       "  np.float64(5.102737534196608e-05)],\n",
       " [np.float64(0.0),\n",
       "  np.float64(0.00018573624762404137),\n",
       "  np.float64(0.00018573624762404137)],\n",
       " [np.float64(0.0),\n",
       "  np.float64(0.0001447340653012751),\n",
       "  np.float64(0.00014473406530169275)],\n",
       " [np.float64(0.0),\n",
       "  np.float64(1.8579893870495864e-05),\n",
       "  np.float64(1.8579893870744322e-05)],\n",
       " [np.float64(0.0),\n",
       "  np.float64(2.101262333085843e-05),\n",
       "  np.float64(2.1012623330893034e-05)],\n",
       " [np.float64(0.0),\n",
       "  np.float64(0.00010499857240351612),\n",
       "  np.float64(0.00010499857240367414)],\n",
       " [np.float64(0.0),\n",
       "  np.float64(1.6253133806841382e-05),\n",
       "  np.float64(1.6253133806841382e-05)],\n",
       " [np.float64(0.0),\n",
       "  np.float64(1.5327794460367888e-05),\n",
       "  np.float64(1.5327794460577458e-05)],\n",
       " [np.float64(0.0),\n",
       "  np.float64(0.00020069453820233533),\n",
       "  np.float64(0.00020069453820233533)],\n",
       " [np.float64(0.0),\n",
       "  np.float64(0.00015033158866754347),\n",
       "  np.float64(0.00015033158866754347)],\n",
       " [np.float64(0.0),\n",
       "  np.float64(6.36746978049379e-05),\n",
       "  np.float64(6.367469780491253e-05)],\n",
       " [np.float64(0.0),\n",
       "  np.float64(7.797432332496477e-05),\n",
       "  np.float64(7.797432332526251e-05)],\n",
       " [np.float64(0.0),\n",
       "  np.float64(5.0264446468009195e-05),\n",
       "  np.float64(5.026444646805023e-05)],\n",
       " [np.float64(0.0),\n",
       "  np.float64(0.0003330133841802315),\n",
       "  np.float64(0.0003330133841804433)],\n",
       " [np.float64(0.0),\n",
       "  np.float64(0.00012666768905761485),\n",
       "  np.float64(0.00012666768905823607)],\n",
       " [np.float64(0.0),\n",
       "  np.float64(7.733380262749414e-05),\n",
       "  np.float64(7.733380262767935e-05)],\n",
       " [np.float64(0.0),\n",
       "  np.float64(1.350564533561316e-05),\n",
       "  np.float64(1.350564533561316e-05)],\n",
       " [np.float64(0.0),\n",
       "  np.float64(0.0001240161929336754),\n",
       "  np.float64(0.00012401619293364905)],\n",
       " [np.float64(0.0),\n",
       "  np.float64(5.143151880486069e-05),\n",
       "  np.float64(5.14315188052599e-05)],\n",
       " [np.float64(0.0),\n",
       "  np.float64(8.033536024786448e-05),\n",
       "  np.float64(8.03353602478888e-05)],\n",
       " [np.float64(0.0),\n",
       "  np.float64(0.00016537544854863692),\n",
       "  np.float64(0.00016537544854863692)],\n",
       " [np.float64(0.0),\n",
       "  np.float64(2.237213448974311e-05),\n",
       "  np.float64(2.237213448974311e-05)],\n",
       " [np.float64(0.0),\n",
       "  np.float64(5.8366856675210116e-05),\n",
       "  np.float64(5.8366856675210116e-05)],\n",
       " [np.float64(0.0),\n",
       "  np.float64(0.00011024638514807977),\n",
       "  np.float64(0.00011024638514807977)],\n",
       " [np.float64(0.0),\n",
       "  np.float64(1.3293578990066845e-05),\n",
       "  np.float64(1.3293578990066845e-05)],\n",
       " [np.float64(0.0),\n",
       "  np.float64(0.00016383814404802803),\n",
       "  np.float64(0.00016383814404802803)],\n",
       " [np.float64(0.0),\n",
       "  np.float64(0.00012745208262883627),\n",
       "  np.float64(0.00012745208262883627)],\n",
       " [np.float64(0.0),\n",
       "  np.float64(0.00016960431809228237),\n",
       "  np.float64(0.00016960431809284144)],\n",
       " [np.float64(0.0),\n",
       "  np.float64(0.0001898375794645305),\n",
       "  np.float64(0.00018983757946494404)],\n",
       " [np.float64(0.0),\n",
       "  np.float64(2.4319705148363236e-05),\n",
       "  np.float64(2.4319705149605992e-05)],\n",
       " [np.float64(0.0),\n",
       "  np.float64(0.00016962081627269922),\n",
       "  np.float64(0.00016962081627311105)],\n",
       " [np.float64(0.0),\n",
       "  np.float64(6.095090759841322e-05),\n",
       "  np.float64(6.095090759841322e-05)],\n",
       " [np.float64(0.0),\n",
       "  np.float64(0.00013403754784580192),\n",
       "  np.float64(0.00013403754784580192)],\n",
       " [np.float64(0.0),\n",
       "  np.float64(0.0002078804362418706),\n",
       "  np.float64(0.0002078804362418706)],\n",
       " [np.float64(0.0),\n",
       "  np.float64(1.05800263678056e-05),\n",
       "  np.float64(1.05800263678056e-05)],\n",
       " [np.float64(0.0),\n",
       "  np.float64(3.761383165415713e-05),\n",
       "  np.float64(3.761383165415713e-05)],\n",
       " [np.float64(0.0),\n",
       "  np.float64(3.405108642388404e-05),\n",
       "  np.float64(3.405108642400591e-05)],\n",
       " [np.float64(0.0),\n",
       "  np.float64(9.593792076583681e-05),\n",
       "  np.float64(9.593792076583681e-05)],\n",
       " [np.float64(0.0),\n",
       "  np.float64(2.458905236854649e-05),\n",
       "  np.float64(2.458905236854649e-05)],\n",
       " [np.float64(0.0),\n",
       "  np.float64(8.24357129029932e-05),\n",
       "  np.float64(8.243571290297628e-05)],\n",
       " [np.float64(0.0),\n",
       "  np.float64(6.081640288371618e-05),\n",
       "  np.float64(6.081640288379828e-05)],\n",
       " [np.float64(0.0),\n",
       "  np.float64(6.043739537792219e-05),\n",
       "  np.float64(6.0437395378646636e-05)],\n",
       " [np.float64(0.0),\n",
       "  np.float64(1.3066841434214388e-05),\n",
       "  np.float64(1.3066841434383698e-05)],\n",
       " [np.float64(0.0),\n",
       "  np.float64(4.563441841730878e-06),\n",
       "  np.float64(4.563441841730837e-06)],\n",
       " [np.float64(0.0),\n",
       "  np.float64(8.636734704645152e-05),\n",
       "  np.float64(8.63673470467942e-05)],\n",
       " [np.float64(0.0),\n",
       "  np.float64(1.1180114980149201e-05),\n",
       "  np.float64(1.1180114980500501e-05)],\n",
       " [np.float64(0.0),\n",
       "  np.float64(0.0001284009734121657),\n",
       "  np.float64(0.00012840097341269624)],\n",
       " [np.float64(0.0),\n",
       "  np.float64(9.412605258898158e-05),\n",
       "  np.float64(9.412605258932835e-05)],\n",
       " [np.float64(0.0),\n",
       "  np.float64(3.267077187760587e-05),\n",
       "  np.float64(3.267077187720746e-05)],\n",
       " [np.float64(0.0),\n",
       "  np.float64(0.0001346585941780035),\n",
       "  np.float64(0.00013465859417819198)],\n",
       " [np.float64(0.0),\n",
       "  np.float64(0.00011410043447907949),\n",
       "  np.float64(0.00011410043447907949)],\n",
       " [np.float64(0.0),\n",
       "  np.float64(9.351908430596876e-06),\n",
       "  np.float64(9.351908429980842e-06)],\n",
       " [np.float64(0.0),\n",
       "  np.float64(4.749880146844709e-05),\n",
       "  np.float64(4.7498801468956975e-05)],\n",
       " [np.float64(0.0),\n",
       "  np.float64(0.00018082015832527088),\n",
       "  np.float64(0.00018082015832547753)],\n",
       " [np.float64(0.0),\n",
       "  np.float64(2.6757306993212367e-05),\n",
       "  np.float64(2.675730699320654e-05)],\n",
       " [np.float64(0.0),\n",
       "  np.float64(0.0003216403286841628),\n",
       "  np.float64(0.00032164032868353963)],\n",
       " [np.float64(0.0),\n",
       "  np.float64(0.00015969066794293275),\n",
       "  np.float64(0.00015969066794361474)],\n",
       " [np.float64(0.0),\n",
       "  np.float64(0.0001752486849393846),\n",
       "  np.float64(0.0001752486849393846)],\n",
       " [np.float64(0.0),\n",
       "  np.float64(3.9252195953358015e-05),\n",
       "  np.float64(3.925219595360205e-05)],\n",
       " [np.float64(0.0),\n",
       "  np.float64(2.03240886442132e-05),\n",
       "  np.float64(2.0324088644416484e-05)],\n",
       " [np.float64(0.0),\n",
       "  np.float64(2.216468153724547e-05),\n",
       "  np.float64(2.216468153724547e-05)],\n",
       " [np.float64(0.0),\n",
       "  np.float64(0.00023279442149012517),\n",
       "  np.float64(0.0002327944214911708)],\n",
       " [np.float64(0.0),\n",
       "  np.float64(7.5645522078375965e-06),\n",
       "  np.float64(7.5645522078375965e-06)],\n",
       " [np.float64(0.0),\n",
       "  np.float64(8.629037286613509e-05),\n",
       "  np.float64(8.62903728664577e-05)],\n",
       " [np.float64(0.0),\n",
       "  np.float64(1.3807160340743167e-05),\n",
       "  np.float64(1.3807160340995586e-05)],\n",
       " [np.float64(0.0),\n",
       "  np.float64(4.938572230921455e-05),\n",
       "  np.float64(4.9385722309508045e-05)],\n",
       " [np.float64(0.0),\n",
       "  np.float64(1.414618927592007e-05),\n",
       "  np.float64(1.414618927592007e-05)],\n",
       " [np.float64(0.0),\n",
       "  np.float64(0.0002181089997093763),\n",
       "  np.float64(0.0002181089997093763)],\n",
       " [np.float64(0.0),\n",
       "  np.float64(0.00037181811930039134),\n",
       "  np.float64(0.00037181811930119875)],\n",
       " [np.float64(0.0),\n",
       "  np.float64(0.0003867851357036451),\n",
       "  np.float64(0.00038678513570454743)],\n",
       " [np.float64(0.0),\n",
       "  np.float64(0.0002088321689609699),\n",
       "  np.float64(0.00020883216896167378)],\n",
       " [np.float64(0.0),\n",
       "  np.float64(9.366240056033193e-05),\n",
       "  np.float64(9.366240056033326e-05)],\n",
       " [np.float64(0.0),\n",
       "  np.float64(4.4691155319933235e-05),\n",
       "  np.float64(4.4691155319933235e-05)],\n",
       " [np.float64(0.0),\n",
       "  np.float64(2.9849288324153217e-05),\n",
       "  np.float64(2.9849288324153217e-05)],\n",
       " [np.float64(0.0),\n",
       "  np.float64(1.926095326012926e-05),\n",
       "  np.float64(1.9260953260331377e-05)],\n",
       " [np.float64(0.0),\n",
       "  np.float64(1.9001768199587987e-05),\n",
       "  np.float64(1.900176820011709e-05)],\n",
       " [np.float64(0.0),\n",
       "  np.float64(5.719291064047912e-05),\n",
       "  np.float64(5.719291064058918e-05)],\n",
       " [np.float64(0.0),\n",
       "  np.float64(0.00020026640247128893),\n",
       "  np.float64(0.0002002664024721655)],\n",
       " [np.float64(0.0),\n",
       "  np.float64(2.679623674254982e-05),\n",
       "  np.float64(2.679623674254982e-05)],\n",
       " [np.float64(0.0),\n",
       "  np.float64(0.00026295219986190925),\n",
       "  np.float64(0.0002629521998620549)],\n",
       " [np.float64(0.0),\n",
       "  np.float64(0.00014764914516821842),\n",
       "  np.float64(0.00014764914516839878)],\n",
       " [np.float64(0.0),\n",
       "  np.float64(0.0001725569351030073),\n",
       "  np.float64(0.0001725569351030073)],\n",
       " [np.float64(0.0),\n",
       "  np.float64(6.961471631167484e-05),\n",
       "  np.float64(6.961471631167484e-05)],\n",
       " [np.float64(0.0),\n",
       "  np.float64(0.00018558771300634992),\n",
       "  np.float64(0.00018558771300634992)],\n",
       " [np.float64(0.0),\n",
       "  np.float64(0.00011401569976217232),\n",
       "  np.float64(0.00011401569976216199)],\n",
       " [np.float64(0.0),\n",
       "  np.float64(1.6678120477487587e-05),\n",
       "  np.float64(1.6678120477571504e-05)],\n",
       " [np.float64(0.0),\n",
       "  np.float64(1.8217410525971312e-05),\n",
       "  np.float64(1.8217410525971312e-05)],\n",
       " [np.float64(0.0),\n",
       "  np.float64(0.0002194670796959524),\n",
       "  np.float64(0.00021946707969595065)],\n",
       " [np.float64(0.0),\n",
       "  np.float64(2.3329451428808265e-05),\n",
       "  np.float64(2.3329451428808265e-05)],\n",
       " [np.float64(0.0),\n",
       "  np.float64(0.00014513926744943689),\n",
       "  np.float64(0.0001451392674488546)],\n",
       " [np.float64(0.0),\n",
       "  np.float64(1.5093679640108563e-05),\n",
       "  np.float64(1.5093679640222159e-05)],\n",
       " [np.float64(0.0),\n",
       "  np.float64(6.891134119376186e-05),\n",
       "  np.float64(6.891134119376186e-05)],\n",
       " [np.float64(0.0),\n",
       "  np.float64(8.159655544720953e-05),\n",
       "  np.float64(8.159655544726831e-05)],\n",
       " [np.float64(0.0),\n",
       "  np.float64(6.295530372486234e-05),\n",
       "  np.float64(6.295530372496389e-05)],\n",
       " [np.float64(0.0),\n",
       "  np.float64(0.0002070074017717895),\n",
       "  np.float64(0.0002070074017717895)],\n",
       " [np.float64(0.0),\n",
       "  np.float64(4.346251807993071e-05),\n",
       "  np.float64(4.346251807993071e-05)],\n",
       " [np.float64(0.0),\n",
       "  np.float64(0.00020791550891414748),\n",
       "  np.float64(0.00020791550891448591)],\n",
       " [np.float64(0.0),\n",
       "  np.float64(8.939585989868128e-05),\n",
       "  np.float64(8.939585989904878e-05)],\n",
       " [np.float64(0.0),\n",
       "  np.float64(1.4506785627641164e-06),\n",
       "  np.float64(1.4506785627641164e-06)],\n",
       " [np.float64(0.0),\n",
       "  np.float64(7.86583111329866e-05),\n",
       "  np.float64(7.86583111329866e-05)],\n",
       " [np.float64(0.0),\n",
       "  np.float64(0.00011439237145784215),\n",
       "  np.float64(0.00011439237145858841)],\n",
       " [np.float64(0.0),\n",
       "  np.float64(0.000375503177080334),\n",
       "  np.float64(0.0003755031770810255)],\n",
       " [np.float64(0.0),\n",
       "  np.float64(8.736397317700774e-05),\n",
       "  np.float64(8.736397317700774e-05)],\n",
       " [np.float64(0.0),\n",
       "  np.float64(3.478415787403864e-05),\n",
       "  np.float64(3.4784157874412305e-05)],\n",
       " [np.float64(0.0),\n",
       "  np.float64(1.8183602835687617e-05),\n",
       "  np.float64(1.8183602835150605e-05)],\n",
       " [np.float64(0.0),\n",
       "  np.float64(1.7452753931032783e-05),\n",
       "  np.float64(1.7452753931413565e-05)],\n",
       " [np.float64(0.0),\n",
       "  np.float64(0.00024093109709626178),\n",
       "  np.float64(0.00024093109709626178)],\n",
       " [np.float64(0.0),\n",
       "  np.float64(7.652472780682162e-05),\n",
       "  np.float64(7.6524727807492e-05)],\n",
       " [np.float64(0.0),\n",
       "  np.float64(1.775431955290593e-05),\n",
       "  np.float64(1.775431955376759e-05)],\n",
       " [np.float64(0.0),\n",
       "  np.float64(9.763249548065248e-05),\n",
       "  np.float64(9.763249548065248e-05)],\n",
       " [np.float64(0.0),\n",
       "  np.float64(2.0636121187737664e-05),\n",
       "  np.float64(2.0636121187737664e-05)],\n",
       " [np.float64(0.0),\n",
       "  np.float64(0.00019123592392515727),\n",
       "  np.float64(0.00019123592392516234)],\n",
       " [np.float64(0.0),\n",
       "  np.float64(6.24138133929916e-06),\n",
       "  np.float64(6.24138133929916e-06)],\n",
       " [np.float64(0.0),\n",
       "  np.float64(1.366867451261612e-05),\n",
       "  np.float64(1.3668674513568799e-05)],\n",
       " [np.float64(0.0),\n",
       "  np.float64(7.01641655097216e-05),\n",
       "  np.float64(7.01641655097216e-05)],\n",
       " [np.float64(0.0),\n",
       "  np.float64(7.021561044677022e-05),\n",
       "  np.float64(7.021561044677022e-05)],\n",
       " [np.float64(0.0),\n",
       "  np.float64(7.470069477290345e-05),\n",
       "  np.float64(7.470069477307426e-05)],\n",
       " [np.float64(0.0),\n",
       "  np.float64(8.615450325234141e-05),\n",
       "  np.float64(8.615450325256526e-05)],\n",
       " [np.float64(0.0),\n",
       "  np.float64(3.096858590902006e-05),\n",
       "  np.float64(3.096858590902006e-05)],\n",
       " [np.float64(0.0),\n",
       "  np.float64(0.0002464524270794688),\n",
       "  np.float64(0.0002464524270801512)],\n",
       " [np.float64(0.0),\n",
       "  np.float64(0.00018488191655237438),\n",
       "  np.float64(0.00018488191655237438)],\n",
       " [np.float64(0.0),\n",
       "  np.float64(1.919208453213707e-05),\n",
       "  np.float64(1.919208453219291e-05)],\n",
       " [np.float64(0.0),\n",
       "  np.float64(4.142294532796384e-05),\n",
       "  np.float64(4.142294532748585e-05)],\n",
       " [np.float64(0.0),\n",
       "  np.float64(9.505008199228526e-06),\n",
       "  np.float64(9.505008199228526e-06)],\n",
       " [np.float64(0.0),\n",
       "  np.float64(4.2254324431837283e-05),\n",
       "  np.float64(4.2254324431332364e-05)],\n",
       " [np.float64(0.0),\n",
       "  np.float64(5.3499571719486414e-05),\n",
       "  np.float64(5.3499571720009175e-05)],\n",
       " [np.float64(0.0),\n",
       "  np.float64(0.00014737015378947233),\n",
       "  np.float64(0.00014737015378946905)],\n",
       " [np.float64(0.0),\n",
       "  np.float64(2.0577360913579065e-05),\n",
       "  np.float64(2.0577360913579065e-05)],\n",
       " [np.float64(0.0),\n",
       "  np.float64(0.00020410903783561342),\n",
       "  np.float64(0.00020410903783615986)],\n",
       " [np.float64(0.0),\n",
       "  np.float64(1.701671144654254e-05),\n",
       "  np.float64(1.701671144654254e-05)],\n",
       " [np.float64(0.0),\n",
       "  np.float64(2.123759651187972e-05),\n",
       "  np.float64(2.1237596512397667e-05)],\n",
       " [np.float64(0.0),\n",
       "  np.float64(2.14518698905263e-05),\n",
       "  np.float64(2.145186989030172e-05)],\n",
       " [np.float64(0.0),\n",
       "  np.float64(1.6846026082230892e-05),\n",
       "  np.float64(1.684602608227581e-05)],\n",
       " [np.float64(0.0),\n",
       "  np.float64(0.00010993792297152561),\n",
       "  np.float64(0.00010993792297152561)],\n",
       " [np.float64(0.0),\n",
       "  np.float64(2.0799284719569507e-05),\n",
       "  np.float64(2.0799284719569507e-05)],\n",
       " [np.float64(0.0),\n",
       "  np.float64(4.9824971271858144e-05),\n",
       "  np.float64(4.982497127199104e-05)],\n",
       " [np.float64(0.0),\n",
       "  np.float64(0.00023922401510428285),\n",
       "  np.float64(0.00023922401510438683)],\n",
       " [np.float64(0.0),\n",
       "  np.float64(1.8677671820191998e-05),\n",
       "  np.float64(1.867767182043975e-05)],\n",
       " [np.float64(0.0),\n",
       "  np.float64(0.00010080826700115061),\n",
       "  np.float64(0.00010080826700142554)],\n",
       " [np.float64(0.0),\n",
       "  np.float64(0.00013670796287490694),\n",
       "  np.float64(0.00013670796287490694)],\n",
       " [np.float64(0.0),\n",
       "  np.float64(0.00015816895873882426),\n",
       "  np.float64(0.00015816895873882426)],\n",
       " [np.float64(0.0),\n",
       "  np.float64(9.571490732940857e-05),\n",
       "  np.float64(9.571490732950883e-05)],\n",
       " [np.float64(0.0),\n",
       "  np.float64(5.8572485101846457e-05),\n",
       "  np.float64(5.8572485101846457e-05)],\n",
       " [np.float64(0.0),\n",
       "  np.float64(0.000255852221294261),\n",
       "  np.float64(0.000255852221294261)],\n",
       " [np.float64(0.0),\n",
       "  np.float64(0.00012416441319360635),\n",
       "  np.float64(0.00012416441319360635)],\n",
       " [np.float64(0.0),\n",
       "  np.float64(0.0002438826197636423),\n",
       "  np.float64(0.0002438826197636351)],\n",
       " [np.float64(0.0),\n",
       "  np.float64(1.8806192627532813e-05),\n",
       "  np.float64(1.8806192627532813e-05)],\n",
       " [np.float64(0.0),\n",
       "  np.float64(0.0001834803586577099),\n",
       "  np.float64(0.0001834803586587862)],\n",
       " [np.float64(0.0),\n",
       "  np.float64(2.1063973117933342e-05),\n",
       "  np.float64(2.106397311804255e-05)],\n",
       " [np.float64(0.0),\n",
       "  np.float64(2.7977478019783384e-05),\n",
       "  np.float64(2.7977478019931418e-05)],\n",
       " [np.float64(0.0),\n",
       "  np.float64(0.0002925911867071593),\n",
       "  np.float64(0.0002925911867071593)],\n",
       " [np.float64(0.0),\n",
       "  np.float64(0.000197194682152109),\n",
       "  np.float64(0.000197194682152109)],\n",
       " [np.float64(0.0),\n",
       "  np.float64(8.626131677621483e-05),\n",
       "  np.float64(8.626131677621483e-05)],\n",
       " [np.float64(0.0),\n",
       "  np.float64(0.00024211390608170654),\n",
       "  np.float64(0.00024211390608178294)],\n",
       " [np.float64(0.0),\n",
       "  np.float64(1.8078575088969696e-05),\n",
       "  np.float64(1.8078575090027603e-05)],\n",
       " [np.float64(0.0),\n",
       "  np.float64(0.00017294045726075897),\n",
       "  np.float64(0.00017294045726075458)],\n",
       " [np.float64(0.0),\n",
       "  np.float64(4.7257212353069175e-05),\n",
       "  np.float64(4.7257212353069175e-05)],\n",
       " [np.float64(0.0),\n",
       "  np.float64(0.00010142759321502714),\n",
       "  np.float64(0.00010142759321550833)],\n",
       " [np.float64(0.0),\n",
       "  np.float64(0.00011065435122487074),\n",
       "  np.float64(0.00011065435122496104)],\n",
       " [np.float64(0.0),\n",
       "  np.float64(7.497506644909161e-05),\n",
       "  np.float64(7.497506644923668e-05)],\n",
       " [np.float64(0.0),\n",
       "  np.float64(2.525708988566267e-05),\n",
       "  np.float64(2.5257089885902858e-05)],\n",
       " [np.float64(0.0),\n",
       "  np.float64(0.0003311193556647339),\n",
       "  np.float64(0.00033111935566544826)],\n",
       " [np.float64(0.0),\n",
       "  np.float64(2.472015153343623e-05),\n",
       "  np.float64(2.472015153343623e-05)],\n",
       " [np.float64(0.0),\n",
       "  np.float64(2.3947261291374943e-05),\n",
       "  np.float64(2.394726129187824e-05)],\n",
       " [np.float64(0.0),\n",
       "  np.float64(0.00023140953277612413),\n",
       "  np.float64(0.00023140953277612413)],\n",
       " [np.float64(0.0),\n",
       "  np.float64(0.0001859819371214409),\n",
       "  np.float64(0.0001859819371214409)],\n",
       " [np.float64(0.0),\n",
       "  np.float64(8.068960954855092e-05),\n",
       "  np.float64(8.068960954902944e-05)],\n",
       " [np.float64(0.0),\n",
       "  np.float64(0.0006144865108906725),\n",
       "  np.float64(0.0006144865108908476)],\n",
       " [np.float64(0.0),\n",
       "  np.float64(6.324805950884437e-05),\n",
       "  np.float64(6.324805950908378e-05)],\n",
       " [np.float64(0.0),\n",
       "  np.float64(6.144784771522302e-05),\n",
       "  np.float64(6.144784771522302e-05)],\n",
       " [np.float64(0.0),\n",
       "  np.float64(0.0006786309225256526),\n",
       "  np.float64(0.0006786309225256715)],\n",
       " [np.float64(0.0),\n",
       "  np.float64(2.4566841527407533e-05),\n",
       "  np.float64(2.4566841527407533e-05)],\n",
       " [np.float64(0.0),\n",
       "  np.float64(9.93815939397868e-05),\n",
       "  np.float64(9.93815939399361e-05)],\n",
       " [np.float64(0.0),\n",
       "  np.float64(5.976740092686455e-05),\n",
       "  np.float64(5.976740092719759e-05)],\n",
       " [np.float64(0.0),\n",
       "  np.float64(1.7615552164790988e-05),\n",
       "  np.float64(1.7615552164814742e-05)],\n",
       " [np.float64(0.0),\n",
       "  np.float64(0.00025516030117644185),\n",
       "  np.float64(0.00025516030117644185)],\n",
       " [np.float64(0.0),\n",
       "  np.float64(4.2924615830923946e-05),\n",
       "  np.float64(4.292461583103847e-05)],\n",
       " [np.float64(0.0),\n",
       "  np.float64(0.0001149156023495877),\n",
       "  np.float64(0.00011491560234960216)],\n",
       " [np.float64(0.0),\n",
       "  np.float64(1.4736827283772468e-05),\n",
       "  np.float64(1.4736827283772468e-05)],\n",
       " [np.float64(0.0),\n",
       "  np.float64(0.00014981139633972722),\n",
       "  np.float64(0.00014981139633972722)],\n",
       " [np.float64(0.0),\n",
       "  np.float64(6.805530508540076e-05),\n",
       "  np.float64(6.805530508540076e-05)],\n",
       " [np.float64(0.0),\n",
       "  np.float64(2.794617432406352e-05),\n",
       "  np.float64(2.79461743228922e-05)],\n",
       " [np.float64(0.0),\n",
       "  np.float64(9.312268039883856e-05),\n",
       "  np.float64(9.31226803949853e-05)],\n",
       " [np.float64(0.0),\n",
       "  np.float64(3.261464138769514e-05),\n",
       "  np.float64(3.261464138769514e-05)],\n",
       " [np.float64(0.0),\n",
       "  np.float64(3.6961359958117696e-07),\n",
       "  np.float64(3.6961359958117696e-07)],\n",
       " [np.float64(0.0),\n",
       "  np.float64(0.00022583491940170687),\n",
       "  np.float64(0.0002258349194022186)],\n",
       " [np.float64(0.0),\n",
       "  np.float64(2.1057793251923304e-05),\n",
       "  np.float64(2.105779325250713e-05)],\n",
       " [np.float64(0.0),\n",
       "  np.float64(5.759071175575594e-05),\n",
       "  np.float64(5.759071175575594e-05)],\n",
       " [np.float64(0.0),\n",
       "  np.float64(0.00016567044758926654),\n",
       "  np.float64(0.00016567044759024298)],\n",
       " [np.float64(0.0),\n",
       "  np.float64(4.24112252121716e-05),\n",
       "  np.float64(4.241122521163536e-05)],\n",
       " [np.float64(0.0),\n",
       "  np.float64(8.740763423660915e-05),\n",
       "  np.float64(8.740763423660915e-05)],\n",
       " [np.float64(0.0),\n",
       "  np.float64(8.033008793468902e-05),\n",
       "  np.float64(8.033008793468902e-05)],\n",
       " [np.float64(0.0),\n",
       "  np.float64(2.537210739120151e-05),\n",
       "  np.float64(2.537210739120151e-05)],\n",
       " [np.float64(0.0),\n",
       "  np.float64(2.1817328710328486e-05),\n",
       "  np.float64(2.181732871130989e-05)],\n",
       " [np.float64(0.0),\n",
       "  np.float64(0.00015351263497531285),\n",
       "  np.float64(0.0001535126349763758)],\n",
       " [np.float64(0.0),\n",
       "  np.float64(0.0002856253964346463),\n",
       "  np.float64(0.0002856253964346721)],\n",
       " [np.float64(0.0),\n",
       "  np.float64(0.00016312935361573452),\n",
       "  np.float64(0.00016312935361738193)],\n",
       " [np.float64(0.0),\n",
       "  np.float64(0.00010279285394913707),\n",
       "  np.float64(0.00010279285394932748)],\n",
       " [np.float64(0.0),\n",
       "  np.float64(4.0402334318857344e-05),\n",
       "  np.float64(4.040233431878606e-05)],\n",
       " [np.float64(0.0),\n",
       "  np.float64(0.0001979175127150538),\n",
       "  np.float64(0.00019791751271541638)],\n",
       " [np.float64(0.0),\n",
       "  np.float64(1.7224888938621263e-06),\n",
       "  np.float64(1.7224888938621263e-06)],\n",
       " [np.float64(0.0),\n",
       "  np.float64(1.700393027059793e-05),\n",
       "  np.float64(1.7003930270626e-05)],\n",
       " [np.float64(0.0),\n",
       "  np.float64(0.0002764784429829905),\n",
       "  np.float64(0.0002764784429829905)],\n",
       " [np.float64(0.0),\n",
       "  np.float64(0.0001819437602046058),\n",
       "  np.float64(0.0001819437602046058)],\n",
       " [np.float64(0.0),\n",
       "  np.float64(0.000660878968867984),\n",
       "  np.float64(0.000660878968867984)],\n",
       " [np.float64(0.0),\n",
       "  np.float64(3.0233727750146468e-05),\n",
       "  np.float64(3.023372775063658e-05)],\n",
       " [np.float64(0.0),\n",
       "  np.float64(0.00019109301408764146),\n",
       "  np.float64(0.00019109301408764146)],\n",
       " [np.float64(0.0),\n",
       "  np.float64(3.2974844839201784e-05),\n",
       "  np.float64(3.297484484014036e-05)],\n",
       " [np.float64(0.0),\n",
       "  np.float64(2.1345137685694984e-06),\n",
       "  np.float64(2.1345137685694984e-06)],\n",
       " [np.float64(0.0),\n",
       "  np.float64(2.1979659556952505e-05),\n",
       "  np.float64(2.1979659557705334e-05)],\n",
       " [np.float64(0.0),\n",
       "  np.float64(2.01022178477824e-05),\n",
       "  np.float64(2.0102217847826727e-05)],\n",
       " [np.float64(0.0),\n",
       "  np.float64(0.0002682471101637613),\n",
       "  np.float64(0.0002682471101637613)],\n",
       " [np.float64(0.0),\n",
       "  np.float64(1.2097926244095037e-05),\n",
       "  np.float64(1.2097926244095037e-05)],\n",
       " [np.float64(0.0),\n",
       "  np.float64(0.0001379379361363779),\n",
       "  np.float64(0.0001379379361368287)],\n",
       " [np.float64(0.0),\n",
       "  np.float64(2.1222888439146468e-05),\n",
       "  np.float64(2.1222888439146468e-05)],\n",
       " [np.float64(0.0),\n",
       "  np.float64(2.1977970359425268e-05),\n",
       "  np.float64(2.1977970359712927e-05)],\n",
       " [np.float64(0.0),\n",
       "  np.float64(5.7193428582642994e-05),\n",
       "  np.float64(5.7193428583158545e-05)],\n",
       " [np.float64(0.0),\n",
       "  np.float64(2.9143819689719277e-05),\n",
       "  np.float64(2.9143819689719277e-05)],\n",
       " [np.float64(0.0),\n",
       "  np.float64(0.00014862436053368055),\n",
       "  np.float64(0.00014862436053367006)],\n",
       " [np.float64(0.0),\n",
       "  np.float64(0.00026561485757776765),\n",
       "  np.float64(0.00026561485757776765)],\n",
       " [np.float64(0.0),\n",
       "  np.float64(2.333083600923447e-05),\n",
       "  np.float64(2.333083600923447e-05)],\n",
       " [np.float64(0.0),\n",
       "  np.float64(9.522609773896344e-06),\n",
       "  np.float64(9.522609773896344e-06)],\n",
       " [np.float64(0.0),\n",
       "  np.float64(2.9452560252380375e-06),\n",
       "  np.float64(2.9452560252380375e-06)],\n",
       " [np.float64(0.0),\n",
       "  np.float64(6.091933182352847e-05),\n",
       "  np.float64(6.091933182352847e-05)],\n",
       " [np.float64(0.0),\n",
       "  np.float64(1.2611604666771877e-05),\n",
       "  np.float64(1.2611604666867124e-05)],\n",
       " [np.float64(0.0),\n",
       "  np.float64(0.00022125250553331767),\n",
       "  np.float64(0.00022125250553374436)],\n",
       " [np.float64(0.0),\n",
       "  np.float64(4.610109152479033e-05),\n",
       "  np.float64(4.610109152412273e-05)],\n",
       " [np.float64(0.0),\n",
       "  np.float64(2.7436022986788193e-05),\n",
       "  np.float64(2.743602298694704e-05)],\n",
       " [np.float64(0.0),\n",
       "  np.float64(0.00012479418474310892),\n",
       "  np.float64(0.0001247941847431671)],\n",
       " [np.float64(0.0),\n",
       "  np.float64(2.5003986873515427e-05),\n",
       "  np.float64(2.5003986873515427e-05)],\n",
       " [np.float64(0.0),\n",
       "  np.float64(0.00012719246750965107),\n",
       "  np.float64(0.00012719246751068708)],\n",
       " [np.float64(0.0),\n",
       "  np.float64(3.9590202445936356e-05),\n",
       "  np.float64(3.9590202445933077e-05)],\n",
       " [np.float64(0.0),\n",
       "  np.float64(0.0002234192243918758),\n",
       "  np.float64(0.00022341922439183973)],\n",
       " [np.float64(0.0),\n",
       "  np.float64(9.80056353552777e-05),\n",
       "  np.float64(9.800563535568575e-05)],\n",
       " [np.float64(0.0),\n",
       "  np.float64(9.58369391804258e-05),\n",
       "  np.float64(9.583693918050775e-05)],\n",
       " [np.float64(0.0),\n",
       "  np.float64(0.00022767087520640062),\n",
       "  np.float64(0.00022767087520640636)],\n",
       " [np.float64(0.0),\n",
       "  np.float64(1.7553879836947625e-05),\n",
       "  np.float64(1.7553879836937145e-05)],\n",
       " [np.float64(0.0),\n",
       "  np.float64(0.0002842530453163604),\n",
       "  np.float64(0.00028425304531737154)],\n",
       " [np.float64(0.0),\n",
       "  np.float64(2.9359434886287366e-05),\n",
       "  np.float64(2.9359434886287366e-05)],\n",
       " [np.float64(0.0),\n",
       "  np.float64(0.00015800359920752408),\n",
       "  np.float64(0.00015800359920921524)],\n",
       " [np.float64(0.0),\n",
       "  np.float64(1.2352267462015395e-05),\n",
       "  np.float64(1.2352267461917558e-05)],\n",
       " [np.float64(0.0),\n",
       "  np.float64(0.00018106385475695459),\n",
       "  np.float64(0.00018106385475718544)],\n",
       " [np.float64(0.0),\n",
       "  np.float64(5.853037202352214e-06),\n",
       "  np.float64(5.853037202352214e-06)],\n",
       " [np.float64(0.0),\n",
       "  np.float64(2.583091240335062e-05),\n",
       "  np.float64(2.5830912403532266e-05)],\n",
       " [np.float64(0.0),\n",
       "  np.float64(2.982603903609518e-05),\n",
       "  np.float64(2.982603903633529e-05)],\n",
       " [np.float64(0.0),\n",
       "  np.float64(0.00022985182570772154),\n",
       "  np.float64(0.0002298518257080632)],\n",
       " [np.float64(0.0),\n",
       "  np.float64(9.718581427747893e-05),\n",
       "  np.float64(9.718581427779752e-05)],\n",
       " [np.float64(0.0),\n",
       "  np.float64(1.7654856297397255e-05),\n",
       "  np.float64(1.7654856297397255e-05)],\n",
       " [np.float64(0.0),\n",
       "  np.float64(6.53069292667716e-05),\n",
       "  np.float64(6.530692926698865e-05)],\n",
       " [np.float64(0.0),\n",
       "  np.float64(6.563813237210176e-05),\n",
       "  np.float64(6.563813237210176e-05)],\n",
       " [np.float64(0.0),\n",
       "  np.float64(1.7526084956077903e-05),\n",
       "  np.float64(1.752608495640466e-05)],\n",
       " [np.float64(0.0),\n",
       "  np.float64(0.00012026594345713635),\n",
       "  np.float64(0.00012026594345713635)],\n",
       " [np.float64(0.0),\n",
       "  np.float64(2.807078632364543e-05),\n",
       "  np.float64(2.8070786323776227e-05)],\n",
       " [np.float64(0.0),\n",
       "  np.float64(0.00020543907146622212),\n",
       "  np.float64(0.00020543907146622212)],\n",
       " [np.float64(0.0),\n",
       "  np.float64(1.3704881132676713e-05),\n",
       "  np.float64(1.3704881132560737e-05)],\n",
       " [np.float64(0.0),\n",
       "  np.float64(2.005939177801909e-05),\n",
       "  np.float64(2.0059391778002193e-05)],\n",
       " [np.float64(0.0),\n",
       "  np.float64(8.279021234696793e-06),\n",
       "  np.float64(8.279021234696793e-06)],\n",
       " [np.float64(0.0),\n",
       "  np.float64(0.00015702106929773598),\n",
       "  np.float64(0.00015702106929773598)],\n",
       " [np.float64(0.0),\n",
       "  np.float64(0.0001178401819242941),\n",
       "  np.float64(0.00011784018192444499)],\n",
       " [np.float64(0.0),\n",
       "  np.float64(0.00015251441638032594),\n",
       "  np.float64(0.00015251441638032594)],\n",
       " [np.float64(0.0),\n",
       "  np.float64(0.00012003109681879937),\n",
       "  np.float64(0.00012003109681879937)],\n",
       " [np.float64(0.0),\n",
       "  np.float64(2.4273691141166724e-05),\n",
       "  np.float64(2.427369114155104e-05)],\n",
       " [np.float64(0.0),\n",
       "  np.float64(2.5609624150267435e-05),\n",
       "  np.float64(2.5609624150267435e-05)],\n",
       " [np.float64(0.0),\n",
       "  np.float64(0.00017118398503301562),\n",
       "  np.float64(0.00017118398503302427)],\n",
       " [np.float64(0.0),\n",
       "  np.float64(0.00011260893464666696),\n",
       "  np.float64(0.00011260893464666696)],\n",
       " [np.float64(0.0),\n",
       "  np.float64(3.127984690498819e-05),\n",
       "  np.float64(3.127984690498819e-05)],\n",
       " [np.float64(0.0),\n",
       "  np.float64(4.220045482243275e-05),\n",
       "  np.float64(4.220045482191875e-05)],\n",
       " [np.float64(0.0),\n",
       "  np.float64(0.00014630618824012977),\n",
       "  np.float64(0.00014630618824012977)],\n",
       " [np.float64(0.0),\n",
       "  np.float64(2.8269727586755818e-05),\n",
       "  np.float64(2.8269727585986936e-05)],\n",
       " [np.float64(0.0),\n",
       "  np.float64(0.00011858951896026061),\n",
       "  np.float64(0.00011858951896101675)],\n",
       " [np.float64(0.0),\n",
       "  np.float64(1.7428790994723527e-05),\n",
       "  np.float64(1.7428790994775227e-05)],\n",
       " [np.float64(0.0),\n",
       "  np.float64(6.047964408678637e-05),\n",
       "  np.float64(6.047964408724707e-05)],\n",
       " [np.float64(0.0),\n",
       "  np.float64(0.00038363193487041383),\n",
       "  np.float64(0.00038363193487082317)],\n",
       " [np.float64(0.0),\n",
       "  np.float64(0.00020148432146974607),\n",
       "  np.float64(0.0002014843214698431)],\n",
       " [np.float64(0.0),\n",
       "  np.float64(4.947664259403491e-05),\n",
       "  np.float64(4.9476642594199353e-05)],\n",
       " [np.float64(0.0),\n",
       "  np.float64(7.789853294393638e-05),\n",
       "  np.float64(7.789853294421051e-05)],\n",
       " [np.float64(0.0),\n",
       "  np.float64(9.396070320573273e-05),\n",
       "  np.float64(9.396070320573273e-05)],\n",
       " [np.float64(0.0),\n",
       "  np.float64(0.0002260070511118706),\n",
       "  np.float64(0.0002260070511118706)],\n",
       " [np.float64(0.0),\n",
       "  np.float64(0.00020490921526271155),\n",
       "  np.float64(0.00020490921526271155)],\n",
       " [np.float64(0.0),\n",
       "  np.float64(0.00011955400258497072),\n",
       "  np.float64(0.00011955400258497072)],\n",
       " [np.float64(0.0),\n",
       "  np.float64(2.0521953162753246e-05),\n",
       "  np.float64(2.0521953162753246e-05)],\n",
       " [np.float64(0.0),\n",
       "  np.float64(1.1468414987712797e-05),\n",
       "  np.float64(1.1468414989158733e-05)],\n",
       " [np.float64(0.0),\n",
       "  np.float64(0.000210183283566733),\n",
       "  np.float64(0.00021018328356677023)],\n",
       " [np.float64(0.0),\n",
       "  np.float64(2.1511154969240332e-05),\n",
       "  np.float64(2.1511154969240332e-05)],\n",
       " [np.float64(0.0),\n",
       "  np.float64(7.93302915611229e-05),\n",
       "  np.float64(7.93302915614402e-05)],\n",
       " [np.float64(0.0),\n",
       "  np.float64(0.0002194011434887293),\n",
       "  np.float64(0.0002194011434886438)],\n",
       " [np.float64(0.0),\n",
       "  np.float64(9.064440009435433e-05),\n",
       "  np.float64(9.064440009473727e-05)],\n",
       " [np.float64(0.0),\n",
       "  np.float64(1.988024326903107e-05),\n",
       "  np.float64(1.9880243268762464e-05)],\n",
       " [np.float64(0.0),\n",
       "  np.float64(0.00016300346445303506),\n",
       "  np.float64(0.0001630034644535901)],\n",
       " [np.float64(0.0),\n",
       "  np.float64(0.00024424412559513045),\n",
       "  np.float64(0.0002442441255953868)],\n",
       " [np.float64(0.0),\n",
       "  np.float64(5.764521389031269e-05),\n",
       "  np.float64(5.764521389031269e-05)],\n",
       " [np.float64(0.0),\n",
       "  np.float64(0.0003114179265250248),\n",
       "  np.float64(0.00031141792652561776)],\n",
       " [np.float64(0.0),\n",
       "  np.float64(0.00011183086970482513),\n",
       "  np.float64(0.00011183086970482268)],\n",
       " [np.float64(0.0),\n",
       "  np.float64(4.139568485870714e-05),\n",
       "  np.float64(4.1395684858697245e-05)],\n",
       " [np.float64(0.0),\n",
       "  np.float64(0.00015473647962206745),\n",
       "  np.float64(0.00015473647962247579)],\n",
       " [np.float64(0.0),\n",
       "  np.float64(0.001440176027155496),\n",
       "  np.float64(0.0014401760271558783)],\n",
       " [np.float64(0.0),\n",
       "  np.float64(0.00012418055310053536),\n",
       "  np.float64(0.00012418055310053536)],\n",
       " [np.float64(0.0),\n",
       "  np.float64(0.0002570163648855529),\n",
       "  np.float64(0.0002570163648855613)],\n",
       " [np.float64(0.0),\n",
       "  np.float64(0.0001514855260480551),\n",
       "  np.float64(0.0001514855260480551)],\n",
       " [np.float64(0.0),\n",
       "  np.float64(1.634670298847436e-05),\n",
       "  np.float64(1.634670298847436e-05)],\n",
       " [np.float64(0.0),\n",
       "  np.float64(7.335274493552281e-05),\n",
       "  np.float64(7.335274493550225e-05)],\n",
       " [np.float64(0.0),\n",
       "  np.float64(1.335602148608761e-05),\n",
       "  np.float64(1.3356021486380436e-05)],\n",
       " [np.float64(0.0),\n",
       "  np.float64(7.518324812463063e-05),\n",
       "  np.float64(7.518324812462327e-05)],\n",
       " [np.float64(0.0),\n",
       "  np.float64(4.924850234979973e-05),\n",
       "  np.float64(4.924850234995016e-05)],\n",
       " [np.float64(0.0),\n",
       "  np.float64(0.0012193288035482952),\n",
       "  np.float64(0.001219328803548298)],\n",
       " [np.float64(0.0),\n",
       "  np.float64(0.0007078835038415658),\n",
       "  np.float64(0.0007078835038415713)],\n",
       " [np.float64(0.0),\n",
       "  np.float64(1.2743303984249182e-05),\n",
       "  np.float64(1.274330398419994e-05)],\n",
       " [np.float64(0.0),\n",
       "  np.float64(0.00020727940315961368),\n",
       "  np.float64(0.00020727940316068818)],\n",
       " [np.float64(0.0),\n",
       "  np.float64(2.5654263079476608e-05),\n",
       "  np.float64(2.565426308037783e-05)],\n",
       " [np.float64(0.0),\n",
       "  np.float64(8.068994164654569e-05),\n",
       "  np.float64(8.068994164654569e-05)],\n",
       " [np.float64(0.0),\n",
       "  np.float64(0.0011628514053111097),\n",
       "  np.float64(0.0011628514053111097)],\n",
       " [np.float64(0.0),\n",
       "  np.float64(1.3141065160609432e-05),\n",
       "  np.float64(1.3141065160609432e-05)],\n",
       " [np.float64(0.0),\n",
       "  np.float64(3.0316240042813466e-05),\n",
       "  np.float64(3.0316240042813466e-05)],\n",
       " [np.float64(0.0),\n",
       "  np.float64(2.984561249814401e-05),\n",
       "  np.float64(2.984561249902894e-05)],\n",
       " [np.float64(0.0),\n",
       "  np.float64(0.0010365195475731833),\n",
       "  np.float64(0.0010365195475732227)],\n",
       " [np.float64(0.0),\n",
       "  np.float64(0.0001649780640682287),\n",
       "  np.float64(0.00016497806406891308)],\n",
       " [np.float64(0.0),\n",
       "  np.float64(1.8421064664569186e-05),\n",
       "  np.float64(1.8421064664911692e-05)],\n",
       " [np.float64(0.0),\n",
       "  np.float64(7.525639362260937e-05),\n",
       "  np.float64(7.525639362260937e-05)],\n",
       " [np.float64(0.0),\n",
       "  np.float64(0.00010312835490135045),\n",
       "  np.float64(0.00010312835490135045)],\n",
       " [np.float64(0.0),\n",
       "  np.float64(0.00015565091610633314),\n",
       "  np.float64(0.00015565091610915437)],\n",
       " [np.float64(0.0),\n",
       "  np.float64(6.537081389811681e-05),\n",
       "  np.float64(6.53708138974041e-05)],\n",
       " [np.float64(0.0),\n",
       "  np.float64(0.00010468264025212469),\n",
       "  np.float64(0.00010468264025212469)],\n",
       " [np.float64(0.0),\n",
       "  np.float64(2.279016160177315e-05),\n",
       "  np.float64(2.2790161601456643e-05)],\n",
       " [np.float64(0.0),\n",
       "  np.float64(0.00015245850473202282),\n",
       "  np.float64(0.00015245850473202282)],\n",
       " [np.float64(0.0),\n",
       "  np.float64(0.00010990976073074738),\n",
       "  np.float64(0.00010990976073074738)],\n",
       " [np.float64(0.0),\n",
       "  np.float64(2.3162919969532377e-05),\n",
       "  np.float64(2.316291996969829e-05)],\n",
       " [np.float64(0.0),\n",
       "  np.float64(1.2846850287939149e-05),\n",
       "  np.float64(1.2846850287939149e-05)],\n",
       " [np.float64(0.0),\n",
       "  np.float64(8.537828182104821e-05),\n",
       "  np.float64(8.537828182170572e-05)],\n",
       " [np.float64(0.0),\n",
       "  np.float64(2.7741699001479377e-05),\n",
       "  np.float64(2.774169899991188e-05)],\n",
       " [np.float64(0.0),\n",
       "  np.float64(0.00012869753581699068),\n",
       "  np.float64(0.00012869753581708194)],\n",
       " [np.float64(0.0),\n",
       "  np.float64(0.00016643331622106242),\n",
       "  np.float64(0.00016643331622106242)],\n",
       " [np.float64(0.0),\n",
       "  np.float64(0.00011102786715601933),\n",
       "  np.float64(0.00011102786715627703)],\n",
       " [np.float64(0.0),\n",
       "  np.float64(0.0001338339390963008),\n",
       "  np.float64(0.00013383393909649905)],\n",
       " [np.float64(0.0),\n",
       "  np.float64(0.00019970428211108117),\n",
       "  np.float64(0.00019970428211108117)],\n",
       " [np.float64(0.0),\n",
       "  np.float64(7.719151956486085e-05),\n",
       "  np.float64(7.719151956436434e-05)],\n",
       " [np.float64(0.0),\n",
       "  np.float64(5.457874022330563e-05),\n",
       "  np.float64(5.457874022342074e-05)],\n",
       " [np.float64(0.0),\n",
       "  np.float64(2.5716907826617847e-05),\n",
       "  np.float64(2.5716907826617847e-05)],\n",
       " [np.float64(0.0),\n",
       "  np.float64(1.876977662036772e-05),\n",
       "  np.float64(1.8769776620585535e-05)],\n",
       " [np.float64(0.0),\n",
       "  np.float64(9.755547163783526e-06),\n",
       "  np.float64(9.755547164414437e-06)],\n",
       " [np.float64(0.0),\n",
       "  np.float64(2.133717672014272e-05),\n",
       "  np.float64(2.1337176720196896e-05)],\n",
       " [np.float64(0.0),\n",
       "  np.float64(2.241406462969522e-05),\n",
       "  np.float64(2.241406462969522e-05)],\n",
       " [np.float64(0.0),\n",
       "  np.float64(0.00011906613334364404),\n",
       "  np.float64(0.00011906613334369871)],\n",
       " [np.float64(0.0),\n",
       "  np.float64(1.7713541738165108e-05),\n",
       "  np.float64(1.7713541738165108e-05)],\n",
       " [np.float64(0.0),\n",
       "  np.float64(0.00021082026890269448),\n",
       "  np.float64(0.0002108202689029785)],\n",
       " [np.float64(0.0),\n",
       "  np.float64(0.0004333145365437943),\n",
       "  np.float64(0.0004333145365437943)],\n",
       " [np.float64(0.0),\n",
       "  np.float64(1.051768554992755e-05),\n",
       "  np.float64(1.051768554992755e-05)],\n",
       " [np.float64(0.0),\n",
       "  np.float64(6.786792378004547e-05),\n",
       "  np.float64(6.786792378004547e-05)],\n",
       " [np.float64(0.0),\n",
       "  np.float64(2.9357478592152332e-05),\n",
       "  np.float64(2.9357478592152332e-05)],\n",
       " [np.float64(0.0),\n",
       "  np.float64(0.00013149680504133743),\n",
       "  np.float64(0.00013149680504133743)],\n",
       " [np.float64(0.0),\n",
       "  np.float64(0.00012923518287419073),\n",
       "  np.float64(0.00012923518287440697)],\n",
       " [np.float64(0.0),\n",
       "  np.float64(0.00019338984704496482),\n",
       "  np.float64(0.00019338984704496482)],\n",
       " [np.float64(0.0),\n",
       "  np.float64(0.0001607349568125392),\n",
       "  np.float64(0.0001607349568126966)],\n",
       " [np.float64(0.0),\n",
       "  np.float64(3.244665684267878e-05),\n",
       "  np.float64(3.244665684267878e-05)],\n",
       " [np.float64(0.0),\n",
       "  np.float64(9.958934848537581e-05),\n",
       "  np.float64(9.958934848558983e-05)],\n",
       " [np.float64(0.0),\n",
       "  np.float64(1.7579499748190654e-05),\n",
       "  np.float64(1.7579499748730292e-05)],\n",
       " [np.float64(0.0),\n",
       "  np.float64(8.743590523050422e-05),\n",
       "  np.float64(8.7435905230709e-05)],\n",
       " [np.float64(0.0),\n",
       "  np.float64(7.28485520222332e-05),\n",
       "  np.float64(7.284855202283226e-05)],\n",
       " [np.float64(0.0),\n",
       "  np.float64(0.0001480932941275394),\n",
       "  np.float64(0.0001480932941285744)],\n",
       " [np.float64(0.0),\n",
       "  np.float64(0.0002243426668958295),\n",
       "  np.float64(0.0002243426668958295)],\n",
       " [np.float64(0.0),\n",
       "  np.float64(1.9086792139394125e-05),\n",
       "  np.float64(1.9086792139394125e-05)],\n",
       " [np.float64(0.0),\n",
       "  np.float64(0.0002916356815286786),\n",
       "  np.float64(0.00029163568152866407)],\n",
       " [np.float64(0.0),\n",
       "  np.float64(9.792640982951697e-05),\n",
       "  np.float64(9.792640982971538e-05)],\n",
       " [np.float64(0.0),\n",
       "  np.float64(0.00014666113732723286),\n",
       "  np.float64(0.0001466611373273086)],\n",
       " [np.float64(0.0),\n",
       "  np.float64(0.0001171886129206872),\n",
       "  np.float64(0.0001171886129206872)],\n",
       " [np.float64(0.0),\n",
       "  np.float64(0.0002079071226570991),\n",
       "  np.float64(0.00020790712265725297)],\n",
       " [np.float64(0.0),\n",
       "  np.float64(0.00016335250132031042),\n",
       "  np.float64(0.0001633525013211024)],\n",
       " [np.float64(0.0),\n",
       "  np.float64(0.0001381373292050338),\n",
       "  np.float64(0.0001381373292050338)],\n",
       " [np.float64(0.0),\n",
       "  np.float64(0.00014033541258851788),\n",
       "  np.float64(0.00014033541258851788)],\n",
       " [np.float64(0.0),\n",
       "  np.float64(1.8838405660036407e-05),\n",
       "  np.float64(1.8838405660036407e-05)],\n",
       " [np.float64(0.0),\n",
       "  np.float64(1.69580183749892e-05),\n",
       "  np.float64(1.69580183749892e-05)],\n",
       " [np.float64(0.0),\n",
       "  np.float64(5.1680615191465844e-05),\n",
       "  np.float64(5.1680615191465844e-05)],\n",
       " [np.float64(0.0),\n",
       "  np.float64(0.0003176346964515142),\n",
       "  np.float64(0.0003176346964515142)],\n",
       " [np.float64(0.0),\n",
       "  np.float64(3.867654322766107e-05),\n",
       "  np.float64(3.867654322766107e-05)],\n",
       " [np.float64(0.0),\n",
       "  np.float64(1.8201350484253162e-05),\n",
       "  np.float64(1.8201350484253162e-05)],\n",
       " [np.float64(0.0),\n",
       "  np.float64(3.026697665132069e-05),\n",
       "  np.float64(3.0266976651412465e-05)],\n",
       " [np.float64(0.0),\n",
       "  np.float64(0.00013206535085259183),\n",
       "  np.float64(0.00013206535085288437)],\n",
       " [np.float64(0.0),\n",
       "  np.float64(8.666817385616477e-06),\n",
       "  np.float64(8.666817385616477e-06)],\n",
       " [np.float64(0.0),\n",
       "  np.float64(0.00021964006315640584),\n",
       "  np.float64(0.0002196400631571653)],\n",
       " [np.float64(0.0),\n",
       "  np.float64(1.3234830380803981e-05),\n",
       "  np.float64(1.3234830380803468e-05)],\n",
       " [np.float64(0.0),\n",
       "  np.float64(0.00033076865967832146),\n",
       "  np.float64(0.0003307686596783302)],\n",
       " [np.float64(0.0),\n",
       "  np.float64(9.644573696797778e-05),\n",
       "  np.float64(9.64457369679736e-05)],\n",
       " [np.float64(0.0),\n",
       "  np.float64(9.246328175263715e-06),\n",
       "  np.float64(9.246328175305288e-06)],\n",
       " [np.float64(0.0),\n",
       "  np.float64(2.4703248164320325e-05),\n",
       "  np.float64(2.4703248164320325e-05)],\n",
       " [np.float64(0.0),\n",
       "  np.float64(2.7456691013401918e-05),\n",
       "  np.float64(2.7456691013401918e-05)],\n",
       " [np.float64(0.0),\n",
       "  np.float64(3.3419988395484476e-05),\n",
       "  np.float64(3.341998839735887e-05)],\n",
       " [np.float64(0.0),\n",
       "  np.float64(5.5046839220895055e-05),\n",
       "  np.float64(5.5046839222881646e-05)],\n",
       " [np.float64(0.0),\n",
       "  np.float64(0.00011949779052332743),\n",
       "  np.float64(0.00011949779052337278)],\n",
       " [np.float64(0.0),\n",
       "  np.float64(0.0003350573396808906),\n",
       "  np.float64(0.00033505733968136614)],\n",
       " [np.float64(0.0),\n",
       "  np.float64(0.0001903335418559278),\n",
       "  np.float64(0.00019033354185652576)],\n",
       " [np.float64(0.0),\n",
       "  np.float64(1.9935823518850644e-05),\n",
       "  np.float64(1.993582351951904e-05)],\n",
       " [np.float64(0.0),\n",
       "  np.float64(4.522127378753905e-05),\n",
       "  np.float64(4.522127378762442e-05)],\n",
       " [np.float64(0.0),\n",
       "  np.float64(0.00015218386838197352),\n",
       "  np.float64(0.00015218386838197352)],\n",
       " [np.float64(0.0),\n",
       "  np.float64(3.0153013382019625e-05),\n",
       "  np.float64(3.0153013382019625e-05)],\n",
       " [np.float64(0.0),\n",
       "  np.float64(0.00021908624451342842),\n",
       "  np.float64(0.00021908624451355275)],\n",
       " [np.float64(0.0),\n",
       "  np.float64(0.00014326685317338366),\n",
       "  np.float64(0.00014326685317361354)],\n",
       " [np.float64(0.0),\n",
       "  np.float64(0.0001416210511397524),\n",
       "  np.float64(0.00014162105113976262)],\n",
       " [np.float64(0.0),\n",
       "  np.float64(6.568930289850234e-05),\n",
       "  np.float64(6.568930289947384e-05)],\n",
       " [np.float64(0.0),\n",
       "  np.float64(0.00026023492085441093),\n",
       "  np.float64(0.00026023492085426337)],\n",
       " [np.float64(0.0),\n",
       "  np.float64(0.00029211244535466555),\n",
       "  np.float64(0.00029211244535466555)],\n",
       " [np.float64(0.0),\n",
       "  np.float64(9.782756140040127e-05),\n",
       "  np.float64(9.782756140071121e-05)],\n",
       " [np.float64(0.0),\n",
       "  np.float64(1.5321066740828146e-05),\n",
       "  np.float64(1.5321066740828146e-05)],\n",
       " [np.float64(0.0),\n",
       "  np.float64(0.0004223634863533092),\n",
       "  np.float64(0.0004223634863533092)],\n",
       " [np.float64(0.0),\n",
       "  np.float64(0.00013768038518540923),\n",
       "  np.float64(0.00013768038518560108)],\n",
       " [np.float64(0.0),\n",
       "  np.float64(8.37455171003715e-05),\n",
       "  np.float64(8.374551710246792e-05)],\n",
       " [np.float64(0.0),\n",
       "  np.float64(1.3232011650778325e-05),\n",
       "  np.float64(1.3232011651235394e-05)],\n",
       " [np.float64(0.0),\n",
       "  np.float64(0.0001739543206089849),\n",
       "  np.float64(0.00017395432060911386)],\n",
       " [np.float64(0.0),\n",
       "  np.float64(0.0010985568107229771),\n",
       "  np.float64(0.0010985568107230545)],\n",
       " [np.float64(0.0),\n",
       "  np.float64(8.47257438657864e-05),\n",
       "  np.float64(8.472574386617815e-05)],\n",
       " [np.float64(0.0),\n",
       "  np.float64(2.4613512024749402e-05),\n",
       "  np.float64(2.4613512024749402e-05)],\n",
       " [np.float64(0.0),\n",
       "  np.float64(2.5792634128844476e-05),\n",
       "  np.float64(2.579263412902629e-05)],\n",
       " [np.float64(0.0),\n",
       "  np.float64(4.522612529011567e-05),\n",
       "  np.float64(4.522612529029041e-05)],\n",
       " [np.float64(0.0),\n",
       "  np.float64(0.00010516263685833706),\n",
       "  np.float64(0.0001051626368588988)],\n",
       " [np.float64(0.0),\n",
       "  np.float64(1.971925399974992e-05),\n",
       "  np.float64(1.9719254000065137e-05)],\n",
       " [np.float64(0.0),\n",
       "  np.float64(1.3277081663104717e-05),\n",
       "  np.float64(1.3277081663104717e-05)],\n",
       " [np.float64(0.0),\n",
       "  np.float64(0.0001788511824474074),\n",
       "  np.float64(0.00017885118244738825)],\n",
       " [np.float64(0.0),\n",
       "  np.float64(1.0084717198807544e-05),\n",
       "  np.float64(1.0084717198807544e-05)],\n",
       " [np.float64(0.0),\n",
       "  np.float64(1.8444923208666888e-05),\n",
       "  np.float64(1.8444923209083354e-05)],\n",
       " [np.float64(0.0),\n",
       "  np.float64(0.00012452010991882432),\n",
       "  np.float64(0.00012452010991942752)],\n",
       " [np.float64(0.0),\n",
       "  np.float64(4.2667463690832635e-05),\n",
       "  np.float64(4.2667463690832635e-05)],\n",
       " [np.float64(0.0),\n",
       "  np.float64(1.9461458434692353e-05),\n",
       "  np.float64(1.9461458435157168e-05)],\n",
       " [np.float64(0.0),\n",
       "  np.float64(0.0002100706574063124),\n",
       "  np.float64(0.0002100706574063124)],\n",
       " [np.float64(0.0),\n",
       "  np.float64(7.700513445738293e-05),\n",
       "  np.float64(7.700513445741899e-05)],\n",
       " [np.float64(0.0),\n",
       "  np.float64(0.0019089588008074402),\n",
       "  np.float64(0.0019089588008074226)],\n",
       " [np.float64(0.0),\n",
       "  np.float64(8.510757966147862e-05),\n",
       "  np.float64(8.510757966147862e-05)],\n",
       " [np.float64(0.0),\n",
       "  np.float64(0.00018411302843338102),\n",
       "  np.float64(0.00018411302843391862)],\n",
       " [np.float64(0.0),\n",
       "  np.float64(8.152709336398695e-05),\n",
       "  np.float64(8.152709336398695e-05)],\n",
       " [np.float64(0.0),\n",
       "  np.float64(1.777877504052704e-05),\n",
       "  np.float64(1.777877504052704e-05)],\n",
       " [np.float64(0.0),\n",
       "  np.float64(1.938094431173668e-06),\n",
       "  np.float64(1.938094431173668e-06)],\n",
       " [np.float64(0.0),\n",
       "  np.float64(0.00010300400528643637),\n",
       "  np.float64(0.00010300400528715618)],\n",
       " [np.float64(0.0),\n",
       "  np.float64(2.718742156920154e-05),\n",
       "  np.float64(2.718742156920154e-05)],\n",
       " [np.float64(0.0),\n",
       "  np.float64(1.8828666347082848e-05),\n",
       "  np.float64(1.8828666347159508e-05)],\n",
       " [np.float64(0.0),\n",
       "  np.float64(7.4833365719133e-05),\n",
       "  np.float64(7.4833365719133e-05)],\n",
       " [np.float64(0.0),\n",
       "  np.float64(0.0005061426939945041),\n",
       "  np.float64(0.0005061426939945041)],\n",
       " [np.float64(0.0),\n",
       "  np.float64(2.945414111064751e-05),\n",
       "  np.float64(2.9454141111341975e-05)],\n",
       " [np.float64(0.0),\n",
       "  np.float64(0.0001677623001700426),\n",
       "  np.float64(0.0001677623001700426)],\n",
       " [np.float64(0.0),\n",
       "  np.float64(7.645377254960038e-05),\n",
       "  np.float64(7.645377254960038e-05)],\n",
       " [np.float64(0.0),\n",
       "  np.float64(0.0001306204126119981),\n",
       "  np.float64(0.0001306204126119981)],\n",
       " [np.float64(0.0),\n",
       "  np.float64(9.3769472374676e-05),\n",
       "  np.float64(9.3769472374676e-05)],\n",
       " [np.float64(0.0),\n",
       "  np.float64(1.9500641157378515e-05),\n",
       "  np.float64(1.9500641157378515e-05)],\n",
       " [np.float64(0.0),\n",
       "  np.float64(2.5167395088309224e-05),\n",
       "  np.float64(2.5167395088309224e-05)],\n",
       " [np.float64(0.0),\n",
       "  np.float64(0.0002950205704938556),\n",
       "  np.float64(0.0002950205704942461)],\n",
       " [np.float64(0.0),\n",
       "  np.float64(0.00014029344840307744),\n",
       "  np.float64(0.00014029344840307744)],\n",
       " [np.float64(0.0),\n",
       "  np.float64(9.604957792418366e-05),\n",
       "  np.float64(9.604957792435972e-05)],\n",
       " [np.float64(0.0),\n",
       "  np.float64(0.0002495561375542551),\n",
       "  np.float64(0.0002495561375542654)],\n",
       " [np.float64(0.0),\n",
       "  np.float64(0.00016477730573366423),\n",
       "  np.float64(0.00016477730573296123)],\n",
       " [np.float64(0.0),\n",
       "  np.float64(3.888481078476574e-05),\n",
       "  np.float64(3.888481078476574e-05)],\n",
       " [np.float64(0.0),\n",
       "  np.float64(5.27800194033757e-07),\n",
       "  np.float64(5.27800194033757e-07)],\n",
       " [np.float64(0.0),\n",
       "  np.float64(1.8906971958680642e-05),\n",
       "  np.float64(1.8906971958680642e-05)],\n",
       " [np.float64(0.0),\n",
       "  np.float64(3.062438571629024e-06),\n",
       "  np.float64(3.062438571629024e-06)],\n",
       " [np.float64(0.0),\n",
       "  np.float64(0.0001887406042165354),\n",
       "  np.float64(0.00018874060421617385)],\n",
       " [np.float64(0.0),\n",
       "  np.float64(7.865414778652994e-05),\n",
       "  np.float64(7.865414778652994e-05)],\n",
       " [np.float64(0.0),\n",
       "  np.float64(2.203981184606733e-05),\n",
       "  np.float64(2.2039811846531198e-05)],\n",
       " [np.float64(0.0),\n",
       "  np.float64(2.232018755117634e-05),\n",
       "  np.float64(2.2320187551309918e-05)],\n",
       " [np.float64(0.0),\n",
       "  np.float64(1.2812709940923468e-05),\n",
       "  np.float64(1.2812709941105492e-05)],\n",
       " [np.float64(0.0),\n",
       "  np.float64(0.00020147889516769886),\n",
       "  np.float64(0.00020147889516796306)],\n",
       " [np.float64(0.0),\n",
       "  np.float64(0.00011040216267940282),\n",
       "  np.float64(0.00011040216268015722)],\n",
       " [np.float64(0.0),\n",
       "  np.float64(1.2282611043209463e-05),\n",
       "  np.float64(1.2282611043480436e-05)],\n",
       " [np.float64(0.0),\n",
       "  np.float64(0.00028276848574141),\n",
       "  np.float64(0.00028276848574141)],\n",
       " [np.float64(0.0),\n",
       "  np.float64(1.3043327616926488e-05),\n",
       "  np.float64(1.3043327617332516e-05)],\n",
       " [np.float64(0.0),\n",
       "  np.float64(1.9137580843305565e-05),\n",
       "  np.float64(1.913758084362115e-05)],\n",
       " [np.float64(0.0),\n",
       "  np.float64(0.00020632695786511421),\n",
       "  np.float64(0.00020632695786510532)],\n",
       " [np.float64(0.0),\n",
       "  np.float64(0.0001694126015892494),\n",
       "  np.float64(0.0001694126015892494)],\n",
       " [np.float64(0.0),\n",
       "  np.float64(2.132316953423811e-06),\n",
       "  np.float64(2.132316953423811e-06)],\n",
       " [np.float64(0.0),\n",
       "  np.float64(1.9962790525747652e-05),\n",
       "  np.float64(1.9962790525747652e-05)],\n",
       " [np.float64(0.0),\n",
       "  np.float64(0.0004047566381508464),\n",
       "  np.float64(0.0004047566381508464)],\n",
       " [np.float64(0.0),\n",
       "  np.float64(7.141087965738679e-05),\n",
       "  np.float64(7.141087965751839e-05)],\n",
       " [np.float64(0.0),\n",
       "  np.float64(1.6482729675153177e-05),\n",
       "  np.float64(1.648272967577242e-05)],\n",
       " [np.float64(0.0),\n",
       "  np.float64(0.0002151924511705507),\n",
       "  np.float64(0.00021519245117166606)],\n",
       " [np.float64(0.0),\n",
       "  np.float64(0.00011299133147152184),\n",
       "  np.float64(0.00011299133147152064)],\n",
       " [np.float64(0.0),\n",
       "  np.float64(6.455651063273218e-05),\n",
       "  np.float64(6.455651063277063e-05)],\n",
       " [np.float64(0.0),\n",
       "  np.float64(6.97451813769104e-05),\n",
       "  np.float64(6.974518137692012e-05)],\n",
       " [np.float64(0.0),\n",
       "  np.float64(0.0004103098570251203),\n",
       "  np.float64(0.00041030985702519216)],\n",
       " [np.float64(0.0),\n",
       "  np.float64(0.0001121669792897108),\n",
       "  np.float64(0.00011216697928981547)],\n",
       " [np.float64(0.0),\n",
       "  np.float64(0.000175124431922714),\n",
       "  np.float64(0.00017512443192271984)],\n",
       " [np.float64(0.0),\n",
       "  np.float64(0.00015977072107036807),\n",
       "  np.float64(0.00015977072107036807)],\n",
       " [np.float64(0.0),\n",
       "  np.float64(1.590342124840759e-05),\n",
       "  np.float64(1.590342124840759e-05)],\n",
       " [np.float64(0.0),\n",
       "  np.float64(0.00011988659492506032),\n",
       "  np.float64(0.00011988659492573487)],\n",
       " [np.float64(0.0),\n",
       "  np.float64(0.0009651571787117064),\n",
       "  np.float64(0.0009651571787117064)],\n",
       " [np.float64(0.0),\n",
       "  np.float64(0.00021981454781322553),\n",
       "  np.float64(0.00021981454781366689)],\n",
       " [np.float64(0.0),\n",
       "  np.float64(0.00012289975666272232),\n",
       "  np.float64(0.00012289975666272232)],\n",
       " [np.float64(0.0),\n",
       "  np.float64(1.8370463327202436e-05),\n",
       "  np.float64(1.8370463327202436e-05)],\n",
       " [np.float64(0.0),\n",
       "  np.float64(0.00023750341932279864),\n",
       "  np.float64(0.00023750341932331963)],\n",
       " [np.float64(0.0),\n",
       "  np.float64(0.00015187621111697143),\n",
       "  np.float64(0.00015187621111699954)],\n",
       " [np.float64(0.0),\n",
       "  np.float64(1.4530439804841115e-06),\n",
       "  np.float64(1.4530439804841115e-06)],\n",
       " [np.float64(0.0),\n",
       "  np.float64(0.00010672615871833093),\n",
       "  np.float64(0.00010672615871831179)],\n",
       " [np.float64(0.0),\n",
       "  np.float64(1.0933724292699644e-05),\n",
       "  np.float64(1.0933724292699644e-05)],\n",
       " [np.float64(0.0),\n",
       "  np.float64(0.0001651830247081999),\n",
       "  np.float64(0.0001651830247081999)],\n",
       " [np.float64(0.0),\n",
       "  np.float64(0.00035841896867169797),\n",
       "  np.float64(0.00035841896867169797)],\n",
       " [np.float64(0.0),\n",
       "  np.float64(0.00014791789362104607),\n",
       "  np.float64(0.00014791789362104607)],\n",
       " [np.float64(0.0),\n",
       "  np.float64(0.00034386858506489496),\n",
       "  np.float64(0.00034386858506489795)],\n",
       " [np.float64(0.0),\n",
       "  np.float64(0.00011092486201624743),\n",
       "  np.float64(0.00011092486201605818)],\n",
       " [np.float64(0.0),\n",
       "  np.float64(2.4011958972257026e-05),\n",
       "  np.float64(2.401195897228199e-05)],\n",
       " [np.float64(0.0),\n",
       "  np.float64(2.330920891646347e-05),\n",
       "  np.float64(2.33092089169073e-05)],\n",
       " [np.float64(0.0),\n",
       "  np.float64(0.0004559337657633709),\n",
       "  np.float64(0.0004559337657635199)],\n",
       " [np.float64(0.0),\n",
       "  np.float64(0.00023658568108879792),\n",
       "  np.float64(0.00023658568108921951)],\n",
       " [np.float64(0.0),\n",
       "  np.float64(1.8904809459865263e-05),\n",
       "  np.float64(1.8904809460706692e-05)],\n",
       " [np.float64(0.0),\n",
       "  np.float64(0.002331513658098354),\n",
       "  np.float64(0.002331513658098354)],\n",
       " [np.float64(0.0),\n",
       "  np.float64(0.0003136124594671297),\n",
       "  np.float64(0.00031361245946713747)],\n",
       " [np.float64(0.0),\n",
       "  np.float64(3.86668883186545e-05),\n",
       "  np.float64(3.86668883186545e-05)],\n",
       " [np.float64(0.0),\n",
       "  np.float64(1.8790105606061373e-05),\n",
       "  np.float64(1.879010560597021e-05)],\n",
       " [np.float64(0.0),\n",
       "  np.float64(0.00011461505932445603),\n",
       "  np.float64(0.00011461505932445603)],\n",
       " [np.float64(0.0),\n",
       "  np.float64(0.000514889993706488),\n",
       "  np.float64(0.0005148899937065384)],\n",
       " [np.float64(0.0),\n",
       "  np.float64(0.000257726321060259),\n",
       "  np.float64(0.0002577263210601258)],\n",
       " [np.float64(0.0),\n",
       "  np.float64(0.00012212353988447458),\n",
       "  np.float64(0.0001221235398844618)],\n",
       " [np.float64(0.0),\n",
       "  np.float64(0.00022027168088745104),\n",
       "  np.float64(0.0002202716808876887)],\n",
       " [np.float64(0.0),\n",
       "  np.float64(3.34584512092535e-05),\n",
       "  np.float64(3.345845120925229e-05)],\n",
       " [np.float64(0.0),\n",
       "  np.float64(7.80817721957437e-05),\n",
       "  np.float64(7.808177219732603e-05)],\n",
       " [np.float64(0.0),\n",
       "  np.float64(0.00020356456074125718),\n",
       "  np.float64(0.00020356456074153338)],\n",
       " [np.float64(0.0),\n",
       "  np.float64(0.00021801208714127611),\n",
       "  np.float64(0.00021801208714127611)],\n",
       " [np.float64(0.0),\n",
       "  np.float64(0.0022045263544489624),\n",
       "  np.float64(0.0022045263544489624)],\n",
       " [np.float64(0.0),\n",
       "  np.float64(6.024762774852126e-05),\n",
       "  np.float64(6.024762774797656e-05)],\n",
       " [np.float64(0.0),\n",
       "  np.float64(0.00023289294898938255),\n",
       "  np.float64(0.00023289294898938255)],\n",
       " [np.float64(0.0),\n",
       "  np.float64(0.001281674775902098),\n",
       "  np.float64(0.0012816747759020939)],\n",
       " [np.float64(0.0),\n",
       "  np.float64(0.00022019823804542613),\n",
       "  np.float64(0.00022019823804542613)],\n",
       " [np.float64(0.0),\n",
       "  np.float64(2.5906369879441392e-05),\n",
       "  np.float64(2.590636987950718e-05)],\n",
       " [np.float64(0.0),\n",
       "  np.float64(2.594760863766301e-05),\n",
       "  np.float64(2.5947608637730517e-05)],\n",
       " [np.float64(0.0),\n",
       "  np.float64(6.985341699689273e-05),\n",
       "  np.float64(6.985341699721777e-05)],\n",
       " [np.float64(0.0),\n",
       "  np.float64(0.00011687323218743085),\n",
       "  np.float64(0.00011687323218745003)],\n",
       " [np.float64(0.0),\n",
       "  np.float64(0.0002259450954513526),\n",
       "  np.float64(0.00022594509545193492)],\n",
       " [np.float64(0.0),\n",
       "  np.float64(0.0007646543057398503),\n",
       "  np.float64(0.0007646543057398503)],\n",
       " [np.float64(0.0),\n",
       "  np.float64(0.0003099217390374445),\n",
       "  np.float64(0.00030992173903788645)],\n",
       " [np.float64(0.0),\n",
       "  np.float64(0.00017509598701623426),\n",
       "  np.float64(0.00017509598701642134)],\n",
       " [np.float64(0.0),\n",
       "  np.float64(0.00023104253524809472),\n",
       "  np.float64(0.00023104253524799048)],\n",
       " [np.float64(0.0),\n",
       "  np.float64(5.230270754442975e-05),\n",
       "  np.float64(5.2302707545119284e-05)],\n",
       " [np.float64(0.0),\n",
       "  np.float64(0.00017699023374501154),\n",
       "  np.float64(0.00017699023374546775)],\n",
       " [np.float64(0.0),\n",
       "  np.float64(0.0003065648107589437),\n",
       "  np.float64(0.0003065648107589437)],\n",
       " [np.float64(0.0),\n",
       "  np.float64(0.00015597062490592612),\n",
       "  np.float64(0.00015597062490599778)],\n",
       " [np.float64(0.0),\n",
       "  np.float64(0.00011025858403448172),\n",
       "  np.float64(0.00011025858403459472)],\n",
       " [np.float64(0.0),\n",
       "  np.float64(7.819996019656355e-05),\n",
       "  np.float64(7.819996019657633e-05)],\n",
       " [np.float64(0.0),\n",
       "  np.float64(0.00012566955258767377),\n",
       "  np.float64(0.00012566955258767377)],\n",
       " [np.float64(0.0),\n",
       "  np.float64(0.00013385905223116257),\n",
       "  np.float64(0.0001338590522308776)],\n",
       " [np.float64(0.0),\n",
       "  np.float64(1.74556105972354e-05),\n",
       "  np.float64(1.745561059712336e-05)],\n",
       " [np.float64(0.0),\n",
       "  np.float64(0.00033973300734140797),\n",
       "  np.float64(0.0003397330073411922)],\n",
       " [np.float64(0.0),\n",
       "  np.float64(0.00015896924833638579),\n",
       "  np.float64(0.00015896924833638579)],\n",
       " [np.float64(0.0),\n",
       "  np.float64(0.00026910194115219307),\n",
       "  np.float64(0.0002691019411522212)],\n",
       " [np.float64(0.0),\n",
       "  np.float64(3.4817389822713554e-05),\n",
       "  np.float64(3.4817389823342215e-05)],\n",
       " [np.float64(0.0),\n",
       "  np.float64(2.872104531396659e-05),\n",
       "  np.float64(2.8721045313949196e-05)],\n",
       " [np.float64(0.0),\n",
       "  np.float64(0.0001984284255820268),\n",
       "  np.float64(0.0001984284255820268)],\n",
       " [np.float64(0.0),\n",
       "  np.float64(9.472296380910627e-05),\n",
       "  np.float64(9.472296380910627e-05)],\n",
       " [np.float64(0.0),\n",
       "  np.float64(5.008028119868361e-06),\n",
       "  np.float64(5.008028119859485e-06)],\n",
       " [np.float64(0.0),\n",
       "  np.float64(2.987440551727242e-05),\n",
       "  np.float64(2.9874405517852268e-05)],\n",
       " [np.float64(0.0),\n",
       "  np.float64(0.00021021296905195574),\n",
       "  np.float64(0.00021021296905198092)],\n",
       " [np.float64(0.0),\n",
       "  np.float64(1.0180373323945075e-05),\n",
       "  np.float64(1.0180373323945075e-05)],\n",
       " [np.float64(0.0),\n",
       "  np.float64(0.00014300442267415974),\n",
       "  np.float64(0.00014300442267415974)],\n",
       " [np.float64(0.0),\n",
       "  np.float64(3.733783638191527e-05),\n",
       "  np.float64(3.733783638191527e-05)],\n",
       " [np.float64(0.0),\n",
       "  np.float64(1.1533294583843162e-05),\n",
       "  np.float64(1.1533294584334034e-05)],\n",
       " [np.float64(0.0),\n",
       "  np.float64(2.1757437984779275e-05),\n",
       "  np.float64(2.1757437984779275e-05)],\n",
       " [np.float64(0.0),\n",
       "  np.float64(4.429513916637811e-05),\n",
       "  np.float64(4.429513916643029e-05)],\n",
       " [np.float64(0.0),\n",
       "  np.float64(3.453232096592979e-05),\n",
       "  np.float64(3.453232096575081e-05)],\n",
       " [np.float64(0.0),\n",
       "  np.float64(0.0007647783019399802),\n",
       "  np.float64(0.0007647783019406183)],\n",
       " [np.float64(0.0),\n",
       "  np.float64(4.5003276173046504e-05),\n",
       "  np.float64(4.500327617323546e-05)],\n",
       " [np.float64(0.0),\n",
       "  np.float64(3.3828348532769996e-05),\n",
       "  np.float64(3.3828348532769996e-05)],\n",
       " [np.float64(0.0),\n",
       "  np.float64(2.7287475342119586e-05),\n",
       "  np.float64(2.728747534224118e-05)],\n",
       " [np.float64(0.0),\n",
       "  np.float64(0.00026079341433680683),\n",
       "  np.float64(0.0002607934143374508)],\n",
       " [np.float64(0.0),\n",
       "  np.float64(2.6542948526934014e-05),\n",
       "  np.float64(2.6542948526934014e-05)],\n",
       " [np.float64(0.0),\n",
       "  np.float64(1.0255113352006468e-05),\n",
       "  np.float64(1.0255113352007365e-05)],\n",
       " [np.float64(0.0),\n",
       "  np.float64(2.9597320881388217e-05),\n",
       "  np.float64(2.959732088151155e-05)],\n",
       " [np.float64(0.0),\n",
       "  np.float64(1.044776725891459e-05),\n",
       "  np.float64(1.044776725891459e-05)],\n",
       " [np.float64(0.0),\n",
       "  np.float64(0.0001995016868728958),\n",
       "  np.float64(0.00019950168687292492)],\n",
       " [np.float64(0.0),\n",
       "  np.float64(0.00020393910977500797),\n",
       "  np.float64(0.00020393910977500797)],\n",
       " [np.float64(0.0),\n",
       "  np.float64(7.077744961372553e-05),\n",
       "  np.float64(7.077744961378345e-05)],\n",
       " [np.float64(0.0),\n",
       "  np.float64(3.072496793134198e-06),\n",
       "  np.float64(3.072496793134198e-06)],\n",
       " [np.float64(0.0),\n",
       "  np.float64(0.00012259460968732915),\n",
       "  np.float64(0.00012259460968728182)],\n",
       " [np.float64(0.0),\n",
       "  np.float64(2.8890053591400495e-05),\n",
       "  np.float64(2.8890053591400495e-05)],\n",
       " [np.float64(0.0),\n",
       "  np.float64(0.00015457255336877708),\n",
       "  np.float64(0.00015457255336905263)],\n",
       " [np.float64(0.0),\n",
       "  np.float64(5.7816608987985914e-06),\n",
       "  np.float64(5.7816608987985914e-06)],\n",
       " [np.float64(0.0),\n",
       "  np.float64(1.6486588572155627e-05),\n",
       "  np.float64(1.6486588572320653e-05)],\n",
       " [np.float64(0.0),\n",
       "  np.float64(0.00020464376523510064),\n",
       "  np.float64(0.00020464376523560352)],\n",
       " [np.float64(0.0),\n",
       "  np.float64(0.00027708518634091134),\n",
       "  np.float64(0.0002770851863416952)],\n",
       " [np.float64(0.0),\n",
       "  np.float64(8.528720787806026e-05),\n",
       "  np.float64(8.528720787985913e-05)],\n",
       " [np.float64(0.0),\n",
       "  np.float64(0.00016233447939585657),\n",
       "  np.float64(0.00016233447939588815)],\n",
       " [np.float64(0.0),\n",
       "  np.float64(0.0001296224022836594),\n",
       "  np.float64(0.00012962240228398434)],\n",
       " [np.float64(0.0),\n",
       "  np.float64(8.439222162074473e-06),\n",
       "  np.float64(8.439222162074473e-06)],\n",
       " [np.float64(0.0),\n",
       "  np.float64(0.00012059034048239945),\n",
       "  np.float64(0.00012059034048239945)],\n",
       " [np.float64(0.0),\n",
       "  np.float64(0.00014603336703085325),\n",
       "  np.float64(0.00014603336703085325)],\n",
       " [np.float64(0.0),\n",
       "  np.float64(2.1917496663183078e-05),\n",
       "  np.float64(2.191749666357461e-05)],\n",
       " [np.float64(0.0),\n",
       "  np.float64(3.4145239496487676e-07),\n",
       "  np.float64(3.4145239496487676e-07)],\n",
       " [np.float64(0.0),\n",
       "  np.float64(0.00028657584133289296),\n",
       "  np.float64(0.00028657584133311837)],\n",
       " [np.float64(0.0),\n",
       "  np.float64(3.6393228294624014e-06),\n",
       "  np.float64(3.639322829492736e-06)],\n",
       " [np.float64(0.0),\n",
       "  np.float64(1.2400529548277375e-05),\n",
       "  np.float64(1.2400529548277375e-05)],\n",
       " [np.float64(0.0),\n",
       "  np.float64(0.0001431525055723405),\n",
       "  np.float64(0.0001431525055723405)],\n",
       " [np.float64(0.0),\n",
       "  np.float64(0.00016086533609725067),\n",
       "  np.float64(0.00016086533609760884)],\n",
       " [np.float64(0.0),\n",
       "  np.float64(0.0001335151845957308),\n",
       "  np.float64(0.00013351518459631717)],\n",
       " [np.float64(0.0),\n",
       "  np.float64(7.86643297279401e-05),\n",
       "  np.float64(7.866432972835664e-05)],\n",
       " [np.float64(0.0),\n",
       "  np.float64(3.7276979568833404e-05),\n",
       "  np.float64(3.7276979568833404e-05)],\n",
       " [np.float64(0.0),\n",
       "  np.float64(0.00018299033348967862),\n",
       "  np.float64(0.00018299033348996292)],\n",
       " [np.float64(0.0),\n",
       "  np.float64(3.176705261249489e-05),\n",
       "  np.float64(3.1767052612704716e-05)],\n",
       " [np.float64(0.0),\n",
       "  np.float64(2.9253044230432772e-05),\n",
       "  np.float64(2.925304423075704e-05)],\n",
       " [np.float64(0.0),\n",
       "  np.float64(1.4097500969548996e-05),\n",
       "  np.float64(1.4097500969548996e-05)],\n",
       " [np.float64(0.0),\n",
       "  np.float64(7.080880717795229e-05),\n",
       "  np.float64(7.080880717846539e-05)],\n",
       " [np.float64(0.0),\n",
       "  np.float64(5.950745653325801e-05),\n",
       "  np.float64(5.95074565333564e-05)],\n",
       " [np.float64(0.0),\n",
       "  np.float64(3.595539721951149e-05),\n",
       "  np.float64(3.595539721951149e-05)],\n",
       " [np.float64(0.0),\n",
       "  np.float64(0.00012836351552747007),\n",
       "  np.float64(0.0001283635155274549)],\n",
       " [np.float64(0.0),\n",
       "  np.float64(7.983712586637317e-05),\n",
       "  np.float64(7.983712586637577e-05)],\n",
       " [np.float64(0.0),\n",
       "  np.float64(5.6079142595188806e-05),\n",
       "  np.float64(5.6079142595188806e-05)],\n",
       " [np.float64(0.0),\n",
       "  np.float64(1.1227863829661327e-05),\n",
       "  np.float64(1.1227863829661327e-05)],\n",
       " [np.float64(0.0),\n",
       "  np.float64(0.00013659738734444013),\n",
       "  np.float64(0.0001365973873448348)],\n",
       " [np.float64(0.0),\n",
       "  np.float64(3.374651563620635e-05),\n",
       "  np.float64(3.374651563716483e-05)],\n",
       " [np.float64(0.0),\n",
       "  np.float64(3.8078708946432225e-06),\n",
       "  np.float64(3.8078708946432225e-06)],\n",
       " [np.float64(0.0),\n",
       "  np.float64(1.3115529589021005e-05),\n",
       "  np.float64(1.3115529589021005e-05)],\n",
       " [np.float64(0.0),\n",
       "  np.float64(1.9245364544553164e-05),\n",
       "  np.float64(1.9245364544553164e-05)],\n",
       " [np.float64(0.0),\n",
       "  np.float64(0.0001775011866496433),\n",
       "  np.float64(0.00017750118664987082)],\n",
       " [np.float64(0.0),\n",
       "  np.float64(1.5381740985270887e-05),\n",
       "  np.float64(1.5381740985270887e-05)],\n",
       " [np.float64(0.0),\n",
       "  np.float64(7.697626051539688e-05),\n",
       "  np.float64(7.697626051565415e-05)],\n",
       " [np.float64(0.0),\n",
       "  np.float64(7.937433176451128e-05),\n",
       "  np.float64(7.937433176451128e-05)],\n",
       " [np.float64(0.0),\n",
       "  np.float64(1.5976374480952318e-05),\n",
       "  np.float64(1.5976374481777704e-05)],\n",
       " [np.float64(0.0),\n",
       "  np.float64(0.0001321657401838322),\n",
       "  np.float64(0.0001321657401839607)],\n",
       " [np.float64(0.0),\n",
       "  np.float64(0.00011598605847919963),\n",
       "  np.float64(0.00011598605847919963)],\n",
       " [np.float64(0.0),\n",
       "  np.float64(2.392645989485908e-06),\n",
       "  np.float64(2.392645989485908e-06)],\n",
       " [np.float64(0.0),\n",
       "  np.float64(0.00045855887542786987),\n",
       "  np.float64(0.00045855887542786987)],\n",
       " [np.float64(0.0),\n",
       "  np.float64(0.00012350862666270882),\n",
       "  np.float64(0.00012350862666270882)],\n",
       " ...]"
      ]
     },
     "execution_count": 35,
     "metadata": {},
     "output_type": "execute_result"
    }
   ],
   "source": [
    "[t for _, *t in results]"
   ]
  },
  {
   "cell_type": "code",
   "execution_count": 37,
   "id": "a580497f-a2d6-46d7-82fa-0fc1d44d1aea",
   "metadata": {},
   "outputs": [
    {
     "name": "stdout",
     "output_type": "stream",
     "text": [
      "(3162, 4)\n",
      "Warning right_frame_id=3163, pred.shape=(3162, 4)\n"
     ]
    }
   ],
   "source": [
    "d='YandexCup2024v2/YaCupTrain/0'\n",
    "pred = get_pred_from_score(d)\n",
    "print(pred.shape)\n",
    "loc_df = pd.read_csv(f'{d}/localization.csv') \n",
    "df_pred = make_prediction(pred, loc_df.stamp_ns)"
   ]
  },
  {
   "cell_type": "code",
   "execution_count": 38,
   "id": "f9c40dc2-ee4a-42b0-9e11-e3cb152688de",
   "metadata": {},
   "outputs": [
    {
     "data": {
      "text/plain": [
       "array([ 7.44073600e+06, -4.29234649e+03, -1.45273519e+04, -1.93681851e+00])"
      ]
     },
     "execution_count": 38,
     "metadata": {},
     "output_type": "execute_result"
    }
   ],
   "source": [
    "pred[0]"
   ]
  },
  {
   "cell_type": "code",
   "execution_count": 39,
   "id": "b4c77a4c-e4cb-43b3-af49-f613a5d416c3",
   "metadata": {},
   "outputs": [
    {
     "data": {
      "text/html": [
       "<div>\n",
       "<style scoped>\n",
       "    .dataframe tbody tr th:only-of-type {\n",
       "        vertical-align: middle;\n",
       "    }\n",
       "\n",
       "    .dataframe tbody tr th {\n",
       "        vertical-align: top;\n",
       "    }\n",
       "\n",
       "    .dataframe thead th {\n",
       "        text-align: right;\n",
       "    }\n",
       "</style>\n",
       "<table border=\"1\" class=\"dataframe\">\n",
       "  <thead>\n",
       "    <tr style=\"text-align: right;\">\n",
       "      <th></th>\n",
       "      <th>stamp_ns</th>\n",
       "      <th>pred_x</th>\n",
       "      <th>pred_y</th>\n",
       "      <th>pred_yaw</th>\n",
       "    </tr>\n",
       "  </thead>\n",
       "  <tbody>\n",
       "    <tr>\n",
       "      <th>0</th>\n",
       "      <td>0</td>\n",
       "      <td>-4292.346494</td>\n",
       "      <td>-14527.351866</td>\n",
       "      <td>-1.936819</td>\n",
       "    </tr>\n",
       "    <tr>\n",
       "      <th>1</th>\n",
       "      <td>39989868</td>\n",
       "      <td>-4292.522209</td>\n",
       "      <td>-14527.811452</td>\n",
       "      <td>-1.936852</td>\n",
       "    </tr>\n",
       "    <tr>\n",
       "      <th>2</th>\n",
       "      <td>79819886</td>\n",
       "      <td>-4292.695447</td>\n",
       "      <td>-14528.268391</td>\n",
       "      <td>-1.936838</td>\n",
       "    </tr>\n",
       "    <tr>\n",
       "      <th>3</th>\n",
       "      <td>125154671</td>\n",
       "      <td>-4292.894371</td>\n",
       "      <td>-14528.788169</td>\n",
       "      <td>-1.936890</td>\n",
       "    </tr>\n",
       "    <tr>\n",
       "      <th>4</th>\n",
       "      <td>159636974</td>\n",
       "      <td>-4293.044571</td>\n",
       "      <td>-14529.183051</td>\n",
       "      <td>-1.936895</td>\n",
       "    </tr>\n",
       "  </tbody>\n",
       "</table>\n",
       "</div>"
      ],
      "text/plain": [
       "    stamp_ns       pred_x        pred_y  pred_yaw\n",
       "0          0 -4292.346494 -14527.351866 -1.936819\n",
       "1   39989868 -4292.522209 -14527.811452 -1.936852\n",
       "2   79819886 -4292.695447 -14528.268391 -1.936838\n",
       "3  125154671 -4292.894371 -14528.788169 -1.936890\n",
       "4  159636974 -4293.044571 -14529.183051 -1.936895"
      ]
     },
     "execution_count": 39,
     "metadata": {},
     "output_type": "execute_result"
    }
   ],
   "source": [
    "df_pred.head()"
   ]
  },
  {
   "cell_type": "code",
   "execution_count": 3,
   "id": "9c46b14a-0761-4880-a9d9-26fc5a2b1bcb",
   "metadata": {},
   "outputs": [
    {
     "name": "stdout",
     "output_type": "stream",
     "text": [
      "stamp_ns,acceleration_level,steering,norm_acceleration_level,norm_steering\n",
      "0.0,-114.0,-2.655139533023165,-0.4514997100029219,-0.0615109367890647\n",
      "1.0,-118.51124043222295,-2.6265831542518203,-0.4812146939425406,-0.06101266412300235\n",
      "2.0,-123.02273633437042,-2.5980333021733926,-0.5109313606310214,-0.060514505339470656\n",
      "3.0,-127.58524197730276,-2.57078663642703,-0.5409840221863152,-0.06003908550800475\n",
      "4.0,-132.14585451381703,-2.5444222994575325,-0.5710242140832847,-0.0595790611969412\n",
      "5.0,-136.64990027292015,-2.5444222994575325,-0.6006918075990458,-0.0595790611969412\n",
      "6.0,-141.10246811465205,-2.5434682242216784,-0.6300203224266029,-0.05956241379163819\n",
      "7.0,-144.10040882917525,-2.5155545556234253,-0.6497673879005857,-0.05907535560462499\n",
      "8.0,-147.08219304041114,-2.487715056006009,-0.6694080324814873,-0.05858959157245253\n"
     ]
    }
   ],
   "source": [
    "!head YandexCup2024v2/YaCupTrain/0/control_norm_v1-quant20mc.csv"
   ]
  },
  {
   "cell_type": "code",
   "execution_count": 93,
   "id": "5c24cbbe-6619-4e16-ba16-ecd32527c877",
   "metadata": {},
   "outputs": [
    {
     "name": "stdout",
     "output_type": "stream",
     "text": [
      "frame_id,stamp_ns,x,y,z,roll,pitch,yaw,stamp_ms\n",
      "0.0,0.0,-4292.313704696657,-14527.266319463157,66.0433143307047,0.0039258153246947,-0.0541978569971037,-1.9368095592835344,0.0\n",
      "1.0,39989868.0,-4292.401838708525,-14527.496259400197,66.05667176164636,0.0038138626599912807,-0.05418474034177471,-1.9368336157619956,39.989868\n",
      "2.0,79819886.0,-4292.4899720289495,-14527.726199096734,66.07002759362825,0.00370163660102829,-0.054171746403958755,-1.9368576521712249,79.81988600000001\n",
      "3.0,79819886.0,-4292.576741170462,-14527.955664297288,66.08022876761915,0.003050018994415659,-0.05440086723983958,-1.9368420931110024,79.81988600000001\n",
      "4.0,125154671.0,-4292.663520722658,-14528.185128509973,66.09045915339448,0.002405479543977433,-0.05462764900342842,-1.9368269431121925,125.154671\n",
      "5.0,125154671.0,-4292.751445874733,-14528.414484017052,66.10390402686734,0.0025398259573082118,-0.054597037415180676,-1.9368568065524407,125.154671\n",
      "6.0,125154671.0,-4292.8393710268065,-14528.64383952413,66.1173489003402,0.002674172370638991,-0.05456642582693293,-1.9368866699926892,125.154671\n",
      "7.0,159636974.0,-4292.926552429295,-14528.872972607684,66.12831006253009,0.002947913166365364,-0.05417511452908048,-1.936886454913569,159.63697399999998\n",
      "8.0,200261036.0,-4293.0134914147575,-14529.102026696297,66.13846511725592,0.003268900776495785,-0.053666196909578086,-1.9368768743957459,200.261036\n"
     ]
    }
   ],
   "source": [
    "!head YandexCup2024v2/YaCupTrain/0/localization-quant20mc_v2.csv"
   ]
  },
  {
   "cell_type": "code",
   "execution_count": 5,
   "id": "d08d155f-33e7-45b7-a6f0-00d9cb716449",
   "metadata": {},
   "outputs": [
    {
     "name": "stdout",
     "output_type": "stream",
     "text": [
      "{\"ride_date\": \"2022-03-14\", \"tires\": {\"front\": 0, \"rear\": 0}, \"vehicle_id\": 0, \"vehicle_model\": 0, \"vehicle_model_modification\": 0, \"location_reference_point_id\": 0}"
     ]
    }
   ],
   "source": [
    "!head YandexCup2024v2/YaCupTrain/0/metadata.json"
   ]
  },
  {
   "cell_type": "code",
   "execution_count": null,
   "id": "34b38d2c-9692-4533-bcb4-2425ff2f5613",
   "metadata": {},
   "outputs": [],
   "source": []
  },
  {
   "cell_type": "code",
   "execution_count": 6,
   "id": "21760a53-e53d-4afb-b401-e050ac98c4a5",
   "metadata": {},
   "outputs": [
    {
     "data": {
      "text/plain": [
       "['metadata.json',\n",
       " 'control.csv',\n",
       " 'localization.csv',\n",
       " 'requested_stamps.csv',\n",
       " 'control_norm_v1.csv',\n",
       " 'control_norm_v1-quant20mc.csv',\n",
       " 'localization-quant20mc.csv',\n",
       " 'requested_stamps-quant20mc.csv',\n",
       " 'quant20mc']"
      ]
     },
     "execution_count": 6,
     "metadata": {},
     "output_type": "execute_result"
    }
   ],
   "source": [
    "os.listdir('YandexCup2024v2/YaCupTest/0')"
   ]
  },
  {
   "cell_type": "code",
   "execution_count": 21,
   "id": "e5c35969-0f3b-403a-a23a-a69cdc5c7637",
   "metadata": {},
   "outputs": [],
   "source": [
    "def configure_logging(log_level='INFO'):\n",
    "    handlers =  {\n",
    "            \"base_out\": {\n",
    "                \"class\": \"logging.StreamHandler\",\n",
    "                \"formatter\": \"basic\",\n",
    "                \"stream\": \"ext://sys.stderr\",\n",
    "            }\n",
    "    }\n",
    "    CONFIG = {\n",
    "        \"version\": 1,\n",
    "        \"disable_existing_loggers\": False,\n",
    "        \"formatters\": {\"basic\": {\"format\": '%(asctime)s %(name)s %(pathname)s:%(lineno)d - %(levelname)s - %(message)s'}},\n",
    "        \"handlers\": handlers,\n",
    "        \"loggers\": {\"base\": {\"handlers\": handlers.keys(), \"level\": log_level}},\n",
    "        \"root\": {\"handlers\": handlers.keys(), \"level\": log_level}\n",
    "    }\n",
    "    logging.config.dictConfig(CONFIG)\n",
    "configure_logging()\n"
   ]
  },
  {
   "cell_type": "code",
   "execution_count": 22,
   "id": "e823fed1-a187-4305-ab50-f7996b45b712",
   "metadata": {},
   "outputs": [],
   "source": [
    "class DirLoader(IterableDataset):\n",
    "    def __init__(self, root_dir, \n",
    "                 control_bname='control_norm_v1-quant20mc_v2.csv',\n",
    "                req_bname=None,\n",
    "                meta_bname='metadata.json',\n",
    "                start_bname='quant20mc',\n",
    "                speed_bname='speed-norm-quant20mc_v2.csv', \n",
    "                seed=None,\n",
    "                pad_value= -1000000):\n",
    "        super().__init__()\n",
    "        self.root_dir = root_dir\n",
    "        self.control_bname = control_bname\n",
    "        self.req_bname = req_bname\n",
    "        self.meta_bname = meta_bname\n",
    "        self.start_bname = start_bname\n",
    "        self.speed_bname = speed_bname\n",
    "        self.seed = seed\n",
    "        self.pad_value = pad_value\n",
    "        self.dirlist = [*os.listdir(root_dir)]\n",
    "\n",
    "    def __len__(self):\n",
    "        return len(self.dirlist)\n",
    "\n",
    "    def __iter__(self):\n",
    "        dirlist = self.dirlist\n",
    "        rank, world_size, worker, num_workers = pytorch_worker_info()\n",
    "        assert world_size == 1, \"Do not use this class for DDP\"\n",
    "        if num_workers > 1:\n",
    "            full_len = len(dirlist)\n",
    "            dirlist = list(islice(dirlist, worker, None, num_workers))\n",
    "            logging.info(\n",
    "                f\"Subset for {worker} worker contains {len(dirlist)}/{full_len} annotations\"\n",
    "            )\n",
    "            logging.debug(f\"First dir is {dirlist[0]}\")\n",
    "        if len(dirlist) == 0:\n",
    "            logging.warning(\n",
    "                f\"Zero len dirs list! {worker=}, {num_workers=}, {len(dirlist)=}, {len(self.dirlist)}\"\n",
    "            )\n",
    "            return\n",
    "\n",
    "        if self.seed is not None:\n",
    "            random.Random(self.seed).shuffle(dirlist)\n",
    "        for dbname in dirlist:\n",
    "            d = f'{self.root_dir}/{dbname}'\n",
    "            control_df = pd.read_csv(f\"{d}/{self.control_bname}\")\n",
    "            speed_ds = pd.read_csv(f\"{d}/{self.speed_bname}\")\n",
    "            assert (control_df.frame_id >= 0).all(), f\"{control_df.frame_id=}\"\n",
    "            assert (speed_ds.frame_id >= 0).all(), f\"{speed_ds.frame_id=}\"\n",
    "            df = control_df.set_index('frame_id').join(speed_ds.set_index('frame_id'), \n",
    "                                                       lsuffix='_c', \n",
    "                                                       rsuffix='_r')            \n",
    "            with open(f\"{d}/{self.meta_bname}\") as f:\n",
    "                meta = json.load(f)\n",
    "            df = df.fillna(self.pad_value)\n",
    "            assert np.allclose(df.index, np.arange(len(df))), f\"{len(df)=}, \\n{df.index=}\"\n",
    "            out = {\n",
    "                '__key__': f\"{Path(self.root_dir).stem}__{Path(d).stem}\",\n",
    "                'frame_ids.pth': torch.from_numpy(df.index.values),\n",
    "                'control_frame_ids.pth': torch.from_numpy(control_df.frame_id.values),\n",
    "                'loc_frame_ids.pth': torch.from_numpy(speed_ds.frame_id.values),\n",
    "                'acceleration_level.pth': torch.from_numpy(df.norm_acceleration_level.values),\n",
    "                'steering.pth' : torch.from_numpy(df.norm_steering.values),\n",
    "                'x.pth': torch.from_numpy(df.x.values),\n",
    "                'y.pth': torch.from_numpy(df.y.values),\n",
    "                'z.pth': torch.from_numpy(df.z.values),\n",
    "                'roll.pth': torch.from_numpy(df.roll.values),\n",
    "                'pitch.pth': torch.from_numpy(df.pitch.values),\n",
    "                'yaw.pth': torch.from_numpy(df.yaw.values),\n",
    "                'v_x.pth': torch.from_numpy(df.v_x.values),\n",
    "                'v_y.pth': torch.from_numpy(df.v_y.values),\n",
    "                'mod_v.pth': torch.from_numpy(df.mod_v.values),\n",
    "                'v_yaw.pth': torch.from_numpy(df.v_yaw.values),\n",
    "                'v_direct.pth': torch.from_numpy(df.v_direct.values),\n",
    "                'ride_date.txt': meta['ride_date'],\n",
    "                \"tires.pickle\": meta['tires'],\n",
    "                \"vehicle_id.id\": meta['vehicle_id'], \n",
    "                \"vehicle_model.id\": meta['vehicle_model'], \n",
    "                \"vehicle_model_modification.id\": meta['vehicle_model_modification'], \n",
    "                \"location_reference_point_id.id\": meta['location_reference_point_id']\n",
    "            }\n",
    "            if self.req_bname is not None:\n",
    "                req_df = pd.read_csv(f\"{d}/{self.req_bname}\")\n",
    "                out['req_stamps.pth'] = torch.from_numpy(req_df.stamp_ns.values)\n",
    "            if self.start_bname is not None:\n",
    "                with open(f\"{d}/{self.start_bname}\") as f:\n",
    "                    start_ns = int(float(f.read()))\n",
    "                out['start_ns.id'] = start_ns\n",
    "            \n",
    "            yield out"
   ]
  },
  {
   "cell_type": "code",
   "execution_count": null,
   "id": "8e83c9e6-d263-4c5d-a4d7-e63a36805ded",
   "metadata": {},
   "outputs": [],
   "source": []
  },
  {
   "cell_type": "code",
   "execution_count": 23,
   "id": "f88e23a8-c027-4e67-bc43-eac61a9e4cf7",
   "metadata": {},
   "outputs": [],
   "source": [
    "#!rm -rf exp_v1"
   ]
  },
  {
   "cell_type": "code",
   "execution_count": 24,
   "id": "b26c72f1-efee-4e07-88d6-1a1512941a06",
   "metadata": {
    "scrolled": true
   },
   "outputs": [
    {
     "name": "stdout",
     "output_type": "stream",
     "text": [
      "# writing exp_v2.2/YandexCup2024v2/YaCupTrain//dump-000000.tar 0 0.0 GB 0\n"
     ]
    },
    {
     "name": "stderr",
     "output_type": "stream",
     "text": [
      "  1%|▉                                                                                             | 406/42000 [00:12<20:33, 33.73it/s]"
     ]
    },
    {
     "name": "stdout",
     "output_type": "stream",
     "text": [
      "# writing exp_v2.2/YandexCup2024v2/YaCupTrain//dump-000001.tar 400 0.2 GB 400\n"
     ]
    },
    {
     "name": "stderr",
     "output_type": "stream",
     "text": [
      "  2%|█▊                                                                                            | 806/42000 [00:23<20:45, 33.06it/s]"
     ]
    },
    {
     "name": "stdout",
     "output_type": "stream",
     "text": [
      "# writing exp_v2.2/YandexCup2024v2/YaCupTrain//dump-000002.tar 400 0.2 GB 800\n"
     ]
    },
    {
     "name": "stderr",
     "output_type": "stream",
     "text": [
      "  3%|██▋                                                                                          | 1206/42000 [00:35<21:09, 32.13it/s]"
     ]
    },
    {
     "name": "stdout",
     "output_type": "stream",
     "text": [
      "# writing exp_v2.2/YandexCup2024v2/YaCupTrain//dump-000003.tar 400 0.2 GB 1200\n"
     ]
    },
    {
     "name": "stderr",
     "output_type": "stream",
     "text": [
      "  4%|███▌                                                                                         | 1604/42000 [00:55<37:01, 18.19it/s]"
     ]
    },
    {
     "name": "stdout",
     "output_type": "stream",
     "text": [
      "# writing exp_v2.2/YandexCup2024v2/YaCupTrain//dump-000004.tar 400 0.2 GB 1600\n"
     ]
    },
    {
     "name": "stderr",
     "output_type": "stream",
     "text": [
      "  5%|████▍                                                                                        | 2005/42000 [01:08<19:56, 33.42it/s]"
     ]
    },
    {
     "name": "stdout",
     "output_type": "stream",
     "text": [
      "# writing exp_v2.2/YandexCup2024v2/YaCupTrain//dump-000005.tar 400 0.2 GB 2000\n"
     ]
    },
    {
     "name": "stderr",
     "output_type": "stream",
     "text": [
      "  6%|█████▎                                                                                       | 2405/42000 [01:20<19:43, 33.45it/s]"
     ]
    },
    {
     "name": "stdout",
     "output_type": "stream",
     "text": [
      "# writing exp_v2.2/YandexCup2024v2/YaCupTrain//dump-000006.tar 400 0.2 GB 2400\n"
     ]
    },
    {
     "name": "stderr",
     "output_type": "stream",
     "text": [
      "  7%|██████▏                                                                                      | 2805/42000 [01:31<19:30, 33.49it/s]"
     ]
    },
    {
     "name": "stdout",
     "output_type": "stream",
     "text": [
      "# writing exp_v2.2/YandexCup2024v2/YaCupTrain//dump-000007.tar 400 0.2 GB 2800\n"
     ]
    },
    {
     "name": "stderr",
     "output_type": "stream",
     "text": [
      "  8%|███████                                                                                      | 3203/42000 [01:46<35:31, 18.21it/s]"
     ]
    },
    {
     "name": "stdout",
     "output_type": "stream",
     "text": [
      "# writing exp_v2.2/YandexCup2024v2/YaCupTrain//dump-000008.tar 400 0.2 GB 3200\n"
     ]
    },
    {
     "name": "stderr",
     "output_type": "stream",
     "text": [
      "  9%|███████▉                                                                                     | 3603/42000 [02:09<36:11, 17.68it/s]"
     ]
    },
    {
     "name": "stdout",
     "output_type": "stream",
     "text": [
      "# writing exp_v2.2/YandexCup2024v2/YaCupTrain//dump-000009.tar 400 0.2 GB 3600\n"
     ]
    },
    {
     "name": "stderr",
     "output_type": "stream",
     "text": [
      " 10%|████████▊                                                                                    | 4006/42000 [02:28<18:46, 33.73it/s]"
     ]
    },
    {
     "name": "stdout",
     "output_type": "stream",
     "text": [
      "# writing exp_v2.2/YandexCup2024v2/YaCupTrain//dump-000010.tar 400 0.2 GB 4000\n"
     ]
    },
    {
     "name": "stderr",
     "output_type": "stream",
     "text": [
      " 10%|█████████▋                                                                                   | 4402/42000 [02:40<30:41, 20.41it/s]"
     ]
    },
    {
     "name": "stdout",
     "output_type": "stream",
     "text": [
      "# writing exp_v2.2/YandexCup2024v2/YaCupTrain//dump-000011.tar 400 0.2 GB 4400\n"
     ]
    },
    {
     "name": "stderr",
     "output_type": "stream",
     "text": [
      " 11%|██████████▋                                                                                  | 4804/42000 [02:54<19:02, 32.56it/s]"
     ]
    },
    {
     "name": "stdout",
     "output_type": "stream",
     "text": [
      "# writing exp_v2.2/YandexCup2024v2/YaCupTrain//dump-000012.tar 400 0.2 GB 4800\n"
     ]
    },
    {
     "name": "stderr",
     "output_type": "stream",
     "text": [
      " 12%|███████████▌                                                                                 | 5204/42000 [03:15<20:18, 30.20it/s]"
     ]
    },
    {
     "name": "stdout",
     "output_type": "stream",
     "text": [
      "# writing exp_v2.2/YandexCup2024v2/YaCupTrain//dump-000013.tar 400 0.2 GB 5200\n"
     ]
    },
    {
     "name": "stderr",
     "output_type": "stream",
     "text": [
      " 13%|████████████▍                                                                                | 5604/42000 [03:27<19:13, 31.54it/s]"
     ]
    },
    {
     "name": "stdout",
     "output_type": "stream",
     "text": [
      "# writing exp_v2.2/YandexCup2024v2/YaCupTrain//dump-000014.tar 400 0.2 GB 5600\n"
     ]
    },
    {
     "name": "stderr",
     "output_type": "stream",
     "text": [
      " 14%|█████████████▎                                                                               | 6004/42000 [03:40<18:11, 32.99it/s]"
     ]
    },
    {
     "name": "stdout",
     "output_type": "stream",
     "text": [
      "# writing exp_v2.2/YandexCup2024v2/YaCupTrain//dump-000015.tar 400 0.2 GB 6000\n"
     ]
    },
    {
     "name": "stderr",
     "output_type": "stream",
     "text": [
      " 15%|██████████████▏                                                                              | 6404/42000 [03:52<17:57, 33.03it/s]"
     ]
    },
    {
     "name": "stdout",
     "output_type": "stream",
     "text": [
      "# writing exp_v2.2/YandexCup2024v2/YaCupTrain//dump-000016.tar 400 0.2 GB 6400\n"
     ]
    },
    {
     "name": "stderr",
     "output_type": "stream",
     "text": [
      " 16%|███████████████                                                                              | 6804/42000 [04:04<17:23, 33.72it/s]"
     ]
    },
    {
     "name": "stdout",
     "output_type": "stream",
     "text": [
      "# writing exp_v2.2/YandexCup2024v2/YaCupTrain//dump-000017.tar 400 0.2 GB 6800\n"
     ]
    },
    {
     "name": "stderr",
     "output_type": "stream",
     "text": [
      " 17%|███████████████▉                                                                             | 7206/42000 [04:17<17:09, 33.80it/s]"
     ]
    },
    {
     "name": "stdout",
     "output_type": "stream",
     "text": [
      "# writing exp_v2.2/YandexCup2024v2/YaCupTrain//dump-000018.tar 400 0.2 GB 7200\n"
     ]
    },
    {
     "name": "stderr",
     "output_type": "stream",
     "text": [
      " 18%|████████████████▊                                                                            | 7606/42000 [04:29<17:16, 33.17it/s]"
     ]
    },
    {
     "name": "stdout",
     "output_type": "stream",
     "text": [
      "# writing exp_v2.2/YandexCup2024v2/YaCupTrain//dump-000019.tar 400 0.2 GB 7600\n"
     ]
    },
    {
     "name": "stderr",
     "output_type": "stream",
     "text": [
      " 19%|█████████████████▋                                                                           | 8006/42000 [04:41<16:57, 33.41it/s]"
     ]
    },
    {
     "name": "stdout",
     "output_type": "stream",
     "text": [
      "# writing exp_v2.2/YandexCup2024v2/YaCupTrain//dump-000020.tar 400 0.2 GB 8000\n"
     ]
    },
    {
     "name": "stderr",
     "output_type": "stream",
     "text": [
      " 20%|██████████████████▌                                                                          | 8406/42000 [04:53<17:52, 31.33it/s]"
     ]
    },
    {
     "name": "stdout",
     "output_type": "stream",
     "text": [
      "# writing exp_v2.2/YandexCup2024v2/YaCupTrain//dump-000021.tar 400 0.2 GB 8400\n"
     ]
    },
    {
     "name": "stderr",
     "output_type": "stream",
     "text": [
      " 21%|███████████████████▍                                                                         | 8804/42000 [05:06<19:23, 28.52it/s]"
     ]
    },
    {
     "name": "stdout",
     "output_type": "stream",
     "text": [
      "# writing exp_v2.2/YandexCup2024v2/YaCupTrain//dump-000022.tar 400 0.2 GB 8800\n"
     ]
    },
    {
     "name": "stderr",
     "output_type": "stream",
     "text": [
      " 22%|████████████████████▍                                                                        | 9206/42000 [05:22<16:28, 33.16it/s]"
     ]
    },
    {
     "name": "stdout",
     "output_type": "stream",
     "text": [
      "# writing exp_v2.2/YandexCup2024v2/YaCupTrain//dump-000023.tar 400 0.2 GB 9200\n"
     ]
    },
    {
     "name": "stderr",
     "output_type": "stream",
     "text": [
      " 23%|█████████████████████▎                                                                       | 9606/42000 [05:35<16:50, 32.06it/s]"
     ]
    },
    {
     "name": "stdout",
     "output_type": "stream",
     "text": [
      "# writing exp_v2.2/YandexCup2024v2/YaCupTrain//dump-000024.tar 400 0.2 GB 9600\n"
     ]
    },
    {
     "name": "stderr",
     "output_type": "stream",
     "text": [
      " 24%|█████████████████████▉                                                                      | 10003/42000 [05:49<29:50, 17.88it/s]"
     ]
    },
    {
     "name": "stdout",
     "output_type": "stream",
     "text": [
      "# writing exp_v2.2/YandexCup2024v2/YaCupTrain//dump-000025.tar 400 0.2 GB 10000\n"
     ]
    },
    {
     "name": "stderr",
     "output_type": "stream",
     "text": [
      " 25%|██████████████████████▊                                                                     | 10403/42000 [06:10<31:03, 16.96it/s]"
     ]
    },
    {
     "name": "stdout",
     "output_type": "stream",
     "text": [
      "# writing exp_v2.2/YandexCup2024v2/YaCupTrain//dump-000026.tar 400 0.2 GB 10400\n"
     ]
    },
    {
     "name": "stderr",
     "output_type": "stream",
     "text": [
      " 26%|███████████████████████▋                                                                    | 10806/42000 [06:29<15:33, 33.42it/s]"
     ]
    },
    {
     "name": "stdout",
     "output_type": "stream",
     "text": [
      "# writing exp_v2.2/YandexCup2024v2/YaCupTrain//dump-000027.tar 400 0.2 GB 10800\n"
     ]
    },
    {
     "name": "stderr",
     "output_type": "stream",
     "text": [
      " 27%|████████████████████████▌                                                                   | 11206/42000 [06:42<15:50, 32.41it/s]"
     ]
    },
    {
     "name": "stdout",
     "output_type": "stream",
     "text": [
      "# writing exp_v2.2/YandexCup2024v2/YaCupTrain//dump-000028.tar 400 0.2 GB 11200\n"
     ]
    },
    {
     "name": "stderr",
     "output_type": "stream",
     "text": [
      " 28%|█████████████████████████▍                                                                  | 11606/42000 [06:54<15:06, 33.51it/s]"
     ]
    },
    {
     "name": "stdout",
     "output_type": "stream",
     "text": [
      "# writing exp_v2.2/YandexCup2024v2/YaCupTrain//dump-000029.tar 400 0.2 GB 11600\n"
     ]
    },
    {
     "name": "stderr",
     "output_type": "stream",
     "text": [
      " 29%|██████████████████████████▎                                                                 | 12006/42000 [07:06<15:09, 32.98it/s]"
     ]
    },
    {
     "name": "stdout",
     "output_type": "stream",
     "text": [
      "# writing exp_v2.2/YandexCup2024v2/YaCupTrain//dump-000030.tar 400 0.2 GB 12000\n"
     ]
    },
    {
     "name": "stderr",
     "output_type": "stream",
     "text": [
      " 30%|███████████████████████████▏                                                                | 12406/42000 [07:18<14:33, 33.87it/s]"
     ]
    },
    {
     "name": "stdout",
     "output_type": "stream",
     "text": [
      "# writing exp_v2.2/YandexCup2024v2/YaCupTrain//dump-000031.tar 400 0.2 GB 12400\n"
     ]
    },
    {
     "name": "stderr",
     "output_type": "stream",
     "text": [
      " 30%|████████████████████████████                                                                | 12806/42000 [07:30<14:18, 33.99it/s]"
     ]
    },
    {
     "name": "stdout",
     "output_type": "stream",
     "text": [
      "# writing exp_v2.2/YandexCup2024v2/YaCupTrain//dump-000032.tar 400 0.2 GB 12800\n"
     ]
    },
    {
     "name": "stderr",
     "output_type": "stream",
     "text": [
      " 31%|████████████████████████████▉                                                               | 13206/42000 [07:42<14:18, 33.56it/s]"
     ]
    },
    {
     "name": "stdout",
     "output_type": "stream",
     "text": [
      "# writing exp_v2.2/YandexCup2024v2/YaCupTrain//dump-000033.tar 400 0.2 GB 13200\n"
     ]
    },
    {
     "name": "stderr",
     "output_type": "stream",
     "text": [
      " 32%|█████████████████████████████▊                                                              | 13606/42000 [07:53<13:44, 34.42it/s]"
     ]
    },
    {
     "name": "stdout",
     "output_type": "stream",
     "text": [
      "# writing exp_v2.2/YandexCup2024v2/YaCupTrain//dump-000034.tar 400 0.2 GB 13600\n"
     ]
    },
    {
     "name": "stderr",
     "output_type": "stream",
     "text": [
      " 33%|██████████████████████████████▋                                                             | 14007/42000 [08:09<14:13, 32.80it/s]"
     ]
    },
    {
     "name": "stdout",
     "output_type": "stream",
     "text": [
      "# writing exp_v2.2/YandexCup2024v2/YaCupTrain//dump-000035.tar 400 0.2 GB 14000\n"
     ]
    },
    {
     "name": "stderr",
     "output_type": "stream",
     "text": [
      " 34%|███████████████████████████████▌                                                            | 14403/42000 [08:21<13:49, 33.27it/s]"
     ]
    },
    {
     "name": "stdout",
     "output_type": "stream",
     "text": [
      "# writing exp_v2.2/YandexCup2024v2/YaCupTrain//dump-000036.tar 400 0.2 GB 14400\n"
     ]
    },
    {
     "name": "stderr",
     "output_type": "stream",
     "text": [
      " 35%|████████████████████████████████▍                                                           | 14807/42000 [08:33<13:25, 33.75it/s]"
     ]
    },
    {
     "name": "stdout",
     "output_type": "stream",
     "text": [
      "# writing exp_v2.2/YandexCup2024v2/YaCupTrain//dump-000037.tar 400 0.2 GB 14800\n"
     ]
    },
    {
     "name": "stderr",
     "output_type": "stream",
     "text": [
      " 36%|█████████████████████████████████▎                                                          | 15204/42000 [08:51<24:50, 17.98it/s]"
     ]
    },
    {
     "name": "stdout",
     "output_type": "stream",
     "text": [
      "# writing exp_v2.2/YandexCup2024v2/YaCupTrain//dump-000038.tar 400 0.2 GB 15200\n"
     ]
    },
    {
     "name": "stderr",
     "output_type": "stream",
     "text": [
      " 37%|██████████████████████████████████▏                                                         | 15603/42000 [09:06<13:39, 32.22it/s]"
     ]
    },
    {
     "name": "stdout",
     "output_type": "stream",
     "text": [
      "# writing exp_v2.2/YandexCup2024v2/YaCupTrain//dump-000039.tar 400 0.2 GB 15600\n"
     ]
    },
    {
     "name": "stderr",
     "output_type": "stream",
     "text": [
      " 38%|███████████████████████████████████                                                         | 16007/42000 [09:18<13:05, 33.09it/s]"
     ]
    },
    {
     "name": "stdout",
     "output_type": "stream",
     "text": [
      "# writing exp_v2.2/YandexCup2024v2/YaCupTrain//dump-000040.tar 400 0.2 GB 16000\n"
     ]
    },
    {
     "name": "stderr",
     "output_type": "stream",
     "text": [
      " 39%|███████████████████████████████████▉                                                        | 16407/42000 [09:30<13:00, 32.79it/s]"
     ]
    },
    {
     "name": "stdout",
     "output_type": "stream",
     "text": [
      "# writing exp_v2.2/YandexCup2024v2/YaCupTrain//dump-000041.tar 400 0.2 GB 16400\n"
     ]
    },
    {
     "name": "stderr",
     "output_type": "stream",
     "text": [
      " 40%|████████████████████████████████████▊                                                       | 16807/42000 [09:42<12:38, 33.22it/s]"
     ]
    },
    {
     "name": "stdout",
     "output_type": "stream",
     "text": [
      "# writing exp_v2.2/YandexCup2024v2/YaCupTrain//dump-000042.tar 400 0.2 GB 16800\n"
     ]
    },
    {
     "name": "stderr",
     "output_type": "stream",
     "text": [
      " 41%|█████████████████████████████████████▋                                                      | 17203/42000 [09:54<12:48, 32.27it/s]"
     ]
    },
    {
     "name": "stdout",
     "output_type": "stream",
     "text": [
      "# writing exp_v2.2/YandexCup2024v2/YaCupTrain//dump-000043.tar 400 0.2 GB 17200\n"
     ]
    },
    {
     "name": "stderr",
     "output_type": "stream",
     "text": [
      " 42%|██████████████████████████████████████▌                                                     | 17607/42000 [10:06<12:17, 33.08it/s]"
     ]
    },
    {
     "name": "stdout",
     "output_type": "stream",
     "text": [
      "# writing exp_v2.2/YandexCup2024v2/YaCupTrain//dump-000044.tar 400 0.2 GB 17600\n"
     ]
    },
    {
     "name": "stderr",
     "output_type": "stream",
     "text": [
      " 43%|███████████████████████████████████████▍                                                    | 18007/42000 [10:18<12:03, 33.15it/s]"
     ]
    },
    {
     "name": "stdout",
     "output_type": "stream",
     "text": [
      "# writing exp_v2.2/YandexCup2024v2/YaCupTrain//dump-000045.tar 400 0.2 GB 18000\n"
     ]
    },
    {
     "name": "stderr",
     "output_type": "stream",
     "text": [
      " 44%|████████████████████████████████████████▎                                                   | 18407/42000 [10:30<12:25, 31.66it/s]"
     ]
    },
    {
     "name": "stdout",
     "output_type": "stream",
     "text": [
      "# writing exp_v2.2/YandexCup2024v2/YaCupTrain//dump-000046.tar 400 0.2 GB 18400\n"
     ]
    },
    {
     "name": "stderr",
     "output_type": "stream",
     "text": [
      " 45%|█████████████████████████████████████████▏                                                  | 18807/42000 [10:42<11:31, 33.52it/s]"
     ]
    },
    {
     "name": "stdout",
     "output_type": "stream",
     "text": [
      "# writing exp_v2.2/YandexCup2024v2/YaCupTrain//dump-000047.tar 400 0.2 GB 18800\n"
     ]
    },
    {
     "name": "stderr",
     "output_type": "stream",
     "text": [
      " 46%|██████████████████████████████████████████                                                  | 19203/42000 [11:03<21:42, 17.50it/s]"
     ]
    },
    {
     "name": "stdout",
     "output_type": "stream",
     "text": [
      "# writing exp_v2.2/YandexCup2024v2/YaCupTrain//dump-000048.tar 400 0.2 GB 19200\n"
     ]
    },
    {
     "name": "stderr",
     "output_type": "stream",
     "text": [
      " 47%|██████████████████████████████████████████▉                                                 | 19607/42000 [11:16<11:42, 31.90it/s]"
     ]
    },
    {
     "name": "stdout",
     "output_type": "stream",
     "text": [
      "# writing exp_v2.2/YandexCup2024v2/YaCupTrain//dump-000049.tar 400 0.2 GB 19600\n"
     ]
    },
    {
     "name": "stderr",
     "output_type": "stream",
     "text": [
      " 48%|███████████████████████████████████████████▊                                                | 20007/42000 [11:34<12:05, 30.32it/s]"
     ]
    },
    {
     "name": "stdout",
     "output_type": "stream",
     "text": [
      "# writing exp_v2.2/YandexCup2024v2/YaCupTrain//dump-000050.tar 400 0.2 GB 20000\n"
     ]
    },
    {
     "name": "stderr",
     "output_type": "stream",
     "text": [
      " 49%|████████████████████████████████████████████▋                                               | 20406/42000 [11:52<11:43, 30.70it/s]"
     ]
    },
    {
     "name": "stdout",
     "output_type": "stream",
     "text": [
      "# writing exp_v2.2/YandexCup2024v2/YaCupTrain//dump-000051.tar 400 0.2 GB 20400\n"
     ]
    },
    {
     "name": "stderr",
     "output_type": "stream",
     "text": [
      " 50%|█████████████████████████████████████████████▌                                              | 20806/42000 [12:04<10:23, 33.99it/s]"
     ]
    },
    {
     "name": "stdout",
     "output_type": "stream",
     "text": [
      "# writing exp_v2.2/YandexCup2024v2/YaCupTrain//dump-000052.tar 400 0.2 GB 20800\n"
     ]
    },
    {
     "name": "stderr",
     "output_type": "stream",
     "text": [
      " 50%|██████████████████████████████████████████████▍                                             | 21203/42000 [12:17<18:42, 18.53it/s]"
     ]
    },
    {
     "name": "stdout",
     "output_type": "stream",
     "text": [
      "# writing exp_v2.2/YandexCup2024v2/YaCupTrain//dump-000053.tar 400 0.2 GB 21200\n"
     ]
    },
    {
     "name": "stderr",
     "output_type": "stream",
     "text": [
      " 51%|███████████████████████████████████████████████▎                                            | 21607/42000 [12:30<09:43, 34.93it/s]"
     ]
    },
    {
     "name": "stdout",
     "output_type": "stream",
     "text": [
      "# writing exp_v2.2/YandexCup2024v2/YaCupTrain//dump-000054.tar 400 0.2 GB 21600\n"
     ]
    },
    {
     "name": "stderr",
     "output_type": "stream",
     "text": [
      " 52%|████████████████████████████████████████████████▏                                           | 22007/42000 [12:42<09:47, 34.04it/s]"
     ]
    },
    {
     "name": "stdout",
     "output_type": "stream",
     "text": [
      "# writing exp_v2.2/YandexCup2024v2/YaCupTrain//dump-000055.tar 400 0.2 GB 22000\n"
     ]
    },
    {
     "name": "stderr",
     "output_type": "stream",
     "text": [
      " 53%|█████████████████████████████████████████████████                                           | 22407/42000 [12:56<10:13, 31.94it/s]"
     ]
    },
    {
     "name": "stdout",
     "output_type": "stream",
     "text": [
      "# writing exp_v2.2/YandexCup2024v2/YaCupTrain//dump-000056.tar 400 0.2 GB 22400\n"
     ]
    },
    {
     "name": "stderr",
     "output_type": "stream",
     "text": [
      " 54%|█████████████████████████████████████████████████▉                                          | 22804/42000 [13:10<17:43, 18.05it/s]"
     ]
    },
    {
     "name": "stdout",
     "output_type": "stream",
     "text": [
      "# writing exp_v2.2/YandexCup2024v2/YaCupTrain//dump-000057.tar 400 0.2 GB 22800\n"
     ]
    },
    {
     "name": "stderr",
     "output_type": "stream",
     "text": [
      " 55%|██████████████████████████████████████████████████▊                                         | 23204/42000 [13:32<14:27, 21.67it/s]"
     ]
    },
    {
     "name": "stdout",
     "output_type": "stream",
     "text": [
      "# writing exp_v2.2/YandexCup2024v2/YaCupTrain//dump-000058.tar 400 0.2 GB 23200\n"
     ]
    },
    {
     "name": "stderr",
     "output_type": "stream",
     "text": [
      " 56%|███████████████████████████████████████████████████▋                                        | 23604/42000 [13:52<14:42, 20.85it/s]"
     ]
    },
    {
     "name": "stdout",
     "output_type": "stream",
     "text": [
      "# writing exp_v2.2/YandexCup2024v2/YaCupTrain//dump-000059.tar 400 0.2 GB 23600\n"
     ]
    },
    {
     "name": "stderr",
     "output_type": "stream",
     "text": [
      " 57%|████████████████████████████████████████████████████▌                                       | 24007/42000 [14:05<09:23, 31.94it/s]"
     ]
    },
    {
     "name": "stdout",
     "output_type": "stream",
     "text": [
      "# writing exp_v2.2/YandexCup2024v2/YaCupTrain//dump-000060.tar 400 0.2 GB 24000\n"
     ]
    },
    {
     "name": "stderr",
     "output_type": "stream",
     "text": [
      " 58%|█████████████████████████████████████████████████████▍                                      | 24403/42000 [14:20<16:20, 17.94it/s]"
     ]
    },
    {
     "name": "stdout",
     "output_type": "stream",
     "text": [
      "# writing exp_v2.2/YandexCup2024v2/YaCupTrain//dump-000061.tar 400 0.2 GB 24400\n"
     ]
    },
    {
     "name": "stderr",
     "output_type": "stream",
     "text": [
      " 59%|██████████████████████████████████████████████████████▎                                     | 24807/42000 [14:40<08:36, 33.30it/s]"
     ]
    },
    {
     "name": "stdout",
     "output_type": "stream",
     "text": [
      "# writing exp_v2.2/YandexCup2024v2/YaCupTrain//dump-000062.tar 400 0.2 GB 24800\n"
     ]
    },
    {
     "name": "stderr",
     "output_type": "stream",
     "text": [
      " 60%|███████████████████████████████████████████████████████▏                                    | 25204/42000 [14:53<12:51, 21.76it/s]"
     ]
    },
    {
     "name": "stdout",
     "output_type": "stream",
     "text": [
      "# writing exp_v2.2/YandexCup2024v2/YaCupTrain//dump-000063.tar 400 0.2 GB 25200\n"
     ]
    },
    {
     "name": "stderr",
     "output_type": "stream",
     "text": [
      " 61%|████████████████████████████████████████████████████████                                    | 25606/42000 [15:13<08:57, 30.51it/s]"
     ]
    },
    {
     "name": "stdout",
     "output_type": "stream",
     "text": [
      "# writing exp_v2.2/YandexCup2024v2/YaCupTrain//dump-000064.tar 400 0.2 GB 25600\n"
     ]
    },
    {
     "name": "stderr",
     "output_type": "stream",
     "text": [
      " 62%|████████████████████████████████████████████████████████▉                                   | 26006/42000 [15:25<07:51, 33.95it/s]"
     ]
    },
    {
     "name": "stdout",
     "output_type": "stream",
     "text": [
      "# writing exp_v2.2/YandexCup2024v2/YaCupTrain//dump-000065.tar 400 0.2 GB 26000\n"
     ]
    },
    {
     "name": "stderr",
     "output_type": "stream",
     "text": [
      " 63%|█████████████████████████████████████████████████████████▊                                  | 26406/42000 [15:37<07:59, 32.51it/s]"
     ]
    },
    {
     "name": "stdout",
     "output_type": "stream",
     "text": [
      "# writing exp_v2.2/YandexCup2024v2/YaCupTrain//dump-000066.tar 400 0.2 GB 26400\n"
     ]
    },
    {
     "name": "stderr",
     "output_type": "stream",
     "text": [
      " 64%|██████████████████████████████████████████████████████████▋                                 | 26806/42000 [15:50<07:30, 33.71it/s]"
     ]
    },
    {
     "name": "stdout",
     "output_type": "stream",
     "text": [
      "# writing exp_v2.2/YandexCup2024v2/YaCupTrain//dump-000067.tar 400 0.2 GB 26800\n"
     ]
    },
    {
     "name": "stderr",
     "output_type": "stream",
     "text": [
      " 65%|███████████████████████████████████████████████████████████▌                                | 27206/42000 [16:02<07:20, 33.60it/s]"
     ]
    },
    {
     "name": "stdout",
     "output_type": "stream",
     "text": [
      "# writing exp_v2.2/YandexCup2024v2/YaCupTrain//dump-000068.tar 400 0.2 GB 27200\n"
     ]
    },
    {
     "name": "stderr",
     "output_type": "stream",
     "text": [
      " 66%|████████████████████████████████████████████████████████████▍                               | 27605/42000 [16:14<07:27, 32.19it/s]"
     ]
    },
    {
     "name": "stdout",
     "output_type": "stream",
     "text": [
      "# writing exp_v2.2/YandexCup2024v2/YaCupTrain//dump-000069.tar 400 0.2 GB 27600\n"
     ]
    },
    {
     "name": "stderr",
     "output_type": "stream",
     "text": [
      " 67%|█████████████████████████████████████████████████████████████▎                              | 28003/42000 [16:28<11:18, 20.64it/s]"
     ]
    },
    {
     "name": "stdout",
     "output_type": "stream",
     "text": [
      "# writing exp_v2.2/YandexCup2024v2/YaCupTrain//dump-000070.tar 400 0.2 GB 28000\n"
     ]
    },
    {
     "name": "stderr",
     "output_type": "stream",
     "text": [
      " 68%|██████████████████████████████████████████████████████████████▏                             | 28404/42000 [16:47<07:27, 30.36it/s]"
     ]
    },
    {
     "name": "stdout",
     "output_type": "stream",
     "text": [
      "# writing exp_v2.2/YandexCup2024v2/YaCupTrain//dump-000071.tar 400 0.2 GB 28400\n"
     ]
    },
    {
     "name": "stderr",
     "output_type": "stream",
     "text": [
      " 69%|███████████████████████████████████████████████████████████████                             | 28807/42000 [16:59<06:41, 32.84it/s]"
     ]
    },
    {
     "name": "stdout",
     "output_type": "stream",
     "text": [
      "# writing exp_v2.2/YandexCup2024v2/YaCupTrain//dump-000072.tar 400 0.2 GB 28800\n"
     ]
    },
    {
     "name": "stderr",
     "output_type": "stream",
     "text": [
      " 70%|███████████████████████████████████████████████████████████████▉                            | 29207/42000 [17:12<06:43, 31.70it/s]"
     ]
    },
    {
     "name": "stdout",
     "output_type": "stream",
     "text": [
      "# writing exp_v2.2/YandexCup2024v2/YaCupTrain//dump-000073.tar 400 0.2 GB 29200\n"
     ]
    },
    {
     "name": "stderr",
     "output_type": "stream",
     "text": [
      " 70%|████████████████████████████████████████████████████████████████▊                           | 29607/42000 [17:30<06:33, 31.51it/s]"
     ]
    },
    {
     "name": "stdout",
     "output_type": "stream",
     "text": [
      "# writing exp_v2.2/YandexCup2024v2/YaCupTrain//dump-000074.tar 400 0.2 GB 29600\n"
     ]
    },
    {
     "name": "stderr",
     "output_type": "stream",
     "text": [
      " 71%|█████████████████████████████████████████████████████████████████▋                          | 30006/42000 [17:42<06:05, 32.79it/s]"
     ]
    },
    {
     "name": "stdout",
     "output_type": "stream",
     "text": [
      "# writing exp_v2.2/YandexCup2024v2/YaCupTrain//dump-000075.tar 400 0.2 GB 30000\n"
     ]
    },
    {
     "name": "stderr",
     "output_type": "stream",
     "text": [
      " 72%|██████████████████████████████████████████████████████████████████▌                         | 30406/42000 [17:54<05:42, 33.86it/s]"
     ]
    },
    {
     "name": "stdout",
     "output_type": "stream",
     "text": [
      "# writing exp_v2.2/YandexCup2024v2/YaCupTrain//dump-000076.tar 400 0.2 GB 30400\n"
     ]
    },
    {
     "name": "stderr",
     "output_type": "stream",
     "text": [
      " 73%|███████████████████████████████████████████████████████████████████▍                        | 30806/42000 [18:06<05:28, 34.04it/s]"
     ]
    },
    {
     "name": "stdout",
     "output_type": "stream",
     "text": [
      "# writing exp_v2.2/YandexCup2024v2/YaCupTrain//dump-000077.tar 400 0.2 GB 30800\n"
     ]
    },
    {
     "name": "stderr",
     "output_type": "stream",
     "text": [
      " 74%|████████████████████████████████████████████████████████████████████▎                       | 31206/42000 [18:18<05:16, 34.08it/s]"
     ]
    },
    {
     "name": "stdout",
     "output_type": "stream",
     "text": [
      "# writing exp_v2.2/YandexCup2024v2/YaCupTrain//dump-000078.tar 400 0.2 GB 31200\n"
     ]
    },
    {
     "name": "stderr",
     "output_type": "stream",
     "text": [
      " 75%|█████████████████████████████████████████████████████████████████████▏                      | 31606/42000 [18:31<05:49, 29.77it/s]"
     ]
    },
    {
     "name": "stdout",
     "output_type": "stream",
     "text": [
      "# writing exp_v2.2/YandexCup2024v2/YaCupTrain//dump-000079.tar 400 0.2 GB 31600\n"
     ]
    },
    {
     "name": "stderr",
     "output_type": "stream",
     "text": [
      " 76%|██████████████████████████████████████████████████████████████████████                      | 32003/42000 [18:50<08:00, 20.82it/s]"
     ]
    },
    {
     "name": "stdout",
     "output_type": "stream",
     "text": [
      "# writing exp_v2.2/YandexCup2024v2/YaCupTrain//dump-000080.tar 400 0.2 GB 32000\n"
     ]
    },
    {
     "name": "stderr",
     "output_type": "stream",
     "text": [
      " 77%|██████████████████████████████████████████████████████████████████████▉                     | 32404/42000 [19:02<04:52, 32.83it/s]"
     ]
    },
    {
     "name": "stdout",
     "output_type": "stream",
     "text": [
      "# writing exp_v2.2/YandexCup2024v2/YaCupTrain//dump-000081.tar 400 0.2 GB 32400\n"
     ]
    },
    {
     "name": "stderr",
     "output_type": "stream",
     "text": [
      " 78%|███████████████████████████████████████████████████████████████████████▊                    | 32804/42000 [19:16<08:46, 17.45it/s]"
     ]
    },
    {
     "name": "stdout",
     "output_type": "stream",
     "text": [
      "# writing exp_v2.2/YandexCup2024v2/YaCupTrain//dump-000082.tar 400 0.2 GB 32800\n"
     ]
    },
    {
     "name": "stderr",
     "output_type": "stream",
     "text": [
      " 79%|████████████████████████████████████████████████████████████████████████▋                   | 33204/42000 [19:33<08:24, 17.42it/s]"
     ]
    },
    {
     "name": "stdout",
     "output_type": "stream",
     "text": [
      "# writing exp_v2.2/YandexCup2024v2/YaCupTrain//dump-000083.tar 400 0.2 GB 33200\n"
     ]
    },
    {
     "name": "stderr",
     "output_type": "stream",
     "text": [
      " 80%|█████████████████████████████████████████████████████████████████████████▌                  | 33607/42000 [19:55<04:54, 28.50it/s]"
     ]
    },
    {
     "name": "stdout",
     "output_type": "stream",
     "text": [
      "# writing exp_v2.2/YandexCup2024v2/YaCupTrain//dump-000084.tar 400 0.2 GB 33600\n"
     ]
    },
    {
     "name": "stderr",
     "output_type": "stream",
     "text": [
      " 81%|██████████████████████████████████████████████████████████████████████████▍                 | 34006/42000 [20:07<03:57, 33.62it/s]"
     ]
    },
    {
     "name": "stdout",
     "output_type": "stream",
     "text": [
      "# writing exp_v2.2/YandexCup2024v2/YaCupTrain//dump-000085.tar 400 0.2 GB 34000\n"
     ]
    },
    {
     "name": "stderr",
     "output_type": "stream",
     "text": [
      " 82%|███████████████████████████████████████████████████████████████████████████▎                | 34406/42000 [20:19<03:45, 33.72it/s]"
     ]
    },
    {
     "name": "stdout",
     "output_type": "stream",
     "text": [
      "# writing exp_v2.2/YandexCup2024v2/YaCupTrain//dump-000086.tar 400 0.2 GB 34400\n"
     ]
    },
    {
     "name": "stderr",
     "output_type": "stream",
     "text": [
      " 83%|████████████████████████████████████████████████████████████████████████████▏               | 34806/42000 [20:31<03:41, 32.45it/s]"
     ]
    },
    {
     "name": "stdout",
     "output_type": "stream",
     "text": [
      "# writing exp_v2.2/YandexCup2024v2/YaCupTrain//dump-000087.tar 400 0.2 GB 34800\n"
     ]
    },
    {
     "name": "stderr",
     "output_type": "stream",
     "text": [
      " 84%|█████████████████████████████████████████████████████████████████████████████               | 35206/42000 [20:44<03:31, 32.19it/s]"
     ]
    },
    {
     "name": "stdout",
     "output_type": "stream",
     "text": [
      "# writing exp_v2.2/YandexCup2024v2/YaCupTrain//dump-000088.tar 400 0.2 GB 35200\n"
     ]
    },
    {
     "name": "stderr",
     "output_type": "stream",
     "text": [
      " 85%|█████████████████████████████████████████████████████████████████████████████▉              | 35604/42000 [21:05<06:00, 17.76it/s]"
     ]
    },
    {
     "name": "stdout",
     "output_type": "stream",
     "text": [
      "# writing exp_v2.2/YandexCup2024v2/YaCupTrain//dump-000089.tar 400 0.2 GB 35600\n"
     ]
    },
    {
     "name": "stderr",
     "output_type": "stream",
     "text": [
      " 86%|██████████████████████████████████████████████████████████████████████████████▊             | 36004/42000 [21:28<05:43, 17.46it/s]"
     ]
    },
    {
     "name": "stdout",
     "output_type": "stream",
     "text": [
      "# writing exp_v2.2/YandexCup2024v2/YaCupTrain//dump-000090.tar 400 0.2 GB 36000\n"
     ]
    },
    {
     "name": "stderr",
     "output_type": "stream",
     "text": [
      " 87%|███████████████████████████████████████████████████████████████████████████████▋            | 36407/42000 [21:44<02:55, 31.84it/s]"
     ]
    },
    {
     "name": "stdout",
     "output_type": "stream",
     "text": [
      "# writing exp_v2.2/YandexCup2024v2/YaCupTrain//dump-000091.tar 400 0.2 GB 36400\n"
     ]
    },
    {
     "name": "stderr",
     "output_type": "stream",
     "text": [
      " 88%|████████████████████████████████████████████████████████████████████████████████▌           | 36807/42000 [21:57<02:38, 32.77it/s]"
     ]
    },
    {
     "name": "stdout",
     "output_type": "stream",
     "text": [
      "# writing exp_v2.2/YandexCup2024v2/YaCupTrain//dump-000092.tar 400 0.2 GB 36800\n"
     ]
    },
    {
     "name": "stderr",
     "output_type": "stream",
     "text": [
      " 89%|█████████████████████████████████████████████████████████████████████████████████▍          | 37203/42000 [22:09<02:38, 30.31it/s]"
     ]
    },
    {
     "name": "stdout",
     "output_type": "stream",
     "text": [
      "# writing exp_v2.2/YandexCup2024v2/YaCupTrain//dump-000093.tar 400 0.2 GB 37200\n"
     ]
    },
    {
     "name": "stderr",
     "output_type": "stream",
     "text": [
      " 90%|██████████████████████████████████████████████████████████████████████████████████▎         | 37602/42000 [22:30<04:28, 16.37it/s]"
     ]
    },
    {
     "name": "stdout",
     "output_type": "stream",
     "text": [
      "# writing exp_v2.2/YandexCup2024v2/YaCupTrain//dump-000094.tar 400 0.2 GB 37600\n"
     ]
    },
    {
     "name": "stderr",
     "output_type": "stream",
     "text": [
      " 90%|███████████████████████████████████████████████████████████████████████████████████▎        | 38006/42000 [22:46<02:05, 31.75it/s]"
     ]
    },
    {
     "name": "stdout",
     "output_type": "stream",
     "text": [
      "# writing exp_v2.2/YandexCup2024v2/YaCupTrain//dump-000095.tar 400 0.2 GB 38000\n"
     ]
    },
    {
     "name": "stderr",
     "output_type": "stream",
     "text": [
      " 91%|████████████████████████████████████████████████████████████████████████████████████▏       | 38406/42000 [22:58<01:51, 32.38it/s]"
     ]
    },
    {
     "name": "stdout",
     "output_type": "stream",
     "text": [
      "# writing exp_v2.2/YandexCup2024v2/YaCupTrain//dump-000096.tar 400 0.2 GB 38400\n"
     ]
    },
    {
     "name": "stderr",
     "output_type": "stream",
     "text": [
      " 92%|█████████████████████████████████████████████████████████████████████████████████████       | 38806/42000 [23:11<01:42, 31.29it/s]"
     ]
    },
    {
     "name": "stdout",
     "output_type": "stream",
     "text": [
      "# writing exp_v2.2/YandexCup2024v2/YaCupTrain//dump-000097.tar 400 0.2 GB 38800\n"
     ]
    },
    {
     "name": "stderr",
     "output_type": "stream",
     "text": [
      " 93%|█████████████████████████████████████████████████████████████████████████████████████▉      | 39206/42000 [23:23<01:26, 32.38it/s]"
     ]
    },
    {
     "name": "stdout",
     "output_type": "stream",
     "text": [
      "# writing exp_v2.2/YandexCup2024v2/YaCupTrain//dump-000098.tar 400 0.2 GB 39200\n"
     ]
    },
    {
     "name": "stderr",
     "output_type": "stream",
     "text": [
      " 94%|██████████████████████████████████████████████████████████████████████████████████████▊     | 39605/42000 [23:35<01:14, 32.34it/s]"
     ]
    },
    {
     "name": "stdout",
     "output_type": "stream",
     "text": [
      "# writing exp_v2.2/YandexCup2024v2/YaCupTrain//dump-000099.tar 400 0.2 GB 39600\n"
     ]
    },
    {
     "name": "stderr",
     "output_type": "stream",
     "text": [
      " 95%|███████████████████████████████████████████████████████████████████████████████████████▋    | 40005/42000 [23:48<01:02, 31.99it/s]"
     ]
    },
    {
     "name": "stdout",
     "output_type": "stream",
     "text": [
      "# writing exp_v2.2/YandexCup2024v2/YaCupTrain//dump-000100.tar 400 0.2 GB 40000\n"
     ]
    },
    {
     "name": "stderr",
     "output_type": "stream",
     "text": [
      " 96%|████████████████████████████████████████████████████████████████████████████████████████▌   | 40403/42000 [24:04<01:32, 17.25it/s]"
     ]
    },
    {
     "name": "stdout",
     "output_type": "stream",
     "text": [
      "# writing exp_v2.2/YandexCup2024v2/YaCupTrain//dump-000101.tar 400 0.2 GB 40400\n"
     ]
    },
    {
     "name": "stderr",
     "output_type": "stream",
     "text": [
      " 97%|█████████████████████████████████████████████████████████████████████████████████████████▍  | 40804/42000 [24:18<00:43, 27.44it/s]"
     ]
    },
    {
     "name": "stdout",
     "output_type": "stream",
     "text": [
      "# writing exp_v2.2/YandexCup2024v2/YaCupTrain//dump-000102.tar 400 0.2 GB 40800\n"
     ]
    },
    {
     "name": "stderr",
     "output_type": "stream",
     "text": [
      " 98%|██████████████████████████████████████████████████████████████████████████████████████████▎ | 41203/42000 [24:36<00:38, 20.71it/s]"
     ]
    },
    {
     "name": "stdout",
     "output_type": "stream",
     "text": [
      "# writing exp_v2.2/YandexCup2024v2/YaCupTrain//dump-000103.tar 400 0.2 GB 41200\n"
     ]
    },
    {
     "name": "stderr",
     "output_type": "stream",
     "text": [
      " 99%|███████████████████████████████████████████████████████████████████████████████████████████▏| 41604/42000 [24:51<00:12, 31.27it/s]"
     ]
    },
    {
     "name": "stdout",
     "output_type": "stream",
     "text": [
      "# writing exp_v2.2/YandexCup2024v2/YaCupTrain//dump-000104.tar 400 0.2 GB 41600\n"
     ]
    },
    {
     "name": "stderr",
     "output_type": "stream",
     "text": [
      "100%|████████████████████████████████████████████████████████████████████████████████████████████| 42000/42000 [25:03<00:00, 27.93it/s]"
     ]
    },
    {
     "name": "stdout",
     "output_type": "stream",
     "text": [
      "Done exp_v2.2/YandexCup2024v2/YaCupTrain/\n"
     ]
    },
    {
     "name": "stderr",
     "output_type": "stream",
     "text": [
      "\n"
     ]
    }
   ],
   "source": [
    "for d in ['YandexCup2024v2/YaCupTrain/']:\n",
    "    out_d = f'exp_v2.2/{d}'\n",
    "    os.makedirs(out_d, exist_ok=True)\n",
    "    num_e = len(os.listdir(d))\n",
    "    with wds.ShardWriter(f'{out_d}/dump-%06d.tar', maxcount=400) as sink:\n",
    "        for e in tqdm(\n",
    "                DataLoader(\n",
    "                    DirLoader(d, seed=42), \n",
    "                    batch_size=None, \n",
    "                    #num_workers=6,\n",
    "                    sampler=None\n",
    "                ), \n",
    "                total=num_e\n",
    "        ):\n",
    "            sink.write(e)\n",
    "    print(f'Done {out_d}')"
   ]
  },
  {
   "cell_type": "code",
   "execution_count": 25,
   "id": "7fd4784b-380b-45cd-b44a-3e947a650680",
   "metadata": {},
   "outputs": [
    {
     "name": "stdout",
     "output_type": "stream",
     "text": [
      "# writing exp_v2.2/YandexCup2024v2/YaCupTest//dump-000000.tar 0 0.0 GB 0\n"
     ]
    },
    {
     "name": "stderr",
     "output_type": "stream",
     "text": [
      "  0%|                                                                                                         | 0/8000 [00:00<?, ?it/s]2024-11-01 22:23:49,883 root /tmp/ipykernel_3026947/3204215380.py:31 - INFO - Subset for 3 worker contains 1333/8000 annotations\n",
      "2024-11-01 22:23:49,882 root /tmp/ipykernel_3026947/3204215380.py:31 - INFO - Subset for 0 worker contains 1334/8000 annotations\n",
      "2024-11-01 22:23:49,883 root /tmp/ipykernel_3026947/3204215380.py:31 - INFO - Subset for 2 worker contains 1333/8000 annotations\n",
      "2024-11-01 22:23:49,883 root /tmp/ipykernel_3026947/3204215380.py:31 - INFO - Subset for 1 worker contains 1334/8000 annotations\n",
      "2024-11-01 22:23:49,885 root /tmp/ipykernel_3026947/3204215380.py:31 - INFO - Subset for 4 worker contains 1333/8000 annotations\n",
      "2024-11-01 22:23:49,923 root /tmp/ipykernel_3026947/3204215380.py:31 - INFO - Subset for 5 worker contains 1333/8000 annotations\n",
      "  5%|████▊                                                                                          | 408/8000 [00:10<02:46, 45.70it/s]"
     ]
    },
    {
     "name": "stdout",
     "output_type": "stream",
     "text": [
      "# writing exp_v2.2/YandexCup2024v2/YaCupTest//dump-000001.tar 400 0.1 GB 400\n"
     ]
    },
    {
     "name": "stderr",
     "output_type": "stream",
     "text": [
      " 10%|█████████▌                                                                                     | 809/8000 [00:17<02:12, 54.45it/s]"
     ]
    },
    {
     "name": "stdout",
     "output_type": "stream",
     "text": [
      "# writing exp_v2.2/YandexCup2024v2/YaCupTest//dump-000002.tar 400 0.1 GB 800\n"
     ]
    },
    {
     "name": "stderr",
     "output_type": "stream",
     "text": [
      " 15%|██████████████▏                                                                               | 1208/8000 [00:23<02:24, 46.94it/s]"
     ]
    },
    {
     "name": "stdout",
     "output_type": "stream",
     "text": [
      "# writing exp_v2.2/YandexCup2024v2/YaCupTest//dump-000003.tar 400 0.1 GB 1200\n"
     ]
    },
    {
     "name": "stderr",
     "output_type": "stream",
     "text": [
      " 20%|██████████████████▉                                                                           | 1612/8000 [00:28<01:22, 77.33it/s]"
     ]
    },
    {
     "name": "stdout",
     "output_type": "stream",
     "text": [
      "# writing exp_v2.2/YandexCup2024v2/YaCupTest//dump-000004.tar 400 0.1 GB 1600\n"
     ]
    },
    {
     "name": "stderr",
     "output_type": "stream",
     "text": [
      " 25%|███████████████████████▌                                                                      | 2006/8000 [00:36<02:10, 46.05it/s]"
     ]
    },
    {
     "name": "stdout",
     "output_type": "stream",
     "text": [
      "# writing exp_v2.2/YandexCup2024v2/YaCupTest//dump-000005.tar 400 0.1 GB 2000\n"
     ]
    },
    {
     "name": "stderr",
     "output_type": "stream",
     "text": [
      " 30%|████████████████████████████▏                                                                 | 2403/8000 [00:45<02:53, 32.22it/s]"
     ]
    },
    {
     "name": "stdout",
     "output_type": "stream",
     "text": [
      "# writing exp_v2.2/YandexCup2024v2/YaCupTest//dump-000006.tar 400 0.1 GB 2400\n"
     ]
    },
    {
     "name": "stderr",
     "output_type": "stream",
     "text": [
      " 35%|████████████████████████████████▉                                                             | 2808/8000 [00:55<01:20, 64.82it/s]"
     ]
    },
    {
     "name": "stdout",
     "output_type": "stream",
     "text": [
      "# writing exp_v2.2/YandexCup2024v2/YaCupTest//dump-000007.tar 400 0.1 GB 2800\n"
     ]
    },
    {
     "name": "stderr",
     "output_type": "stream",
     "text": [
      " 40%|█████████████████████████████████████▋                                                        | 3210/8000 [01:02<01:08, 70.25it/s]"
     ]
    },
    {
     "name": "stdout",
     "output_type": "stream",
     "text": [
      "# writing exp_v2.2/YandexCup2024v2/YaCupTest//dump-000008.tar 400 0.1 GB 3200\n"
     ]
    },
    {
     "name": "stderr",
     "output_type": "stream",
     "text": [
      " 45%|██████████████████████████████████████████▍                                                   | 3608/8000 [01:11<01:03, 69.70it/s]"
     ]
    },
    {
     "name": "stdout",
     "output_type": "stream",
     "text": [
      "# writing exp_v2.2/YandexCup2024v2/YaCupTest//dump-000009.tar 400 0.1 GB 3600\n"
     ]
    },
    {
     "name": "stderr",
     "output_type": "stream",
     "text": [
      " 50%|███████████████████████████████████████████████▏                                              | 4017/8000 [01:16<00:48, 81.82it/s]"
     ]
    },
    {
     "name": "stdout",
     "output_type": "stream",
     "text": [
      "# writing exp_v2.2/YandexCup2024v2/YaCupTest//dump-000010.tar 400 0.1 GB 4000\n"
     ]
    },
    {
     "name": "stderr",
     "output_type": "stream",
     "text": [
      " 55%|███████████████████████████████████████████████████▊                                          | 4414/8000 [01:21<00:44, 81.44it/s]"
     ]
    },
    {
     "name": "stdout",
     "output_type": "stream",
     "text": [
      "# writing exp_v2.2/YandexCup2024v2/YaCupTest//dump-000011.tar 400 0.1 GB 4400\n"
     ]
    },
    {
     "name": "stderr",
     "output_type": "stream",
     "text": [
      " 60%|████████████████████████████████████████████████████████▌                                     | 4814/8000 [01:27<00:41, 76.38it/s]"
     ]
    },
    {
     "name": "stdout",
     "output_type": "stream",
     "text": [
      "# writing exp_v2.2/YandexCup2024v2/YaCupTest//dump-000012.tar 400 0.1 GB 4800\n"
     ]
    },
    {
     "name": "stderr",
     "output_type": "stream",
     "text": [
      " 65%|█████████████████████████████████████████████████████████████▏                                | 5205/8000 [01:34<00:51, 54.43it/s]"
     ]
    },
    {
     "name": "stdout",
     "output_type": "stream",
     "text": [
      "# writing exp_v2.2/YandexCup2024v2/YaCupTest//dump-000013.tar 400 0.1 GB 5200\n"
     ]
    },
    {
     "name": "stderr",
     "output_type": "stream",
     "text": [
      " 70%|█████████████████████████████████████████████████████████████████▉                            | 5611/8000 [01:40<00:38, 61.57it/s]"
     ]
    },
    {
     "name": "stdout",
     "output_type": "stream",
     "text": [
      "# writing exp_v2.2/YandexCup2024v2/YaCupTest//dump-000014.tar 400 0.1 GB 5600\n"
     ]
    },
    {
     "name": "stderr",
     "output_type": "stream",
     "text": [
      " 75%|██████████████████████████████████████████████████████████████████████▌                       | 6006/8000 [01:46<00:29, 67.55it/s]"
     ]
    },
    {
     "name": "stdout",
     "output_type": "stream",
     "text": [
      "# writing exp_v2.2/YandexCup2024v2/YaCupTest//dump-000015.tar 400 0.1 GB 6000\n"
     ]
    },
    {
     "name": "stderr",
     "output_type": "stream",
     "text": [
      " 80%|███████████████████████████████████████████████████████████████████████████▎                  | 6407/8000 [01:53<00:34, 46.29it/s]"
     ]
    },
    {
     "name": "stdout",
     "output_type": "stream",
     "text": [
      "# writing exp_v2.2/YandexCup2024v2/YaCupTest//dump-000016.tar 400 0.1 GB 6400\n"
     ]
    },
    {
     "name": "stderr",
     "output_type": "stream",
     "text": [
      " 85%|███████████████████████████████████████████████████████████████████████████████▉              | 6808/8000 [01:58<00:16, 73.82it/s]"
     ]
    },
    {
     "name": "stdout",
     "output_type": "stream",
     "text": [
      "# writing exp_v2.2/YandexCup2024v2/YaCupTest//dump-000017.tar 400 0.1 GB 6800\n"
     ]
    },
    {
     "name": "stderr",
     "output_type": "stream",
     "text": [
      " 90%|████████████████████████████████████████████████████████████████████████████████████▋         | 7207/8000 [02:05<00:12, 65.57it/s]"
     ]
    },
    {
     "name": "stdout",
     "output_type": "stream",
     "text": [
      "# writing exp_v2.2/YandexCup2024v2/YaCupTest//dump-000018.tar 400 0.1 GB 7200\n"
     ]
    },
    {
     "name": "stderr",
     "output_type": "stream",
     "text": [
      " 95%|█████████████████████████████████████████████████████████████████████████████████████████▍    | 7616/8000 [02:11<00:04, 78.73it/s]"
     ]
    },
    {
     "name": "stdout",
     "output_type": "stream",
     "text": [
      "# writing exp_v2.2/YandexCup2024v2/YaCupTest//dump-000019.tar 400 0.1 GB 7600\n"
     ]
    },
    {
     "name": "stderr",
     "output_type": "stream",
     "text": [
      "100%|██████████████████████████████████████████████████████████████████████████████████████████████| 8000/8000 [02:19<00:00, 57.23it/s]"
     ]
    },
    {
     "name": "stdout",
     "output_type": "stream",
     "text": [
      "Done exp_v2.2/YandexCup2024v2/YaCupTest/\n"
     ]
    },
    {
     "name": "stderr",
     "output_type": "stream",
     "text": [
      "\n"
     ]
    }
   ],
   "source": [
    "for d in ['YandexCup2024v2/YaCupTest/']:\n",
    "    out_d = f'exp_v2.2/{d}'\n",
    "    os.makedirs(out_d, exist_ok=True)\n",
    "    max_elements_per_shard=50\n",
    "    num_e = len(os.listdir(d))\n",
    "    with wds.ShardWriter(f'{out_d}/dump-%06d.tar', maxcount=400) as sink:\n",
    "        for e in tqdm(\n",
    "                DataLoader(\n",
    "                    DirLoader(d, req_bname='requested_stamps-quant20mc_v2.csv', seed=None), \n",
    "                    batch_size=None, \n",
    "                    num_workers=6,\n",
    "                    sampler=None\n",
    "                \n",
    "                ), \n",
    "                total=num_e\n",
    "        ):\n",
    "            sink.write(e)\n",
    "    print(f'Done {out_d}')"
   ]
  },
  {
   "cell_type": "code",
   "execution_count": 65,
   "id": "5ca07657-893d-44c4-8346-a76c0da22ae4",
   "metadata": {},
   "outputs": [
    {
     "data": {
      "text/html": [
       "<div>\n",
       "<style scoped>\n",
       "    .dataframe tbody tr th:only-of-type {\n",
       "        vertical-align: middle;\n",
       "    }\n",
       "\n",
       "    .dataframe tbody tr th {\n",
       "        vertical-align: top;\n",
       "    }\n",
       "\n",
       "    .dataframe thead th {\n",
       "        text-align: right;\n",
       "    }\n",
       "</style>\n",
       "<table border=\"1\" class=\"dataframe\">\n",
       "  <thead>\n",
       "    <tr style=\"text-align: right;\">\n",
       "      <th></th>\n",
       "      <th>A</th>\n",
       "      <th>B</th>\n",
       "    </tr>\n",
       "    <tr>\n",
       "      <th>key</th>\n",
       "      <th></th>\n",
       "      <th></th>\n",
       "    </tr>\n",
       "  </thead>\n",
       "  <tbody>\n",
       "    <tr>\n",
       "      <th>K0</th>\n",
       "      <td>A0</td>\n",
       "      <td>B0</td>\n",
       "    </tr>\n",
       "    <tr>\n",
       "      <th>K1</th>\n",
       "      <td>A1</td>\n",
       "      <td>B1</td>\n",
       "    </tr>\n",
       "    <tr>\n",
       "      <th>K2</th>\n",
       "      <td>A2</td>\n",
       "      <td>B2</td>\n",
       "    </tr>\n",
       "    <tr>\n",
       "      <th>K3</th>\n",
       "      <td>A3</td>\n",
       "      <td>NaN</td>\n",
       "    </tr>\n",
       "    <tr>\n",
       "      <th>K4</th>\n",
       "      <td>A4</td>\n",
       "      <td>NaN</td>\n",
       "    </tr>\n",
       "    <tr>\n",
       "      <th>K5</th>\n",
       "      <td>A5</td>\n",
       "      <td>NaN</td>\n",
       "    </tr>\n",
       "  </tbody>\n",
       "</table>\n",
       "</div>"
      ],
      "text/plain": [
       "      A    B\n",
       "key         \n",
       "K0   A0   B0\n",
       "K1   A1   B1\n",
       "K2   A2   B2\n",
       "K3   A3  NaN\n",
       "K4   A4  NaN\n",
       "K5   A5  NaN"
      ]
     },
     "execution_count": 65,
     "metadata": {},
     "output_type": "execute_result"
    }
   ],
   "source": [
    "df = pd.DataFrame({'key': ['K0', 'K1', 'K2', 'K3', 'K4', 'K5'],\n",
    "                   'A': ['A0', 'A1', 'A2', 'A3', 'A4', 'A5']})\n",
    "other = pd.DataFrame({'key': ['K0', 'K1', 'K2'],\n",
    "                      'B': ['B0', 'B1', 'B2']})\n",
    "df.set_index('key').join(other.set_index('key'))"
   ]
  },
  {
   "cell_type": "code",
   "execution_count": 66,
   "id": "b7ddca63-c992-4d08-8f2e-a5c209f93215",
   "metadata": {},
   "outputs": [
    {
     "data": {
      "text/html": [
       "<div>\n",
       "<style scoped>\n",
       "    .dataframe tbody tr th:only-of-type {\n",
       "        vertical-align: middle;\n",
       "    }\n",
       "\n",
       "    .dataframe tbody tr th {\n",
       "        vertical-align: top;\n",
       "    }\n",
       "\n",
       "    .dataframe thead th {\n",
       "        text-align: right;\n",
       "    }\n",
       "</style>\n",
       "<table border=\"1\" class=\"dataframe\">\n",
       "  <thead>\n",
       "    <tr style=\"text-align: right;\">\n",
       "      <th></th>\n",
       "      <th>B</th>\n",
       "      <th>A</th>\n",
       "    </tr>\n",
       "    <tr>\n",
       "      <th>key</th>\n",
       "      <th></th>\n",
       "      <th></th>\n",
       "    </tr>\n",
       "  </thead>\n",
       "  <tbody>\n",
       "    <tr>\n",
       "      <th>K0</th>\n",
       "      <td>B0</td>\n",
       "      <td>A0</td>\n",
       "    </tr>\n",
       "    <tr>\n",
       "      <th>K1</th>\n",
       "      <td>B1</td>\n",
       "      <td>A1</td>\n",
       "    </tr>\n",
       "    <tr>\n",
       "      <th>K2</th>\n",
       "      <td>B2</td>\n",
       "      <td>A2</td>\n",
       "    </tr>\n",
       "  </tbody>\n",
       "</table>\n",
       "</div>"
      ],
      "text/plain": [
       "      B   A\n",
       "key        \n",
       "K0   B0  A0\n",
       "K1   B1  A1\n",
       "K2   B2  A2"
      ]
     },
     "execution_count": 66,
     "metadata": {},
     "output_type": "execute_result"
    }
   ],
   "source": [
    "other.set_index('key').join(df.set_index('key'))"
   ]
  },
  {
   "cell_type": "code",
   "execution_count": 77,
   "id": "f7821ec0-06e3-4792-8cae-c8e18c260f31",
   "metadata": {},
   "outputs": [
    {
     "name": "stdout",
     "output_type": "stream",
     "text": [
      "torch.Size([2, 4, 5])\n"
     ]
    },
    {
     "data": {
      "text/plain": [
       "tensor([[[-1000, -1000, -1000, -1000, -1000],\n",
       "         [    0,     1,     2,     3,     4],\n",
       "         [    5,     6,     7,     8,     9],\n",
       "         [   10,    11,    12,    13,    14]],\n",
       "\n",
       "        [[-1000, -1000, -1000, -1000, -1000],\n",
       "         [   15,    16,    17,    18,    19],\n",
       "         [   20,    21,    22,    23,    24],\n",
       "         [   25,    26,    27,    28,    29]]])"
      ]
     },
     "execution_count": 77,
     "metadata": {},
     "output_type": "execute_result"
    }
   ],
   "source": [
    "a = torch.nn.functional.pad(torch.arange(30).view(2,3,5), (0,0, 1, 0), value=-1000)\n",
    "print(a.shape)\n",
    "a"
   ]
  },
  {
   "cell_type": "code",
   "execution_count": null,
   "id": "d013aac9-53ce-420a-aceb-5ed652675e9c",
   "metadata": {},
   "outputs": [],
   "source": []
  },
  {
   "cell_type": "code",
   "execution_count": null,
   "id": "8dc7070b-d83c-41cb-b5ba-ad1d60dadef7",
   "metadata": {},
   "outputs": [],
   "source": []
  },
  {
   "cell_type": "code",
   "execution_count": 122,
   "id": "0b509548-5b25-4940-835c-bbd386817b75",
   "metadata": {
    "scrolled": true
   },
   "outputs": [
    {
     "name": "stderr",
     "output_type": "stream",
     "text": [
      "/tmp/ipykernel_353021/121842413.py:1: FutureWarning: You are using `torch.load` with `weights_only=False` (the current default value), which uses the default pickle module implicitly. It is possible to construct malicious pickle data which will execute arbitrary code during unpickling (See https://github.com/pytorch/pytorch/blob/main/SECURITY.md#untrusted-models for more details). In a future release, the default value for `weights_only` will be flipped to `True`. This limits the functions that could be executed during unpickling. Arbitrary objects will no longer be allowed to be loaded via this mode unless they are explicitly allowlisted by the user via `torch.serialization.add_safe_globals`. We recommend you start setting `weights_only=True` for any use case where you don't have full control of the loaded file. Please open an issue on GitHub for any issues related to this experimental feature.\n",
      "  data = torch.load('tmp/YaCupTrain__11687.pth')\n"
     ]
    }
   ],
   "source": [
    "data = torch.load('tmp/YaCupTrain__11687.pth')"
   ]
  },
  {
   "cell_type": "code",
   "execution_count": 123,
   "id": "e54e4e56-eb4a-4a9e-a945-ac7277cf941f",
   "metadata": {},
   "outputs": [
    {
     "data": {
      "text/plain": [
       "dict_keys(['batch', 'attention_mask', 'mask', 'inputs_embeds', 'labels_w_mask', 'outputs', 'logits_w_mask', 'loss'])"
      ]
     },
     "execution_count": 123,
     "metadata": {},
     "output_type": "execute_result"
    }
   ],
   "source": [
    "data.keys()"
   ]
  },
  {
   "cell_type": "code",
   "execution_count": 124,
   "id": "1e807b06-6dda-45a5-b647-8bb7185a7421",
   "metadata": {},
   "outputs": [
    {
     "data": {
      "text/plain": [
       "tensor([[ 2.2097e+04, -6.5113e+04,  3.4293e+01,  1.0708e-01, -1.7448e-01,\n",
       "         -2.8186e+00],\n",
       "        [ 2.2097e+04, -6.5113e+04,  3.4290e+01, -2.9861e-02,  4.5324e-02,\n",
       "         -2.7439e+00],\n",
       "        [ 2.2096e+04, -6.5111e+04,  3.4629e+01,  8.5670e-02, -2.4974e-02,\n",
       "         -2.5952e+00],\n",
       "        ...,\n",
       "        [ 2.2154e+04, -6.5281e+04,  3.1793e+01, -1.6713e+00,  2.4100e+00,\n",
       "         -4.7205e+00],\n",
       "        [ 2.2163e+04, -6.5283e+04,  3.6307e+01, -2.5581e+00, -1.8996e+00,\n",
       "         -4.8193e+00],\n",
       "        [ 2.2160e+04, -6.5283e+04,  3.5243e+01, -4.0093e+00, -2.4420e-01,\n",
       "         -1.3853e+00]], device='cuda:0', grad_fn=<SelectBackward0>)"
      ]
     },
     "execution_count": 124,
     "metadata": {},
     "output_type": "execute_result"
    }
   ],
   "source": [
    "data['outputs']['loc.pth'][0]"
   ]
  },
  {
   "cell_type": "code",
   "execution_count": 125,
   "id": "9545ed5d-fe71-47c0-92ce-9aa368343e2e",
   "metadata": {},
   "outputs": [
    {
     "data": {
      "text/plain": [
       "tensor([[-7.4201e-01, -2.1288e-01,  2.4525e-01,  9.6820e-02, -1.6709e-01,\n",
       "          4.4357e-02],\n",
       "        [-1.0309e+00, -1.6344e-02,  2.4240e-01, -4.0124e-02,  5.2717e-02,\n",
       "          1.1906e-01],\n",
       "        [-1.5823e+00,  1.2993e+00,  5.8091e-01,  7.5407e-02, -1.7581e-02,\n",
       "          2.6778e-01],\n",
       "        ...,\n",
       "        [ 5.5628e+01, -1.6816e+02, -2.2544e+00, -1.6816e+00,  2.4174e+00,\n",
       "         -1.8575e+00],\n",
       "        [ 6.5307e+01, -1.7079e+02,  2.2589e+00, -2.5684e+00, -1.8922e+00,\n",
       "         -1.9563e+00],\n",
       "        [ 6.2129e+01, -1.7051e+02,  1.1957e+00, -4.0196e+00, -2.3681e-01,\n",
       "          1.4776e+00]], device='cuda:0', grad_fn=<SelectBackward0>)"
      ]
     },
     "execution_count": 125,
     "metadata": {},
     "output_type": "execute_result"
    }
   ],
   "source": [
    "data['outputs']['logits.pth'][0]"
   ]
  },
  {
   "cell_type": "code",
   "execution_count": 126,
   "id": "91e7cafe-e1c5-4b36-af44-b94549df489d",
   "metadata": {},
   "outputs": [
    {
     "data": {
      "text/plain": [
       "dict_keys(['__key__', 'loc.pth', 'control_feats.pth'])"
      ]
     },
     "execution_count": 126,
     "metadata": {},
     "output_type": "execute_result"
    }
   ],
   "source": [
    "data['batch'].keys()"
   ]
  },
  {
   "cell_type": "code",
   "execution_count": 127,
   "id": "34e6c457-925c-4db3-8842-6d1ea9c04836",
   "metadata": {},
   "outputs": [
    {
     "data": {
      "text/plain": [
       "tensor([-0.1309, -0.0352,  0.0010,  0.0003, -0.0003,  0.0027], device='cuda:0')"
      ]
     },
     "execution_count": 127,
     "metadata": {},
     "output_type": "execute_result"
    }
   ],
   "source": [
    "data['labels_w_mask'][0]"
   ]
  },
  {
   "cell_type": "code",
   "execution_count": 128,
   "id": "4187174e-4bb0-43c5-be5c-fb977b3da7a2",
   "metadata": {},
   "outputs": [
    {
     "data": {
      "text/plain": [
       "tensor([-0.7420, -0.2129,  0.2453,  0.0968, -0.1671,  0.0444], device='cuda:0',\n",
       "       grad_fn=<SelectBackward0>)"
      ]
     },
     "execution_count": 128,
     "metadata": {},
     "output_type": "execute_result"
    }
   ],
   "source": [
    "data['logits_w_mask'][0]"
   ]
  },
  {
   "cell_type": "code",
   "execution_count": 129,
   "id": "8f88ede9-5e0e-409b-b921-d1038a322326",
   "metadata": {},
   "outputs": [
    {
     "data": {
      "text/plain": [
       "tensor([[ 2.2098e+04, -6.5113e+04,  3.4048e+01,  1.0263e-02, -7.3928e-03,\n",
       "         -2.8629e+00],\n",
       "        [ 2.2098e+04, -6.5113e+04,  3.4049e+01,  1.0582e-02, -7.7387e-03,\n",
       "         -2.8603e+00],\n",
       "        [ 2.2098e+04, -6.5113e+04,  3.4051e+01,  1.0162e-02, -7.9580e-03,\n",
       "         -2.8575e+00],\n",
       "        ...,\n",
       "        [ 2.2183e+04, -6.5354e+04,  3.5068e+01,  1.4019e-02,  2.0624e-03,\n",
       "         -7.9009e-01],\n",
       "        [ 2.2183e+04, -6.5354e+04,  3.5063e+01,  1.6044e-02,  1.6661e-03,\n",
       "         -7.8786e-01],\n",
       "        [-1.0000e+06, -1.0000e+06, -1.0000e+06, -1.0000e+06, -1.0000e+06,\n",
       "         -1.0000e+06]], device='cuda:0')"
      ]
     },
     "execution_count": 129,
     "metadata": {},
     "output_type": "execute_result"
    }
   ],
   "source": [
    "data['batch']['loc.pth'][0]"
   ]
  },
  {
   "cell_type": "code",
   "execution_count": 113,
   "id": "daf068d5-d551-4fc3-8ce1-2b78ed5d3158",
   "metadata": {},
   "outputs": [
    {
     "data": {
      "text/plain": [
       "tensor([[ 0.0000e+00,  0.0000e+00,  0.0000e+00,  ..., -8.1063e-02,\n",
       "          1.0000e+00,  2.0000e+00],\n",
       "        [-1.5625e-01, -4.8340e-02,  4.4851e-03,  ..., -8.2834e-02,\n",
       "          1.0000e+00,  2.0000e+00],\n",
       "        [-3.1152e-01, -9.6191e-02,  8.5697e-03,  ..., -8.4605e-02,\n",
       "          1.0000e+00,  2.0000e+00],\n",
       "        ...,\n",
       "        [ 2.3125e+02, -7.4085e+02,  1.0253e+01,  ..., -1.7573e-02,\n",
       "          1.0000e+00,  2.0000e+00],\n",
       "        [ 2.3135e+02, -7.4114e+02,  1.0262e+01,  ..., -1.7573e-02,\n",
       "          1.0000e+00,  2.0000e+00],\n",
       "        [ 2.3144e+02, -7.4142e+02,  1.0270e+01,  ..., -1.7573e-02,\n",
       "          1.0000e+00,  2.0000e+00]], device='cuda:0')"
      ]
     },
     "execution_count": 113,
     "metadata": {},
     "output_type": "execute_result"
    }
   ],
   "source": [
    "data['inputs_embeds'][0]"
   ]
  },
  {
   "cell_type": "code",
   "execution_count": null,
   "id": "1a225a1c-8249-4eff-bd9c-7e201301eba8",
   "metadata": {},
   "outputs": [],
   "source": []
  }
 ],
 "metadata": {
  "kernelspec": {
   "display_name": "Python 3 (ipykernel)",
   "language": "python",
   "name": "python3"
  },
  "language_info": {
   "codemirror_mode": {
    "name": "ipython",
    "version": 3
   },
   "file_extension": ".py",
   "mimetype": "text/x-python",
   "name": "python",
   "nbconvert_exporter": "python",
   "pygments_lexer": "ipython3",
   "version": "3.9.20"
  }
 },
 "nbformat": 4,
 "nbformat_minor": 5
}

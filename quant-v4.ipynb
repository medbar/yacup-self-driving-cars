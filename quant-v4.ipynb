{
 "cells": [
  {
   "cell_type": "markdown",
   "id": "2c816343-d270-4bd4-8caf-54f897040529",
   "metadata": {},
   "source": [
    "# Строгий шаг времени\n",
    "\n",
    "1. сделать нормализацию таймстемпов, чтобы начинались они в нуле\n",
    "3. сделать строгий шаг 20mc\n",
    "4. сигналы приходят \"лесенкой\""
   ]
  },
  {
   "cell_type": "code",
   "execution_count": 1,
   "id": "290f81e0-05d2-4efd-b9af-99b34355f0a9",
   "metadata": {},
   "outputs": [],
   "source": [
    "import pandas as pd\n",
    "import numpy as np\n",
    "import matplotlib.pyplot as plt\n",
    "import math\n",
    "from pathlib import Path\n",
    "import json\n",
    "from glob import glob\n",
    "from tqdm import tqdm\n",
    "import os"
   ]
  },
  {
   "cell_type": "code",
   "execution_count": 2,
   "id": "f724762f-7785-4004-86ce-21c7c95322b7",
   "metadata": {},
   "outputs": [
    {
     "name": "stderr",
     "output_type": "stream",
     "text": [
      "100%|████████████████████████████████████████████████████████████████████████████████████████████████████████████████████████████████████████████████████████████████████████████████████████████████████████████████████████████████████████| 8000/8000 [00:26<00:00, 306.50it/s]"
     ]
    },
    {
     "name": "stdout",
     "output_type": "stream",
     "text": [
      "0040015627, 0040905935, 0039980080\n",
      "0040013963, 0043666637, 0039869437\n",
      "0037551264, 0039456712, 0019508802\n",
      "0046804422, 0165592645, 0040715438\n",
      "0038335620, 0039526460, 0020311755\n",
      "0043259035, 0136663118, 0040464301\n"
     ]
    },
    {
     "name": "stderr",
     "output_type": "stream",
     "text": [
      "\n"
     ]
    }
   ],
   "source": [
    "avg_req = []\n",
    "avg_loc = []\n",
    "min_req = []\n",
    "max_req = []\n",
    "min_loc = []\n",
    "max_loc = []\n",
    "for d in tqdm(list(glob('YandexCup2024v2/YaCupTest/*'))):\n",
    "    s_ns = pd.read_csv(f'{d}/localization.csv').stamp_ns.values\n",
    "    diff = s_ns[1:] - s_ns[:-1]\n",
    "    avg_loc.append(diff.mean())\n",
    "    min_loc.append(diff.min())\n",
    "    max_loc.append(diff.max())\n",
    "    s_ns = pd.read_csv(f'{d}/requested_stamps.csv').stamp_ns.values\n",
    "    diff = s_ns[1:] - s_ns[:-1]\n",
    "    avg_req.append(diff.mean())\n",
    "    min_req.append(diff.min())\n",
    "    max_req.append(diff.max())\n",
    "for a in [avg_req, \n",
    "        avg_loc,\n",
    "        min_req,\n",
    "        max_req,\n",
    "        min_loc,\n",
    "        max_loc]:\n",
    "    print(f\"{round(np.mean(a)):010d}, {round(np.max(a)):010d}, {round(np.min(a)):010d}\")"
   ]
  },
  {
   "cell_type": "code",
   "execution_count": 12,
   "id": "e4f7c229-bf00-4687-b52b-c7364c85dd96",
   "metadata": {},
   "outputs": [
    {
     "name": "stdout",
     "output_type": "stream",
     "text": [
      "40 ms per frame 25.0 frame/sec\n"
     ]
    }
   ],
   "source": [
    "NSECS_IN_SEC = 1000000000\n",
    "FRAME_STEP =     40000000\n",
    "VERSION='v4'\n",
    "MS = int(FRAME_STEP/NSECS_IN_SEC * 1000)\n",
    "def interpolate_2d(A_x, B_x, T_x, A_y, B_y):\n",
    "    \"\"\"Predicts T_y by linear interpolating A and B dots\"\"\"\n",
    "    assert A_x <= B_x , f\"{A_x=} must be less than {B_x}\"\n",
    "    assert A_x <= T_x , f\"{A_x=} must be less than {T_x}\"\n",
    "    delta_y = (B_y - A_y) / (B_x - A_x) * (T_x - A_x)\n",
    "    return A_y + delta_y\n",
    "\n",
    "\n",
    "def inperpolate_dots(A_x, A, B_x, B, T_x):\n",
    "    if A is None or B is None:\n",
    "        # if A does not exist then just B returned\n",
    "        return B\n",
    "    assert len(A) == len(B), f\"{len(A)=}, {len(B)=}\"\n",
    "    T = [interpolate_2d(A_x, B_x, T_x, A_y, B_y) for A_y, B_y in zip(A, B)]\n",
    "    return T\n",
    "\n",
    "print(MS, \"ms per frame\", NSECS_IN_SEC/FRAME_STEP, \"frame/sec\")\n",
    "def quantisize_time(time, variables, start_time=None, interpolate_type='linear'):\n",
    "    # time is (T,)\n",
    "    # variables is (T, N)\n",
    "    assert time.shape[0] == variables.shape[0], f\"{time.shape=} {variables.shape=}\"\n",
    "    if start_time is None:\n",
    "        start_time = np.min(time)\n",
    "    # moves start to zero\n",
    "    time = time - start_time \n",
    "    num_frames = math.ceil(np.max(time)/FRAME_STEP)\n",
    "    dots_in_frames = [[] for _ in range(num_frames)]\n",
    "    frames = []\n",
    "    prev_t = None\n",
    "    prev_dot = None\n",
    "    prev_frame_id = -1\n",
    "    for t, v in zip(time, variables):\n",
    "        frame_id = int(t // FRAME_STEP)\n",
    "        if frame_id != prev_frame_id:\n",
    "            for i in range(prev_frame_id + 1, frame_id + 1):\n",
    "                frame_vars = inperpolate_dots(prev_t, prev_dot, t, v, i * FRAME_STEP)\n",
    "                frames.append([i, *frame_vars])\n",
    "        prev_t = t\n",
    "        prev_dot = v\n",
    "        prev_frame_id = frame_id\n",
    "    return (start_time, np.asarray(frames, dtype=float))\n",
    "\n",
    " "
   ]
  },
  {
   "cell_type": "code",
   "execution_count": 4,
   "id": "0e9ed7ea-f607-42b9-b70a-514227c29ba1",
   "metadata": {},
   "outputs": [
    {
     "data": {
      "text/plain": [
       "-15.0"
      ]
     },
     "execution_count": 4,
     "metadata": {},
     "output_type": "execute_result"
    }
   ],
   "source": [
    "interpolate_2d(1, 3, 2, -10, -20)"
   ]
  },
  {
   "cell_type": "code",
   "execution_count": 5,
   "id": "b42f0ef4-8cf0-4edc-b9f1-0b9130904e27",
   "metadata": {},
   "outputs": [
    {
     "data": {
      "text/plain": [
       "[10.0, -5.0, 3.0]"
      ]
     },
     "execution_count": 5,
     "metadata": {},
     "output_type": "execute_result"
    }
   ],
   "source": [
    "inperpolate_dots(1, (-10, 10, 2), 3, (30, -20, 4), 2)"
   ]
  },
  {
   "cell_type": "code",
   "execution_count": 8,
   "id": "6c17cec1-3ccd-4a01-abfc-3648f02a3473",
   "metadata": {},
   "outputs": [],
   "source": [
    "localization_df = pd.read_csv('YandexCup2024v2/YaCupTest/0/localization.csv')"
   ]
  },
  {
   "cell_type": "code",
   "execution_count": 9,
   "id": "ef03cfa4-2f3c-497e-acca-599b2a01e87c",
   "metadata": {},
   "outputs": [],
   "source": [
    "time = localization_df.stamp_ns.values\n",
    "feats = np.hstack((localization_df.x.values[:, None], \n",
    "                   localization_df.y.values[:, None], \n",
    "                   localization_df.z.values[:, None],\n",
    "                   localization_df.roll.values[:, None], \n",
    "                   localization_df.pitch.values[:, None], \n",
    "                   localization_df.yaw.values[:, None]))\n",
    "frames_loc = quantisize_time(time, feats)"
   ]
  },
  {
   "cell_type": "code",
   "execution_count": 10,
   "id": "b90d2c22-0c9c-4666-a543-9162d21ce36d",
   "metadata": {},
   "outputs": [
    {
     "data": {
      "text/plain": [
       "(125, 7)"
      ]
     },
     "execution_count": 10,
     "metadata": {},
     "output_type": "execute_result"
    }
   ],
   "source": [
    "frames_loc[1].shape"
   ]
  },
  {
   "cell_type": "code",
   "execution_count": 11,
   "id": "97ef99a6-c63c-436c-95c9-7cc856d38ec5",
   "metadata": {},
   "outputs": [
    {
     "name": "stdout",
     "output_type": "stream",
     "text": [
      "control.csv\t\t\t  localization-quant20mc_v2.csv\n",
      "control_norm_v1.csv\t\t  localization-quant20mc_v3.csv\n",
      "control_norm_v1-quant20mc.csv\t  metadata.json\n",
      "control_norm_v1-quant20mc_v2.csv  quant20mc\n",
      "control_norm_v1-quant20mc_v3.csv  quant20mc_v3\n",
      "localization.csv\t\t  speed-norm-quant20mc_v2.csv\n",
      "localization-quant20mc.csv\t  speed-quant20mc_v2.csv\n",
      "control.csv\t\t\t  metadata.json\n",
      "control_norm_v1.csv\t\t  quant20mc\n",
      "control_norm_v1-quant20mc.csv\t  quant20mc_v3\n",
      "control_norm_v1-quant20mc_v2.csv  requested_stamps.csv\n",
      "control_norm_v1-quant20mc_v3.csv  requested_stamps-quant20mc.csv\n",
      "localization.csv\t\t  requested_stamps-quant20mc_v2.csv\n",
      "localization-quant20mc.csv\t  requested_stamps-quant20mc_v3.csv\n",
      "localization-quant20mc_v2.csv\t  speed-norm-quant20mc_v2.csv\n",
      "localization-quant20mc_v3.csv\t  speed-quant20mc_v2.csv\n",
      "stamp_ns\n",
      "5000888836\n",
      "5040043013\n",
      "5079989560\n",
      "5120797471\n",
      "5165218288\n",
      "5200882920\n",
      "5240761596\n",
      "5279997787\n",
      "5320208650\n"
     ]
    }
   ],
   "source": [
    "!ls YandexCup2024v2/YaCupTrain/0\n",
    "!ls YandexCup2024v2/YaCupTest/0\n",
    "!head YandexCup2024v2/YaCupTest/0/requested_stamps.csv"
   ]
  },
  {
   "cell_type": "code",
   "execution_count": 13,
   "id": "45b5025b-7832-4c1b-a497-465101524e9f",
   "metadata": {},
   "outputs": [],
   "source": [
    "\n",
    "def quant_dir(d):\n",
    "    df = pd.read_csv(f'{d}/control_norm_v1.csv')\n",
    "    st, data = quantisize_time(df.values[:, 0], df.values[:, 1:], start_time=None, )\n",
    "    pd.DataFrame(data, columns=df.columns).to_csv(f'{d}/control_norm_v1-quant{MS}mc_{VERSION}.csv', index=False)\n",
    "\n",
    "    df = pd.read_csv(f'{d}/localization.csv')\n",
    "    _, data = quantisize_time(df.values[:, 0], df.values[:, 1:], start_time=st)\n",
    "    pd.DataFrame(data, columns=df.columns).to_csv(f'{d}/localization-quant{MS}mc_{VERSION}.csv', index=False)\n",
    "\n",
    "    f=f'{d}/requested_stamps.csv'\n",
    "    if os.path.exists(f):\n",
    "        df = pd.read_csv(f'{d}/requested_stamps.csv')\n",
    "        df.stamp_ns = df.stamp_ns - st\n",
    "        df.to_csv(f'{d}/requested_stamps-quant20mc_{VERSION}.csv', index=False)\n",
    "    with open(f\"{d}/quant{MS}mc_{VERSION}\", 'w') as f:\n",
    "        f.write(f'{st}')\n",
    "\n",
    "quant_dir('YandexCup2024v2/YaCupTrain/0')\n",
    "quant_dir('YandexCup2024v2/YaCupTest/0')"
   ]
  },
  {
   "cell_type": "code",
   "execution_count": 14,
   "id": "05a0d6a2-99f6-43d0-80c9-c1c00f2c5a31",
   "metadata": {},
   "outputs": [
    {
     "name": "stdout",
     "output_type": "stream",
     "text": [
      "control.csv\t\t\t  localization-quant20mc_v3.csv\n",
      "control_norm_v1.csv\t\t  localization-quant40mc_v4.csv\n",
      "control_norm_v1-quant20mc.csv\t  metadata.json\n",
      "control_norm_v1-quant20mc_v2.csv  quant20mc\n",
      "control_norm_v1-quant20mc_v3.csv  quant20mc_v3\n",
      "control_norm_v1-quant40mc_v4.csv  quant40mc_v4\n",
      "localization.csv\t\t  speed-norm-quant20mc_v2.csv\n",
      "localization-quant20mc.csv\t  speed-quant20mc_v2.csv\n",
      "localization-quant20mc_v2.csv\n",
      "control.csv\t\t\t  metadata.json\n",
      "control_norm_v1.csv\t\t  quant20mc\n",
      "control_norm_v1-quant20mc.csv\t  quant20mc_v3\n",
      "control_norm_v1-quant20mc_v2.csv  quant40mc_v4\n",
      "control_norm_v1-quant20mc_v3.csv  requested_stamps.csv\n",
      "control_norm_v1-quant40mc_v4.csv  requested_stamps-quant20mc.csv\n",
      "localization.csv\t\t  requested_stamps-quant20mc_v2.csv\n",
      "localization-quant20mc.csv\t  requested_stamps-quant20mc_v3.csv\n",
      "localization-quant20mc_v2.csv\t  requested_stamps-quant20mc_v4.csv\n",
      "localization-quant20mc_v3.csv\t  speed-norm-quant20mc_v2.csv\n",
      "localization-quant40mc_v4.csv\t  speed-quant20mc_v2.csv\n",
      "stamp_ns\n",
      "5000888836\n",
      "5040043013\n",
      "5079989560\n",
      "5120797471\n",
      "5165218288\n",
      "5200882920\n",
      "5240761596\n",
      "5279997787\n",
      "5320208650\n",
      "stamp_ns\n",
      "4964409344.0\n",
      "5003563521.0\n",
      "5043510068.0\n",
      "5084317979.0\n",
      "5128738796.0\n",
      "5164403428.0\n",
      "5204282104.0\n",
      "5243518295.0\n",
      "5283729158.0\n",
      "150291"
     ]
    }
   ],
   "source": [
    "!ls YandexCup2024v2/YaCupTrain/0\n",
    "!ls YandexCup2024v2/YaCupTest/0\n",
    "!head YandexCup2024v2/YaCupTest/0/requested_stamps.csv\n",
    "!head YandexCup2024v2/YaCupTest/0/requested_stamps-quant20mc.csv\n",
    "!head YandexCup2024v2/YaCupTest/0/quant20mc\n"
   ]
  },
  {
   "cell_type": "code",
   "execution_count": 35,
   "id": "42904819-d9f0-418b-87eb-a06cf738b359",
   "metadata": {},
   "outputs": [
    {
     "name": "stdout",
     "output_type": "stream",
     "text": [
      "Frame step is 0.02s == 20.0mc\n"
     ]
    },
    {
     "data": {
      "text/plain": [
       "(2998, 5)"
      ]
     },
     "execution_count": 35,
     "metadata": {},
     "output_type": "execute_result"
    }
   ],
   "source": [
    "data.shape"
   ]
  },
  {
   "cell_type": "code",
   "execution_count": 36,
   "id": "70ab5f33-d57f-4b67-a028-e17ef8b26332",
   "metadata": {},
   "outputs": [
    {
     "data": {
      "text/html": [
       "<div>\n",
       "<style scoped>\n",
       "    .dataframe tbody tr th:only-of-type {\n",
       "        vertical-align: middle;\n",
       "    }\n",
       "\n",
       "    .dataframe tbody tr th {\n",
       "        vertical-align: top;\n",
       "    }\n",
       "\n",
       "    .dataframe thead th {\n",
       "        text-align: right;\n",
       "    }\n",
       "</style>\n",
       "<table border=\"1\" class=\"dataframe\">\n",
       "  <thead>\n",
       "    <tr style=\"text-align: right;\">\n",
       "      <th></th>\n",
       "      <th>stamp_ns</th>\n",
       "      <th>acceleration_level</th>\n",
       "      <th>steering</th>\n",
       "      <th>norm_acceleration_level</th>\n",
       "      <th>norm_steering</th>\n",
       "    </tr>\n",
       "  </thead>\n",
       "  <tbody>\n",
       "    <tr>\n",
       "      <th>0</th>\n",
       "      <td>0.0</td>\n",
       "      <td>-114.000000</td>\n",
       "      <td>-2.655140</td>\n",
       "      <td>-0.451500</td>\n",
       "      <td>-0.061511</td>\n",
       "    </tr>\n",
       "    <tr>\n",
       "      <th>1</th>\n",
       "      <td>1.0</td>\n",
       "      <td>-118.511240</td>\n",
       "      <td>-2.626583</td>\n",
       "      <td>-0.481215</td>\n",
       "      <td>-0.061013</td>\n",
       "    </tr>\n",
       "    <tr>\n",
       "      <th>2</th>\n",
       "      <td>2.0</td>\n",
       "      <td>-123.022736</td>\n",
       "      <td>-2.598033</td>\n",
       "      <td>-0.510931</td>\n",
       "      <td>-0.060515</td>\n",
       "    </tr>\n",
       "    <tr>\n",
       "      <th>3</th>\n",
       "      <td>3.0</td>\n",
       "      <td>-127.585242</td>\n",
       "      <td>-2.570787</td>\n",
       "      <td>-0.540984</td>\n",
       "      <td>-0.060039</td>\n",
       "    </tr>\n",
       "    <tr>\n",
       "      <th>4</th>\n",
       "      <td>4.0</td>\n",
       "      <td>-132.145855</td>\n",
       "      <td>-2.544422</td>\n",
       "      <td>-0.571024</td>\n",
       "      <td>-0.059579</td>\n",
       "    </tr>\n",
       "  </tbody>\n",
       "</table>\n",
       "</div>"
      ],
      "text/plain": [
       "   stamp_ns  acceleration_level  steering  norm_acceleration_level  \\\n",
       "0       0.0         -114.000000 -2.655140                -0.451500   \n",
       "1       1.0         -118.511240 -2.626583                -0.481215   \n",
       "2       2.0         -123.022736 -2.598033                -0.510931   \n",
       "3       3.0         -127.585242 -2.570787                -0.540984   \n",
       "4       4.0         -132.145855 -2.544422                -0.571024   \n",
       "\n",
       "   norm_steering  \n",
       "0      -0.061511  \n",
       "1      -0.061013  \n",
       "2      -0.060515  \n",
       "3      -0.060039  \n",
       "4      -0.059579  "
      ]
     },
     "execution_count": 36,
     "metadata": {},
     "output_type": "execute_result"
    }
   ],
   "source": []
  },
  {
   "cell_type": "code",
   "execution_count": 15,
   "id": "6f903343-d30f-4904-86c4-c35141d9793f",
   "metadata": {},
   "outputs": [],
   "source": [
    "def plot_a_s(times, acceleration_levels, steerings):\n",
    "    # Создаем фигуру и оси\n",
    "    fig, ax1 = plt.subplots()\n",
    "    \n",
    "    # Рисуем график для acceleration_level\n",
    "    color = 'tab:blue'\n",
    "    ax1.set_xlabel('Time')\n",
    "    ax1.set_ylabel('Acceleration Level', color=color)\n",
    "    for t, a in zip(times, acceleration_levels):\n",
    "        ax1.plot(t, a, color=color, label='Acceleration Level')\n",
    "    ax1.tick_params(axis='y', labelcolor=color)\n",
    "    \n",
    "    # Создаем второй объект оси для steering\n",
    "    ax2 = ax1.twinx()  \n",
    "    color = 'tab:red'\n",
    "    ax2.set_ylabel('Steering', color=color)\n",
    "    for t, s in zip(times, steerings):\n",
    "        ax2.plot(t, s, color=color, label='Steering')\n",
    "    ax2.tick_params(axis='y', labelcolor=color)\n",
    "    \n",
    "    # Добавляем заголовок и легенду\n",
    "    plt.title('Acceleration Level and Steering Over Time')\n",
    "    fig.tight_layout()  # adjusts layout to avoid overlap\n",
    "    plt.show()"
   ]
  },
  {
   "cell_type": "code",
   "execution_count": 16,
   "id": "a2a7be38-b3b2-4761-881d-6c77d84910a8",
   "metadata": {},
   "outputs": [
    {
     "ename": "NameError",
     "evalue": "name 'df' is not defined",
     "output_type": "error",
     "traceback": [
      "\u001b[0;31m---------------------------------------------------------------------------\u001b[0m",
      "\u001b[0;31mNameError\u001b[0m                                 Traceback (most recent call last)",
      "Cell \u001b[0;32mIn[16], line 1\u001b[0m\n\u001b[0;32m----> 1\u001b[0m plot_a_s([\u001b[43mdf\u001b[49m[\u001b[38;5;124m'\u001b[39m\u001b[38;5;124mstamp_ns\u001b[39m\u001b[38;5;124m'\u001b[39m]\u001b[38;5;241m.\u001b[39mvalues,df2[\u001b[38;5;124m'\u001b[39m\u001b[38;5;124mstamp_ns\u001b[39m\u001b[38;5;124m'\u001b[39m]\u001b[38;5;241m.\u001b[39mvalues\u001b[38;5;241m*\u001b[39m\u001b[38;5;241m20000000\u001b[39m\u001b[38;5;241m+\u001b[39mst],  \n\u001b[1;32m      2\u001b[0m          [df[\u001b[38;5;124m'\u001b[39m\u001b[38;5;124macceleration_level\u001b[39m\u001b[38;5;124m'\u001b[39m]\u001b[38;5;241m.\u001b[39mvalues, df2[\u001b[38;5;124m'\u001b[39m\u001b[38;5;124macceleration_level\u001b[39m\u001b[38;5;124m'\u001b[39m]\u001b[38;5;241m.\u001b[39mvalues], \n\u001b[1;32m      3\u001b[0m          [df[\u001b[38;5;124m'\u001b[39m\u001b[38;5;124msteering\u001b[39m\u001b[38;5;124m'\u001b[39m]\u001b[38;5;241m.\u001b[39mvalues, df2[\u001b[38;5;124m'\u001b[39m\u001b[38;5;124msteering\u001b[39m\u001b[38;5;124m'\u001b[39m]\u001b[38;5;241m.\u001b[39mvalues])\n\u001b[1;32m      4\u001b[0m \u001b[38;5;66;03m#plot_a_s(df2['stamp_ns'].values, [], [])\u001b[39;00m\n",
      "\u001b[0;31mNameError\u001b[0m: name 'df' is not defined"
     ]
    }
   ],
   "source": [
    "plot_a_s([df['stamp_ns'].values,df2['stamp_ns'].values*20000000+st],  \n",
    "         [df['acceleration_level'].values, df2['acceleration_level'].values], \n",
    "         [df['steering'].values, df2['steering'].values])\n",
    "#plot_a_s(df2['stamp_ns'].values, [], [])"
   ]
  },
  {
   "cell_type": "code",
   "execution_count": 17,
   "id": "b852a482-1660-4b7e-9960-b3e06ab3d1a0",
   "metadata": {},
   "outputs": [
    {
     "name": "stderr",
     "output_type": "stream",
     "text": [
      "100%|███████████████████████████████████████████████████████████████████████████████████████████████████████████████████████████████████████████████████████████████████████████████████████████████████████████████████████████████████████| 50000/50000 [55:36<00:00, 14.98it/s]\n"
     ]
    }
   ],
   "source": [
    "dataset_info = []\n",
    "for d in tqdm([*glob('YandexCup2024v2/YaCupTrain/*'), *glob('YandexCup2024v2/YaCupTest/*')]):\n",
    "    quant_dir(d)\n"
   ]
  },
  {
   "cell_type": "code",
   "execution_count": 65,
   "id": "d97b4c97-81b6-4aa9-9b28-63619d5d01f6",
   "metadata": {},
   "outputs": [
    {
     "name": "stdout",
     "output_type": "stream",
     "text": [
      "stamp_ns\n",
      "4964409344.0\n",
      "5003563521.0\n",
      "5043510068.0\n",
      "5084317979.0\n",
      "5128738796.0\n",
      "5164403428.0\n",
      "5204282104.0\n",
      "5243518295.0\n",
      "5283729158.0\n"
     ]
    }
   ],
   "source": [
    "!head YandexCup2024v2/YaCupTest/0/requested_stamps-quant20mc.csv"
   ]
  },
  {
   "cell_type": "code",
   "execution_count": 66,
   "id": "8be05b16-7e0c-430e-9310-746715a42a3d",
   "metadata": {},
   "outputs": [
    {
     "name": "stdout",
     "output_type": "stream",
     "text": [
      "stamp_ns\n",
      "5000888836\n",
      "5040043013\n",
      "5079989560\n",
      "5120797471\n",
      "5165218288\n",
      "5200882920\n",
      "5240761596\n",
      "5279997787\n",
      "5320208650\n"
     ]
    }
   ],
   "source": [
    "!head YandexCup2024v2/YaCupTest/0/requested_stamps.csv"
   ]
  },
  {
   "cell_type": "code",
   "execution_count": null,
   "id": "26afc0d4-dce4-488a-a018-0c94f8d01b95",
   "metadata": {},
   "outputs": [],
   "source": []
  }
 ],
 "metadata": {
  "kernelspec": {
   "display_name": "Python 3 (ipykernel)",
   "language": "python",
   "name": "python3"
  },
  "language_info": {
   "codemirror_mode": {
    "name": "ipython",
    "version": 3
   },
   "file_extension": ".py",
   "mimetype": "text/x-python",
   "name": "python",
   "nbconvert_exporter": "python",
   "pygments_lexer": "ipython3",
   "version": "3.9.20"
  }
 },
 "nbformat": 4,
 "nbformat_minor": 5
}

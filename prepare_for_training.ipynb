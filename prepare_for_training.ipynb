{
 "cells": [
  {
   "cell_type": "code",
   "execution_count": 1,
   "id": "91989828-dfe0-467e-b5cd-cbb31d6c8011",
   "metadata": {},
   "outputs": [],
   "source": [
    "import os\n",
    "import webdataset as wds\n",
    "import logging\n",
    "import numpy\n",
    "import json\n",
    "import torch\n",
    "import numpy as np\n",
    "import pandas as pd\n",
    "from tqdm import tqdm\n",
    "from pathlib import Path\n",
    "from typing import Optional\n",
    "from itertools import islice\n",
    "\n",
    "from torch.utils.data import DataLoader, IterableDataset\n",
    "from webdataset.filters import pipelinefilter\n",
    "from webdataset.utils import pytorch_worker_info\n"
   ]
  },
  {
   "cell_type": "code",
   "execution_count": 29,
   "id": "8cc113e7-73ee-4614-8963-71eeec27d6ac",
   "metadata": {},
   "outputs": [
    {
     "name": "stdout",
     "output_type": "stream",
     "text": [
      "control.csv\t\t       localization.csv\t\t   quant20mc\n",
      "control_norm_v1.csv\t       localization-quant20mc.csv\n",
      "control_norm_v1-quant20mc.csv  metadata.json\n",
      "control.csv\t\t       metadata.json\n",
      "control_norm_v1.csv\t       quant20mc\n",
      "control_norm_v1-quant20mc.csv  requested_stamps.csv\n",
      "localization.csv\t       requested_stamps-quant20mc.csv\n",
      "localization-quant20mc.csv\n"
     ]
    }
   ],
   "source": [
    "!ls YandexCup2024v2/YaCupTrain/0/\n",
    "!ls YandexCup2024v2/YaCupTest/0/\n"
   ]
  },
  {
   "cell_type": "code",
   "execution_count": 30,
   "id": "9c46b14a-0761-4880-a9d9-26fc5a2b1bcb",
   "metadata": {},
   "outputs": [
    {
     "name": "stdout",
     "output_type": "stream",
     "text": [
      "stamp_ns,acceleration_level,steering,norm_acceleration_level,norm_steering\n",
      "0.0,-114.0,-2.655139533023165,-0.4514997100029219,-0.0615109367890647\n",
      "1.0,-118.51124043222295,-2.6265831542518203,-0.4812146939425406,-0.06101266412300235\n",
      "2.0,-123.02273633437042,-2.5980333021733926,-0.5109313606310214,-0.060514505339470656\n",
      "3.0,-127.58524197730276,-2.57078663642703,-0.5409840221863152,-0.06003908550800475\n",
      "4.0,-132.14585451381703,-2.5444222994575325,-0.5710242140832847,-0.0595790611969412\n",
      "5.0,-136.64990027292015,-2.5444222994575325,-0.6006918075990458,-0.0595790611969412\n",
      "6.0,-141.10246811465205,-2.5434682242216784,-0.6300203224266029,-0.05956241379163819\n",
      "7.0,-144.10040882917525,-2.5155545556234253,-0.6497673879005857,-0.05907535560462499\n",
      "8.0,-147.08219304041114,-2.487715056006009,-0.6694080324814873,-0.05858959157245253\n"
     ]
    }
   ],
   "source": [
    "!head YandexCup2024v2/YaCupTrain/0/control_norm_v1-quant20mc.csv"
   ]
  },
  {
   "cell_type": "code",
   "execution_count": 31,
   "id": "5c24cbbe-6619-4e16-ba16-ecd32527c877",
   "metadata": {},
   "outputs": [
    {
     "name": "stdout",
     "output_type": "stream",
     "text": [
      "stamp_ns,x,y,z,roll,pitch,yaw\n",
      "-149.0,-4292.346493792404,-14527.351865581526,66.04828378656846,0.0038841648135669667,-0.054192977118628395,-1.9368185091788004\n",
      "-148.0,-4292.434627804271,-14527.581805518565,66.06164121751011,0.0037722121488635474,-0.0541798604632994,-1.9368425656572617\n",
      "-147.0,-4292.522253342697,-14527.81156859566,66.07382280575607,0.0034592108718404678,-0.05425698778655318,-1.9368518636282488\n",
      "-146.0,-4292.609022484208,-14528.041033796213,66.08402397974696,0.0028075932652278372,-0.054486108622434,-1.9368363045680264\n",
      "-145.0,-4292.696232114875,-14528.270457198889,66.09546114109773,0.002455461353684493,-0.05461626036609381,-1.9368380534109395\n",
      "-144.0,-4292.7841572669495,-14528.499812705968,66.1089060145706,0.0025898077670152724,-0.054585648777846066,-1.9368679168511878\n",
      "-143.0,-4292.871967887383,-14528.729133961555,66.12196841585748,0.0027456198291566087,-0.05449949224467743,-1.9368931484338072\n",
      "-142.0,-4292.958891041339,-14528.958189814079,66.13206717112308,0.0030677618546905185,-0.0539829369503593,-1.9368824893374805\n",
      "-141.0,-4293.046154516147,-14529.187207748853,66.14337616363976,0.0033650880734834264,-0.053630564377100884,-1.9368950158254956\n"
     ]
    }
   ],
   "source": [
    "!head YandexCup2024v2/YaCupTrain/0/localization-quant20mc.csv"
   ]
  },
  {
   "cell_type": "code",
   "execution_count": 32,
   "id": "d08d155f-33e7-45b7-a6f0-00d9cb716449",
   "metadata": {},
   "outputs": [
    {
     "name": "stdout",
     "output_type": "stream",
     "text": [
      "{\"ride_date\": \"2022-03-14\", \"tires\": {\"front\": 0, \"rear\": 0}, \"vehicle_id\": 0, \"vehicle_model\": 0, \"vehicle_model_modification\": 0, \"location_reference_point_id\": 0}"
     ]
    }
   ],
   "source": [
    "!head YandexCup2024v2/YaCupTrain/0/metadata.json"
   ]
  },
  {
   "cell_type": "code",
   "execution_count": null,
   "id": "34b38d2c-9692-4533-bcb4-2425ff2f5613",
   "metadata": {},
   "outputs": [],
   "source": []
  },
  {
   "cell_type": "code",
   "execution_count": 5,
   "id": "21760a53-e53d-4afb-b401-e050ac98c4a5",
   "metadata": {},
   "outputs": [
    {
     "data": {
      "text/plain": [
       "['metadata.json',\n",
       " 'control.csv',\n",
       " 'localization.csv',\n",
       " 'requested_stamps.csv',\n",
       " 'control_norm_v1.csv',\n",
       " 'control_norm_v1-quant20mc.csv',\n",
       " 'localization-quant20mc.csv',\n",
       " 'requested_stamps-quant20mc.csv',\n",
       " 'quant20mc']"
      ]
     },
     "execution_count": 5,
     "metadata": {},
     "output_type": "execute_result"
    }
   ],
   "source": [
    "os.listdir('YandexCup2024v2/YaCupTest/0')"
   ]
  },
  {
   "cell_type": "code",
   "execution_count": 2,
   "id": "e5c35969-0f3b-403a-a23a-a69cdc5c7637",
   "metadata": {},
   "outputs": [],
   "source": [
    "def configure_logging(log_level='INFO'):\n",
    "    handlers =  {\n",
    "            \"base_out\": {\n",
    "                \"class\": \"logging.StreamHandler\",\n",
    "                \"formatter\": \"basic\",\n",
    "                \"stream\": \"ext://sys.stderr\",\n",
    "            }\n",
    "    }\n",
    "    CONFIG = {\n",
    "        \"version\": 1,\n",
    "        \"disable_existing_loggers\": False,\n",
    "        \"formatters\": {\"basic\": {\"format\": '%(asctime)s %(name)s %(pathname)s:%(lineno)d - %(levelname)s - %(message)s'}},\n",
    "        \"handlers\": handlers,\n",
    "        \"loggers\": {\"base\": {\"handlers\": handlers.keys(), \"level\": log_level}},\n",
    "        \"root\": {\"handlers\": handlers.keys(), \"level\": log_level}\n",
    "    }\n",
    "    logging.config.dictConfig(CONFIG)\n",
    "configure_logging()\n"
   ]
  },
  {
   "cell_type": "code",
   "execution_count": 10,
   "id": "e823fed1-a187-4305-ab50-f7996b45b712",
   "metadata": {},
   "outputs": [],
   "source": [
    "class DirLoader(IterableDataset):\n",
    "    def __init__(self, root_dir, \n",
    "                 control_bname='control_norm_v1-quant20mc.csv',\n",
    "                loc_bname='localization-quant20mc.csv',\n",
    "                req_bname=None,\n",
    "                meta_bname='metadata.json',\n",
    "                start_bname='quant20mc',\n",
    "                seed=None,\n",
    "                pad_value= -1000000):\n",
    "        super().__init__()\n",
    "        self.root_dir = root_dir\n",
    "        self.control_bname = control_bname\n",
    "        self.loc_bname = loc_bname\n",
    "        self.req_bname = req_bname\n",
    "        self.meta_bname = meta_bname\n",
    "        self.start_bname = start_bname\n",
    "        self.seed = seed\n",
    "        self.pad_value = pad_value\n",
    "        self.dirlist = [*os.listdir(root_dir)]\n",
    "\n",
    "    def __len__(self):\n",
    "        return len(self.dirlist)\n",
    "\n",
    "    def __iter__(self):\n",
    "        dirlist = self.dirlist\n",
    "        rank, world_size, worker, num_workers = pytorch_worker_info()\n",
    "        assert world_size == 1, \"Do not use this class for DDP\"\n",
    "        if num_workers > 1:\n",
    "            full_len = len(dirlist)\n",
    "            dirlist = list(islice(dirlist, worker, None, num_workers))\n",
    "            logging.info(\n",
    "                f\"Subset for {worker} worker contains {len(dirlist)}/{full_len} annotations\"\n",
    "            )\n",
    "            logging.debug(f\"First dir is {dirlist[0]}\")\n",
    "        if len(dirlist) == 0:\n",
    "            logging.warning(\n",
    "                f\"Zero len dirs list! {worker=}, {num_workers=}, {len(dirlist)=}, {len(self.dirlist)}\"\n",
    "            )\n",
    "            return\n",
    "\n",
    "        if self.seed is not None:\n",
    "            random.Random(self.seed).shuffle(dirlist)\n",
    "        for dbname in dirlist:\n",
    "            d = f'{self.root_dir}/{dbname}'\n",
    "            control_df = pd.read_csv(f\"{d}/{self.control_bname}\")\n",
    "            loc_df = pd.read_csv(f\"{d}/{self.loc_bname}\")\n",
    "            df = control_df.set_index('stamp_ns').join(loc_df.set_index('stamp_ns'))\n",
    "            df = df.fillna(self.pad_value)\n",
    "            with open(f\"{d}/{self.meta_bname}\") as f:\n",
    "                meta = json.load(f)\n",
    "            assert np.allclose(df.index, np.arange(len(df))), f\"{len(df)=}, \\n{df.stamp_ns=}\"\n",
    "            out = {\n",
    "                '__key__': f\"{Path(self.root_dir).stem}__{Path(d).stem}\",\n",
    "                'stamps.pth': torch.from_numpy(df.index.values),\n",
    "                'c_stamps.pth': torch.from_numpy(control_df.stamp_ns.values),\n",
    "                'acceleration_level.pth': torch.from_numpy(df.norm_acceleration_level.values),\n",
    "                'steering.pth' : torch.from_numpy(df.norm_steering.values),\n",
    "                'l_stamps.pth': torch.from_numpy(loc_df.stamp_ns.values),\n",
    "                'x.pth': torch.from_numpy(df.x.values),\n",
    "                'y.pth': torch.from_numpy(df.y.values),\n",
    "                'z.pth': torch.from_numpy(df.z.values),\n",
    "                'roll.pth': torch.from_numpy(df.roll.values),\n",
    "                'pitch.pth': torch.from_numpy(df.pitch.values),\n",
    "                'yaw.pth': torch.from_numpy(df.yaw.values),\n",
    "                'ride_date.txt': meta['ride_date'],\n",
    "                \"tires.pickle\": meta['tires'],\n",
    "                \"vehicle_id.id\": meta['vehicle_id'], \n",
    "                \"vehicle_model.id\": meta['vehicle_model'], \n",
    "                \"vehicle_model_modification.id\": meta['vehicle_model_modification'], \n",
    "                \"location_reference_point_id.id\": meta['location_reference_point_id']\n",
    "            }\n",
    "            if self.req_bname is not None:\n",
    "                req_df = pd.read_csv(f\"{d}/{self.req_bname}\")\n",
    "                out['req_stamps.pth'] = torch.from_numpy(req_df.stamp_ns.values)\n",
    "            if self.start_bname is not None:\n",
    "                with open(f\"{d}/{self.start_bname}\") as f:\n",
    "                    start_ns = int(float(f.read()))\n",
    "                out['start_ns.id'] = start_ns\n",
    "            yield out"
   ]
  },
  {
   "cell_type": "code",
   "execution_count": 11,
   "id": "8e83c9e6-d263-4c5d-a4d7-e63a36805ded",
   "metadata": {},
   "outputs": [],
   "source": [
    "def _prepare_input_feats_v1(data):\n",
    "    for e in data:\n",
    "        T = e['stamps.pth'].shape[0]\n",
    "        al = e.pop('acceleration_level.pth')\n",
    "        s = e.pop('steering.pth')\n",
    "        # 4 X T\n",
    "        e['control_feats.pth'] = torch.stack([al, \n",
    "                                    s, \n",
    "                                    torch.full((T,), e['vehicle_model.id']),\n",
    "                                    torch.full((T,), e['vehicle_model_modification.id'])\n",
    "                                    ])\n",
    "        x = e.pop('x.pth')\n",
    "        y = e.pop('y.pth')\n",
    "        z = e.pop('z.pth')\n",
    "        roll = e.pop('roll.pth')\n",
    "        pitch = e.pop('pitch.pth')\n",
    "        yaw = e.pop('yaw.pth')\n",
    "        e['loc.pth'] =  torch.stack([x, \n",
    "                               y,\n",
    "                               z,\n",
    "                               roll,\n",
    "                               pitch,\n",
    "                               yaw])\n",
    "        yield e\n",
    "        \n",
    "prepare_input_feats_v1  = pipelinefilter(_prepare_input_feats_v1)"
   ]
  },
  {
   "cell_type": "code",
   "execution_count": 73,
   "id": "f88e23a8-c027-4e67-bc43-eac61a9e4cf7",
   "metadata": {},
   "outputs": [],
   "source": [
    "#!rm -rf exp_v1"
   ]
  },
  {
   "cell_type": "code",
   "execution_count": 74,
   "id": "b26c72f1-efee-4e07-88d6-1a1512941a06",
   "metadata": {
    "scrolled": true
   },
   "outputs": [
    {
     "name": "stdout",
     "output_type": "stream",
     "text": [
      "# writing exp_v1/YandexCup2024v2/YaCupTest//dump-000000.tar 0 0.0 GB 0\n"
     ]
    },
    {
     "name": "stderr",
     "output_type": "stream",
     "text": [
      "  0%|                                                                                                                                                                                                                                                    | 0/8000 [00:00<?, ?it/s]2024-10-26 00:18:33,416 root /tmp/ipykernel_353021/3015727835.py:29 - INFO - Subset for 0 worker contains 1334/8000 annotations\n",
      "2024-10-26 00:18:33,416 root /tmp/ipykernel_353021/3015727835.py:29 - INFO - Subset for 1 worker contains 1334/8000 annotations\n",
      "2024-10-26 00:18:33,444 root /tmp/ipykernel_353021/3015727835.py:29 - INFO - Subset for 2 worker contains 1333/8000 annotations\n",
      "2024-10-26 00:18:33,472 root /tmp/ipykernel_353021/3015727835.py:29 - INFO - Subset for 4 worker contains 1333/8000 annotations\n",
      "2024-10-26 00:18:33,474 root /tmp/ipykernel_353021/3015727835.py:29 - INFO - Subset for 3 worker contains 1333/8000 annotations\n",
      "2024-10-26 00:18:33,488 root /tmp/ipykernel_353021/3015727835.py:29 - INFO - Subset for 5 worker contains 1333/8000 annotations\n",
      "  5%|████████████                                                                                                                                                                                                                              | 413/8000 [00:05<01:25, 88.38it/s]"
     ]
    },
    {
     "name": "stdout",
     "output_type": "stream",
     "text": [
      "# writing exp_v1/YandexCup2024v2/YaCupTest//dump-000001.tar 400 0.0 GB 400\n"
     ]
    },
    {
     "name": "stderr",
     "output_type": "stream",
     "text": [
      " 10%|███████████████████████▊                                                                                                                                                                                                                 | 816/8000 [00:09<00:58, 122.28it/s]"
     ]
    },
    {
     "name": "stdout",
     "output_type": "stream",
     "text": [
      "# writing exp_v1/YandexCup2024v2/YaCupTest//dump-000002.tar 400 0.0 GB 800\n"
     ]
    },
    {
     "name": "stderr",
     "output_type": "stream",
     "text": [
      " 15%|███████████████████████████████████▎                                                                                                                                                                                                    | 1217/8000 [00:12<00:51, 131.16it/s]"
     ]
    },
    {
     "name": "stdout",
     "output_type": "stream",
     "text": [
      "# writing exp_v1/YandexCup2024v2/YaCupTest//dump-000003.tar 400 0.0 GB 1200\n"
     ]
    },
    {
     "name": "stderr",
     "output_type": "stream",
     "text": [
      " 20%|███████████████████████████████████████████████                                                                                                                                                                                          | 1616/8000 [00:16<01:15, 85.03it/s]"
     ]
    },
    {
     "name": "stdout",
     "output_type": "stream",
     "text": [
      "# writing exp_v1/YandexCup2024v2/YaCupTest//dump-000004.tar 400 0.0 GB 1600\n"
     ]
    },
    {
     "name": "stderr",
     "output_type": "stream",
     "text": [
      " 25%|██████████████████████████████████████████████████████████▊                                                                                                                                                                              | 2020/8000 [00:21<01:03, 94.61it/s]"
     ]
    },
    {
     "name": "stdout",
     "output_type": "stream",
     "text": [
      "# writing exp_v1/YandexCup2024v2/YaCupTest//dump-000005.tar 400 0.0 GB 2000\n"
     ]
    },
    {
     "name": "stderr",
     "output_type": "stream",
     "text": [
      " 30%|██████████████████████████████████████████████████████████████████████▎                                                                                                                                                                 | 2424/8000 [00:25<00:46, 120.13it/s]"
     ]
    },
    {
     "name": "stdout",
     "output_type": "stream",
     "text": [
      "# writing exp_v1/YandexCup2024v2/YaCupTest//dump-000006.tar 400 0.0 GB 2400\n"
     ]
    },
    {
     "name": "stderr",
     "output_type": "stream",
     "text": [
      " 35%|█████████████████████████████████████████████████████████████████████████████████▋                                                                                                                                                      | 2818/8000 [00:28<00:41, 125.04it/s]"
     ]
    },
    {
     "name": "stdout",
     "output_type": "stream",
     "text": [
      "# writing exp_v1/YandexCup2024v2/YaCupTest//dump-000007.tar 400 0.0 GB 2800\n"
     ]
    },
    {
     "name": "stderr",
     "output_type": "stream",
     "text": [
      " 40%|█████████████████████████████████████████████████████████████████████████████████████████████▍                                                                                                                                          | 3221/8000 [00:32<00:42, 111.67it/s]"
     ]
    },
    {
     "name": "stdout",
     "output_type": "stream",
     "text": [
      "# writing exp_v1/YandexCup2024v2/YaCupTest//dump-000008.tar 400 0.0 GB 3200\n"
     ]
    },
    {
     "name": "stderr",
     "output_type": "stream",
     "text": [
      " 45%|█████████████████████████████████████████████████████████████████████████████████████████████████████████                                                                                                                                | 3609/8000 [00:36<00:57, 76.18it/s]"
     ]
    },
    {
     "name": "stdout",
     "output_type": "stream",
     "text": [
      "# writing exp_v1/YandexCup2024v2/YaCupTest//dump-000009.tar 400 0.0 GB 3600\n"
     ]
    },
    {
     "name": "stderr",
     "output_type": "stream",
     "text": [
      " 50%|████████████████████████████████████████████████████████████████████████████████████████████████████████████████████▌                                                                                                                   | 4020/8000 [00:41<00:31, 126.70it/s]"
     ]
    },
    {
     "name": "stdout",
     "output_type": "stream",
     "text": [
      "# writing exp_v1/YandexCup2024v2/YaCupTest//dump-000010.tar 400 0.0 GB 4000\n"
     ]
    },
    {
     "name": "stderr",
     "output_type": "stream",
     "text": [
      " 55%|████████████████████████████████████████████████████████████████████████████████████████████████████████████████████████████████▏                                                                                                       | 4421/8000 [00:45<00:30, 118.17it/s]"
     ]
    },
    {
     "name": "stdout",
     "output_type": "stream",
     "text": [
      "# writing exp_v1/YandexCup2024v2/YaCupTest//dump-000011.tar 400 0.0 GB 4400\n"
     ]
    },
    {
     "name": "stderr",
     "output_type": "stream",
     "text": [
      " 60%|███████████████████████████████████████████████████████████████████████████████████████████████████████████████████████████████████████████▋                                                                                            | 4815/8000 [00:48<00:26, 122.23it/s]"
     ]
    },
    {
     "name": "stdout",
     "output_type": "stream",
     "text": [
      "# writing exp_v1/YandexCup2024v2/YaCupTest//dump-000012.tar 400 0.0 GB 4800\n"
     ]
    },
    {
     "name": "stderr",
     "output_type": "stream",
     "text": [
      " 65%|███████████████████████████████████████████████████████████████████████████████████████████████████████████████████████████████████████████████████████▎                                                                                | 5217/8000 [00:52<00:26, 105.76it/s]"
     ]
    },
    {
     "name": "stdout",
     "output_type": "stream",
     "text": [
      "# writing exp_v1/YandexCup2024v2/YaCupTest//dump-000013.tar 400 0.0 GB 5200\n"
     ]
    },
    {
     "name": "stderr",
     "output_type": "stream",
     "text": [
      " 70%|██████████████████████████████████████████████████████████████████████████████████████████████████████████████████████████████████████████████████████████████████▉                                                                     | 5619/8000 [00:56<00:18, 125.68it/s]"
     ]
    },
    {
     "name": "stdout",
     "output_type": "stream",
     "text": [
      "# writing exp_v1/YandexCup2024v2/YaCupTest//dump-000014.tar 400 0.0 GB 5600\n"
     ]
    },
    {
     "name": "stderr",
     "output_type": "stream",
     "text": [
      " 75%|██████████████████████████████████████████████████████████████████████████████████████████████████████████████████████████████████████████████████████████████████████████████▍                                                         | 6017/8000 [00:59<00:16, 116.96it/s]"
     ]
    },
    {
     "name": "stdout",
     "output_type": "stream",
     "text": [
      "# writing exp_v1/YandexCup2024v2/YaCupTest//dump-000015.tar 400 0.0 GB 6000\n"
     ]
    },
    {
     "name": "stderr",
     "output_type": "stream",
     "text": [
      " 80%|██████████████████████████████████████████████████████████████████████████████████████████████████████████████████████████████████████████████████████████████████████████████████████████▊                                              | 6414/8000 [01:04<00:19, 80.65it/s]"
     ]
    },
    {
     "name": "stdout",
     "output_type": "stream",
     "text": [
      "# writing exp_v1/YandexCup2024v2/YaCupTest//dump-000016.tar 400 0.0 GB 6400\n"
     ]
    },
    {
     "name": "stderr",
     "output_type": "stream",
     "text": [
      " 85%|█████████████████████████████████████████████████████████████████████████████████████████████████████████████████████████████████████████████████████████████████████████████████████████████████████▊                                  | 6821/8000 [01:08<00:10, 110.39it/s]"
     ]
    },
    {
     "name": "stdout",
     "output_type": "stream",
     "text": [
      "# writing exp_v1/YandexCup2024v2/YaCupTest//dump-000017.tar 400 0.0 GB 6800\n"
     ]
    },
    {
     "name": "stderr",
     "output_type": "stream",
     "text": [
      " 90%|█████████████████████████████████████████████████████████████████████████████████████████████████████████████████████████████████████████████████████████████████████████████████████████████████████████████████                       | 7210/8000 [01:12<00:07, 101.23it/s]"
     ]
    },
    {
     "name": "stdout",
     "output_type": "stream",
     "text": [
      "# writing exp_v1/YandexCup2024v2/YaCupTest//dump-000018.tar 400 0.0 GB 7200\n"
     ]
    },
    {
     "name": "stderr",
     "output_type": "stream",
     "text": [
      " 95%|████████████████████████████████████████████████████████████████████████████████████████████████████████████████████████████████████████████████████████████████████████████████████████████████████████████████████████████▊           | 7616/8000 [01:17<00:03, 112.23it/s]"
     ]
    },
    {
     "name": "stdout",
     "output_type": "stream",
     "text": [
      "# writing exp_v1/YandexCup2024v2/YaCupTest//dump-000019.tar 400 0.0 GB 7600\n"
     ]
    },
    {
     "name": "stderr",
     "output_type": "stream",
     "text": [
      "100%|█████████████████████████████████████████████████████████████████████████████████████████████████████████████████████████████████████████████████████████████████████████████████████████████████████████████████████████████████████████| 8000/8000 [01:21<00:00, 98.63it/s]\n"
     ]
    },
    {
     "name": "stdout",
     "output_type": "stream",
     "text": [
      "Done exp_v1/YandexCup2024v2/YaCupTest/\n",
      "# writing exp_v1/YandexCup2024v2/YaCupTrain//dump-000000.tar 0 0.0 GB 0\n"
     ]
    },
    {
     "name": "stderr",
     "output_type": "stream",
     "text": [
      "  0%|                                                                                                                                                                                                                                                   | 0/42000 [00:00<?, ?it/s]2024-10-26 00:19:54,579 root /tmp/ipykernel_353021/3015727835.py:29 - INFO - Subset for 0 worker contains 7000/42000 annotations\n",
      "2024-10-26 00:19:54,578 root /tmp/ipykernel_353021/3015727835.py:29 - INFO - Subset for 1 worker contains 7000/42000 annotations\n",
      "2024-10-26 00:19:54,578 root /tmp/ipykernel_353021/3015727835.py:29 - INFO - Subset for 2 worker contains 7000/42000 annotations\n",
      "2024-10-26 00:19:54,634 root /tmp/ipykernel_353021/3015727835.py:29 - INFO - Subset for 3 worker contains 7000/42000 annotations\n",
      "2024-10-26 00:19:54,634 root /tmp/ipykernel_353021/3015727835.py:29 - INFO - Subset for 4 worker contains 7000/42000 annotations\n",
      "2024-10-26 00:19:54,667 root /tmp/ipykernel_353021/3015727835.py:29 - INFO - Subset for 5 worker contains 7000/42000 annotations\n",
      "  1%|██▏                                                                                                                                                                                                                                      | 405/42000 [00:05<08:21, 82.92it/s]"
     ]
    },
    {
     "name": "stdout",
     "output_type": "stream",
     "text": [
      "# writing exp_v1/YandexCup2024v2/YaCupTrain//dump-000001.tar 400 0.1 GB 400\n"
     ]
    },
    {
     "name": "stderr",
     "output_type": "stream",
     "text": [
      "  2%|████▌                                                                                                                                                                                                                                    | 813/42000 [00:10<07:27, 92.06it/s]"
     ]
    },
    {
     "name": "stdout",
     "output_type": "stream",
     "text": [
      "# writing exp_v1/YandexCup2024v2/YaCupTrain//dump-000002.tar 400 0.1 GB 800\n"
     ]
    },
    {
     "name": "stderr",
     "output_type": "stream",
     "text": [
      "  3%|██████▋                                                                                                                                                                                                                                 | 1213/42000 [00:15<07:47, 87.22it/s]"
     ]
    },
    {
     "name": "stdout",
     "output_type": "stream",
     "text": [
      "# writing exp_v1/YandexCup2024v2/YaCupTrain//dump-000003.tar 400 0.1 GB 1200\n"
     ]
    },
    {
     "name": "stderr",
     "output_type": "stream",
     "text": [
      "  4%|████████▉                                                                                                                                                                                                                               | 1617/42000 [00:20<06:52, 97.98it/s]"
     ]
    },
    {
     "name": "stdout",
     "output_type": "stream",
     "text": [
      "# writing exp_v1/YandexCup2024v2/YaCupTrain//dump-000004.tar 400 0.1 GB 1600\n"
     ]
    },
    {
     "name": "stderr",
     "output_type": "stream",
     "text": [
      "  5%|███████████                                                                                                                                                                                                                             | 2011/42000 [00:24<06:51, 97.09it/s]"
     ]
    },
    {
     "name": "stdout",
     "output_type": "stream",
     "text": [
      "# writing exp_v1/YandexCup2024v2/YaCupTrain//dump-000005.tar 400 0.1 GB 2000\n"
     ]
    },
    {
     "name": "stderr",
     "output_type": "stream",
     "text": [
      "  6%|█████████████▎                                                                                                                                                                                                                          | 2414/42000 [00:30<08:23, 78.66it/s]"
     ]
    },
    {
     "name": "stdout",
     "output_type": "stream",
     "text": [
      "# writing exp_v1/YandexCup2024v2/YaCupTrain//dump-000006.tar 400 0.1 GB 2400\n"
     ]
    },
    {
     "name": "stderr",
     "output_type": "stream",
     "text": [
      "  7%|███████████████▌                                                                                                                                                                                                                        | 2807/42000 [00:35<07:50, 83.31it/s]"
     ]
    },
    {
     "name": "stdout",
     "output_type": "stream",
     "text": [
      "# writing exp_v1/YandexCup2024v2/YaCupTrain//dump-000007.tar 400 0.1 GB 2800\n"
     ]
    },
    {
     "name": "stderr",
     "output_type": "stream",
     "text": [
      "  8%|█████████████████▊                                                                                                                                                                                                                      | 3217/42000 [00:40<07:25, 87.09it/s]"
     ]
    },
    {
     "name": "stdout",
     "output_type": "stream",
     "text": [
      "# writing exp_v1/YandexCup2024v2/YaCupTrain//dump-000008.tar 400 0.1 GB 3200\n"
     ]
    },
    {
     "name": "stderr",
     "output_type": "stream",
     "text": [
      "  9%|███████████████████▉                                                                                                                                                                                                                    | 3605/42000 [00:45<08:35, 74.44it/s]"
     ]
    },
    {
     "name": "stdout",
     "output_type": "stream",
     "text": [
      "# writing exp_v1/YandexCup2024v2/YaCupTrain//dump-000009.tar 400 0.1 GB 3600\n"
     ]
    },
    {
     "name": "stderr",
     "output_type": "stream",
     "text": [
      " 10%|██████████████████████▏                                                                                                                                                                                                                 | 4009/42000 [00:50<09:51, 64.21it/s]"
     ]
    },
    {
     "name": "stdout",
     "output_type": "stream",
     "text": [
      "# writing exp_v1/YandexCup2024v2/YaCupTrain//dump-000010.tar 400 0.1 GB 4000\n"
     ]
    },
    {
     "name": "stderr",
     "output_type": "stream",
     "text": [
      " 11%|████████████████████████▍                                                                                                                                                                                                               | 4413/42000 [00:54<06:40, 93.86it/s]"
     ]
    },
    {
     "name": "stdout",
     "output_type": "stream",
     "text": [
      "# writing exp_v1/YandexCup2024v2/YaCupTrain//dump-000011.tar 400 0.1 GB 4400\n"
     ]
    },
    {
     "name": "stderr",
     "output_type": "stream",
     "text": [
      " 11%|██████████████████████████▍                                                                                                                                                                                                            | 4815/42000 [00:59<05:41, 108.87it/s]"
     ]
    },
    {
     "name": "stdout",
     "output_type": "stream",
     "text": [
      "# writing exp_v1/YandexCup2024v2/YaCupTrain//dump-000012.tar 400 0.1 GB 4800\n"
     ]
    },
    {
     "name": "stderr",
     "output_type": "stream",
     "text": [
      " 12%|████████████████████████████▊                                                                                                                                                                                                           | 5213/42000 [01:04<08:19, 73.60it/s]"
     ]
    },
    {
     "name": "stdout",
     "output_type": "stream",
     "text": [
      "# writing exp_v1/YandexCup2024v2/YaCupTrain//dump-000013.tar 400 0.1 GB 5200\n"
     ]
    },
    {
     "name": "stderr",
     "output_type": "stream",
     "text": [
      " 13%|██████████████████████████████▉                                                                                                                                                                                                         | 5611/42000 [01:08<07:32, 80.40it/s]"
     ]
    },
    {
     "name": "stdout",
     "output_type": "stream",
     "text": [
      "# writing exp_v1/YandexCup2024v2/YaCupTrain//dump-000014.tar 400 0.1 GB 5600\n"
     ]
    },
    {
     "name": "stderr",
     "output_type": "stream",
     "text": [
      " 14%|█████████████████████████████████▏                                                                                                                                                                                                      | 6011/42000 [01:13<08:05, 74.08it/s]"
     ]
    },
    {
     "name": "stdout",
     "output_type": "stream",
     "text": [
      "# writing exp_v1/YandexCup2024v2/YaCupTrain//dump-000015.tar 400 0.1 GB 6000\n"
     ]
    },
    {
     "name": "stderr",
     "output_type": "stream",
     "text": [
      " 15%|███████████████████████████████████▎                                                                                                                                                                                                   | 6414/42000 [01:18<05:44, 103.44it/s]"
     ]
    },
    {
     "name": "stdout",
     "output_type": "stream",
     "text": [
      "# writing exp_v1/YandexCup2024v2/YaCupTrain//dump-000016.tar 400 0.1 GB 6400\n"
     ]
    },
    {
     "name": "stderr",
     "output_type": "stream",
     "text": [
      " 16%|█████████████████████████████████████▋                                                                                                                                                                                                  | 6812/42000 [01:22<07:33, 77.58it/s]"
     ]
    },
    {
     "name": "stdout",
     "output_type": "stream",
     "text": [
      "# writing exp_v1/YandexCup2024v2/YaCupTrain//dump-000017.tar 400 0.1 GB 6800\n"
     ]
    },
    {
     "name": "stderr",
     "output_type": "stream",
     "text": [
      " 17%|███████████████████████████████████████▊                                                                                                                                                                                                | 7215/42000 [01:26<05:58, 97.16it/s]"
     ]
    },
    {
     "name": "stdout",
     "output_type": "stream",
     "text": [
      "# writing exp_v1/YandexCup2024v2/YaCupTrain//dump-000018.tar 400 0.1 GB 7200\n"
     ]
    },
    {
     "name": "stderr",
     "output_type": "stream",
     "text": [
      " 18%|██████████████████████████████████████████                                                                                                                                                                                              | 7610/42000 [01:31<06:29, 88.18it/s]"
     ]
    },
    {
     "name": "stdout",
     "output_type": "stream",
     "text": [
      "# writing exp_v1/YandexCup2024v2/YaCupTrain//dump-000019.tar 400 0.1 GB 7600\n"
     ]
    },
    {
     "name": "stderr",
     "output_type": "stream",
     "text": [
      " 19%|████████████████████████████████████████████▏                                                                                                                                                                                           | 8008/42000 [01:36<07:04, 80.07it/s]"
     ]
    },
    {
     "name": "stdout",
     "output_type": "stream",
     "text": [
      "# writing exp_v1/YandexCup2024v2/YaCupTrain//dump-000020.tar 400 0.1 GB 8000\n"
     ]
    },
    {
     "name": "stderr",
     "output_type": "stream",
     "text": [
      " 20%|██████████████████████████████████████████████▍                                                                                                                                                                                         | 8408/42000 [01:42<08:58, 62.43it/s]"
     ]
    },
    {
     "name": "stdout",
     "output_type": "stream",
     "text": [
      "# writing exp_v1/YandexCup2024v2/YaCupTrain//dump-000021.tar 400 0.1 GB 8400\n"
     ]
    },
    {
     "name": "stderr",
     "output_type": "stream",
     "text": [
      " 21%|████████████████████████████████████████████████▋                                                                                                                                                                                       | 8819/42000 [01:47<06:03, 91.40it/s]"
     ]
    },
    {
     "name": "stdout",
     "output_type": "stream",
     "text": [
      "# writing exp_v1/YandexCup2024v2/YaCupTrain//dump-000022.tar 400 0.1 GB 8800\n"
     ]
    },
    {
     "name": "stderr",
     "output_type": "stream",
     "text": [
      " 22%|██████████████████████████████████████████████████▊                                                                                                                                                                                     | 9209/42000 [01:52<06:49, 80.04it/s]"
     ]
    },
    {
     "name": "stdout",
     "output_type": "stream",
     "text": [
      "# writing exp_v1/YandexCup2024v2/YaCupTrain//dump-000023.tar 400 0.1 GB 9200\n"
     ]
    },
    {
     "name": "stderr",
     "output_type": "stream",
     "text": [
      " 23%|█████████████████████████████████████████████████████                                                                                                                                                                                   | 9613/42000 [01:57<06:15, 86.18it/s]"
     ]
    },
    {
     "name": "stdout",
     "output_type": "stream",
     "text": [
      "# writing exp_v1/YandexCup2024v2/YaCupTrain//dump-000024.tar 400 0.1 GB 9600\n"
     ]
    },
    {
     "name": "stderr",
     "output_type": "stream",
     "text": [
      " 24%|███████████████████████████████████████████████████████                                                                                                                                                                                | 10005/42000 [02:01<05:37, 94.70it/s]"
     ]
    },
    {
     "name": "stdout",
     "output_type": "stream",
     "text": [
      "# writing exp_v1/YandexCup2024v2/YaCupTrain//dump-000025.tar 400 0.1 GB 10000\n"
     ]
    },
    {
     "name": "stderr",
     "output_type": "stream",
     "text": [
      " 25%|█████████████████████████████████████████████████████████▏                                                                                                                                                                             | 10407/42000 [02:07<07:35, 69.32it/s]"
     ]
    },
    {
     "name": "stdout",
     "output_type": "stream",
     "text": [
      "# writing exp_v1/YandexCup2024v2/YaCupTrain//dump-000026.tar 400 0.1 GB 10400\n"
     ]
    },
    {
     "name": "stderr",
     "output_type": "stream",
     "text": [
      " 26%|███████████████████████████████████████████████████████████▍                                                                                                                                                                           | 10815/42000 [02:12<06:29, 80.02it/s]"
     ]
    },
    {
     "name": "stdout",
     "output_type": "stream",
     "text": [
      "# writing exp_v1/YandexCup2024v2/YaCupTrain//dump-000027.tar 400 0.1 GB 10800\n"
     ]
    },
    {
     "name": "stderr",
     "output_type": "stream",
     "text": [
      " 27%|█████████████████████████████████████████████████████████████▋                                                                                                                                                                         | 11216/42000 [02:17<06:05, 84.16it/s]"
     ]
    },
    {
     "name": "stdout",
     "output_type": "stream",
     "text": [
      "# writing exp_v1/YandexCup2024v2/YaCupTrain//dump-000028.tar 400 0.1 GB 11200\n"
     ]
    },
    {
     "name": "stderr",
     "output_type": "stream",
     "text": [
      " 28%|███████████████████████████████████████████████████████████████▊                                                                                                                                                                       | 11609/42000 [02:21<07:40, 66.04it/s]"
     ]
    },
    {
     "name": "stdout",
     "output_type": "stream",
     "text": [
      "# writing exp_v1/YandexCup2024v2/YaCupTrain//dump-000029.tar 400 0.1 GB 11600\n"
     ]
    },
    {
     "name": "stderr",
     "output_type": "stream",
     "text": [
      " 29%|██████████████████████████████████████████████████████████████████                                                                                                                                                                     | 12009/42000 [02:26<07:17, 68.52it/s]"
     ]
    },
    {
     "name": "stdout",
     "output_type": "stream",
     "text": [
      "# writing exp_v1/YandexCup2024v2/YaCupTrain//dump-000030.tar 400 0.1 GB 12000\n"
     ]
    },
    {
     "name": "stderr",
     "output_type": "stream",
     "text": [
      " 30%|████████████████████████████████████████████████████████████████████▎                                                                                                                                                                  | 12417/42000 [02:31<05:07, 96.22it/s]"
     ]
    },
    {
     "name": "stdout",
     "output_type": "stream",
     "text": [
      "# writing exp_v1/YandexCup2024v2/YaCupTrain//dump-000031.tar 400 0.1 GB 12400\n"
     ]
    },
    {
     "name": "stderr",
     "output_type": "stream",
     "text": [
      " 31%|██████████████████████████████████████████████████████████████████████▏                                                                                                                                                               | 12814/42000 [02:35<04:23, 110.65it/s]"
     ]
    },
    {
     "name": "stdout",
     "output_type": "stream",
     "text": [
      "# writing exp_v1/YandexCup2024v2/YaCupTrain//dump-000032.tar 400 0.1 GB 12800\n"
     ]
    },
    {
     "name": "stderr",
     "output_type": "stream",
     "text": [
      " 31%|████████████████████████████████████████████████████████████████████████▋                                                                                                                                                              | 13213/42000 [02:39<06:56, 69.05it/s]"
     ]
    },
    {
     "name": "stdout",
     "output_type": "stream",
     "text": [
      "# writing exp_v1/YandexCup2024v2/YaCupTrain//dump-000033.tar 400 0.1 GB 13200\n"
     ]
    },
    {
     "name": "stderr",
     "output_type": "stream",
     "text": [
      " 32%|██████████████████████████████████████████████████████████████████████████▊                                                                                                                                                            | 13610/42000 [02:44<06:52, 68.79it/s]"
     ]
    },
    {
     "name": "stdout",
     "output_type": "stream",
     "text": [
      "# writing exp_v1/YandexCup2024v2/YaCupTrain//dump-000034.tar 400 0.1 GB 13600\n"
     ]
    },
    {
     "name": "stderr",
     "output_type": "stream",
     "text": [
      " 33%|████████████████████████████████████████████████████████████████████████████▋                                                                                                                                                         | 14014/42000 [02:50<04:33, 102.29it/s]"
     ]
    },
    {
     "name": "stdout",
     "output_type": "stream",
     "text": [
      "# writing exp_v1/YandexCup2024v2/YaCupTrain//dump-000035.tar 400 0.1 GB 14000\n"
     ]
    },
    {
     "name": "stderr",
     "output_type": "stream",
     "text": [
      " 34%|███████████████████████████████████████████████████████████████████████████████▎                                                                                                                                                       | 14420/42000 [02:54<04:37, 99.40it/s]"
     ]
    },
    {
     "name": "stdout",
     "output_type": "stream",
     "text": [
      "# writing exp_v1/YandexCup2024v2/YaCupTrain//dump-000036.tar 400 0.1 GB 14400\n"
     ]
    },
    {
     "name": "stderr",
     "output_type": "stream",
     "text": [
      " 35%|█████████████████████████████████████████████████████████████████████████████████▍                                                                                                                                                     | 14811/42000 [02:59<05:58, 75.82it/s]"
     ]
    },
    {
     "name": "stdout",
     "output_type": "stream",
     "text": [
      "# writing exp_v1/YandexCup2024v2/YaCupTrain//dump-000037.tar 400 0.1 GB 14800\n"
     ]
    },
    {
     "name": "stderr",
     "output_type": "stream",
     "text": [
      " 36%|███████████████████████████████████████████████████████████████████████████████████▋                                                                                                                                                   | 15214/42000 [03:03<04:42, 94.97it/s]"
     ]
    },
    {
     "name": "stdout",
     "output_type": "stream",
     "text": [
      "# writing exp_v1/YandexCup2024v2/YaCupTrain//dump-000038.tar 400 0.1 GB 15200\n"
     ]
    },
    {
     "name": "stderr",
     "output_type": "stream",
     "text": [
      " 37%|█████████████████████████████████████████████████████████████████████████████████████▉                                                                                                                                                 | 15614/42000 [03:08<05:21, 82.12it/s]"
     ]
    },
    {
     "name": "stdout",
     "output_type": "stream",
     "text": [
      "# writing exp_v1/YandexCup2024v2/YaCupTrain//dump-000039.tar 400 0.1 GB 15600\n"
     ]
    },
    {
     "name": "stderr",
     "output_type": "stream",
     "text": [
      " 38%|████████████████████████████████████████████████████████████████████████████████████████                                                                                                                                               | 16014/42000 [03:13<05:15, 82.26it/s]"
     ]
    },
    {
     "name": "stdout",
     "output_type": "stream",
     "text": [
      "# writing exp_v1/YandexCup2024v2/YaCupTrain//dump-000040.tar 400 0.1 GB 16000\n"
     ]
    },
    {
     "name": "stderr",
     "output_type": "stream",
     "text": [
      " 39%|██████████████████████████████████████████████████████████████████████████████████████████▎                                                                                                                                            | 16413/42000 [03:18<04:32, 93.93it/s]"
     ]
    },
    {
     "name": "stdout",
     "output_type": "stream",
     "text": [
      "# writing exp_v1/YandexCup2024v2/YaCupTrain//dump-000041.tar 400 0.1 GB 16400\n"
     ]
    },
    {
     "name": "stderr",
     "output_type": "stream",
     "text": [
      " 40%|████████████████████████████████████████████████████████████████████████████████████████████▍                                                                                                                                          | 16810/42000 [03:22<05:12, 80.64it/s]"
     ]
    },
    {
     "name": "stdout",
     "output_type": "stream",
     "text": [
      "# writing exp_v1/YandexCup2024v2/YaCupTrain//dump-000042.tar 400 0.1 GB 16800\n"
     ]
    },
    {
     "name": "stderr",
     "output_type": "stream",
     "text": [
      " 41%|██████████████████████████████████████████████████████████████████████████████████████████████▋                                                                                                                                        | 17215/42000 [03:27<04:13, 97.76it/s]"
     ]
    },
    {
     "name": "stdout",
     "output_type": "stream",
     "text": [
      "# writing exp_v1/YandexCup2024v2/YaCupTrain//dump-000043.tar 400 0.1 GB 17200\n"
     ]
    },
    {
     "name": "stderr",
     "output_type": "stream",
     "text": [
      " 42%|████████████████████████████████████████████████████████████████████████████████████████████████▉                                                                                                                                      | 17616/42000 [03:31<04:44, 85.71it/s]"
     ]
    },
    {
     "name": "stdout",
     "output_type": "stream",
     "text": [
      "# writing exp_v1/YandexCup2024v2/YaCupTrain//dump-000044.tar 400 0.1 GB 17600\n"
     ]
    },
    {
     "name": "stderr",
     "output_type": "stream",
     "text": [
      " 43%|██████████████████████████████████████████████████████████████████████████████████████████████████▋                                                                                                                                   | 18022/42000 [03:36<03:28, 114.89it/s]"
     ]
    },
    {
     "name": "stdout",
     "output_type": "stream",
     "text": [
      "# writing exp_v1/YandexCup2024v2/YaCupTrain//dump-000045.tar 400 0.1 GB 18000\n"
     ]
    },
    {
     "name": "stderr",
     "output_type": "stream",
     "text": [
      " 44%|████████████████████████████████████████████████████████████████████████████████████████████████████▊                                                                                                                                 | 18413/42000 [03:40<03:40, 106.81it/s]"
     ]
    },
    {
     "name": "stdout",
     "output_type": "stream",
     "text": [
      "# writing exp_v1/YandexCup2024v2/YaCupTrain//dump-000046.tar 400 0.1 GB 18400\n"
     ]
    },
    {
     "name": "stderr",
     "output_type": "stream",
     "text": [
      " 45%|███████████████████████████████████████████████████████████████████████████████████████████████████████▍                                                                                                                               | 18812/42000 [03:45<05:04, 76.14it/s]"
     ]
    },
    {
     "name": "stdout",
     "output_type": "stream",
     "text": [
      "# writing exp_v1/YandexCup2024v2/YaCupTrain//dump-000047.tar 400 0.1 GB 18800\n"
     ]
    },
    {
     "name": "stderr",
     "output_type": "stream",
     "text": [
      " 46%|█████████████████████████████████████████████████████████████████████████████████████████████████████████▋                                                                                                                             | 19211/42000 [03:50<04:44, 80.17it/s]"
     ]
    },
    {
     "name": "stdout",
     "output_type": "stream",
     "text": [
      "# writing exp_v1/YandexCup2024v2/YaCupTrain//dump-000048.tar 400 0.1 GB 19200\n"
     ]
    },
    {
     "name": "stderr",
     "output_type": "stream",
     "text": [
      " 47%|███████████████████████████████████████████████████████████████████████████████████████████████████████████▉                                                                                                                           | 19616/42000 [03:55<04:15, 87.65it/s]"
     ]
    },
    {
     "name": "stdout",
     "output_type": "stream",
     "text": [
      "# writing exp_v1/YandexCup2024v2/YaCupTrain//dump-000049.tar 400 0.1 GB 19600\n"
     ]
    },
    {
     "name": "stderr",
     "output_type": "stream",
     "text": [
      " 48%|██████████████████████████████████████████████████████████████████████████████████████████████████████████████                                                                                                                         | 20013/42000 [03:59<05:04, 72.20it/s]"
     ]
    },
    {
     "name": "stdout",
     "output_type": "stream",
     "text": [
      "# writing exp_v1/YandexCup2024v2/YaCupTrain//dump-000050.tar 400 0.1 GB 20000\n"
     ]
    },
    {
     "name": "stderr",
     "output_type": "stream",
     "text": [
      " 49%|████████████████████████████████████████████████████████████████████████████████████████████████████████████████▎                                                                                                                      | 20419/42000 [04:04<04:27, 80.82it/s]"
     ]
    },
    {
     "name": "stdout",
     "output_type": "stream",
     "text": [
      "# writing exp_v1/YandexCup2024v2/YaCupTrain//dump-000051.tar 400 0.1 GB 20400\n"
     ]
    },
    {
     "name": "stderr",
     "output_type": "stream",
     "text": [
      " 50%|██████████████████████████████████████████████████████████████████████████████████████████████████████████████████▍                                                                                                                    | 20814/42000 [04:09<04:52, 72.33it/s]"
     ]
    },
    {
     "name": "stdout",
     "output_type": "stream",
     "text": [
      "# writing exp_v1/YandexCup2024v2/YaCupTrain//dump-000052.tar 400 0.1 GB 20800\n"
     ]
    },
    {
     "name": "stderr",
     "output_type": "stream",
     "text": [
      " 51%|████████████████████████████████████████████████████████████████████████████████████████████████████████████████████▏                                                                                                                 | 21217/42000 [04:14<03:27, 100.20it/s]"
     ]
    },
    {
     "name": "stdout",
     "output_type": "stream",
     "text": [
      "# writing exp_v1/YandexCup2024v2/YaCupTrain//dump-000053.tar 400 0.1 GB 21200\n"
     ]
    },
    {
     "name": "stderr",
     "output_type": "stream",
     "text": [
      " 51%|██████████████████████████████████████████████████████████████████████████████████████████████████████████████████████▊                                                                                                                | 21607/42000 [04:19<05:29, 61.93it/s]"
     ]
    },
    {
     "name": "stdout",
     "output_type": "stream",
     "text": [
      "# writing exp_v1/YandexCup2024v2/YaCupTrain//dump-000054.tar 400 0.1 GB 21600\n"
     ]
    },
    {
     "name": "stderr",
     "output_type": "stream",
     "text": [
      " 52%|█████████████████████████████████████████████████████████████████████████████████████████████████████████████████████████                                                                                                              | 22015/42000 [04:24<03:45, 88.76it/s]"
     ]
    },
    {
     "name": "stdout",
     "output_type": "stream",
     "text": [
      "# writing exp_v1/YandexCup2024v2/YaCupTrain//dump-000055.tar 400 0.1 GB 22000\n"
     ]
    },
    {
     "name": "stderr",
     "output_type": "stream",
     "text": [
      " 53%|██████████████████████████████████████████████████████████████████████████████████████████████████████████████████████████▋                                                                                                           | 22410/42000 [04:28<02:58, 109.83it/s]"
     ]
    },
    {
     "name": "stdout",
     "output_type": "stream",
     "text": [
      "# writing exp_v1/YandexCup2024v2/YaCupTrain//dump-000056.tar 400 0.1 GB 22400\n"
     ]
    },
    {
     "name": "stderr",
     "output_type": "stream",
     "text": [
      " 54%|████████████████████████████████████████████████████████████████████████████████████████████████████████████████████████████▉                                                                                                         | 22812/42000 [04:33<03:10, 100.52it/s]"
     ]
    },
    {
     "name": "stdout",
     "output_type": "stream",
     "text": [
      "# writing exp_v1/YandexCup2024v2/YaCupTrain//dump-000057.tar 400 0.1 GB 22800\n"
     ]
    },
    {
     "name": "stderr",
     "output_type": "stream",
     "text": [
      " 55%|███████████████████████████████████████████████████████████████████████████████████████████████████████████████████████████████▋                                                                                                       | 23214/42000 [04:38<04:36, 67.97it/s]"
     ]
    },
    {
     "name": "stdout",
     "output_type": "stream",
     "text": [
      "# writing exp_v1/YandexCup2024v2/YaCupTrain//dump-000058.tar 400 0.1 GB 23200\n"
     ]
    },
    {
     "name": "stderr",
     "output_type": "stream",
     "text": [
      " 56%|█████████████████████████████████████████████████████████████████████████████████████████████████████████████████████████████████▉                                                                                                     | 23617/42000 [04:44<03:03, 99.97it/s]"
     ]
    },
    {
     "name": "stdout",
     "output_type": "stream",
     "text": [
      "# writing exp_v1/YandexCup2024v2/YaCupTrain//dump-000059.tar 400 0.1 GB 23600\n"
     ]
    },
    {
     "name": "stderr",
     "output_type": "stream",
     "text": [
      " 57%|████████████████████████████████████████████████████████████████████████████████████████████████████████████████████████████████████                                                                                                   | 24008/42000 [04:49<04:15, 70.49it/s]"
     ]
    },
    {
     "name": "stdout",
     "output_type": "stream",
     "text": [
      "# writing exp_v1/YandexCup2024v2/YaCupTrain//dump-000060.tar 400 0.1 GB 24000\n"
     ]
    },
    {
     "name": "stderr",
     "output_type": "stream",
     "text": [
      " 58%|█████████████████████████████████████████████████████████████████████████████████████████████████████████████████████████████████████▋                                                                                                | 24417/42000 [04:54<02:50, 103.03it/s]"
     ]
    },
    {
     "name": "stdout",
     "output_type": "stream",
     "text": [
      "# writing exp_v1/YandexCup2024v2/YaCupTrain//dump-000061.tar 400 0.1 GB 24400\n"
     ]
    },
    {
     "name": "stderr",
     "output_type": "stream",
     "text": [
      " 59%|███████████████████████████████████████████████████████████████████████████████████████████████████████████████████████████████████████▉                                                                                              | 24818/42000 [04:58<02:48, 102.25it/s]"
     ]
    },
    {
     "name": "stdout",
     "output_type": "stream",
     "text": [
      "# writing exp_v1/YandexCup2024v2/YaCupTrain//dump-000062.tar 400 0.1 GB 24800\n"
     ]
    },
    {
     "name": "stderr",
     "output_type": "stream",
     "text": [
      " 60%|██████████████████████████████████████████████████████████████████████████████████████████████████████████████████████████████████████████▋                                                                                            | 25220/42000 [05:03<03:06, 89.79it/s]"
     ]
    },
    {
     "name": "stdout",
     "output_type": "stream",
     "text": [
      "# writing exp_v1/YandexCup2024v2/YaCupTrain//dump-000063.tar 400 0.1 GB 25200\n"
     ]
    },
    {
     "name": "stderr",
     "output_type": "stream",
     "text": [
      " 61%|████████████████████████████████████████████████████████████████████████████████████████████████████████████████████████████████████████████▉                                                                                          | 25617/42000 [05:07<02:52, 94.80it/s]"
     ]
    },
    {
     "name": "stdout",
     "output_type": "stream",
     "text": [
      "# writing exp_v1/YandexCup2024v2/YaCupTrain//dump-000064.tar 400 0.1 GB 25600\n"
     ]
    },
    {
     "name": "stderr",
     "output_type": "stream",
     "text": [
      " 62%|███████████████████████████████████████████████████████████████████████████████████████████████████████████████████████████████████████████████                                                                                        | 26011/42000 [05:12<03:20, 79.90it/s]"
     ]
    },
    {
     "name": "stdout",
     "output_type": "stream",
     "text": [
      "# writing exp_v1/YandexCup2024v2/YaCupTrain//dump-000065.tar 400 0.1 GB 26000\n"
     ]
    },
    {
     "name": "stderr",
     "output_type": "stream",
     "text": [
      " 63%|████████████████████████████████████████████████████████████████████████████████████████████████████████████████████████████████████████████████▋                                                                                     | 26417/42000 [05:16<02:32, 102.50it/s]"
     ]
    },
    {
     "name": "stdout",
     "output_type": "stream",
     "text": [
      "# writing exp_v1/YandexCup2024v2/YaCupTrain//dump-000066.tar 400 0.1 GB 26400\n"
     ]
    },
    {
     "name": "stderr",
     "output_type": "stream",
     "text": [
      " 64%|███████████████████████████████████████████████████████████████████████████████████████████████████████████████████████████████████████████████████▍                                                                                   | 26817/42000 [05:22<02:47, 90.88it/s]"
     ]
    },
    {
     "name": "stdout",
     "output_type": "stream",
     "text": [
      "# writing exp_v1/YandexCup2024v2/YaCupTrain//dump-000067.tar 400 0.1 GB 26800\n"
     ]
    },
    {
     "name": "stderr",
     "output_type": "stream",
     "text": [
      " 65%|█████████████████████████████████████████████████████████████████████████████████████████████████████████████████████████████████████████████████████▋                                                                                 | 27215/42000 [05:26<02:39, 92.96it/s]"
     ]
    },
    {
     "name": "stdout",
     "output_type": "stream",
     "text": [
      "# writing exp_v1/YandexCup2024v2/YaCupTrain//dump-000068.tar 400 0.1 GB 27200\n"
     ]
    },
    {
     "name": "stderr",
     "output_type": "stream",
     "text": [
      " 66%|███████████████████████████████████████████████████████████████████████████████████████████████████████████████████████████████████████████████████████▏                                                                              | 27613/42000 [05:31<02:21, 101.86it/s]"
     ]
    },
    {
     "name": "stdout",
     "output_type": "stream",
     "text": [
      "# writing exp_v1/YandexCup2024v2/YaCupTrain//dump-000069.tar 400 0.1 GB 27600\n"
     ]
    },
    {
     "name": "stderr",
     "output_type": "stream",
     "text": [
      " 67%|██████████████████████████████████████████████████████████████████████████████████████████████████████████████████████████████████████████████████████████                                                                             | 28019/42000 [05:35<02:36, 89.35it/s]"
     ]
    },
    {
     "name": "stdout",
     "output_type": "stream",
     "text": [
      "# writing exp_v1/YandexCup2024v2/YaCupTrain//dump-000070.tar 400 0.1 GB 28000\n"
     ]
    },
    {
     "name": "stderr",
     "output_type": "stream",
     "text": [
      " 68%|████████████████████████████████████████████████████████████████████████████████████████████████████████████████████████████████████████████████████████████▎                                                                          | 28412/42000 [05:39<02:36, 86.58it/s]"
     ]
    },
    {
     "name": "stdout",
     "output_type": "stream",
     "text": [
      "# writing exp_v1/YandexCup2024v2/YaCupTrain//dump-000071.tar 400 0.1 GB 28400\n"
     ]
    },
    {
     "name": "stderr",
     "output_type": "stream",
     "text": [
      " 69%|██████████████████████████████████████████████████████████████████████████████████████████████████████████████████████████████████████████████████████████████▍                                                                        | 28813/42000 [05:45<03:09, 69.67it/s]"
     ]
    },
    {
     "name": "stdout",
     "output_type": "stream",
     "text": [
      "# writing exp_v1/YandexCup2024v2/YaCupTrain//dump-000072.tar 400 0.1 GB 28800\n"
     ]
    },
    {
     "name": "stderr",
     "output_type": "stream",
     "text": [
      " 70%|████████████████████████████████████████████████████████████████████████████████████████████████████████████████████████████████████████████████████████████████▋                                                                      | 29208/42000 [05:50<03:04, 69.50it/s]"
     ]
    },
    {
     "name": "stdout",
     "output_type": "stream",
     "text": [
      "# writing exp_v1/YandexCup2024v2/YaCupTrain//dump-000073.tar 400 0.1 GB 29200\n"
     ]
    },
    {
     "name": "stderr",
     "output_type": "stream",
     "text": [
      " 70%|██████████████████████████████████████████████████████████████████████████████████████████████████████████████████████████████████████████████████████████████████▊                                                                    | 29609/42000 [05:56<02:36, 79.23it/s]"
     ]
    },
    {
     "name": "stdout",
     "output_type": "stream",
     "text": [
      "# writing exp_v1/YandexCup2024v2/YaCupTrain//dump-000074.tar 400 0.1 GB 29600\n"
     ]
    },
    {
     "name": "stderr",
     "output_type": "stream",
     "text": [
      " 71%|████████████████████████████████████████████████████████████████████████████████████████████████████████████████████████████████████████████████████████████████████▍                                                                 | 30020/42000 [06:01<01:55, 103.32it/s]"
     ]
    },
    {
     "name": "stdout",
     "output_type": "stream",
     "text": [
      "# writing exp_v1/YandexCup2024v2/YaCupTrain//dump-000075.tar 400 0.1 GB 30000\n"
     ]
    },
    {
     "name": "stderr",
     "output_type": "stream",
     "text": [
      " 72%|██████████████████████████████████████████████████████████████████████████████████████████████████████████████████████████████████████████████████████████████████████▌                                                               | 30420/42000 [06:06<01:46, 108.40it/s]"
     ]
    },
    {
     "name": "stdout",
     "output_type": "stream",
     "text": [
      "# writing exp_v1/YandexCup2024v2/YaCupTrain//dump-000076.tar 400 0.1 GB 30400\n"
     ]
    },
    {
     "name": "stderr",
     "output_type": "stream",
     "text": [
      " 73%|█████████████████████████████████████████████████████████████████████████████████████████████████████████████████████████████████████████████████████████████████████████▍                                                             | 30812/42000 [06:10<03:38, 51.25it/s]"
     ]
    },
    {
     "name": "stdout",
     "output_type": "stream",
     "text": [
      "# writing exp_v1/YandexCup2024v2/YaCupTrain//dump-000077.tar 400 0.1 GB 30800\n"
     ]
    },
    {
     "name": "stderr",
     "output_type": "stream",
     "text": [
      " 74%|███████████████████████████████████████████████████████████████████████████████████████████████████████████████████████████████████████████████████████████████████████████▋                                                           | 31214/42000 [06:15<01:49, 98.20it/s]"
     ]
    },
    {
     "name": "stdout",
     "output_type": "stream",
     "text": [
      "# writing exp_v1/YandexCup2024v2/YaCupTrain//dump-000078.tar 400 0.1 GB 31200\n"
     ]
    },
    {
     "name": "stderr",
     "output_type": "stream",
     "text": [
      " 75%|█████████████████████████████████████████████████████████████████████████████████████████████████████████████████████████████████████████████████████████████████████████████▉                                                         | 31614/42000 [06:21<02:33, 67.81it/s]"
     ]
    },
    {
     "name": "stdout",
     "output_type": "stream",
     "text": [
      "# writing exp_v1/YandexCup2024v2/YaCupTrain//dump-000079.tar 400 0.1 GB 31600\n"
     ]
    },
    {
     "name": "stderr",
     "output_type": "stream",
     "text": [
      " 76%|████████████████████████████████████████████████████████████████████████████████████████████████████████████████████████████████████████████████████████████████████████████████                                                       | 32013/42000 [06:26<01:52, 88.57it/s]"
     ]
    },
    {
     "name": "stdout",
     "output_type": "stream",
     "text": [
      "# writing exp_v1/YandexCup2024v2/YaCupTrain//dump-000080.tar 400 0.1 GB 32000\n"
     ]
    },
    {
     "name": "stderr",
     "output_type": "stream",
     "text": [
      " 77%|██████████████████████████████████████████████████████████████████████████████████████████████████████████████████████████████████████████████████████████████████████████████████▎                                                    | 32414/42000 [06:31<01:41, 94.68it/s]"
     ]
    },
    {
     "name": "stdout",
     "output_type": "stream",
     "text": [
      "# writing exp_v1/YandexCup2024v2/YaCupTrain//dump-000081.tar 400 0.1 GB 32400\n"
     ]
    },
    {
     "name": "stderr",
     "output_type": "stream",
     "text": [
      " 78%|████████████████████████████████████████████████████████████████████████████████████████████████████████████████████████████████████████████████████████████████████████████████████▍                                                  | 32810/42000 [06:36<01:53, 81.29it/s]"
     ]
    },
    {
     "name": "stdout",
     "output_type": "stream",
     "text": [
      "# writing exp_v1/YandexCup2024v2/YaCupTrain//dump-000082.tar 400 0.1 GB 32800\n"
     ]
    },
    {
     "name": "stderr",
     "output_type": "stream",
     "text": [
      " 79%|██████████████████████████████████████████████████████████████████████████████████████████████████████████████████████████████████████████████████████████████████████████████████████▋                                                | 33213/42000 [06:40<01:31, 95.68it/s]"
     ]
    },
    {
     "name": "stdout",
     "output_type": "stream",
     "text": [
      "# writing exp_v1/YandexCup2024v2/YaCupTrain//dump-000083.tar 400 0.1 GB 33200\n"
     ]
    },
    {
     "name": "stderr",
     "output_type": "stream",
     "text": [
      " 80%|████████████████████████████████████████████████████████████████████████████████████████████████████████████████████████████████████████████████████████████████████████████████████████▊                                              | 33611/42000 [06:45<02:05, 66.87it/s]"
     ]
    },
    {
     "name": "stdout",
     "output_type": "stream",
     "text": [
      "# writing exp_v1/YandexCup2024v2/YaCupTrain//dump-000084.tar 400 0.1 GB 33600\n"
     ]
    },
    {
     "name": "stderr",
     "output_type": "stream",
     "text": [
      " 81%|███████████████████████████████████████████████████████████████████████████████████████████████████████████████████████████████████████████████████████████████████████████████████████████                                            | 34012/42000 [06:50<01:58, 67.40it/s]"
     ]
    },
    {
     "name": "stdout",
     "output_type": "stream",
     "text": [
      "# writing exp_v1/YandexCup2024v2/YaCupTrain//dump-000085.tar 400 0.1 GB 34000\n"
     ]
    },
    {
     "name": "stderr",
     "output_type": "stream",
     "text": [
      " 82%|█████████████████████████████████████████████████████████████████████████████████████████████████████████████████████████████████████████████████████████████████████████████████████████████▎                                         | 34412/42000 [06:55<01:34, 80.67it/s]"
     ]
    },
    {
     "name": "stdout",
     "output_type": "stream",
     "text": [
      "# writing exp_v1/YandexCup2024v2/YaCupTrain//dump-000086.tar 400 0.1 GB 34400\n"
     ]
    },
    {
     "name": "stderr",
     "output_type": "stream",
     "text": [
      " 83%|███████████████████████████████████████████████████████████████████████████████████████████████████████████████████████████████████████████████████████████████████████████████████████████████▍                                       | 34818/42000 [07:00<01:12, 99.11it/s]"
     ]
    },
    {
     "name": "stdout",
     "output_type": "stream",
     "text": [
      "# writing exp_v1/YandexCup2024v2/YaCupTrain//dump-000087.tar 400 0.1 GB 34800\n"
     ]
    },
    {
     "name": "stderr",
     "output_type": "stream",
     "text": [
      " 84%|█████████████████████████████████████████████████████████████████████████████████████████████████████████████████████████████████████████████████████████████████████████████████████████████████▋                                     | 35210/42000 [07:04<01:40, 67.55it/s]"
     ]
    },
    {
     "name": "stdout",
     "output_type": "stream",
     "text": [
      "# writing exp_v1/YandexCup2024v2/YaCupTrain//dump-000088.tar 400 0.1 GB 35200\n"
     ]
    },
    {
     "name": "stderr",
     "output_type": "stream",
     "text": [
      " 85%|███████████████████████████████████████████████████████████████████████████████████████████████████████████████████████████████████████████████████████████████████████████████████████████████████▊                                   | 35609/42000 [07:10<01:31, 69.69it/s]"
     ]
    },
    {
     "name": "stdout",
     "output_type": "stream",
     "text": [
      "# writing exp_v1/YandexCup2024v2/YaCupTrain//dump-000089.tar 400 0.1 GB 35600\n"
     ]
    },
    {
     "name": "stderr",
     "output_type": "stream",
     "text": [
      " 86%|██████████████████████████████████████████████████████████████████████████████████████████████████████████████████████████████████████████████████████████████████████████████████████████████████████                                 | 36015/42000 [07:15<01:01, 97.64it/s]"
     ]
    },
    {
     "name": "stdout",
     "output_type": "stream",
     "text": [
      "# writing exp_v1/YandexCup2024v2/YaCupTrain//dump-000090.tar 400 0.1 GB 36000\n"
     ]
    },
    {
     "name": "stderr",
     "output_type": "stream",
     "text": [
      " 87%|████████████████████████████████████████████████████████████████████████████████████████████████████████████████████████████████████████████████████████████████████████████████████████████████████████▎                              | 36414/42000 [07:19<01:00, 93.01it/s]"
     ]
    },
    {
     "name": "stdout",
     "output_type": "stream",
     "text": [
      "# writing exp_v1/YandexCup2024v2/YaCupTrain//dump-000091.tar 400 0.1 GB 36400\n"
     ]
    },
    {
     "name": "stderr",
     "output_type": "stream",
     "text": [
      " 88%|██████████████████████████████████████████████████████████████████████████████████████████████████████████████████████████████████████████████████████████████████████████████████████████████████████████▍                            | 36814/42000 [07:24<00:55, 93.95it/s]"
     ]
    },
    {
     "name": "stdout",
     "output_type": "stream",
     "text": [
      "# writing exp_v1/YandexCup2024v2/YaCupTrain//dump-000092.tar 400 0.1 GB 36800\n"
     ]
    },
    {
     "name": "stderr",
     "output_type": "stream",
     "text": [
      " 89%|████████████████████████████████████████████████████████████████████████████████████████████████████████████████████████████████████████████████████████████████████████████████████████████████████████████▋                          | 37213/42000 [07:29<00:49, 96.82it/s]"
     ]
    },
    {
     "name": "stdout",
     "output_type": "stream",
     "text": [
      "# writing exp_v1/YandexCup2024v2/YaCupTrain//dump-000093.tar 400 0.1 GB 37200\n"
     ]
    },
    {
     "name": "stderr",
     "output_type": "stream",
     "text": [
      " 90%|██████████████████████████████████████████████████████████████████████████████████████████████████████████████████████████████████████████████████████████████████████████████████████████████████████████████▉                        | 37618/42000 [07:34<00:45, 95.77it/s]"
     ]
    },
    {
     "name": "stdout",
     "output_type": "stream",
     "text": [
      "# writing exp_v1/YandexCup2024v2/YaCupTrain//dump-000094.tar 400 0.1 GB 37600\n"
     ]
    },
    {
     "name": "stderr",
     "output_type": "stream",
     "text": [
      " 91%|█████████████████████████████████████████████████████████████████████████████████████████████████████████████████████████████████████████████████████████████████████████████████████████████████████████████████                      | 38011/42000 [07:39<01:04, 61.51it/s]"
     ]
    },
    {
     "name": "stdout",
     "output_type": "stream",
     "text": [
      "# writing exp_v1/YandexCup2024v2/YaCupTrain//dump-000095.tar 400 0.1 GB 38000\n"
     ]
    },
    {
     "name": "stderr",
     "output_type": "stream",
     "text": [
      " 91%|███████████████████████████████████████████████████████████████████████████████████████████████████████████████████████████████████████████████████████████████████████████████████████████████████████████████████▎                   | 38416/42000 [07:43<00:39, 91.61it/s]"
     ]
    },
    {
     "name": "stdout",
     "output_type": "stream",
     "text": [
      "# writing exp_v1/YandexCup2024v2/YaCupTrain//dump-000096.tar 400 0.1 GB 38400\n"
     ]
    },
    {
     "name": "stderr",
     "output_type": "stream",
     "text": [
      " 92%|█████████████████████████████████████████████████████████████████████████████████████████████████████████████████████████████████████████████████████████████████████████████████████████████████████████████████████▍                 | 38810/42000 [07:49<00:51, 62.41it/s]"
     ]
    },
    {
     "name": "stdout",
     "output_type": "stream",
     "text": [
      "# writing exp_v1/YandexCup2024v2/YaCupTrain//dump-000097.tar 400 0.1 GB 38800\n"
     ]
    },
    {
     "name": "stderr",
     "output_type": "stream",
     "text": [
      " 93%|███████████████████████████████████████████████████████████████████████████████████████████████████████████████████████████████████████████████████████████████████████████████████████████████████████████████████████▋               | 39210/42000 [07:54<00:31, 89.17it/s]"
     ]
    },
    {
     "name": "stdout",
     "output_type": "stream",
     "text": [
      "# writing exp_v1/YandexCup2024v2/YaCupTrain//dump-000098.tar 400 0.1 GB 39200\n"
     ]
    },
    {
     "name": "stderr",
     "output_type": "stream",
     "text": [
      " 94%|█████████████████████████████████████████████████████████████████████████████████████████████████████████████████████████████████████████████████████████████████████████████████████████████████████████████████████████▊             | 39607/42000 [07:58<00:26, 90.90it/s]"
     ]
    },
    {
     "name": "stdout",
     "output_type": "stream",
     "text": [
      "# writing exp_v1/YandexCup2024v2/YaCupTrain//dump-000099.tar 400 0.1 GB 39600\n"
     ]
    },
    {
     "name": "stderr",
     "output_type": "stream",
     "text": [
      " 95%|███████████████████████████████████████████████████████████████████████████████████████████████████████████████████████████████████████████████████████████████████████████████████████████████████████████████████████████           | 40007/42000 [08:02<00:19, 103.32it/s]"
     ]
    },
    {
     "name": "stdout",
     "output_type": "stream",
     "text": [
      "# writing exp_v1/YandexCup2024v2/YaCupTrain//dump-000100.tar 400 0.1 GB 40000\n"
     ]
    },
    {
     "name": "stderr",
     "output_type": "stream",
     "text": [
      " 96%|██████████████████████████████████████████████████████████████████████████████████████████████████████████████████████████████████████████████████████████████████████████████████████████████████████████████████████████████▏        | 40408/42000 [08:07<00:23, 67.81it/s]"
     ]
    },
    {
     "name": "stdout",
     "output_type": "stream",
     "text": [
      "# writing exp_v1/YandexCup2024v2/YaCupTrain//dump-000101.tar 400 0.1 GB 40400\n"
     ]
    },
    {
     "name": "stderr",
     "output_type": "stream",
     "text": [
      " 97%|████████████████████████████████████████████████████████████████████████████████████████████████████████████████████████████████████████████████████████████████████████████████████████████████████████████████████████████████▍      | 40808/42000 [08:12<00:14, 81.27it/s]"
     ]
    },
    {
     "name": "stdout",
     "output_type": "stream",
     "text": [
      "# writing exp_v1/YandexCup2024v2/YaCupTrain//dump-000102.tar 400 0.1 GB 40800\n"
     ]
    },
    {
     "name": "stderr",
     "output_type": "stream",
     "text": [
      " 98%|█████████████████████████████████████████████████████████████████████████████████████████████████████████████████████████████████████████████████████████████████████████████████████████████████████████████████████████████████▋    | 41216/42000 [08:17<00:07, 101.66it/s]"
     ]
    },
    {
     "name": "stdout",
     "output_type": "stream",
     "text": [
      "# writing exp_v1/YandexCup2024v2/YaCupTrain//dump-000103.tar 400 0.1 GB 41200\n"
     ]
    },
    {
     "name": "stderr",
     "output_type": "stream",
     "text": [
      " 99%|███████████████████████████████████████████████████████████████████████████████████████████████████████████████████████████████████████████████████████████████████████████████████████████████████████████████████████████████████▉  | 41617/42000 [08:22<00:03, 110.35it/s]"
     ]
    },
    {
     "name": "stdout",
     "output_type": "stream",
     "text": [
      "# writing exp_v1/YandexCup2024v2/YaCupTrain//dump-000104.tar 400 0.1 GB 41600\n"
     ]
    },
    {
     "name": "stderr",
     "output_type": "stream",
     "text": [
      "100%|███████████████████████████████████████████████████████████████████████████████████████████████████████████████████████████████████████████████████████████████████████████████████████████████████████████████████████████████████████| 42000/42000 [08:27<00:00, 82.83it/s]"
     ]
    },
    {
     "name": "stdout",
     "output_type": "stream",
     "text": [
      "Done exp_v1/YandexCup2024v2/YaCupTrain/\n"
     ]
    },
    {
     "name": "stderr",
     "output_type": "stream",
     "text": [
      "\n"
     ]
    }
   ],
   "source": [
    "for d in ['YandexCup2024v2/YaCupTrain/']:\n",
    "    out_d = f'exp_v1/{d}'\n",
    "    os.makedirs(out_d, exist_ok=True)\n",
    "    max_elements_per_shard=50\n",
    "    num_e = len(os.listdir(d))\n",
    "    with wds.ShardWriter(f'{out_d}/dump-%06d.tar', maxcount=400) as sink:\n",
    "        for e in tqdm(\n",
    "            _prepare_input_feats_v1(\n",
    "                DataLoader(\n",
    "                    DirLoader(d, seed=42), \n",
    "                    batch_size=None, \n",
    "                    num_workers=6,\n",
    "                    sampler=None\n",
    "                )\n",
    "            ), \n",
    "            total=num_e\n",
    "        ):\n",
    "            sink.write(e)\n",
    "    print(f'Done {out_d}')"
   ]
  },
  {
   "cell_type": "code",
   "execution_count": 12,
   "id": "7fd4784b-380b-45cd-b44a-3e947a650680",
   "metadata": {},
   "outputs": [
    {
     "name": "stdout",
     "output_type": "stream",
     "text": [
      "# writing exp_v1/YandexCup2024v2/YaCupTest//dump-000000.tar 0 0.0 GB 0\n"
     ]
    },
    {
     "name": "stderr",
     "output_type": "stream",
     "text": [
      "  0%|                                                                                                          | 0/8000 [00:00<?, ?it/s]2024-10-29 20:36:19,434 root /tmp/ipykernel_3958573/3831414468.py:31 - INFO - Subset for 0 worker contains 1334/8000 annotations\n",
      "2024-10-29 20:36:19,449 root /tmp/ipykernel_3958573/3831414468.py:31 - INFO - Subset for 2 worker contains 1333/8000 annotations\n",
      "2024-10-29 20:36:19,449 root /tmp/ipykernel_3958573/3831414468.py:31 - INFO - Subset for 1 worker contains 1334/8000 annotations\n",
      "2024-10-29 20:36:19,452 root /tmp/ipykernel_3958573/3831414468.py:31 - INFO - Subset for 3 worker contains 1333/8000 annotations\n",
      "2024-10-29 20:36:19,488 root /tmp/ipykernel_3958573/3831414468.py:31 - INFO - Subset for 4 worker contains 1333/8000 annotations\n",
      "2024-10-29 20:36:19,488 root /tmp/ipykernel_3958573/3831414468.py:31 - INFO - Subset for 5 worker contains 1333/8000 annotations\n",
      "  5%|█████                                                                                          | 422/8000 [00:03<00:52, 144.24it/s]"
     ]
    },
    {
     "name": "stdout",
     "output_type": "stream",
     "text": [
      "# writing exp_v1/YandexCup2024v2/YaCupTest//dump-000001.tar 400 0.0 GB 400\n"
     ]
    },
    {
     "name": "stderr",
     "output_type": "stream",
     "text": [
      " 10%|█████████▊                                                                                     | 822/8000 [00:06<00:51, 138.46it/s]"
     ]
    },
    {
     "name": "stdout",
     "output_type": "stream",
     "text": [
      "# writing exp_v1/YandexCup2024v2/YaCupTest//dump-000002.tar 400 0.0 GB 800\n"
     ]
    },
    {
     "name": "stderr",
     "output_type": "stream",
     "text": [
      " 15%|██████████████▍                                                                                | 1211/8000 [00:10<01:30, 75.14it/s]"
     ]
    },
    {
     "name": "stdout",
     "output_type": "stream",
     "text": [
      "# writing exp_v1/YandexCup2024v2/YaCupTest//dump-000003.tar 400 0.0 GB 1200\n"
     ]
    },
    {
     "name": "stderr",
     "output_type": "stream",
     "text": [
      " 20%|███████████████████                                                                           | 1625/8000 [00:13<00:46, 137.76it/s]"
     ]
    },
    {
     "name": "stdout",
     "output_type": "stream",
     "text": [
      "# writing exp_v1/YandexCup2024v2/YaCupTest//dump-000004.tar 400 0.0 GB 1600\n"
     ]
    },
    {
     "name": "stderr",
     "output_type": "stream",
     "text": [
      " 25%|███████████████████████▊                                                                      | 2025/8000 [00:16<00:43, 136.23it/s]"
     ]
    },
    {
     "name": "stdout",
     "output_type": "stream",
     "text": [
      "# writing exp_v1/YandexCup2024v2/YaCupTest//dump-000005.tar 400 0.0 GB 2000\n"
     ]
    },
    {
     "name": "stderr",
     "output_type": "stream",
     "text": [
      " 30%|████████████████████████████▍                                                                 | 2415/8000 [00:19<00:39, 142.11it/s]"
     ]
    },
    {
     "name": "stdout",
     "output_type": "stream",
     "text": [
      "# writing exp_v1/YandexCup2024v2/YaCupTest//dump-000006.tar 400 0.0 GB 2400\n"
     ]
    },
    {
     "name": "stderr",
     "output_type": "stream",
     "text": [
      " 35%|█████████████████████████████████                                                             | 2818/8000 [00:22<00:37, 138.69it/s]"
     ]
    },
    {
     "name": "stdout",
     "output_type": "stream",
     "text": [
      "# writing exp_v1/YandexCup2024v2/YaCupTest//dump-000007.tar 400 0.0 GB 2800\n"
     ]
    },
    {
     "name": "stderr",
     "output_type": "stream",
     "text": [
      " 40%|█████████████████████████████████████▊                                                        | 3222/8000 [00:25<00:34, 138.96it/s]"
     ]
    },
    {
     "name": "stdout",
     "output_type": "stream",
     "text": [
      "# writing exp_v1/YandexCup2024v2/YaCupTest//dump-000008.tar 400 0.0 GB 3200\n"
     ]
    },
    {
     "name": "stderr",
     "output_type": "stream",
     "text": [
      " 45%|██████████████████████████████████████████▌                                                   | 3626/8000 [00:27<00:31, 138.97it/s]"
     ]
    },
    {
     "name": "stdout",
     "output_type": "stream",
     "text": [
      "# writing exp_v1/YandexCup2024v2/YaCupTest//dump-000009.tar 400 0.0 GB 3600\n"
     ]
    },
    {
     "name": "stderr",
     "output_type": "stream",
     "text": [
      " 50%|███████████████████████████████████████████████▏                                              | 4012/8000 [00:31<00:34, 113.97it/s]"
     ]
    },
    {
     "name": "stdout",
     "output_type": "stream",
     "text": [
      "# writing exp_v1/YandexCup2024v2/YaCupTest//dump-000010.tar 400 0.0 GB 4000\n"
     ]
    },
    {
     "name": "stderr",
     "output_type": "stream",
     "text": [
      " 55%|███████████████████████████████████████████████████▉                                          | 4417/8000 [00:34<00:25, 141.57it/s]"
     ]
    },
    {
     "name": "stdout",
     "output_type": "stream",
     "text": [
      "# writing exp_v1/YandexCup2024v2/YaCupTest//dump-000011.tar 400 0.0 GB 4400\n"
     ]
    },
    {
     "name": "stderr",
     "output_type": "stream",
     "text": [
      " 60%|█████████████████████████████████████████████████████████▏                                     | 4811/8000 [00:38<00:38, 83.16it/s]"
     ]
    },
    {
     "name": "stdout",
     "output_type": "stream",
     "text": [
      "# writing exp_v1/YandexCup2024v2/YaCupTest//dump-000012.tar 400 0.0 GB 4800\n"
     ]
    },
    {
     "name": "stderr",
     "output_type": "stream",
     "text": [
      " 65%|█████████████████████████████████████████████████████████████▉                                 | 5215/8000 [00:43<00:36, 76.49it/s]"
     ]
    },
    {
     "name": "stdout",
     "output_type": "stream",
     "text": [
      "# writing exp_v1/YandexCup2024v2/YaCupTest//dump-000013.tar 400 0.0 GB 5200\n"
     ]
    },
    {
     "name": "stderr",
     "output_type": "stream",
     "text": [
      " 70%|██████████████████████████████████████████████████████████████████                            | 5619/8000 [00:48<00:17, 132.95it/s]"
     ]
    },
    {
     "name": "stdout",
     "output_type": "stream",
     "text": [
      "# writing exp_v1/YandexCup2024v2/YaCupTest//dump-000014.tar 400 0.0 GB 5600\n"
     ]
    },
    {
     "name": "stderr",
     "output_type": "stream",
     "text": [
      " 75%|██████████████████████████████████████████████████████████████████████▋                       | 6019/8000 [00:51<00:14, 135.53it/s]"
     ]
    },
    {
     "name": "stdout",
     "output_type": "stream",
     "text": [
      "# writing exp_v1/YandexCup2024v2/YaCupTest//dump-000015.tar 400 0.0 GB 6000\n"
     ]
    },
    {
     "name": "stderr",
     "output_type": "stream",
     "text": [
      " 80%|███████████████████████████████████████████████████████████████████████████▍                  | 6419/8000 [00:53<00:11, 136.54it/s]"
     ]
    },
    {
     "name": "stdout",
     "output_type": "stream",
     "text": [
      "# writing exp_v1/YandexCup2024v2/YaCupTest//dump-000016.tar 400 0.0 GB 6400\n"
     ]
    },
    {
     "name": "stderr",
     "output_type": "stream",
     "text": [
      " 85%|████████████████████████████████████████████████████████████████████████████████              | 6816/8000 [00:58<00:08, 135.31it/s]"
     ]
    },
    {
     "name": "stdout",
     "output_type": "stream",
     "text": [
      "# writing exp_v1/YandexCup2024v2/YaCupTest//dump-000017.tar 400 0.0 GB 6800\n"
     ]
    },
    {
     "name": "stderr",
     "output_type": "stream",
     "text": [
      " 90%|████████████████████████████████████████████████████████████████████████████████████▊         | 7220/8000 [01:00<00:05, 138.04it/s]"
     ]
    },
    {
     "name": "stdout",
     "output_type": "stream",
     "text": [
      "# writing exp_v1/YandexCup2024v2/YaCupTest//dump-000018.tar 400 0.0 GB 7200\n"
     ]
    },
    {
     "name": "stderr",
     "output_type": "stream",
     "text": [
      " 95%|█████████████████████████████████████████████████████████████████████████████████████████▌    | 7624/8000 [01:03<00:02, 141.99it/s]"
     ]
    },
    {
     "name": "stdout",
     "output_type": "stream",
     "text": [
      "# writing exp_v1/YandexCup2024v2/YaCupTest//dump-000019.tar 400 0.0 GB 7600\n"
     ]
    },
    {
     "name": "stderr",
     "output_type": "stream",
     "text": [
      "100%|██████████████████████████████████████████████████████████████████████████████████████████████| 8000/8000 [01:06<00:00, 120.33it/s]"
     ]
    },
    {
     "name": "stdout",
     "output_type": "stream",
     "text": [
      "Done exp_v1/YandexCup2024v2/YaCupTest/\n"
     ]
    },
    {
     "name": "stderr",
     "output_type": "stream",
     "text": [
      "\n"
     ]
    }
   ],
   "source": [
    "for d in ['YandexCup2024v2/YaCupTest/']:\n",
    "    out_d = f'exp_v1/{d}'\n",
    "    os.makedirs(out_d, exist_ok=True)\n",
    "    max_elements_per_shard=50\n",
    "    num_e = len(os.listdir(d))\n",
    "    with wds.ShardWriter(f'{out_d}/dump-%06d.tar', maxcount=400) as sink:\n",
    "        for e in tqdm(\n",
    "            _prepare_input_feats_v1(\n",
    "                DataLoader(\n",
    "                    DirLoader(d, req_bname='requested_stamps-quant20mc.csv', seed=None), \n",
    "                    batch_size=None, \n",
    "                    num_workers=6,\n",
    "                    sampler=None\n",
    "                )\n",
    "            ), \n",
    "            total=num_e\n",
    "        ):\n",
    "            sink.write(e)\n",
    "    print(f'Done {out_d}')"
   ]
  },
  {
   "cell_type": "code",
   "execution_count": 65,
   "id": "5ca07657-893d-44c4-8346-a76c0da22ae4",
   "metadata": {},
   "outputs": [
    {
     "data": {
      "text/html": [
       "<div>\n",
       "<style scoped>\n",
       "    .dataframe tbody tr th:only-of-type {\n",
       "        vertical-align: middle;\n",
       "    }\n",
       "\n",
       "    .dataframe tbody tr th {\n",
       "        vertical-align: top;\n",
       "    }\n",
       "\n",
       "    .dataframe thead th {\n",
       "        text-align: right;\n",
       "    }\n",
       "</style>\n",
       "<table border=\"1\" class=\"dataframe\">\n",
       "  <thead>\n",
       "    <tr style=\"text-align: right;\">\n",
       "      <th></th>\n",
       "      <th>A</th>\n",
       "      <th>B</th>\n",
       "    </tr>\n",
       "    <tr>\n",
       "      <th>key</th>\n",
       "      <th></th>\n",
       "      <th></th>\n",
       "    </tr>\n",
       "  </thead>\n",
       "  <tbody>\n",
       "    <tr>\n",
       "      <th>K0</th>\n",
       "      <td>A0</td>\n",
       "      <td>B0</td>\n",
       "    </tr>\n",
       "    <tr>\n",
       "      <th>K1</th>\n",
       "      <td>A1</td>\n",
       "      <td>B1</td>\n",
       "    </tr>\n",
       "    <tr>\n",
       "      <th>K2</th>\n",
       "      <td>A2</td>\n",
       "      <td>B2</td>\n",
       "    </tr>\n",
       "    <tr>\n",
       "      <th>K3</th>\n",
       "      <td>A3</td>\n",
       "      <td>NaN</td>\n",
       "    </tr>\n",
       "    <tr>\n",
       "      <th>K4</th>\n",
       "      <td>A4</td>\n",
       "      <td>NaN</td>\n",
       "    </tr>\n",
       "    <tr>\n",
       "      <th>K5</th>\n",
       "      <td>A5</td>\n",
       "      <td>NaN</td>\n",
       "    </tr>\n",
       "  </tbody>\n",
       "</table>\n",
       "</div>"
      ],
      "text/plain": [
       "      A    B\n",
       "key         \n",
       "K0   A0   B0\n",
       "K1   A1   B1\n",
       "K2   A2   B2\n",
       "K3   A3  NaN\n",
       "K4   A4  NaN\n",
       "K5   A5  NaN"
      ]
     },
     "execution_count": 65,
     "metadata": {},
     "output_type": "execute_result"
    }
   ],
   "source": [
    "df = pd.DataFrame({'key': ['K0', 'K1', 'K2', 'K3', 'K4', 'K5'],\n",
    "                   'A': ['A0', 'A1', 'A2', 'A3', 'A4', 'A5']})\n",
    "other = pd.DataFrame({'key': ['K0', 'K1', 'K2'],\n",
    "                      'B': ['B0', 'B1', 'B2']})\n",
    "df.set_index('key').join(other.set_index('key'))"
   ]
  },
  {
   "cell_type": "code",
   "execution_count": 66,
   "id": "b7ddca63-c992-4d08-8f2e-a5c209f93215",
   "metadata": {},
   "outputs": [
    {
     "data": {
      "text/html": [
       "<div>\n",
       "<style scoped>\n",
       "    .dataframe tbody tr th:only-of-type {\n",
       "        vertical-align: middle;\n",
       "    }\n",
       "\n",
       "    .dataframe tbody tr th {\n",
       "        vertical-align: top;\n",
       "    }\n",
       "\n",
       "    .dataframe thead th {\n",
       "        text-align: right;\n",
       "    }\n",
       "</style>\n",
       "<table border=\"1\" class=\"dataframe\">\n",
       "  <thead>\n",
       "    <tr style=\"text-align: right;\">\n",
       "      <th></th>\n",
       "      <th>B</th>\n",
       "      <th>A</th>\n",
       "    </tr>\n",
       "    <tr>\n",
       "      <th>key</th>\n",
       "      <th></th>\n",
       "      <th></th>\n",
       "    </tr>\n",
       "  </thead>\n",
       "  <tbody>\n",
       "    <tr>\n",
       "      <th>K0</th>\n",
       "      <td>B0</td>\n",
       "      <td>A0</td>\n",
       "    </tr>\n",
       "    <tr>\n",
       "      <th>K1</th>\n",
       "      <td>B1</td>\n",
       "      <td>A1</td>\n",
       "    </tr>\n",
       "    <tr>\n",
       "      <th>K2</th>\n",
       "      <td>B2</td>\n",
       "      <td>A2</td>\n",
       "    </tr>\n",
       "  </tbody>\n",
       "</table>\n",
       "</div>"
      ],
      "text/plain": [
       "      B   A\n",
       "key        \n",
       "K0   B0  A0\n",
       "K1   B1  A1\n",
       "K2   B2  A2"
      ]
     },
     "execution_count": 66,
     "metadata": {},
     "output_type": "execute_result"
    }
   ],
   "source": [
    "other.set_index('key').join(df.set_index('key'))"
   ]
  },
  {
   "cell_type": "code",
   "execution_count": 77,
   "id": "f7821ec0-06e3-4792-8cae-c8e18c260f31",
   "metadata": {},
   "outputs": [
    {
     "name": "stdout",
     "output_type": "stream",
     "text": [
      "torch.Size([2, 4, 5])\n"
     ]
    },
    {
     "data": {
      "text/plain": [
       "tensor([[[-1000, -1000, -1000, -1000, -1000],\n",
       "         [    0,     1,     2,     3,     4],\n",
       "         [    5,     6,     7,     8,     9],\n",
       "         [   10,    11,    12,    13,    14]],\n",
       "\n",
       "        [[-1000, -1000, -1000, -1000, -1000],\n",
       "         [   15,    16,    17,    18,    19],\n",
       "         [   20,    21,    22,    23,    24],\n",
       "         [   25,    26,    27,    28,    29]]])"
      ]
     },
     "execution_count": 77,
     "metadata": {},
     "output_type": "execute_result"
    }
   ],
   "source": [
    "a = torch.nn.functional.pad(torch.arange(30).view(2,3,5), (0,0, 1, 0), value=-1000)\n",
    "print(a.shape)\n",
    "a"
   ]
  },
  {
   "cell_type": "code",
   "execution_count": null,
   "id": "d013aac9-53ce-420a-aceb-5ed652675e9c",
   "metadata": {},
   "outputs": [],
   "source": []
  },
  {
   "cell_type": "code",
   "execution_count": null,
   "id": "8dc7070b-d83c-41cb-b5ba-ad1d60dadef7",
   "metadata": {},
   "outputs": [],
   "source": []
  },
  {
   "cell_type": "code",
   "execution_count": 122,
   "id": "0b509548-5b25-4940-835c-bbd386817b75",
   "metadata": {
    "scrolled": true
   },
   "outputs": [
    {
     "name": "stderr",
     "output_type": "stream",
     "text": [
      "/tmp/ipykernel_353021/121842413.py:1: FutureWarning: You are using `torch.load` with `weights_only=False` (the current default value), which uses the default pickle module implicitly. It is possible to construct malicious pickle data which will execute arbitrary code during unpickling (See https://github.com/pytorch/pytorch/blob/main/SECURITY.md#untrusted-models for more details). In a future release, the default value for `weights_only` will be flipped to `True`. This limits the functions that could be executed during unpickling. Arbitrary objects will no longer be allowed to be loaded via this mode unless they are explicitly allowlisted by the user via `torch.serialization.add_safe_globals`. We recommend you start setting `weights_only=True` for any use case where you don't have full control of the loaded file. Please open an issue on GitHub for any issues related to this experimental feature.\n",
      "  data = torch.load('tmp/YaCupTrain__11687.pth')\n"
     ]
    }
   ],
   "source": [
    "data = torch.load('tmp/YaCupTrain__11687.pth')"
   ]
  },
  {
   "cell_type": "code",
   "execution_count": 123,
   "id": "e54e4e56-eb4a-4a9e-a945-ac7277cf941f",
   "metadata": {},
   "outputs": [
    {
     "data": {
      "text/plain": [
       "dict_keys(['batch', 'attention_mask', 'mask', 'inputs_embeds', 'labels_w_mask', 'outputs', 'logits_w_mask', 'loss'])"
      ]
     },
     "execution_count": 123,
     "metadata": {},
     "output_type": "execute_result"
    }
   ],
   "source": [
    "data.keys()"
   ]
  },
  {
   "cell_type": "code",
   "execution_count": 124,
   "id": "1e807b06-6dda-45a5-b647-8bb7185a7421",
   "metadata": {},
   "outputs": [
    {
     "data": {
      "text/plain": [
       "tensor([[ 2.2097e+04, -6.5113e+04,  3.4293e+01,  1.0708e-01, -1.7448e-01,\n",
       "         -2.8186e+00],\n",
       "        [ 2.2097e+04, -6.5113e+04,  3.4290e+01, -2.9861e-02,  4.5324e-02,\n",
       "         -2.7439e+00],\n",
       "        [ 2.2096e+04, -6.5111e+04,  3.4629e+01,  8.5670e-02, -2.4974e-02,\n",
       "         -2.5952e+00],\n",
       "        ...,\n",
       "        [ 2.2154e+04, -6.5281e+04,  3.1793e+01, -1.6713e+00,  2.4100e+00,\n",
       "         -4.7205e+00],\n",
       "        [ 2.2163e+04, -6.5283e+04,  3.6307e+01, -2.5581e+00, -1.8996e+00,\n",
       "         -4.8193e+00],\n",
       "        [ 2.2160e+04, -6.5283e+04,  3.5243e+01, -4.0093e+00, -2.4420e-01,\n",
       "         -1.3853e+00]], device='cuda:0', grad_fn=<SelectBackward0>)"
      ]
     },
     "execution_count": 124,
     "metadata": {},
     "output_type": "execute_result"
    }
   ],
   "source": [
    "data['outputs']['loc.pth'][0]"
   ]
  },
  {
   "cell_type": "code",
   "execution_count": 125,
   "id": "9545ed5d-fe71-47c0-92ce-9aa368343e2e",
   "metadata": {},
   "outputs": [
    {
     "data": {
      "text/plain": [
       "tensor([[-7.4201e-01, -2.1288e-01,  2.4525e-01,  9.6820e-02, -1.6709e-01,\n",
       "          4.4357e-02],\n",
       "        [-1.0309e+00, -1.6344e-02,  2.4240e-01, -4.0124e-02,  5.2717e-02,\n",
       "          1.1906e-01],\n",
       "        [-1.5823e+00,  1.2993e+00,  5.8091e-01,  7.5407e-02, -1.7581e-02,\n",
       "          2.6778e-01],\n",
       "        ...,\n",
       "        [ 5.5628e+01, -1.6816e+02, -2.2544e+00, -1.6816e+00,  2.4174e+00,\n",
       "         -1.8575e+00],\n",
       "        [ 6.5307e+01, -1.7079e+02,  2.2589e+00, -2.5684e+00, -1.8922e+00,\n",
       "         -1.9563e+00],\n",
       "        [ 6.2129e+01, -1.7051e+02,  1.1957e+00, -4.0196e+00, -2.3681e-01,\n",
       "          1.4776e+00]], device='cuda:0', grad_fn=<SelectBackward0>)"
      ]
     },
     "execution_count": 125,
     "metadata": {},
     "output_type": "execute_result"
    }
   ],
   "source": [
    "data['outputs']['logits.pth'][0]"
   ]
  },
  {
   "cell_type": "code",
   "execution_count": 126,
   "id": "91e7cafe-e1c5-4b36-af44-b94549df489d",
   "metadata": {},
   "outputs": [
    {
     "data": {
      "text/plain": [
       "dict_keys(['__key__', 'loc.pth', 'control_feats.pth'])"
      ]
     },
     "execution_count": 126,
     "metadata": {},
     "output_type": "execute_result"
    }
   ],
   "source": [
    "data['batch'].keys()"
   ]
  },
  {
   "cell_type": "code",
   "execution_count": 127,
   "id": "34e6c457-925c-4db3-8842-6d1ea9c04836",
   "metadata": {},
   "outputs": [
    {
     "data": {
      "text/plain": [
       "tensor([-0.1309, -0.0352,  0.0010,  0.0003, -0.0003,  0.0027], device='cuda:0')"
      ]
     },
     "execution_count": 127,
     "metadata": {},
     "output_type": "execute_result"
    }
   ],
   "source": [
    "data['labels_w_mask'][0]"
   ]
  },
  {
   "cell_type": "code",
   "execution_count": 128,
   "id": "4187174e-4bb0-43c5-be5c-fb977b3da7a2",
   "metadata": {},
   "outputs": [
    {
     "data": {
      "text/plain": [
       "tensor([-0.7420, -0.2129,  0.2453,  0.0968, -0.1671,  0.0444], device='cuda:0',\n",
       "       grad_fn=<SelectBackward0>)"
      ]
     },
     "execution_count": 128,
     "metadata": {},
     "output_type": "execute_result"
    }
   ],
   "source": [
    "data['logits_w_mask'][0]"
   ]
  },
  {
   "cell_type": "code",
   "execution_count": 129,
   "id": "8f88ede9-5e0e-409b-b921-d1038a322326",
   "metadata": {},
   "outputs": [
    {
     "data": {
      "text/plain": [
       "tensor([[ 2.2098e+04, -6.5113e+04,  3.4048e+01,  1.0263e-02, -7.3928e-03,\n",
       "         -2.8629e+00],\n",
       "        [ 2.2098e+04, -6.5113e+04,  3.4049e+01,  1.0582e-02, -7.7387e-03,\n",
       "         -2.8603e+00],\n",
       "        [ 2.2098e+04, -6.5113e+04,  3.4051e+01,  1.0162e-02, -7.9580e-03,\n",
       "         -2.8575e+00],\n",
       "        ...,\n",
       "        [ 2.2183e+04, -6.5354e+04,  3.5068e+01,  1.4019e-02,  2.0624e-03,\n",
       "         -7.9009e-01],\n",
       "        [ 2.2183e+04, -6.5354e+04,  3.5063e+01,  1.6044e-02,  1.6661e-03,\n",
       "         -7.8786e-01],\n",
       "        [-1.0000e+06, -1.0000e+06, -1.0000e+06, -1.0000e+06, -1.0000e+06,\n",
       "         -1.0000e+06]], device='cuda:0')"
      ]
     },
     "execution_count": 129,
     "metadata": {},
     "output_type": "execute_result"
    }
   ],
   "source": [
    "data['batch']['loc.pth'][0]"
   ]
  },
  {
   "cell_type": "code",
   "execution_count": 113,
   "id": "daf068d5-d551-4fc3-8ce1-2b78ed5d3158",
   "metadata": {},
   "outputs": [
    {
     "data": {
      "text/plain": [
       "tensor([[ 0.0000e+00,  0.0000e+00,  0.0000e+00,  ..., -8.1063e-02,\n",
       "          1.0000e+00,  2.0000e+00],\n",
       "        [-1.5625e-01, -4.8340e-02,  4.4851e-03,  ..., -8.2834e-02,\n",
       "          1.0000e+00,  2.0000e+00],\n",
       "        [-3.1152e-01, -9.6191e-02,  8.5697e-03,  ..., -8.4605e-02,\n",
       "          1.0000e+00,  2.0000e+00],\n",
       "        ...,\n",
       "        [ 2.3125e+02, -7.4085e+02,  1.0253e+01,  ..., -1.7573e-02,\n",
       "          1.0000e+00,  2.0000e+00],\n",
       "        [ 2.3135e+02, -7.4114e+02,  1.0262e+01,  ..., -1.7573e-02,\n",
       "          1.0000e+00,  2.0000e+00],\n",
       "        [ 2.3144e+02, -7.4142e+02,  1.0270e+01,  ..., -1.7573e-02,\n",
       "          1.0000e+00,  2.0000e+00]], device='cuda:0')"
      ]
     },
     "execution_count": 113,
     "metadata": {},
     "output_type": "execute_result"
    }
   ],
   "source": [
    "data['inputs_embeds'][0]"
   ]
  },
  {
   "cell_type": "code",
   "execution_count": null,
   "id": "1a225a1c-8249-4eff-bd9c-7e201301eba8",
   "metadata": {},
   "outputs": [],
   "source": []
  }
 ],
 "metadata": {
  "kernelspec": {
   "display_name": "Python 3 (ipykernel)",
   "language": "python",
   "name": "python3"
  },
  "language_info": {
   "codemirror_mode": {
    "name": "ipython",
    "version": 3
   },
   "file_extension": ".py",
   "mimetype": "text/x-python",
   "name": "python",
   "nbconvert_exporter": "python",
   "pygments_lexer": "ipython3",
   "version": "3.9.20"
  }
 },
 "nbformat": 4,
 "nbformat_minor": 5
}
